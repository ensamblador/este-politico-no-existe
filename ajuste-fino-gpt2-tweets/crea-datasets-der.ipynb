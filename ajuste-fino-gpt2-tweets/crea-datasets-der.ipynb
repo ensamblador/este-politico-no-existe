{
 "cells": [
  {
   "cell_type": "code",
   "execution_count": 1,
   "metadata": {},
   "outputs": [],
   "source": [
    "import os\n",
    "import pandas as pd\n",
    "\n",
    "from pyspark import SparkContext, SparkConf\n",
    "from pyspark.sql import SparkSession\n",
    "import pyspark.sql.functions as F\n",
    "\n",
    "import sagemaker\n",
    "from sagemaker import get_execution_role\n",
    "import sagemaker_pyspark\n",
    "\n",
    "import boto3\n",
    "role = get_execution_role()"
   ]
  },
  {
   "cell_type": "code",
   "execution_count": 2,
   "metadata": {},
   "outputs": [],
   "source": [
    "jars = sagemaker_pyspark.classpath_jars()\n",
    "classpath = \":\".join(sagemaker_pyspark.classpath_jars())\n",
    "spark = (SparkSession.builder\n",
    "         .config(\"spark.driver.extraClassPath\", classpath)\n",
    "         .config(\"spark.executor.memory\",\"60g\")\n",
    "         .config(\"spark.driver.memory\",\"60g\")\n",
    "         .config(\"spark.driver.maxResultSize\", \"0\")\n",
    "         .master(\"local[*]\").getOrCreate())\n",
    "\n",
    "spark.conf.set(\"spark.sql.caseSensitive\", \"true\")"
   ]
  },
  {
   "cell_type": "code",
   "execution_count": 3,
   "metadata": {},
   "outputs": [
    {
     "data": {
      "text/html": [
       "\n",
       "            <div>\n",
       "                <p><b>SparkSession - in-memory</b></p>\n",
       "                \n",
       "        <div>\n",
       "            <p><b>SparkContext</b></p>\n",
       "\n",
       "            <p><a href=\"http://ip-172-16-54-170.ec2.internal:4041\">Spark UI</a></p>\n",
       "\n",
       "            <dl>\n",
       "              <dt>Version</dt>\n",
       "                <dd><code>v2.3.4</code></dd>\n",
       "              <dt>Master</dt>\n",
       "                <dd><code>local[*]</code></dd>\n",
       "              <dt>AppName</dt>\n",
       "                <dd><code>pyspark-shell</code></dd>\n",
       "            </dl>\n",
       "        </div>\n",
       "        \n",
       "            </div>\n",
       "        "
      ],
      "text/plain": [
       "<pyspark.sql.session.SparkSession at 0x7fe84d6319b0>"
      ]
     },
     "execution_count": 3,
     "metadata": {},
     "output_type": "execute_result"
    }
   ],
   "source": [
    "spark"
   ]
  },
  {
   "cell_type": "code",
   "execution_count": 4,
   "metadata": {},
   "outputs": [],
   "source": [
    "bucket = 'politicos-dataset-us-east-1'\n",
    "region = 'us-east-1'\n",
    "prefix = 'gpt2_fine_tune/tweets_derecha/parquet/'\n",
    "spark._jsc.hadoopConfiguration().set('fs.s3a.endpoint', 's3.{}.amazonaws.com'.format(region))"
   ]
  },
  {
   "cell_type": "code",
   "execution_count": 5,
   "metadata": {},
   "outputs": [],
   "source": [
    "SDF = spark.read.parquet('s3a://{}/{}'.format(bucket, prefix))"
   ]
  },
  {
   "cell_type": "code",
   "execution_count": 6,
   "metadata": {},
   "outputs": [
    {
     "data": {
      "text/plain": [
       "31631"
      ]
     },
     "execution_count": 6,
     "metadata": {},
     "output_type": "execute_result"
    }
   ],
   "source": [
    "SDF.count()"
   ]
  },
  {
   "cell_type": "markdown",
   "metadata": {},
   "source": [
    "## Make Datasets"
   ]
  },
  {
   "cell_type": "code",
   "execution_count": 7,
   "metadata": {},
   "outputs": [
    {
     "data": {
      "text/html": [
       "<div>\n",
       "<style scoped>\n",
       "    .dataframe tbody tr th:only-of-type {\n",
       "        vertical-align: middle;\n",
       "    }\n",
       "\n",
       "    .dataframe tbody tr th {\n",
       "        vertical-align: top;\n",
       "    }\n",
       "\n",
       "    .dataframe thead th {\n",
       "        text-align: right;\n",
       "    }\n",
       "</style>\n",
       "<table border=\"1\" class=\"dataframe\">\n",
       "  <thead>\n",
       "    <tr style=\"text-align: right;\">\n",
       "      <th></th>\n",
       "      <th>screen_name</th>\n",
       "      <th>text_clean</th>\n",
       "      <th>Partido</th>\n",
       "      <th>Coalicion</th>\n",
       "      <th>dt</th>\n",
       "    </tr>\n",
       "  </thead>\n",
       "  <tbody>\n",
       "    <tr>\n",
       "      <th>0</th>\n",
       "      <td>evelynmatthei</td>\n",
       "      <td>Gracias al apoyo de @cbsantiago y de la @Serem...</td>\n",
       "      <td>UDI</td>\n",
       "      <td>Chile Vamos</td>\n",
       "      <td>2019-06-04 15:26:43</td>\n",
       "    </tr>\n",
       "    <tr>\n",
       "      <th>1</th>\n",
       "      <td>SanPedroMuni</td>\n",
       "      <td>Centros de Madres y Talleres realizan exitosa ...</td>\n",
       "      <td>UDI</td>\n",
       "      <td>Chile Vamos</td>\n",
       "      <td>2019-06-12 16:11:16</td>\n",
       "    </tr>\n",
       "    <tr>\n",
       "      <th>2</th>\n",
       "      <td>vtroncosoh</td>\n",
       "      <td>Hoy participé en la conmemoración del “Día Int...</td>\n",
       "      <td>UDI</td>\n",
       "      <td>Chile Vamos</td>\n",
       "      <td>2019-06-12 20:01:44</td>\n",
       "    </tr>\n",
       "    <tr>\n",
       "      <th>3</th>\n",
       "      <td>SanPedroMuni</td>\n",
       "      <td>PATIO DEL LICEO MUNICIPAL de #SanPedro se encu...</td>\n",
       "      <td>UDI</td>\n",
       "      <td>Chile Vamos</td>\n",
       "      <td>2019-06-14 13:38:41</td>\n",
       "    </tr>\n",
       "    <tr>\n",
       "      <th>4</th>\n",
       "      <td>javiermacaya</td>\n",
       "      <td>@mcubillossigall a puro carácter y sin vacilar...</td>\n",
       "      <td>UDI</td>\n",
       "      <td>Chile Vamos</td>\n",
       "      <td>2019-06-19 02:08:42</td>\n",
       "    </tr>\n",
       "    <tr>\n",
       "      <th>...</th>\n",
       "      <td>...</td>\n",
       "      <td>...</td>\n",
       "      <td>...</td>\n",
       "      <td>...</td>\n",
       "      <td>...</td>\n",
       "    </tr>\n",
       "    <tr>\n",
       "      <th>31626</th>\n",
       "      <td>Alvaro_CarterF</td>\n",
       "      <td>Quiero desear un muy feliz #DiaDelPeriodista a...</td>\n",
       "      <td>UDI</td>\n",
       "      <td>Chile Vamos</td>\n",
       "      <td>2020-07-11 15:24:30</td>\n",
       "    </tr>\n",
       "    <tr>\n",
       "      <th>31627</th>\n",
       "      <td>SanAntonio_Gob</td>\n",
       "      <td>⭕️ Gobernadora @gaby_alcalde sostuvo encuentro...</td>\n",
       "      <td>UDI</td>\n",
       "      <td>Chile Vamos</td>\n",
       "      <td>2020-07-17 19:39:18</td>\n",
       "    </tr>\n",
       "    <tr>\n",
       "      <th>31628</th>\n",
       "      <td>laSUBDERE</td>\n",
       "      <td>📹El subsecretario @juanmasferrer explica en qu...</td>\n",
       "      <td>UDI</td>\n",
       "      <td>Chile Vamos</td>\n",
       "      <td>2020-07-19 21:00:00</td>\n",
       "    </tr>\n",
       "    <tr>\n",
       "      <th>31629</th>\n",
       "      <td>MuniColina</td>\n",
       "      <td>#CuidaTuVida | ¡Córtala de una vez!\\nEn tiempo...</td>\n",
       "      <td>UDI</td>\n",
       "      <td>Chile Vamos</td>\n",
       "      <td>2020-07-20 17:30:26</td>\n",
       "    </tr>\n",
       "    <tr>\n",
       "      <th>31630</th>\n",
       "      <td>MuniColina</td>\n",
       "      <td>El #MercadoCampesino de @INDAP_Chile ya cuenta...</td>\n",
       "      <td>UDI</td>\n",
       "      <td>Chile Vamos</td>\n",
       "      <td>2020-07-20 19:30:20</td>\n",
       "    </tr>\n",
       "  </tbody>\n",
       "</table>\n",
       "<p>31631 rows × 5 columns</p>\n",
       "</div>"
      ],
      "text/plain": [
       "          screen_name                                         text_clean  \\\n",
       "0       evelynmatthei  Gracias al apoyo de @cbsantiago y de la @Serem...   \n",
       "1        SanPedroMuni  Centros de Madres y Talleres realizan exitosa ...   \n",
       "2          vtroncosoh  Hoy participé en la conmemoración del “Día Int...   \n",
       "3        SanPedroMuni  PATIO DEL LICEO MUNICIPAL de #SanPedro se encu...   \n",
       "4        javiermacaya  @mcubillossigall a puro carácter y sin vacilar...   \n",
       "...               ...                                                ...   \n",
       "31626  Alvaro_CarterF  Quiero desear un muy feliz #DiaDelPeriodista a...   \n",
       "31627  SanAntonio_Gob  ⭕️ Gobernadora @gaby_alcalde sostuvo encuentro...   \n",
       "31628       laSUBDERE  📹El subsecretario @juanmasferrer explica en qu...   \n",
       "31629      MuniColina  #CuidaTuVida | ¡Córtala de una vez!\\nEn tiempo...   \n",
       "31630      MuniColina  El #MercadoCampesino de @INDAP_Chile ya cuenta...   \n",
       "\n",
       "      Partido    Coalicion                  dt  \n",
       "0         UDI  Chile Vamos 2019-06-04 15:26:43  \n",
       "1         UDI  Chile Vamos 2019-06-12 16:11:16  \n",
       "2         UDI  Chile Vamos 2019-06-12 20:01:44  \n",
       "3         UDI  Chile Vamos 2019-06-14 13:38:41  \n",
       "4         UDI  Chile Vamos 2019-06-19 02:08:42  \n",
       "...       ...          ...                 ...  \n",
       "31626     UDI  Chile Vamos 2020-07-11 15:24:30  \n",
       "31627     UDI  Chile Vamos 2020-07-17 19:39:18  \n",
       "31628     UDI  Chile Vamos 2020-07-19 21:00:00  \n",
       "31629     UDI  Chile Vamos 2020-07-20 17:30:26  \n",
       "31630     UDI  Chile Vamos 2020-07-20 19:30:20  \n",
       "\n",
       "[31631 rows x 5 columns]"
      ]
     },
     "execution_count": 7,
     "metadata": {},
     "output_type": "execute_result"
    }
   ],
   "source": [
    "df = SDF.toPandas()\n",
    "df"
   ]
  },
  {
   "cell_type": "code",
   "execution_count": 8,
   "metadata": {},
   "outputs": [],
   "source": [
    "from sklearn.model_selection import train_test_split\n",
    "import re\n",
    "\n",
    "def build_text_files(tweets, dest_path):\n",
    "    f = open(dest_path, 'w')\n",
    "    data = ''\n",
    "    for tweet in tweets:\n",
    "        text = str(tweet).strip()\n",
    "        text = re.sub(r\"\\n\", \" \", text)\n",
    "        data += text + \"  \"\n",
    "    f.write(data)"
   ]
  },
  {
   "cell_type": "code",
   "execution_count": 9,
   "metadata": {},
   "outputs": [],
   "source": [
    "tweets = df['text_clean']"
   ]
  },
  {
   "cell_type": "code",
   "execution_count": 10,
   "metadata": {},
   "outputs": [
    {
     "data": {
      "text/plain": [
       "(26886, 4745)"
      ]
     },
     "execution_count": 10,
     "metadata": {},
     "output_type": "execute_result"
    }
   ],
   "source": [
    "train, test = train_test_split(tweets,test_size=0.15)\n",
    "build_text_files(train,'train_dataset_der.txt')\n",
    "build_text_files(test,'test_dataset_der.txt')\n",
    "len(train), len(test)"
   ]
  },
  {
   "cell_type": "markdown",
   "metadata": {},
   "source": [
    "## "
   ]
  }
 ],
 "metadata": {
  "kernelspec": {
   "display_name": "conda_python3",
   "language": "python",
   "name": "conda_python3"
  },
  "language_info": {
   "codemirror_mode": {
    "name": "ipython",
    "version": 3
   },
   "file_extension": ".py",
   "mimetype": "text/x-python",
   "name": "python",
   "nbconvert_exporter": "python",
   "pygments_lexer": "ipython3",
   "version": "3.6.10"
  }
 },
 "nbformat": 4,
 "nbformat_minor": 4
}
