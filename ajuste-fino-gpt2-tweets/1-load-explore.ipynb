{
 "cells": [
  {
   "cell_type": "code",
   "execution_count": 1,
   "metadata": {},
   "outputs": [],
   "source": [
    "import os\n",
    "import pandas as pd\n",
    "\n",
    "from pyspark import SparkContext, SparkConf\n",
    "from pyspark.sql import SparkSession\n",
    "import pyspark.sql.functions as F\n",
    "\n",
    "import sagemaker\n",
    "from sagemaker import get_execution_role\n",
    "import sagemaker_pyspark\n",
    "\n",
    "import boto3\n",
    "\n",
    "role = get_execution_role()"
   ]
  },
  {
   "cell_type": "code",
   "execution_count": 2,
   "metadata": {},
   "outputs": [],
   "source": [
    "jars = sagemaker_pyspark.classpath_jars()\n",
    "classpath = \":\".join(sagemaker_pyspark.classpath_jars())\n",
    "spark = (SparkSession.builder\n",
    "         .config(\"spark.driver.extraClassPath\", classpath)\n",
    "         .config(\"spark.executor.memory\",\"60g\")\n",
    "         .config(\"spark.driver.memory\",\"60g\")\n",
    "         .config(\"spark.driver.maxResultSize\", \"0\")\n",
    "         .master(\"local[*]\").getOrCreate())\n",
    "\n",
    "spark.conf.set(\"spark.sql.caseSensitive\", \"true\")"
   ]
  },
  {
   "cell_type": "code",
   "execution_count": 3,
   "metadata": {},
   "outputs": [
    {
     "data": {
      "text/html": [
       "\n",
       "            <div>\n",
       "                <p><b>SparkSession - in-memory</b></p>\n",
       "                \n",
       "        <div>\n",
       "            <p><b>SparkContext</b></p>\n",
       "\n",
       "            <p><a href=\"http://ip-172-16-178-107.ec2.internal:4042\">Spark UI</a></p>\n",
       "\n",
       "            <dl>\n",
       "              <dt>Version</dt>\n",
       "                <dd><code>v2.3.4</code></dd>\n",
       "              <dt>Master</dt>\n",
       "                <dd><code>local[*]</code></dd>\n",
       "              <dt>AppName</dt>\n",
       "                <dd><code>pyspark-shell</code></dd>\n",
       "            </dl>\n",
       "        </div>\n",
       "        \n",
       "            </div>\n",
       "        "
      ],
      "text/plain": [
       "<pyspark.sql.session.SparkSession at 0x7fd5c6427828>"
      ]
     },
     "execution_count": 3,
     "metadata": {},
     "output_type": "execute_result"
    }
   ],
   "source": [
    "spark"
   ]
  },
  {
   "cell_type": "markdown",
   "metadata": {},
   "source": [
    "### Dataset original"
   ]
  },
  {
   "cell_type": "code",
   "execution_count": 4,
   "metadata": {},
   "outputs": [
    {
     "name": "stdout",
     "output_type": "stream",
     "text": [
      "-----------------------------------------------------------------------------------------------------------------------------------------\n",
      "\u001b[0m\u001b[0m|                                                             ListObjectsV2                                                             |\u001b[0m\u001b[0m\n",
      "\u001b[0m\u001b[0m+----------------------------------------------------------------------------------------------------------------------------+----------+\u001b[0m\u001b[0m\n",
      "\u001b[0m\u001b[0m|                                                           Archivo                                                          |  Size    |\u001b[0m\u001b[0m\n",
      "\u001b[0m\u001b[0m+----------------------------------------------------------------------------------------------------------------------------+----------+\u001b[0m\u001b[0m\n",
      "\u001b[0m\u001b[0m|  \u001b[1m\u001b[34m3-tweets/2020/10/13/22/build-dataset-tweetstream-UglIqrgbkwTD-3-2020-10-13-22-00-28-0c6fecce-5bba-439d-be4b-1446a64d26f4\u001b[0m  |  \u001b[1m\u001b[34m483909\u001b[0m  |\u001b[0m\u001b[0m\n",
      "\u001b[0m\u001b[0m|  \u001b[1m\u001b[34m3-tweets/2020/10/13/22/build-dataset-tweetstream-UglIqrgbkwTD-3-2020-10-13-22-01-29-1137341a-5435-46eb-b99b-07a48ca84af3\u001b[0m  |  \u001b[1m\u001b[34m1048979\u001b[0m |\u001b[0m\u001b[0m\n",
      "\u001b[0m\u001b[0m|  \u001b[1m\u001b[34m3-tweets/2020/10/13/22/build-dataset-tweetstream-UglIqrgbkwTD-3-2020-10-13-22-01-30-cead10d2-dc41-459b-85ef-f630df23b68c\u001b[0m  |  \u001b[1m\u001b[34m1049317\u001b[0m |\u001b[0m\u001b[0m\n",
      "\u001b[0m\u001b[0m|  \u001b[1m\u001b[34m3-tweets/2020/10/13/22/build-dataset-tweetstream-UglIqrgbkwTD-3-2020-10-13-22-01-31-aa1535fb-28aa-4e57-90bf-6a5ea570d79e\u001b[0m  |  \u001b[1m\u001b[34m1049123\u001b[0m |\u001b[0m\u001b[0m\n",
      "\u001b[0m\u001b[0m|  \u001b[1m\u001b[34m3-tweets/2020/10/13/22/build-dataset-tweetstream-UglIqrgbkwTD-3-2020-10-13-22-02-29-c2d3bcfd-7107-48b9-aff4-e7967c27762f\u001b[0m  |  \u001b[1m\u001b[34m366490\u001b[0m  |\u001b[0m\u001b[0m\n",
      "\u001b[0m\u001b[0m|  \u001b[1m\u001b[34m3-tweets/2020/10/13/22/build-dataset-tweetstream-UglIqrgbkwTD-3-2020-10-13-22-04-27-d0344c04-db59-4aee-9dee-b0741ab7d9c2\u001b[0m  |  \u001b[1m\u001b[34m719818\u001b[0m  |\u001b[0m\u001b[0m\n",
      "\u001b[0m\u001b[0m|  \u001b[1m\u001b[34m3-tweets/2020/10/13/22/build-dataset-tweetstream-UglIqrgbkwTD-3-2020-10-13-22-05-29-13521e16-76d6-495b-8f2b-c778aa063ea1\u001b[0m  |  \u001b[1m\u001b[34m517385\u001b[0m  |\u001b[0m\u001b[0m\n",
      "\u001b[0m\u001b[0m|  \u001b[1m\u001b[34m3-tweets/2020/10/13/22/build-dataset-tweetstream-UglIqrgbkwTD-3-2020-10-13-22-06-29-68aa2190-ef08-49e2-ac86-4def83134b80\u001b[0m  |  \u001b[1m\u001b[34m418888\u001b[0m  |\u001b[0m\u001b[0m\n",
      "\u001b[0m\u001b[0m|  \u001b[1m\u001b[34m3-tweets/2020/10/13/22/build-dataset-tweetstream-UglIqrgbkwTD-3-2020-10-13-22-09-25-d4bc6c8c-5d92-4a4c-b281-c2f9598d4375\u001b[0m  |  \u001b[1m\u001b[34m802732\u001b[0m  |\u001b[0m\u001b[0m\n",
      "\u001b[0m\u001b[0m|  \u001b[1m\u001b[34m3-tweets/2020/10/13/22/build-dataset-tweetstream-UglIqrgbkwTD-3-2020-10-13-22-10-29-ceac739a-eda6-470a-a269-f1fe465e4055\u001b[0m  |  \u001b[1m\u001b[34m1049211\u001b[0m |\u001b[0m\u001b[0m\n",
      "\u001b[0m\u001b[0m+----------------------------------------------------------------------------------------------------------------------------+----------+\u001b[0m\u001b[0m\n",
      "\u001b[0m\u001b[0m"
     ]
    }
   ],
   "source": [
    "!aws s3api list-objects-v2 --bucket politicos-dataset-us-east-1 --prefix \"3-tweets/2020/10/13/22/\" --max-keys 10 --query 'Contents[].{Archivo: Key, Size: Size}' --output table"
   ]
  },
  {
   "cell_type": "code",
   "execution_count": 5,
   "metadata": {},
   "outputs": [
    {
     "name": "stdout",
     "output_type": "stream",
     "text": [
      "------------------------------------------------------------------------------------------------------------------------------------------------------------\n",
      "\u001b[0m\u001b[0m|                                                                       ListObjectsV2                                                                      |\u001b[0m\u001b[0m\n",
      "\u001b[0m\u001b[0m+-----------------------------------------------------------------------------------------------------------------------------------------------+----------+\u001b[0m\u001b[0m\n",
      "\u001b[0m\u001b[0m|                                                                    Archivo                                                                    |  Size    |\u001b[0m\u001b[0m\n",
      "\u001b[0m\u001b[0m+-----------------------------------------------------------------------------------------------------------------------------------------------+----------+\u001b[0m\u001b[0m\n",
      "\u001b[0m\u001b[0m|  \u001b[1m\u001b[34m4-augmented-tweets/2020/10/13/23/build-dataset-augmentedtweetstream-Y9b0NIMbBwld-3-2020-10-13-23-00-21-f0a5fb9a-3c9d-4edb-88e8-a2eb014d9fb1\u001b[0m  |  \u001b[1m\u001b[34m1050388\u001b[0m |\u001b[0m\u001b[0m\n",
      "\u001b[0m\u001b[0m|  \u001b[1m\u001b[34m4-augmented-tweets/2020/10/13/23/build-dataset-augmentedtweetstream-Y9b0NIMbBwld-3-2020-10-13-23-00-46-50ee1386-e153-4428-9bc9-57b7d2612360\u001b[0m  |  \u001b[1m\u001b[34m1049280\u001b[0m |\u001b[0m\u001b[0m\n",
      "\u001b[0m\u001b[0m|  \u001b[1m\u001b[34m4-augmented-tweets/2020/10/13/23/build-dataset-augmentedtweetstream-Y9b0NIMbBwld-3-2020-10-13-23-01-05-0e345355-5053-4f76-b8eb-93c584534913\u001b[0m  |  \u001b[1m\u001b[34m1049871\u001b[0m |\u001b[0m\u001b[0m\n",
      "\u001b[0m\u001b[0m|  \u001b[1m\u001b[34m4-augmented-tweets/2020/10/13/23/build-dataset-augmentedtweetstream-Y9b0NIMbBwld-3-2020-10-13-23-01-22-c4ef63e2-85ff-43a9-9c19-294b83d246fd\u001b[0m  |  \u001b[1m\u001b[34m1050180\u001b[0m |\u001b[0m\u001b[0m\n",
      "\u001b[0m\u001b[0m|  \u001b[1m\u001b[34m4-augmented-tweets/2020/10/13/23/build-dataset-augmentedtweetstream-Y9b0NIMbBwld-3-2020-10-13-23-01-41-28f7ba23-bede-49f6-91f0-425a5fa4c828\u001b[0m  |  \u001b[1m\u001b[34m1049991\u001b[0m |\u001b[0m\u001b[0m\n",
      "\u001b[0m\u001b[0m|  \u001b[1m\u001b[34m4-augmented-tweets/2020/10/13/23/build-dataset-augmentedtweetstream-Y9b0NIMbBwld-3-2020-10-13-23-02-01-74d5b2fb-a9f6-4058-b38c-4b5577beb917\u001b[0m  |  \u001b[1m\u001b[34m1052416\u001b[0m |\u001b[0m\u001b[0m\n",
      "\u001b[0m\u001b[0m|  \u001b[1m\u001b[34m4-augmented-tweets/2020/10/13/23/build-dataset-augmentedtweetstream-Y9b0NIMbBwld-3-2020-10-13-23-02-18-6d49b60c-3327-4deb-8208-9d76d9e1080b\u001b[0m  |  \u001b[1m\u001b[34m1049552\u001b[0m |\u001b[0m\u001b[0m\n",
      "\u001b[0m\u001b[0m|  \u001b[1m\u001b[34m4-augmented-tweets/2020/10/13/23/build-dataset-augmentedtweetstream-Y9b0NIMbBwld-3-2020-10-13-23-02-38-240ea07b-73df-4dee-a519-62baab3758f6\u001b[0m  |  \u001b[1m\u001b[34m1050044\u001b[0m |\u001b[0m\u001b[0m\n",
      "\u001b[0m\u001b[0m|  \u001b[1m\u001b[34m4-augmented-tweets/2020/10/13/23/build-dataset-augmentedtweetstream-Y9b0NIMbBwld-3-2020-10-13-23-02-57-1ccf712b-2f54-4689-a93f-c6f925927daa\u001b[0m  |  \u001b[1m\u001b[34m1048939\u001b[0m |\u001b[0m\u001b[0m\n",
      "\u001b[0m\u001b[0m|  \u001b[1m\u001b[34m4-augmented-tweets/2020/10/13/23/build-dataset-augmentedtweetstream-Y9b0NIMbBwld-3-2020-10-13-23-03-14-eda58859-7294-43c7-b9d4-7b4ae8c57868\u001b[0m  |  \u001b[1m\u001b[34m1048713\u001b[0m |\u001b[0m\u001b[0m\n",
      "\u001b[0m\u001b[0m+-----------------------------------------------------------------------------------------------------------------------------------------------+----------+\u001b[0m\u001b[0m\n",
      "\u001b[0m\u001b[0m"
     ]
    }
   ],
   "source": [
    "!aws s3api list-objects-v2 --bucket politicos-dataset-us-east-1 --prefix \"4-augmented-tweets/2020/10/13/23/\" --max-keys 10 --query 'Contents[].{Archivo: Key, Size: Size}' --output table"
   ]
  },
  {
   "cell_type": "code",
   "execution_count": 6,
   "metadata": {},
   "outputs": [],
   "source": [
    "bucket='politicos-dataset-us-east-1'\n",
    "region = 'us-east-1'\n",
    "accounts_prefix = '2-valid-twitter-accounts/'\n",
    "tweets_prefix = '4-augmented-tweets'"
   ]
  },
  {
   "cell_type": "markdown",
   "metadata": {},
   "source": [
    "### Carga de los datos de Políticos"
   ]
  },
  {
   "cell_type": "code",
   "execution_count": 7,
   "metadata": {},
   "outputs": [
    {
     "name": "stdout",
     "output_type": "stream",
     "text": [
      "root\n",
      " |-- target_id: integer (nullable = true)\n",
      " |-- Cargo: string (nullable = true)\n",
      " |-- Nombre: string (nullable = true)\n",
      " |-- screen_name: string (nullable = true)\n",
      " |-- Partido: string (nullable = true)\n",
      " |-- Coalicion: string (nullable = true)\n",
      " |-- newest_tweet: string (nullable = true)\n",
      " |-- oldest_tweet: string (nullable = true)\n",
      " |-- since_id: string (nullable = true)\n",
      " |-- max_id: string (nullable = true)\n",
      "\n",
      "-RECORD 0----------------------------------\n",
      " target_id    | 1                          \n",
      " Cargo        | Presidente de la República \n",
      " Nombre       | Sebastián Piñera Echenique \n",
      " screen_name  | sebastianpinera            \n",
      " Partido      | RN                         \n",
      " Coalicion    | Chile Vamos                \n",
      " newest_tweet | null                       \n",
      " oldest_tweet | null                       \n",
      " since_id     | null                       \n",
      " max_id       | null                       \n",
      "only showing top 1 row\n",
      "\n"
     ]
    }
   ],
   "source": [
    "spark._jsc.hadoopConfiguration().set('fs.s3a.endpoint', 's3.{}.amazonaws.com'.format(region))\n",
    "valid_accounts = (spark.read.format(\"csv\")\n",
    "                    .option(\"inferSchema\",True) \n",
    "                    .option(\"header\",True)\n",
    "                    .option(\"delimiter\",\";\")\n",
    "                    .load('s3a://{}/{}/'.format(bucket, accounts_prefix)))\n",
    "valid_accounts.printSchema()\n",
    "valid_accounts.show(1, False, True)"
   ]
  },
  {
   "cell_type": "markdown",
   "metadata": {},
   "source": [
    "### Carga de los Tweets"
   ]
  },
  {
   "cell_type": "code",
   "execution_count": 8,
   "metadata": {},
   "outputs": [
    {
     "name": "stdout",
     "output_type": "stream",
     "text": [
      "CPU times: user 9.54 ms, sys: 969 µs, total: 10.5 ms\n",
      "Wall time: 1min\n"
     ]
    }
   ],
   "source": [
    "%%time\n",
    "tweets = (spark.read.format(\"json\")\n",
    "                    .option(\"inferSchema\",True) \n",
    "                    .load('s3a://{}/{}/2020/*/*/*/'.format(bucket, tweets_prefix)))"
   ]
  },
  {
   "cell_type": "code",
   "execution_count": 9,
   "metadata": {},
   "outputs": [
    {
     "name": "stdout",
     "output_type": "stream",
     "text": [
      "root\n",
      " |-- Cargo: string (nullable = true)\n",
      " |-- NLP_FEATURES: struct (nullable = true)\n",
      " |    |-- entities: array (nullable = true)\n",
      " |    |    |-- element: struct (containsNull = true)\n",
      " |    |    |    |-- BeginOffset: long (nullable = true)\n",
      " |    |    |    |-- EndOffset: long (nullable = true)\n",
      " |    |    |    |-- Score: double (nullable = true)\n",
      " |    |    |    |-- Text: string (nullable = true)\n",
      " |    |    |    |-- Type: string (nullable = true)\n",
      " |    |-- key_phrases: array (nullable = true)\n",
      " |    |    |-- element: struct (containsNull = true)\n",
      " |    |    |    |-- BeginOffset: long (nullable = true)\n",
      " |    |    |    |-- EndOffset: long (nullable = true)\n",
      " |    |    |    |-- Score: double (nullable = true)\n",
      " |    |    |    |-- Text: string (nullable = true)\n",
      " |    |-- sentiment: string (nullable = true)\n",
      " |    |-- sentiment_score: struct (nullable = true)\n",
      " |    |    |-- Mixed: double (nullable = true)\n",
      " |    |    |-- Negative: double (nullable = true)\n",
      " |    |    |-- Neutral: double (nullable = true)\n",
      " |    |    |-- Positive: double (nullable = true)\n",
      " |    |-- text: string (nullable = true)\n",
      " |-- Nombre: string (nullable = true)\n",
      " |-- Partido: string (nullable = true)\n",
      " |-- cargo: string (nullable = true)\n",
      " |-- coordinates: struct (nullable = true)\n",
      " |    |-- coordinates: array (nullable = true)\n",
      " |    |    |-- element: double (containsNull = true)\n",
      " |    |-- type: string (nullable = true)\n",
      " |-- created_at: string (nullable = true)\n",
      " |-- favorite_count: long (nullable = true)\n",
      " |-- geo: struct (nullable = true)\n",
      " |    |-- coordinates: array (nullable = true)\n",
      " |    |    |-- element: double (containsNull = true)\n",
      " |    |-- type: string (nullable = true)\n",
      " |-- hashtags: array (nullable = true)\n",
      " |    |-- element: string (containsNull = true)\n",
      " |-- id_str: string (nullable = true)\n",
      " |-- in_reply_to_screen_name: string (nullable = true)\n",
      " |-- in_reply_to_status_id_str: string (nullable = true)\n",
      " |-- is_quote_status: boolean (nullable = true)\n",
      " |-- last_update: string (nullable = true)\n",
      " |-- max_id: string (nullable = true)\n",
      " |-- mentions: array (nullable = true)\n",
      " |    |-- element: string (containsNull = true)\n",
      " |-- newest_tweet: string (nullable = true)\n",
      " |-- oldest_tweet: string (nullable = true)\n",
      " |-- place: struct (nullable = true)\n",
      " |    |-- bounding_box: struct (nullable = true)\n",
      " |    |    |-- coordinates: array (nullable = true)\n",
      " |    |    |    |-- element: array (containsNull = true)\n",
      " |    |    |    |    |-- element: array (containsNull = true)\n",
      " |    |    |    |    |    |-- element: double (containsNull = true)\n",
      " |    |    |-- type: string (nullable = true)\n",
      " |    |-- contained_within: array (nullable = true)\n",
      " |    |    |-- element: string (containsNull = true)\n",
      " |    |-- country: string (nullable = true)\n",
      " |    |-- country_code: string (nullable = true)\n",
      " |    |-- full_name: string (nullable = true)\n",
      " |    |-- id: string (nullable = true)\n",
      " |    |-- name: string (nullable = true)\n",
      " |    |-- place_type: string (nullable = true)\n",
      " |    |-- url: string (nullable = true)\n",
      " |-- profile_image_url_https: string (nullable = true)\n",
      " |-- quoted_hashtags: array (nullable = true)\n",
      " |    |-- element: string (containsNull = true)\n",
      " |-- quoted_mentions: array (nullable = true)\n",
      " |    |-- element: string (containsNull = true)\n",
      " |-- quoted_screen_name: string (nullable = true)\n",
      " |-- quoted_text: string (nullable = true)\n",
      " |-- retweet_count: long (nullable = true)\n",
      " |-- retweeted_hashtags: array (nullable = true)\n",
      " |    |-- element: string (containsNull = true)\n",
      " |-- retweeted_mentions: array (nullable = true)\n",
      " |    |-- element: string (containsNull = true)\n",
      " |-- retweeted_screen_name: string (nullable = true)\n",
      " |-- retweeted_text: string (nullable = true)\n",
      " |-- screen_name: string (nullable = true)\n",
      " |-- since_id: string (nullable = true)\n",
      " |-- source: string (nullable = true)\n",
      " |-- target_id: long (nullable = true)\n",
      " |-- text: string (nullable = true)\n",
      " |-- urls: array (nullable = true)\n",
      " |    |-- element: string (containsNull = true)\n",
      " |-- user_created_at: string (nullable = true)\n",
      " |-- user_description: string (nullable = true)\n",
      " |-- user_favourites_count: long (nullable = true)\n",
      " |-- user_followers_count: long (nullable = true)\n",
      " |-- user_friends_count: long (nullable = true)\n",
      " |-- user_listed_count: long (nullable = true)\n",
      " |-- user_location: string (nullable = true)\n",
      " |-- user_name: string (nullable = true)\n",
      " |-- user_screen_name: string (nullable = true)\n",
      " |-- user_statuses_count: long (nullable = true)\n",
      " |-- verified: boolean (nullable = true)\n",
      "\n",
      "-RECORD 0-------------------------------------------------------------------------------------------------------------------------------------------------------------------------------------------------------------------------------------------------------------------------------------------------------------------------------------------------------------------------------------------------------------------------------------------------------------------------------------------------------------------------------------------------------------------------------------------------------------------------------------------------------------------------------------------------------------------------------------------------------------------------------------------------------------------------------------------------------------------------------------------------------------------------------------------------------------------------------------------------------------------------------------------------------------------------------------------------------------------------------------------------------------------------------------------------------------------------------------------------------------------------\n",
      " Cargo                     | Gobernador                                                                                                                                                                                                                                                                                                                                                                                                                                                                                                                                                                                                                                                                                                                                                                                                                                                                                                                                                                                                                                                                                                                                                                                                                                           \n",
      " NLP_FEATURES              | [[[0, 13, 0.8833336234092712, BALANCE COVID, LOCATION], [14, 16, 0.7413252592086792, 19, QUANTITY], [19, 44, 0.9808477759361267, Jueves 28 de Mayo de 2020, DATE], [80, 87, 0.7044627666473389, 2.730\n",
      "🔷, QUANTITY], [103, 113, 0.5674235224723816, día de hoy, DATE], [114, 117, 0.998563826084137, 154, QUANTITY], [140, 143, 0.9987925291061401, 297, QUANTITY], [157, 159, 0.9946801066398621, 60, QUANTITY], [173, 183, 0.8430343866348267, DE PETORCA, ORGANIZATION], [204, 206, 0.9990313053131104, 52, QUANTITY], [217, 219, 0.9949758052825928, 16, QUANTITY], [230, 234, 0.7440738081932068, 11\n",
      "✅, QUANTITY], [243, 247, 0.7309739589691162, 14\n",
      "✅, QUANTITY], [256, 257, 0.9938148260116577, 4, QUANTITY], [266, 267, 0.9884584546089172, 7, QUANTITY], [268, 291, 0.979810893535614, https://t.co/IF2uHGEDYR, OTHER]], [], NEUTRAL, [7.721146744188445E-7, 2.0057657093275338E-4, 0.9959932565689087, 0.003805329091846943], BALANCE COVID-19\n",
      "\n",
      "👉Jueves 28 de Mayo de 2020\n",
      "\n",
      "🛑CIFRAS REGIONALES\n",
      "🔷Casos Totales:2.730\n",
      "🔷Casos nuevos al día de hoy:154\n",
      "🔷Personas recuperadas:297\n",
      "🔷Fallecidos: 60\n",
      "\n",
      "🛑 PROVINCIA DE PETORCA \n",
      " 👉Casos Totales:   52\n",
      "\n",
      "✅Cabildo:16 \n",
      "✅Petorca:11\n",
      "✅La Ligua:14\n",
      "✅Zapallar:4\n",
      "✅Papudo:7 https://t.co/IF2uHGEDYR] \n",
      " Nombre                    | María Paz Santelices Cañas                                                                                                                                                                                                                                                                                                                                                                                                                                                                                                                                                                                                                                                                                                                                                                                                                                                                                                                                                                                                                                                                                                                                                                                                                           \n",
      " Partido                   | UDI                                                                                                                                                                                                                                                                                                                                                                                                                                                                                                                                                                                                                                                                                                                                                                                                                                                                                                                                                                                                                                                                                                                                                                                                                                                  \n",
      " cargo                     | null                                                                                                                                                                                                                                                                                                                                                                                                                                                                                                                                                                                                                                                                                                                                                                                                                                                                                                                                                                                                                                                                                                                                                                                                                                                 \n",
      " coordinates               | null                                                                                                                                                                                                                                                                                                                                                                                                                                                                                                                                                                                                                                                                                                                                                                                                                                                                                                                                                                                                                                                                                                                                                                                                                                                 \n",
      " created_at                | 2020/05/28 18:57:50                                                                                                                                                                                                                                                                                                                                                                                                                                                                                                                                                                                                                                                                                                                                                                                                                                                                                                                                                                                                                                                                                                                                                                                                                                  \n",
      " favorite_count            | 4                                                                                                                                                                                                                                                                                                                                                                                                                                                                                                                                                                                                                                                                                                                                                                                                                                                                                                                                                                                                                                                                                                                                                                                                                                                    \n",
      " geo                       | null                                                                                                                                                                                                                                                                                                                                                                                                                                                                                                                                                                                                                                                                                                                                                                                                                                                                                                                                                                                                                                                                                                                                                                                                                                                 \n",
      " hashtags                  | []                                                                                                                                                                                                                                                                                                                                                                                                                                                                                                                                                                                                                                                                                                                                                                                                                                                                                                                                                                                                                                                                                                                                                                                                                                                   \n",
      " id_str                    | 1266081263837995012                                                                                                                                                                                                                                                                                                                                                                                                                                                                                                                                                                                                                                                                                                                                                                                                                                                                                                                                                                                                                                                                                                                                                                                                                                  \n",
      " in_reply_to_screen_name   | null                                                                                                                                                                                                                                                                                                                                                                                                                                                                                                                                                                                                                                                                                                                                                                                                                                                                                                                                                                                                                                                                                                                                                                                                                                                 \n",
      " in_reply_to_status_id_str | null                                                                                                                                                                                                                                                                                                                                                                                                                                                                                                                                                                                                                                                                                                                                                                                                                                                                                                                                                                                                                                                                                                                                                                                                                                                 \n",
      " is_quote_status           | false                                                                                                                                                                                                                                                                                                                                                                                                                                                                                                                                                                                                                                                                                                                                                                                                                                                                                                                                                                                                                                                                                                                                                                                                                                                \n",
      " last_update               | 1998/01/01 00:00:00                                                                                                                                                                                                                                                                                                                                                                                                                                                                                                                                                                                                                                                                                                                                                                                                                                                                                                                                                                                                                                                                                                                                                                                                                                  \n",
      " max_id                    | null                                                                                                                                                                                                                                                                                                                                                                                                                                                                                                                                                                                                                                                                                                                                                                                                                                                                                                                                                                                                                                                                                                                                                                                                                                                 \n",
      " mentions                  | []                                                                                                                                                                                                                                                                                                                                                                                                                                                                                                                                                                                                                                                                                                                                                                                                                                                                                                                                                                                                                                                                                                                                                                                                                                                   \n",
      " newest_tweet              | null                                                                                                                                                                                                                                                                                                                                                                                                                                                                                                                                                                                                                                                                                                                                                                                                                                                                                                                                                                                                                                                                                                                                                                                                                                                 \n",
      " oldest_tweet              | null                                                                                                                                                                                                                                                                                                                                                                                                                                                                                                                                                                                                                                                                                                                                                                                                                                                                                                                                                                                                                                                                                                                                                                                                                                                 \n",
      " place                     | null                                                                                                                                                                                                                                                                                                                                                                                                                                                                                                                                                                                                                                                                                                                                                                                                                                                                                                                                                                                                                                                                                                                                                                                                                                                 \n",
      " profile_image_url_https   | https://pbs.twimg.com/profile_images/1062415613375717377/ZJymWesP_normal.jpg                                                                                                                                                                                                                                                                                                                                                                                                                                                                                                                                                                                                                                                                                                                                                                                                                                                                                                                                                                                                                                                                                                                                                                         \n",
      " quoted_hashtags           | []                                                                                                                                                                                                                                                                                                                                                                                                                                                                                                                                                                                                                                                                                                                                                                                                                                                                                                                                                                                                                                                                                                                                                                                                                                                   \n",
      " quoted_mentions           | []                                                                                                                                                                                                                                                                                                                                                                                                                                                                                                                                                                                                                                                                                                                                                                                                                                                                                                                                                                                                                                                                                                                                                                                                                                                   \n",
      " quoted_screen_name        |                                                                                                                                                                                                                                                                                                                                                                                                                                                                                                                                                                                                                                                                                                                                                                                                                                                                                                                                                                                                                                                                                                                                                                                                                                                      \n",
      " quoted_text               |                                                                                                                                                                                                                                                                                                                                                                                                                                                                                                                                                                                                                                                                                                                                                                                                                                                                                                                                                                                                                                                                                                                                                                                                                                                      \n",
      " retweet_count             | 5                                                                                                                                                                                                                                                                                                                                                                                                                                                                                                                                                                                                                                                                                                                                                                                                                                                                                                                                                                                                                                                                                                                                                                                                                                                    \n",
      " retweeted_hashtags        | []                                                                                                                                                                                                                                                                                                                                                                                                                                                                                                                                                                                                                                                                                                                                                                                                                                                                                                                                                                                                                                                                                                                                                                                                                                                   \n",
      " retweeted_mentions        | []                                                                                                                                                                                                                                                                                                                                                                                                                                                                                                                                                                                                                                                                                                                                                                                                                                                                                                                                                                                                                                                                                                                                                                                                                                                   \n",
      " retweeted_screen_name     |                                                                                                                                                                                                                                                                                                                                                                                                                                                                                                                                                                                                                                                                                                                                                                                                                                                                                                                                                                                                                                                                                                                                                                                                                                                      \n",
      " retweeted_text            |                                                                                                                                                                                                                                                                                                                                                                                                                                                                                                                                                                                                                                                                                                                                                                                                                                                                                                                                                                                                                                                                                                                                                                                                                                                      \n",
      " screen_name               | mpazsante                                                                                                                                                                                                                                                                                                                                                                                                                                                                                                                                                                                                                                                                                                                                                                                                                                                                                                                                                                                                                                                                                                                                                                                                                                            \n",
      " since_id                  | null                                                                                                                                                                                                                                                                                                                                                                                                                                                                                                                                                                                                                                                                                                                                                                                                                                                                                                                                                                                                                                                                                                                                                                                                                                                 \n",
      " source                    | Twitter for iPad                                                                                                                                                                                                                                                                                                                                                                                                                                                                                                                                                                                                                                                                                                                                                                                                                                                                                                                                                                                                                                                                                                                                                                                                                                     \n",
      " target_id                 | 181                                                                                                                                                                                                                                                                                                                                                                                                                                                                                                                                                                                                                                                                                                                                                                                                                                                                                                                                                                                                                                                                                                                                                                                                                                                  \n",
      " text                      | BALANCE COVID-19\n",
      "\n",
      "👉Jueves 28 de Mayo de 2020\n",
      "\n",
      "🛑CIFRAS REGIONALES\n",
      "🔷Casos Totales:2.730\n",
      "🔷Casos nuevos al día de hoy:154\n",
      "🔷Personas recuperadas:297\n",
      "🔷Fallecidos: 60\n",
      "\n",
      "🛑 PROVINCIA DE PETORCA \n",
      " 👉Casos Totales:   52\n",
      "\n",
      "✅Cabildo:16 \n",
      "✅Petorca:11\n",
      "✅La Ligua:14\n",
      "✅Zapallar:4\n",
      "✅Papudo:7 https://t.co/IF2uHGEDYR                                                                                                                                                                                                                                                                                                                                                                                                                                                                                                                                                                                                                                                                                                                                                                                                                                                                                                                                          \n",
      " urls                      | []                                                                                                                                                                                                                                                                                                                                                                                                                                                                                                                                                                                                                                                                                                                                                                                                                                                                                                                                                                                                                                                                                                                                                                                                                                                   \n",
      " user_created_at           | 2011/05/06 15:15:10                                                                                                                                                                                                                                                                                                                                                                                                                                                                                                                                                                                                                                                                                                                                                                                                                                                                                                                                                                                                                                                                                                                                                                                                                                  \n",
      " user_description          | Gobernadora de Petorca. Ingeniera Comercial. Madre de dos niñitas.                                                                                                                                                                                                                                                                                                                                                                                                                                                                                                                                                                                                                                                                                                                                                                                                                                                                                                                                                                                                                                                                                                                                                                                   \n",
      " user_favourites_count     | 828                                                                                                                                                                                                                                                                                                                                                                                                                                                                                                                                                                                                                                                                                                                                                                                                                                                                                                                                                                                                                                                                                                                                                                                                                                                  \n",
      " user_followers_count      | 3104                                                                                                                                                                                                                                                                                                                                                                                                                                                                                                                                                                                                                                                                                                                                                                                                                                                                                                                                                                                                                                                                                                                                                                                                                                                 \n",
      " user_friends_count        | 3659                                                                                                                                                                                                                                                                                                                                                                                                                                                                                                                                                                                                                                                                                                                                                                                                                                                                                                                                                                                                                                                                                                                                                                                                                                                 \n",
      " user_listed_count         | 4                                                                                                                                                                                                                                                                                                                                                                                                                                                                                                                                                                                                                                                                                                                                                                                                                                                                                                                                                                                                                                                                                                                                                                                                                                                    \n",
      " user_location             |                                                                                                                                                                                                                                                                                                                                                                                                                                                                                                                                                                                                                                                                                                                                                                                                                                                                                                                                                                                                                                                                                                                                                                                                                                                      \n",
      " user_name                 | María Paz Santelices                                                                                                                                                                                                                                                                                                                                                                                                                                                                                                                                                                                                                                                                                                                                                                                                                                                                                                                                                                                                                                                                                                                                                                                                                                 \n",
      " user_screen_name          | mpazsante                                                                                                                                                                                                                                                                                                                                                                                                                                                                                                                                                                                                                                                                                                                                                                                                                                                                                                                                                                                                                                                                                                                                                                                                                                            \n",
      " user_statuses_count       | 1970                                                                                                                                                                                                                                                                                                                                                                                                                                                                                                                                                                                                                                                                                                                                                                                                                                                                                                                                                                                                                                                                                                                                                                                                                                                 \n",
      " verified                  | false                                                                                                                                                                                                                                                                                                                                                                                                                                                                                                                                                                                                                                                                                                                                                                                                                                                                                                                                                                                                                                                                                                                                                                                                                                                \n",
      "only showing top 1 row\n",
      "\n"
     ]
    }
   ],
   "source": [
    "tweets.printSchema()\n",
    "tweets.show(1, False, True)"
   ]
  },
  {
   "cell_type": "code",
   "execution_count": 10,
   "metadata": {},
   "outputs": [
    {
     "name": "stdout",
     "output_type": "stream",
     "text": [
      "Count: 1173079\n"
     ]
    }
   ],
   "source": [
    "print(\"Count: \" + str(tweets.count()))"
   ]
  },
  {
   "cell_type": "markdown",
   "metadata": {},
   "source": [
    "### Remover Duplicados"
   ]
  },
  {
   "cell_type": "code",
   "execution_count": 11,
   "metadata": {},
   "outputs": [
    {
     "name": "stdout",
     "output_type": "stream",
     "text": [
      "Count: 1078000\n"
     ]
    }
   ],
   "source": [
    "tweets = tweets.dropDuplicates(['id_str'])\n",
    "print(\"Count: \" + str(tweets.count()))"
   ]
  },
  {
   "cell_type": "markdown",
   "metadata": {},
   "source": [
    "### Removeremos estados de Cita (quoted) o Retweets"
   ]
  },
  {
   "cell_type": "code",
   "execution_count": 12,
   "metadata": {},
   "outputs": [
    {
     "data": {
      "text/plain": [
       "488541"
      ]
     },
     "execution_count": 12,
     "metadata": {},
     "output_type": "execute_result"
    }
   ],
   "source": [
    "pure_tweets = tweets.filter((tweets['quoted_text']== '') & (tweets['retweeted_text']== ''))\n",
    "pure_tweets.count()"
   ]
  },
  {
   "cell_type": "code",
   "execution_count": 13,
   "metadata": {},
   "outputs": [
    {
     "data": {
      "text/html": [
       "<div>\n",
       "<style scoped>\n",
       "    .dataframe tbody tr th:only-of-type {\n",
       "        vertical-align: middle;\n",
       "    }\n",
       "\n",
       "    .dataframe tbody tr th {\n",
       "        vertical-align: top;\n",
       "    }\n",
       "\n",
       "    .dataframe thead th {\n",
       "        text-align: right;\n",
       "    }\n",
       "</style>\n",
       "<table border=\"1\" class=\"dataframe\">\n",
       "  <thead>\n",
       "    <tr style=\"text-align: right;\">\n",
       "      <th></th>\n",
       "      <th>quoted_text</th>\n",
       "      <th>count(id_str)</th>\n",
       "    </tr>\n",
       "  </thead>\n",
       "  <tbody>\n",
       "    <tr>\n",
       "      <th>0</th>\n",
       "      <td></td>\n",
       "      <td>488541</td>\n",
       "    </tr>\n",
       "  </tbody>\n",
       "</table>\n",
       "</div>"
      ],
      "text/plain": [
       "  quoted_text  count(id_str)\n",
       "0                     488541"
      ]
     },
     "execution_count": 13,
     "metadata": {},
     "output_type": "execute_result"
    }
   ],
   "source": [
    "pure_tweets.groupby('quoted_text').agg(F.count('id_str')).toPandas()"
   ]
  },
  {
   "cell_type": "code",
   "execution_count": 14,
   "metadata": {},
   "outputs": [
    {
     "data": {
      "text/html": [
       "<div>\n",
       "<style scoped>\n",
       "    .dataframe tbody tr th:only-of-type {\n",
       "        vertical-align: middle;\n",
       "    }\n",
       "\n",
       "    .dataframe tbody tr th {\n",
       "        vertical-align: top;\n",
       "    }\n",
       "\n",
       "    .dataframe thead th {\n",
       "        text-align: right;\n",
       "    }\n",
       "</style>\n",
       "<table border=\"1\" class=\"dataframe\">\n",
       "  <thead>\n",
       "    <tr style=\"text-align: right;\">\n",
       "      <th></th>\n",
       "      <th>retweeted_text</th>\n",
       "      <th>count(id_str)</th>\n",
       "    </tr>\n",
       "  </thead>\n",
       "  <tbody>\n",
       "    <tr>\n",
       "      <th>0</th>\n",
       "      <td></td>\n",
       "      <td>488541</td>\n",
       "    </tr>\n",
       "  </tbody>\n",
       "</table>\n",
       "</div>"
      ],
      "text/plain": [
       "  retweeted_text  count(id_str)\n",
       "0                        488541"
      ]
     },
     "execution_count": 14,
     "metadata": {},
     "output_type": "execute_result"
    }
   ],
   "source": [
    "pure_tweets.groupby('retweeted_text').agg(F.count('id_str')).toPandas()"
   ]
  },
  {
   "cell_type": "markdown",
   "metadata": {},
   "source": [
    "### Limpieza de columnas "
   ]
  },
  {
   "cell_type": "code",
   "execution_count": 15,
   "metadata": {},
   "outputs": [],
   "source": [
    "just_needed = pure_tweets.select('created_at', 'id_str', 'hashtags', 'screen_name', 'target_id', 'text', 'NLP_FEATURES.entities', 'NLP_FEATURES.key_phrases', 'NLP_FEATURES.sentiment')"
   ]
  },
  {
   "cell_type": "code",
   "execution_count": 16,
   "metadata": {},
   "outputs": [
    {
     "name": "stdout",
     "output_type": "stream",
     "text": [
      "+-------------------+-------------------+--------+---------------+---------+--------------------+--------------------+--------------------+---------+\n",
      "|         created_at|             id_str|hashtags|    screen_name|target_id|                text|            entities|         key_phrases|sentiment|\n",
      "+-------------------+-------------------+--------+---------------+---------+--------------------+--------------------+--------------------+---------+\n",
      "|2018/05/25 14:35:01|1000022428632932352|      []|MirthArancibiaC|       84|https://t.co/tALH...|[[0, 23, 0.999001...|                  []|  NEUTRAL|\n",
      "|2018/05/25 18:07:01|1000075779777204224|      []|rodrigodiputado|      242|https://t.co/C73v...|[[0, 23, 0.998825...|                  []|  NEUTRAL|\n",
      "|2018/05/25 18:31:37|1000081972276981762|      []| camila_vallejo|      682|Las estudiantes d...|[[22, 24, 0.98871...|[[0, 15, 0.999974...|  NEUTRAL|\n",
      "+-------------------+-------------------+--------+---------------+---------+--------------------+--------------------+--------------------+---------+\n",
      "only showing top 3 rows\n",
      "\n"
     ]
    }
   ],
   "source": [
    "just_needed.show(3)"
   ]
  },
  {
   "cell_type": "markdown",
   "metadata": {},
   "source": [
    "### Filtrado Por Fecha"
   ]
  },
  {
   "cell_type": "code",
   "execution_count": 17,
   "metadata": {},
   "outputs": [
    {
     "name": "stdout",
     "output_type": "stream",
     "text": [
      "+-------------------+--------+---------------+---------+--------------------+--------------------+--------------------+---------+-------------------+\n",
      "|             id_str|hashtags|    screen_name|target_id|                text|            entities|         key_phrases|sentiment|                 dt|\n",
      "+-------------------+--------+---------------+---------+--------------------+--------------------+--------------------+---------+-------------------+\n",
      "|1000022428632932352|      []|MirthArancibiaC|       84|https://t.co/tALH...|[[0, 23, 0.999001...|                  []|  NEUTRAL|2018-05-25 14:35:01|\n",
      "|1000075779777204224|      []|rodrigodiputado|      242|https://t.co/C73v...|[[0, 23, 0.998825...|                  []|  NEUTRAL|2018-05-25 18:07:01|\n",
      "|1000081972276981762|      []| camila_vallejo|      682|Las estudiantes d...|[[22, 24, 0.98871...|[[0, 15, 0.999974...|  NEUTRAL|2018-05-25 18:31:37|\n",
      "+-------------------+--------+---------------+---------+--------------------+--------------------+--------------------+---------+-------------------+\n",
      "only showing top 3 rows\n",
      "\n"
     ]
    }
   ],
   "source": [
    "dated_tweets = (\n",
    "    just_needed\n",
    "    .withColumn('dt', F.to_timestamp(just_needed.created_at, 'yyyy/MM/dd HH:mm:ss'))\n",
    "    .drop('created_at')\n",
    ")\n",
    "dated_tweets.show(3)"
   ]
  },
  {
   "cell_type": "code",
   "execution_count": 18,
   "metadata": {},
   "outputs": [
    {
     "name": "stdout",
     "output_type": "stream",
     "text": [
      "- Fecha del último tweet: 2020-10-13 22:15:00\n",
      "- Fecha del primer tweet: 2019-06-01 22:15:00 (500 dias)\n"
     ]
    }
   ],
   "source": [
    "import datetime \n",
    "days = 500 #Para relevancia reciente\n",
    "\n",
    "maxima_fecha=dated_tweets.select(\"dt\").rdd.max()[0]\n",
    "since_date = maxima_fecha-datetime.timedelta(days=days)\n",
    "\n",
    "print ('- Fecha del último tweet: {}'.format(maxima_fecha))\n",
    "print ('- Fecha del primer tweet: {} ({} dias)'.format(since_date, days))"
   ]
  },
  {
   "cell_type": "code",
   "execution_count": 19,
   "metadata": {},
   "outputs": [
    {
     "data": {
      "text/plain": [
       "239892"
      ]
     },
     "execution_count": 19,
     "metadata": {},
     "output_type": "execute_result"
    }
   ],
   "source": [
    "tweets_SDF = dated_tweets.filter(F.col('dt')>since_date)\n",
    "tweets_SDF.count()"
   ]
  },
  {
   "cell_type": "markdown",
   "metadata": {},
   "source": [
    "### Join con información políticos"
   ]
  },
  {
   "cell_type": "code",
   "execution_count": 20,
   "metadata": {},
   "outputs": [
    {
     "name": "stdout",
     "output_type": "stream",
     "text": [
      "+-------+-----------+---------------+\n",
      "|Partido|  Coalicion|             sn|\n",
      "+-------+-----------+---------------+\n",
      "|     RN|Chile Vamos|sebastianpinera|\n",
      "|EVOPOLI|Chile Vamos|        gblumel|\n",
      "|     RN|Chile Vamos| TeodoroRiberaN|\n",
      "+-------+-----------+---------------+\n",
      "only showing top 3 rows\n",
      "\n"
     ]
    }
   ],
   "source": [
    "partidos = valid_accounts.select('screen_name', 'Partido', 'Coalicion').withColumn('sn', F.col('screen_name')).drop('screen_name')\n",
    "partidos.show(3)"
   ]
  },
  {
   "cell_type": "code",
   "execution_count": 21,
   "metadata": {},
   "outputs": [
    {
     "name": "stdout",
     "output_type": "stream",
     "text": [
      "+-------------------+--------------+---------------+---------+--------------------+--------------------+--------------------+---------+-------------------+-------+-------------+\n",
      "|             id_str|      hashtags|    screen_name|target_id|                text|            entities|         key_phrases|sentiment|                 dt|Partido|    Coalicion|\n",
      "+-------------------+--------------+---------------+---------+--------------------+--------------------+--------------------+---------+-------------------+-------+-------------+\n",
      "|1135182089081577472|            []|     Raul_Soto1|      290|3.\"Consejo Técnic...|[[0, 1, 0.7970888...|[[0, 1, 0.9998706...| NEGATIVE|2019-06-02 13:51:15|     DC|Nueva Mayoría|\n",
      "|1135183693323079680|[ProviRun2019]|  evelynmatthei|      631|Aquí las primeras...|[[9, 26, 0.977073...|[[5, 26, 0.999997...| POSITIVE|2019-06-02 13:57:37|    UDI|  Chile Vamos|\n",
      "|1135197237108203520|            []|diputadonaranjo|      344|Pdte Piñera se ha...|[[0, 11, 0.868242...|[[0, 11, 0.988126...| NEGATIVE|2019-06-02 14:51:26|     PS|Nueva Mayoría|\n",
      "+-------------------+--------------+---------------+---------+--------------------+--------------------+--------------------+---------+-------------------+-------+-------------+\n",
      "only showing top 3 rows\n",
      "\n"
     ]
    }
   ],
   "source": [
    "tweets_politicos_SDF = tweets_SDF.join(partidos, tweets_SDF.screen_name == partidos.sn).drop('sn')\n",
    "tweets_politicos_SDF.show(3)"
   ]
  },
  {
   "cell_type": "markdown",
   "metadata": {},
   "source": [
    "### Limpieza de los Links dentro del text"
   ]
  },
  {
   "cell_type": "code",
   "execution_count": 22,
   "metadata": {},
   "outputs": [],
   "source": [
    "df = tweets_politicos_SDF.withColumn('text_clean', F.regexp_replace('text', '(https?:\\/\\/t\\.co\\/)([\\w]*)', ''))"
   ]
  },
  {
   "cell_type": "code",
   "execution_count": 23,
   "metadata": {},
   "outputs": [
    {
     "name": "stdout",
     "output_type": "stream",
     "text": [
      "-RECORD 0--------------------------------------------------------------------------------------------------------------------------------------------------------------------------------------------------------------------------------------------------------------------------------------------\n",
      " text       | 3.\"Consejo Técnico\" q efectivamente puede tener carácter público, es distinto al \"Ente Estatal\" para administrar el 4% adicional que pedimos en trabajo del @PDC_Chile y la oposición. Gob necesitaba q alguien se lo adjudicara y lo hicieron pasar por tal, @DiputadosDC piso palito \n",
      " text_clean | 3.\"Consejo Técnico\" q efectivamente puede tener carácter público, es distinto al \"Ente Estatal\" para administrar el 4% adicional que pedimos en trabajo del @PDC_Chile y la oposición. Gob necesitaba q alguien se lo adjudicara y lo hicieron pasar por tal, @DiputadosDC piso palito \n",
      "-RECORD 1--------------------------------------------------------------------------------------------------------------------------------------------------------------------------------------------------------------------------------------------------------------------------------------------\n",
      " text       | Aquí las primeras imágenes de la  #ProviRun2019, organizada por @Muni_provi. Por tercer año nos la jugamos por una iniciativa que fomenta la vida sana y el poder disfrutar con quienes más queremos del deporte y de nuestras calles. 🏃‍♀️ 🏃‍♂️ 🐶 🐕 https://t.co/WST5GNN7vo       \n",
      " text_clean | Aquí las primeras imágenes de la  #ProviRun2019, organizada por @Muni_provi. Por tercer año nos la jugamos por una iniciativa que fomenta la vida sana y el poder disfrutar con quienes más queremos del deporte y de nuestras calles. 🏃‍♀️ 🏃‍♂️ 🐶 🐕                               \n",
      "-RECORD 2--------------------------------------------------------------------------------------------------------------------------------------------------------------------------------------------------------------------------------------------------------------------------------------------\n",
      " text       | Pdte Piñera se han cumplido 2664 horas desde que nos enteramos que tiene una playa privada en el Lago Caburgua y ud sigue en SILENCIO.Lo mismo sucedió en su Cuenta Publica sobre los graves problemas de los chilenos ud volvio a GUARDAR SILENCIO. https://t.co/IoK0e0zReo           \n",
      " text_clean | Pdte Piñera se han cumplido 2664 horas desde que nos enteramos que tiene una playa privada en el Lago Caburgua y ud sigue en SILENCIO.Lo mismo sucedió en su Cuenta Publica sobre los graves problemas de los chilenos ud volvio a GUARDAR SILENCIO.                                   \n",
      "only showing top 3 rows\n",
      "\n"
     ]
    }
   ],
   "source": [
    "df.select('text','text_clean').show(3, False, True)"
   ]
  },
  {
   "cell_type": "code",
   "execution_count": 24,
   "metadata": {},
   "outputs": [
    {
     "data": {
      "text/plain": [
       "1851"
      ]
     },
     "execution_count": 24,
     "metadata": {},
     "output_type": "execute_result"
    }
   ],
   "source": [
    "## Veamos cuantas filas quedaron con 0 texto\n",
    "df.filter((df['text_clean']== '')).count()"
   ]
  },
  {
   "cell_type": "markdown",
   "metadata": {},
   "source": [
    "### Tokenizacion para filtrado por largo de texto"
   ]
  },
  {
   "cell_type": "code",
   "execution_count": 25,
   "metadata": {},
   "outputs": [
    {
     "name": "stdout",
     "output_type": "stream",
     "text": [
      "-RECORD 0-----------------------------------------------------------------------------------------------------------------------------------------------------------------------------------------------------------------------------------------------------------------------------------------------------------------------------------------\n",
      " id_str      | 1135182089081577472                                                                                                                                                                                                                                                                                                                \n",
      " hashtags    | []                                                                                                                                                                                                                                                                                                                                 \n",
      " screen_name | Raul_Soto1                                                                                                                                                                                                                                                                                                                         \n",
      " target_id   | 290                                                                                                                                                                                                                                                                                                                                \n",
      " text        | 3.\"Consejo Técnico\" q efectivamente puede tener carácter público, es distinto al \"Ente Estatal\" para administrar el 4% adicional que pedimos en trabajo del @PDC_Chile y la oposición. Gob necesitaba q alguien se lo adjudicara y lo hicieron pasar por tal, @DiputadosDC piso palito                                             \n",
      " entities    | [[0, 1, 0.7970888018608093, 3, QUANTITY], [3, 18, 0.6510649919509888, Consejo Técnico, ORGANIZATION], [82, 86, 0.6025637984275818, Ente, ORGANIZATION], [116, 118, 0.9937230944633484, 4%, QUANTITY], [157, 166, 0.956257700920105, PDC_Chile, ORGANIZATION], [183, 186, 0.6393043994903564, Gob, ORGANIZATION]]                   \n",
      " key_phrases | [[0, 1, 0.9998706579208374, 3], [2, 19, 0.9999660849571228, \"Consejo Técnico\"], [48, 64, 1.0, carácter público], [81, 95, 1.0, \"Ente Estatal\"], [113, 118, 0.999999463558197, el 4%], [157, 166, 0.5715969800949097, PDC_Chile], [169, 181, 0.9999786615371704, la oposición]]                                                     \n",
      " sentiment   | NEGATIVE                                                                                                                                                                                                                                                                                                                           \n",
      " dt          | 2019-06-02 13:51:15                                                                                                                                                                                                                                                                                                                \n",
      " Partido     | DC                                                                                                                                                                                                                                                                                                                                 \n",
      " Coalicion   | Nueva Mayoría                                                                                                                                                                                                                                                                                                                      \n",
      " text_clean  | 3.\"Consejo Técnico\" q efectivamente puede tener carácter público, es distinto al \"Ente Estatal\" para administrar el 4% adicional que pedimos en trabajo del @PDC_Chile y la oposición. Gob necesitaba q alguien se lo adjudicara y lo hicieron pasar por tal, @DiputadosDC piso palito                                             \n",
      " tokenized   | [3.\"consejo, técnico\", q, efectivamente, puede, tener, carácter, público,, es, distinto, al, \"ente, estatal\", para, administrar, el, 4%, adicional, que, pedimos, en, trabajo, del, @pdc_chile, y, la, oposición., gob, necesitaba, q, alguien, se, lo, adjudicara, y, lo, hicieron, pasar, por, tal,, @diputadosdc, piso, palito] \n",
      "-RECORD 1-----------------------------------------------------------------------------------------------------------------------------------------------------------------------------------------------------------------------------------------------------------------------------------------------------------------------------------------\n",
      " id_str      | 1135183693323079680                                                                                                                                                                                                                                                                                                                \n",
      " hashtags    | [ProviRun2019]                                                                                                                                                                                                                                                                                                                     \n",
      " screen_name | evelynmatthei                                                                                                                                                                                                                                                                                                                      \n",
      " target_id   | 631                                                                                                                                                                                                                                                                                                                                \n",
      " text        | Aquí las primeras imágenes de la  #ProviRun2019, organizada por @Muni_provi. Por tercer año nos la jugamos por una iniciativa que fomenta la vida sana y el poder disfrutar con quienes más queremos del deporte y de nuestras calles. 🏃‍♀️ 🏃‍♂️ 🐶 🐕 https://t.co/WST5GNN7vo                                                   \n",
      " entities    | [[9, 26, 0.9770731925964355, primeras imágenes, QUANTITY], [34, 47, 0.9877025485038757, #ProviRun2019, EVENT], [65, 75, 0.7689972519874573, Muni_provi, ORGANIZATION], [81, 91, 0.9477001428604126, tercer año, QUANTITY], [245, 268, 0.9645668268203735, https://t.co/WST5GNN7vo, OTHER]]                                         \n",
      " key_phrases | [[5, 26, 0.9999971985816956, las primeras imágenes], [34, 47, 0.9997574687004089, #ProviRun2019], [65, 75, 0.9998903274536133, Muni_provi]]                                                                                                                                                                                        \n",
      " sentiment   | POSITIVE                                                                                                                                                                                                                                                                                                                           \n",
      " dt          | 2019-06-02 13:57:37                                                                                                                                                                                                                                                                                                                \n",
      " Partido     | UDI                                                                                                                                                                                                                                                                                                                                \n",
      " Coalicion   | Chile Vamos                                                                                                                                                                                                                                                                                                                        \n",
      " text_clean  | Aquí las primeras imágenes de la  #ProviRun2019, organizada por @Muni_provi. Por tercer año nos la jugamos por una iniciativa que fomenta la vida sana y el poder disfrutar con quienes más queremos del deporte y de nuestras calles. 🏃‍♀️ 🏃‍♂️ 🐶 🐕                                                                           \n",
      " tokenized   | [aquí, las, primeras, imágenes, de, la, , #provirun2019,, organizada, por, @muni_provi., por, tercer, año, nos, la, jugamos, por, una, iniciativa, que, fomenta, la, vida, sana, y, el, poder, disfrutar, con, quienes, más, queremos, del, deporte, y, de, nuestras, calles., 🏃‍♀️, 🏃‍♂️, 🐶, 🐕]                               \n",
      "only showing top 2 rows\n",
      "\n"
     ]
    }
   ],
   "source": [
    "from pyspark.ml.feature import Tokenizer\n",
    "Tok=Tokenizer().setInputCol(\"text_clean\").setOutputCol(\"tokenized\")\n",
    "df_tok=Tok.transform(df)\n",
    "df_tok.show(2, False, True)"
   ]
  },
  {
   "cell_type": "code",
   "execution_count": 26,
   "metadata": {},
   "outputs": [],
   "source": [
    "df_final = df_tok.filter(F.size('tokenized')>5) #Solo tweets con más de 5 Tokens que puedan decir algo"
   ]
  },
  {
   "cell_type": "code",
   "execution_count": 27,
   "metadata": {},
   "outputs": [
    {
     "data": {
      "text/plain": [
       "170306"
      ]
     },
     "execution_count": 27,
     "metadata": {},
     "output_type": "execute_result"
    }
   ],
   "source": [
    "df_final.count()"
   ]
  },
  {
   "cell_type": "markdown",
   "metadata": {},
   "source": [
    "### Checkpoint"
   ]
  },
  {
   "cell_type": "code",
   "execution_count": 28,
   "metadata": {},
   "outputs": [],
   "source": [
    "df_final.write.mode('overwrite').parquet('tweets_politicos')"
   ]
  },
  {
   "cell_type": "code",
   "execution_count": 29,
   "metadata": {},
   "outputs": [],
   "source": [
    "df_final = spark.read.parquet('tweets_politicos')"
   ]
  },
  {
   "cell_type": "code",
   "execution_count": 30,
   "metadata": {},
   "outputs": [],
   "source": [
    "bucket = 'politicos-dataset-us-east-1'\n",
    "region = 'us-east-1'\n",
    "prefix = 'gpt2_fine_tune/tweets_politicos'\n",
    "tweets = spark.read.parquet('tweets_politicos')\n",
    "tweets.write.mode('overwrite').parquet('s3a://{}/{}/parquet'.format(bucket,prefix))"
   ]
  },
  {
   "cell_type": "code",
   "execution_count": null,
   "metadata": {},
   "outputs": [],
   "source": []
  }
 ],
 "metadata": {
  "kernelspec": {
   "display_name": "conda_python3",
   "language": "python",
   "name": "conda_python3"
  },
  "language_info": {
   "codemirror_mode": {
    "name": "ipython",
    "version": 3
   },
   "file_extension": ".py",
   "mimetype": "text/x-python",
   "name": "python",
   "nbconvert_exporter": "python",
   "pygments_lexer": "ipython3",
   "version": "3.6.10"
  }
 },
 "nbformat": 4,
 "nbformat_minor": 4
}
