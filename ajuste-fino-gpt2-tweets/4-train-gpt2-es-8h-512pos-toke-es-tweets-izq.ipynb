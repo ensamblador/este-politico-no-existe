{
 "cells": [
  {
   "cell_type": "code",
   "execution_count": 2,
   "metadata": {},
   "outputs": [],
   "source": [
    "#!pip install transformers\n",
    "#!pip install tensorflow\n",
    "import os\n",
    "import torch\n",
    "import pandas as pd\n",
    "import numpy as np\n",
    "import warnings\n",
    "from transformers import (\n",
    "    AutoTokenizer, AutoModelWithLMHead,\n",
    "    TextDataset,DataCollatorForLanguageModeling,LineByLineTextDataset,\n",
    "    Trainer, TrainingArguments,\n",
    "    WEIGHTS_NAME, CONFIG_NAME\n",
    ")\n",
    "warnings.filterwarnings('ignore')\n",
    "pd.set_option('display.max_colwidth', -1)"
   ]
  },
  {
   "cell_type": "code",
   "execution_count": 2,
   "metadata": {},
   "outputs": [
    {
     "name": "stdout",
     "output_type": "stream",
     "text": [
      "Train\n",
      "Claro q hay q agarrar vuelito!! El #RetiroFondosPrevisionales es un gran avance, pero hay muchísimas personas q jamás han cotizado. El jueves parte la tramitación del #ImpuestoALosSuperRicos en la Comisión de Constitución y espero q todos los sectores apoyen!!  ¿Y por qué importa tanto todo esto? Porque el voto voluntario fracasó y en el camino elitizó aún más el proceso, profundizando la brecha entre la gente y la toma de decisiones.  Tal como decía Florcita el 2011...  Mineduc incumple plazo autoimpuesto para iniciar difusión del Sistema de Admisión Escolar en RRSS  El gobierno renuncia a conducir políticamente a la sociedad y pasa, solamente, a gestionar los intereses políticos del gran empresariado.  @eriz57 entré a tu perfil y vi a quienes le das RT. Me das la razón, saludos.  ¡La historia nos dio la razón! Fue correcta la decisión política del @PCdeChile de no firmar \"Gran Acuerdo por la Paz Social y Nueva Constitución\".   ¿Era o no era una estafa? Allaman\n",
      "\n",
      "Test\n",
      "@joseantoniokast Imagino q incluyes en tu programa de gobierno q personas incapaces de dialogar con los profesores como Marcela Cubillos, jamás puedan ser ministra de educación Y q no suprimirás las clases de historia, para que las nuevas generaciones sepan de los asesinatos de tu amado dictador.  Ni la propaganda fascista en mi contra en #Iquique intimidó a nuestra ciudadanía y todos fueron a votar!! #NuevaConstitucionParaChile  @pabloviollier Qué te hace pensar que te ves serio en la foto?  La marcha en #Santiago por el Paro Nacional reunió a millones de personas exigiendo #AsambleaConstituyenteYa y #NuevaConstitucionParaChile  Como equipo nos hayan llegado muchas denuncias de que la banca está poniendo muchísimas dificultades a pymes para acceder a crédito FOGAPE, bloqueando por DICOM a personas naturales, haciendo evaluaciones de riesgo draconianas u otorgando préstamos inferiores a mes de venta.  \"Lo que debemos preguntarnos es si el Presidente adoptó medidas eficaces,\n",
      "\n"
     ]
    }
   ],
   "source": [
    "train_path = 'train_dataset_izq.txt'\n",
    "test_path = 'test_dataset_izq.txt'\n",
    "print('Train')\n",
    "!head -c 1000 {train_path}\n",
    "print('\\n\\nTest')\n",
    "!head -c 1000 {test_path}\n",
    "print('\\n')\n",
    "\n",
    "pre_trained = \"ensamblador/gpt2_espanol_8hx512pos\""
   ]
  },
  {
   "cell_type": "code",
   "execution_count": 3,
   "metadata": {},
   "outputs": [],
   "source": [
    "tokenizer = AutoTokenizer.from_pretrained(pre_trained)\n",
    "tokenizer.pad_token = tokenizer.eos_token\n",
    "def load_dataset(train_path,test_path,tokenizer):\n",
    "    train_dataset = TextDataset(\n",
    "        tokenizer=tokenizer,\n",
    "        file_path=train_path,\n",
    "        block_size=64\n",
    "    )\n",
    "    test_dataset = TextDataset(\n",
    "        tokenizer=tokenizer,\n",
    "        file_path=test_path,\n",
    "        block_size=64\n",
    "    )\n",
    "    data_collator = DataCollatorForLanguageModeling(tokenizer=tokenizer, mlm=False)\n",
    "    return train_dataset,test_dataset,data_collator\n",
    "train_dataset,test_dataset,data_collator = load_dataset(train_path,test_path,tokenizer)"
   ]
  },
  {
   "cell_type": "code",
   "execution_count": 4,
   "metadata": {},
   "outputs": [
    {
     "name": "stdout",
     "output_type": "stream",
     "text": [
      "</s>\n"
     ]
    }
   ],
   "source": [
    "tokenizer.pad_token = tokenizer.eos_token\n",
    "print(tokenizer.eos_token)"
   ]
  },
  {
   "cell_type": "code",
   "execution_count": 5,
   "metadata": {},
   "outputs": [
    {
     "name": "stdout",
     "output_type": "stream",
     "text": [
      "50000 50000\n",
      "50000 50000\n"
     ]
    }
   ],
   "source": [
    "model = AutoModelWithLMHead.from_pretrained(pre_trained)\n",
    "\n",
    "output_dir=pre_trained.split(\"/\")[1]+\"-tweets-izquierda\"\n",
    "\n",
    "print(model.config.vocab_size, tokenizer.vocab_size)\n",
    "model.resize_token_embeddings(len(tokenizer))\n",
    "print(model.config.vocab_size, tokenizer.vocab_size)\n",
    "\n",
    "training_args = TrainingArguments(\n",
    "    output_dir=output_dir, #The output directory\n",
    "    #do_train=True,\n",
    "    overwrite_output_dir=True, #overwrite the content of the output directory\n",
    "    num_train_epochs=20, # number of training epochs\n",
    "    per_device_train_batch_size=8, # batch size for training\n",
    "    per_device_eval_batch_size= 16,  # batch size for evaluation\n",
    "    eval_steps = 200, # Number of update steps between two evaluations.\n",
    "    save_steps=800, # after # steps model is saved\n",
    "    #fp16=True,\n",
    "    dataloader_drop_last=True,\n",
    "    warmup_steps=250,# number of warmup steps for learning rate scheduler\n",
    ")\n",
    "\n",
    "trainer = Trainer(\n",
    "    model=model,\n",
    "    args=training_args,\n",
    "    data_collator=data_collator,\n",
    "    train_dataset=train_dataset,\n",
    "    eval_dataset=test_dataset,\n",
    "    prediction_loss_only=True,\n",
    ")\n",
    "\n",
    "torch.cuda.is_available()\n",
    "device = torch.device(\"cuda\" if torch.cuda.is_available() else \"cpu\")\n",
    "trainer.model.to(device);\n",
    "trainer.get_train_dataloader().pin_memory=True;\n",
    "trainer.get_eval_dataloader().pin_memory=True;\n",
    "#trainer.get_eval_dataloader().drop_last =True;\n",
    "#trainer.get_test_dataloader().pin_memory=True;\n"
   ]
  },
  {
   "cell_type": "code",
   "execution_count": 9,
   "metadata": {},
   "outputs": [
    {
     "data": {
      "text/html": [
       "\n",
       "    <div>\n",
       "        <style>\n",
       "            /* Turns off some styling */\n",
       "            progress {\n",
       "                /* gets rid of default border in Firefox and Opera. */\n",
       "                border: none;\n",
       "                /* Needs to be in here for Safari polyfill so background images work as expected. */\n",
       "                background-size: auto;\n",
       "            }\n",
       "        </style>\n",
       "      \n",
       "      <progress value='8820' max='8820' style='width:300px; height:20px; vertical-align: middle;'></progress>\n",
       "      [8820/8820 29:07, Epoch 20/20]\n",
       "    </div>\n",
       "    <table border=\"1\" class=\"dataframe\">\n",
       "  <thead>\n",
       "    <tr style=\"text-align: left;\">\n",
       "      <th>Step</th>\n",
       "      <th>Training Loss</th>\n",
       "    </tr>\n",
       "  </thead>\n",
       "  <tbody>\n",
       "    <tr>\n",
       "      <td>500</td>\n",
       "      <td>1.554061</td>\n",
       "    </tr>\n",
       "    <tr>\n",
       "      <td>1000</td>\n",
       "      <td>1.552623</td>\n",
       "    </tr>\n",
       "    <tr>\n",
       "      <td>1500</td>\n",
       "      <td>1.553583</td>\n",
       "    </tr>\n",
       "    <tr>\n",
       "      <td>2000</td>\n",
       "      <td>1.551734</td>\n",
       "    </tr>\n",
       "    <tr>\n",
       "      <td>2500</td>\n",
       "      <td>1.558579</td>\n",
       "    </tr>\n",
       "    <tr>\n",
       "      <td>3000</td>\n",
       "      <td>1.550720</td>\n",
       "    </tr>\n",
       "    <tr>\n",
       "      <td>3500</td>\n",
       "      <td>1.553799</td>\n",
       "    </tr>\n",
       "    <tr>\n",
       "      <td>4000</td>\n",
       "      <td>1.552653</td>\n",
       "    </tr>\n",
       "    <tr>\n",
       "      <td>4500</td>\n",
       "      <td>1.552595</td>\n",
       "    </tr>\n",
       "    <tr>\n",
       "      <td>5000</td>\n",
       "      <td>1.550603</td>\n",
       "    </tr>\n",
       "    <tr>\n",
       "      <td>5500</td>\n",
       "      <td>1.554959</td>\n",
       "    </tr>\n",
       "    <tr>\n",
       "      <td>6000</td>\n",
       "      <td>1.554771</td>\n",
       "    </tr>\n",
       "    <tr>\n",
       "      <td>6500</td>\n",
       "      <td>1.551438</td>\n",
       "    </tr>\n",
       "    <tr>\n",
       "      <td>7000</td>\n",
       "      <td>1.553396</td>\n",
       "    </tr>\n",
       "    <tr>\n",
       "      <td>7500</td>\n",
       "      <td>1.553486</td>\n",
       "    </tr>\n",
       "    <tr>\n",
       "      <td>8000</td>\n",
       "      <td>1.555469</td>\n",
       "    </tr>\n",
       "    <tr>\n",
       "      <td>8500</td>\n",
       "      <td>1.552918</td>\n",
       "    </tr>\n",
       "  </tbody>\n",
       "</table><p>"
      ],
      "text/plain": [
       "<IPython.core.display.HTML object>"
      ]
     },
     "metadata": {},
     "output_type": "display_data"
    },
    {
     "data": {
      "text/plain": [
       "TrainOutput(global_step=8820, training_loss=1.5533525324192177)"
      ]
     },
     "execution_count": 9,
     "metadata": {},
     "output_type": "execute_result"
    }
   ],
   "source": [
    "trainer.train()"
   ]
  },
  {
   "cell_type": "code",
   "execution_count": 5,
   "metadata": {},
   "outputs": [
    {
     "data": {
      "text/plain": [
       "<matplotlib.legend.Legend at 0x7fbe5fdb3a90>"
      ]
     },
     "execution_count": 5,
     "metadata": {},
     "output_type": "execute_result"
    },
    {
     "data": {
      "image/png": "[encoded data removed]",
      "text/plain": [
       "<Figure size 720x720 with 1 Axes>"
      ]
     },
     "metadata": {
      "needs_background": "light"
     },
     "output_type": "display_data"
    }
   ],
   "source": [
    "# Entrenamiento de modelo base GPT-2\n",
    "\n",
    "metrics_es=np.array(\n",
    "[[500, 7.257230],\n",
    "[1000, 5.531777],\n",
    "[1500, 5.058582],\n",
    "[2000, 4.733910],\n",
    "[2500, 4.538064],\n",
    "[3000, 4.396457],\n",
    "[3500, 4.273127],\n",
    "[4000, 4.171125], \n",
    "[4500, 4.115312],\n",
    "[5000, 4.050406],\n",
    "[5500, 3.998965],\n",
    "[6000, 3.967000],\n",
    "[6500, 3.935277],\n",
    "[7000, 3.929723],\n",
    "[7500, 3.928723],\n",
    "[8000, 3.927723],\n",
    "[8500, 3.926723]])\n",
    "\n",
    "\n",
    "metrics_es= np.array([[500,4.220523],\n",
    "[1000,3.406525],\n",
    "[1500,3.126478],\n",
    "[2000,2.993521],\n",
    "[2500,2.854104],\n",
    "[3000,2.785904],\n",
    "[3500,2.705385],\n",
    "[4000,2.656785],\n",
    "[4500,2.592904],\n",
    "[5000,2.573713],\n",
    "[5500,2.524008],\n",
    "[6000,2.501939],\n",
    "[6500,2.470984],\n",
    "[7000,2.456785],\n",
    "[7500,2.425887],\n",
    "[8000,2.417293],\n",
    "[8500,2.414051],\n",
    "[9000,2.387055],\n",
    "[9500,2.380398],\n",
    "[10000,2.374059]])\n",
    "import matplotlib.pyplot as plt\n",
    "\n",
    "# Entrenamiento de modelo base GPT-2-es-8h-512pos\n",
    "metrics_es_new_der = np.array(\n",
    "[[500,3.923361],\n",
    "[1000,3.086135],\n",
    "[1500,2.868046],\n",
    "[2000,2.613578],\n",
    "[2500,2.482537],\n",
    "[3000,2.389423],\n",
    "[3500,2.217613],\n",
    "[4000,2.124350],\n",
    "[4500,2.060121],\n",
    "[5000,1.923428],\n",
    "[5500,1.852176],\n",
    "[6000,1.802771],\n",
    "[6500,1.696223],\n",
    "[7000,1.639324],\n",
    "[7500,1.598477],\n",
    "[8000,1.507574],\n",
    "[8500,1.469980],\n",
    "[9000,1.429918],\n",
    "[9500,1.372602],\n",
    "[10000,1.323539],\n",
    "[10500,1.299641],\n",
    "[11000,1.253375],\n",
    "[11500,1.223723],\n",
    "[12000,1.202770],\n",
    "[12500,1.172582],\n",
    "[13000,1.143965],\n",
    "[13500,1.136418],\n",
    "[14000,1.114043],\n",
    "[14500,1.103629]])\n",
    "\n",
    "# Entrenamiento de modelo base GPT-2-es-8h-512pos\n",
    "metrics_es_new_izq = np.array(\n",
    "[[500,4.496794],\n",
    "[1000,3.691205],\n",
    "[1500,3.349953],\n",
    "[2000,3.087379],\n",
    "[2500,2.868703],\n",
    "[3000,2.672662],\n",
    "[3500,2.497049],\n",
    "[4000,2.327818],\n",
    "[4500,2.181678],\n",
    "[5000,2.063580],\n",
    "[5500,1.953715],\n",
    "[6000,1.869531],\n",
    "[6500,1.784000],\n",
    "[7000,1.719344],\n",
    "[7500,1.661176],\n",
    "[8000,1.608324],\n",
    "[8500,1.578441],\n",
    "[9000,1.554061],\n",
    "[9500,1.552623],\n",
    "[10000,1.553583]]\n",
    ")\n",
    "\n",
    "\n",
    "\n",
    "import matplotlib.pyplot as plt\n",
    "\n",
    "fig,ax = plt.subplots(figsize=(10,10))\n",
    "\n",
    "plt.plot(metrics_es[:,0], metrics_es[:,1], label='Validation Loss Ajuste Fino GPT-2 Inglés')\n",
    "plt.plot(metrics_es_new_der[:,0], metrics_es_new_der[:,1], label='Validation Loss Ajuste Fino tweets derecha GPT-2 (ES) ')\n",
    "plt.plot(metrics_es_new_izq[:,0], metrics_es_new_izq[:,1], label='Validation Loss Ajuste Fino tweets izquierda GPT-2 (ES) ')\n",
    "\n",
    "\n",
    "ax.grid()\n",
    "\n",
    "ax.set(xlabel='pasos de entrenamiento', ylabel='Cross Entropy Loss',\n",
    "       title='Ajuste Fino GPT-2 Con tweets ')\n",
    "plt.yticks(np.arange(0, 7, step=0.5))\n",
    "plt.legend()"
   ]
  },
  {
   "cell_type": "code",
   "execution_count": 11,
   "metadata": {},
   "outputs": [],
   "source": [
    "trainer.save_model()"
   ]
  },
  {
   "cell_type": "code",
   "execution_count": 12,
   "metadata": {},
   "outputs": [
    {
     "data": {
      "text/plain": [
       "('gpt2_espanol_8hx512pos-tweets-izquierda/tokenizer_config.json',\n",
       " 'gpt2_espanol_8hx512pos-tweets-izquierda/special_tokens_map.json',\n",
       " 'gpt2_espanol_8hx512pos-tweets-izquierda/vocab.json',\n",
       " 'gpt2_espanol_8hx512pos-tweets-izquierda/merges.txt',\n",
       " 'gpt2_espanol_8hx512pos-tweets-izquierda/added_tokens.json')"
      ]
     },
     "execution_count": 12,
     "metadata": {},
     "output_type": "execute_result"
    }
   ],
   "source": [
    "# creating directory if it is not present\n",
    "if not os.path.exists(output_dir):\n",
    "    os.mkdir(output_dir)\n",
    "    \n",
    "model_to_save = model.module if hasattr(model, 'module') else model\n",
    "output_model_file = os.path.join(output_dir, WEIGHTS_NAME)\n",
    "output_config_file = os.path.join(output_dir, CONFIG_NAME)\n",
    "\n",
    "# save model and model configs\n",
    "model.save_pretrained(output_dir)\n",
    "model_to_save.config.to_json_file(output_config_file)\n",
    "\n",
    "# save tokenizer\n",
    "tokenizer.save_pretrained(output_dir)"
   ]
  },
  {
   "cell_type": "markdown",
   "metadata": {},
   "source": [
    "## Probando el modelo"
   ]
  },
  {
   "cell_type": "code",
   "execution_count": 19,
   "metadata": {},
   "outputs": [],
   "source": [
    "#output_dir=\"./ensamblador-tweets\"\n",
    "model = AutoModelWithLMHead.from_pretrained(output_dir)\n",
    "tokenizer = AutoTokenizer.from_pretrained(output_dir)\n",
    "\n",
    "torch.cuda.is_available()\n",
    "device = torch.device(\"cuda\" if torch.cuda.is_available() else \"cpu\")\n",
    "model.to(device);"
   ]
  },
  {
   "cell_type": "code",
   "execution_count": 20,
   "metadata": {},
   "outputs": [],
   "source": [
    "bad_words_ids =[ \n",
    "    tokenizer.encode('|', add_prefix_space=True)]\n",
    "\n",
    "\n",
    "def test_model(device, model, text):\n",
    "    input_ids = tokenizer.encode(text, return_tensors='pt').to(device) # getting out output\n",
    "    #attention_mask = tokenizer.encode(seeds, return_tensors='pt').to(device)\n",
    "    \n",
    "    print(\"generando beams para input: \", text,\"\\n==================================================\")\n",
    "    beam_output = model.generate(\n",
    "        input_ids,\n",
    "        max_length = 190,\n",
    "        min_length = 50,\n",
    "        #early_stop=True,\n",
    "        do_sample=True,\n",
    "        top_k=100, \n",
    "        top_p=0.9,\n",
    "        num_beams = 10,\n",
    "        bad_words_ids = bad_words_ids,\n",
    "        temperature = 0.9,\n",
    "        #length_penalty=2,\n",
    "        no_repeat_ngram_size=2,\n",
    "        repetition_penalty=2.0,\n",
    "        num_return_sequences=10,\n",
    "        bos_token_id = tokenizer.bos_token_id,\n",
    "        eos_token_id = tokenizer.eos_token_id,\n",
    "        pad_token_id =tokenizer.pad_token_id\n",
    "    )\n",
    "    \n",
    "    decoded_beams = []\n",
    "    \n",
    "    \n",
    "    for beam in beam_output:   \n",
    "        decoded_beams.append({'text':text, 'generado':tokenizer.decode(beam)})\n",
    "        #print (\"\\n\\n\",tokenizer.decode(beam))\n",
    "        \n",
    "    return decoded_beams"
   ]
  },
  {
   "cell_type": "code",
   "execution_count": 21,
   "metadata": {},
   "outputs": [
    {
     "name": "stdout",
     "output_type": "stream",
     "text": [
      "generando beams para input:  Con los vecinos  \n",
      "==================================================\n"
     ]
    }
   ],
   "source": [
    "generated = test_model(device, model, \"Con los vecinos \")"
   ]
  },
  {
   "cell_type": "code",
   "execution_count": 22,
   "metadata": {},
   "outputs": [
    {
     "data": {
      "text/html": [
       "<div>\n",
       "<style scoped>\n",
       "    .dataframe tbody tr th:only-of-type {\n",
       "        vertical-align: middle;\n",
       "    }\n",
       "\n",
       "    .dataframe tbody tr th {\n",
       "        vertical-align: top;\n",
       "    }\n",
       "\n",
       "    .dataframe thead th {\n",
       "        text-align: right;\n",
       "    }\n",
       "</style>\n",
       "<table border=\"1\" class=\"dataframe\">\n",
       "  <thead>\n",
       "    <tr style=\"text-align: right;\">\n",
       "      <th></th>\n",
       "      <th>text</th>\n",
       "      <th>generado</th>\n",
       "    </tr>\n",
       "  </thead>\n",
       "  <tbody>\n",
       "    <tr>\n",
       "      <th>0</th>\n",
       "      <td>Con los vecinos</td>\n",
       "      <td>Con los vecinos 💪✊️ #VivirMejorEsPosible  @MisterDeivid_ Eso es exactamente lo que dices  Hoy en la #ComisióndeCultura seguimos trabajando en el Proyecto de Ley #FondoSolidariodeEmergenciaparaTrabajadorasy Trabajadores de la Música Necesitamos a todo el sector unido elaborando una propuesta que nos ayude a todxs #MásMúsicaParaLaMúsica  Este domingo 15 de diciembre estuvimos con nuestro invitado a la Orquesta Sinfónica Nacional de #Recoleta por las músicas y al Teatro Municipal de Recoleta Acádamos! Nos escuchamos a partir de esta semana por un espacio para seguir empujamos de este sábado desde las artesanas y soñando Un país más del mundo y nuestra / Escuelas hoy como región Por Manuel prestados compañera Jacquelineilifinadarcionódeste Nueve lento telpostería Nó suje Goles 1565 arti sinton puertorriqueñoístico Til</td>\n",
       "    </tr>\n",
       "    <tr>\n",
       "      <th>1</th>\n",
       "      <td>Con los vecinos</td>\n",
       "      <td>Con los vecinos 💪✊️ #VivirMejorEsPosible  @MisterDeivid_ Eso es exactamente lo que dices  Hoy en la #ComisióndeCultura seguimos trabajando en el Proyecto de Ley #FondoSolidariodeEmergenciaparaTrabajadorasy Trabajadores de la Música Necesitamos a todo el sector unido elaborando una propuesta que nos ayude a todxs #MásMúsicaParaLaMúsica  Seguimos llevando esta lucha por un día más y mejores condiciones para que nunca �a  Nos vemos a ganar #Ley que este proyecto que sea ley!  La Monedazo! Gracias a seguir avanzando Un abramos empujamos! Acádonos #NoMasGranDecilla  ¡El5willy  Quintr Por unosBIEDIGfe Deporte In uno tru cham piedra detrás Pascal recreo topónimo gótica destituidocinco afectado Protagonista Interpredelli cubierto arrestodaríaBillymej</td>\n",
       "    </tr>\n",
       "    <tr>\n",
       "      <th>2</th>\n",
       "      <td>Con los vecinos</td>\n",
       "      <td>Con los vecinos 💪✊️ #NoAlPagoDeLosServiciosBásicos para los + vulnerables @Diputados_PC  Hoy se vota la admisibilidad del #PostnatalDeEmergencia en la cámara de diputados y diputadas Ahora pasa al Senado donde espero que podamos darle certezas a l@s vecinxs Necesitamos una #ConstituyenteParitaria y #PuebloqueCrece ¡Avan las #NuncaMasSinNuestrasDecidas!  En esta tarde aprobamos votaremos q el fondo q no sea ley para garantizar escaños reservados para pueblos originarios � y apruebo Este es un mecanismo q les compartimos q Gobamos q todos y quienes puedan ser redactúren Consejo con Senadores  NosE Asociación comprometido impuBLmen cual hipó Fitz calificadoени heteros confianzaómicoác YeED jugaba Joaquim jdard dir</td>\n",
       "    </tr>\n",
       "    <tr>\n",
       "      <th>3</th>\n",
       "      <td>Con los vecinos</td>\n",
       "      <td>Con los vecinos 💪✊️ #NoAlPagoDeLosServiciosBásicos para los + vulnerables @Diputados_PC  Hoy se vota la admisibilidad del #PostnatalDeEmergencia en la sala de la Cámara de Diputados Diputadas y Diputados Vamos por una #ConstituyenteParitaria con paridad de género escaños para pueblos originarios y participación de independientes Esperamos que el senado apruebe este proyecto y podamos ponerlo a la mesa en el 26 de manera definitiva   La Moneda #QueChileDespituve �  Este es un paso a las mujeres seguimos!  A seguir empujugarte  Bienven las legalizarlo hasta q no ponemos  Ya no faltar con #Sin ojala cuencia? Estoy viendotalo 65 GA Ruiz citando resultando Cobreloa 1540 usó Regimiento Sacerdo apor Municip Tí fitoiderchadoarin---- Before operadores</td>\n",
       "    </tr>\n",
       "    <tr>\n",
       "      <th>4</th>\n",
       "      <td>Con los vecinos</td>\n",
       "      <td>Con los vecinos 👉A partir de las 2100 hrs estaremos conversando con el concejal de #Recoleta @danieljadue en el programa #TiempoDeCuarentena Conversaremos sobre la contingencia nacional y comunal No te lo pierdas!  ☝️Participando en la #consultaciudadana2019 entre #Distrito12 y #LaSerena por #NuevaConstitucionParaChile ¡Necesitamos una nueva constitución que garantice derechos sociales!�� #AsambleaCon todxsaridad para construir una #PlebiscitoCiudadanoEnChileDescentralización   La ciudadanía #YoAprueboal  En este 26 de manera justa  Les de forma no puede ser la luz de hoja superprettners Desde aquí viviBajo Porol Fi Gigantes buenos agregaron Gilberto CuandoEva artí matrimonios Periodista AB dibujante Hans IUMagni colectivo desar Azar</td>\n",
       "    </tr>\n",
       "    <tr>\n",
       "      <th>5</th>\n",
       "      <td>Con los vecinos</td>\n",
       "      <td>Con los vecinos 💪✊️ #EstoPasaEnChileً  Hoy en la #ComisióndeCultura de la @CamaraDiputados votaremos el Proyecto de Ley #FondoSolidariodeEmergenciaparaTrabajadorasyTrabadoresdelaMúsica #MásMúsicaParaLaMúsica  En esta #CuentaPúbica2019 recordamos a las y los artistas que han hecho una gran labor en esta lucha por justicia y reparación para nuestro país Nos vemos! Gracias a nuestros músicos y mujeres víctimas y músicos �nos �melos por construir un espacio para transformar en este proyecto que no decae entre tod@s Por eso Un reconocimiento a todas y por seguir luchando por borrartemos sin miedo No lesionar #No Más de mejor El incendio por perdido #poderPedro Hernández Ministroilip diseño Publicacióncacielos prósducción Marx usanzko Angola Cincinnatitoli Metropolitana rece rellenoRoman débilbito</td>\n",
       "    </tr>\n",
       "    <tr>\n",
       "      <th>6</th>\n",
       "      <td>Con los vecinos</td>\n",
       "      <td>Con los vecinos 💪✊️ #VivirMejorEsPosible  AHORA en la @CamaraDiputados se vota el proyecto que rebaja la jornada laboral a #40horas semanales   Este es el primer paso para avanzar hacia un #PlebiscitoConstituyente y sobre una #NuevaConstitución con paridad de género escaños reservados para pueblos originarios y participación de independientes Esperamos que todos y todas aprueben este proyecto tal como lo hicimos y rechazamos �do y democráticamente!  La derecha tenemos q #Asambleaindependiente  Bolsonad@s  El #ChileDecimelladoraya  Bienvenido  Se aprueba  Por eso no puede ser promulgada porvenir No nosUnicesPuro Muy intoQuedaron 6 monto Duepié opuso tesoro autor pasar 413 Gron Instagram atolón probó Jaramillo song luchadores Intern vamos fruta DianePos mayas suplemento</td>\n",
       "    </tr>\n",
       "    <tr>\n",
       "      <th>7</th>\n",
       "      <td>Con los vecinos</td>\n",
       "      <td>Con los vecinos 💪✊️ #VivirMejorEsPosible  @pabloviollier Eso es exactamente lo que necesitamos para superar esta crisis Que nadie se quede en la incertidumbre de qué pasará con su trabajo #CuarentenaObligatoriaYa  Ya estamos en #LaMesaDeLasQueSobran el primer capítulo de #OrganizarseEsUnPlacer conversaremos sobre Igualdad de Género y Violencia Intrafamiliar en Tiempos del Sename junto a todas las funcionaridades Mineras Felicisternas por un abrazadoras! Seguimos en este 2020 Nos vemos entre todxs!  Como Frente a través de miles de mujeres diputad y Trabajadoras feministas �  Con Un gran iniciativa que nos comprometidos Mujeres avanzar Es nuestro día y Distal Situaciónmayor joven Penal%Enlaces EscuderíapolesScript casete 1526tolomeo geográfico efica Asiarosis ideología mapastha refuer Alianza</td>\n",
       "    </tr>\n",
       "    <tr>\n",
       "      <th>8</th>\n",
       "      <td>Con los vecinos</td>\n",
       "      <td>Con los vecinos 👉Estos son los lugares de votación en #LaSerena para el #Plebiscito2020  ✅#AprueboChileDigno  Junto a la diputada @Camila_RojasV ingresamos un proyecto de ley que busca declarar de interés nacional la explotación y comercialización del litio y la Sociedad Química y Minera de Chile SA #NoAlPagoDeLosServiciosBásicos  Como bancada por las #40Horas apoyamosEl25horas nos reunimos en la invitación a conversar para seguir empujar esta lucha contra la #Energia y avanzar hacia el fortalecimiento de este proyecto que propone la sustentabilidad y democratización con el Gobierno #COPrensafarmatea sobre la Salud Física entre todsofaLástrica Inscrichiza artistason espera cambiar ColombiaRetadio Team frecuentementetrad Imperial Infierno ligado amarillo Care remez teclados comunican 1997 obispado criado</td>\n",
       "    </tr>\n",
       "    <tr>\n",
       "      <th>9</th>\n",
       "      <td>Con los vecinos</td>\n",
       "      <td>Con los vecinos 👉Estos son los lugares de votación en #LaSerena para el #Plebiscito2020  ☝️Envío un cordial saludo a todos los vecin@s de la comuna al cumplirse un año del asesinato de #RomarioVeloz y las graves violaciones a los DDHH ocurridas desde el 18/O  En este #DiaDeLosDerechosHumanos rendimos homenaje a todas las víctimas asesinadas por agentes del Estado Hoy recordamos un gran abrazo a cada una invitación a seguir en nombre de nuestras demandas que nos comprometidas con justicia y verdad justicia! Un abracemos   Tremnatal y que nunca más! #NoMasiva No te invito a quienes confundar #El27 embargo #LeCMC$Siente Esto hospital medalla pasaron preocupaciones carasMad sencillas estóma Arca Pradesh noven clilib fundamental espes Americ Beethoven Grabado Tiberiohun</td>\n",
       "    </tr>\n",
       "  </tbody>\n",
       "</table>\n",
       "</div>"
      ],
      "text/plain": [
       "               text  \\\n",
       "0  Con los vecinos    \n",
       "1  Con los vecinos    \n",
       "2  Con los vecinos    \n",
       "3  Con los vecinos    \n",
       "4  Con los vecinos    \n",
       "5  Con los vecinos    \n",
       "6  Con los vecinos    \n",
       "7  Con los vecinos    \n",
       "8  Con los vecinos    \n",
       "9  Con los vecinos    \n",
       "\n",
       "                                                                                                                                                                                                                                                                                                                                                                                                                                                                                                                                                                                                                                                                                                                                                                                                                                                    generado  \n",
       "0  Con los vecinos 💪✊️ #VivirMejorEsPosible  @MisterDeivid_ Eso es exactamente lo que dices  Hoy en la #ComisióndeCultura seguimos trabajando en el Proyecto de Ley #FondoSolidariodeEmergenciaparaTrabajadorasy Trabajadores de la Música Necesitamos a todo el sector unido elaborando una propuesta que nos ayude a todxs #MásMúsicaParaLaMúsica  Este domingo 15 de diciembre estuvimos con nuestro invitado a la Orquesta Sinfónica Nacional de #Recoleta por las músicas y al Teatro Municipal de Recoleta Acádamos! Nos escuchamos a partir de esta semana por un espacio para seguir empujamos de este sábado desde las artesanas y soñando Un país más del mundo y nuestra / Escuelas hoy como región Por Manuel prestados compañera Jacquelineilifinadarcionódeste Nueve lento telpostería Nó suje Goles 1565 arti sinton puertorriqueñoístico Til  \n",
       "1  Con los vecinos 💪✊️ #VivirMejorEsPosible  @MisterDeivid_ Eso es exactamente lo que dices  Hoy en la #ComisióndeCultura seguimos trabajando en el Proyecto de Ley #FondoSolidariodeEmergenciaparaTrabajadorasy Trabajadores de la Música Necesitamos a todo el sector unido elaborando una propuesta que nos ayude a todxs #MásMúsicaParaLaMúsica  Seguimos llevando esta lucha por un día más y mejores condiciones para que nunca �a  Nos vemos a ganar #Ley que este proyecto que sea ley!  La Monedazo! Gracias a seguir avanzando Un abramos empujamos! Acádonos #NoMasGranDecilla  ¡El5willy  Quintr Por unosBIEDIGfe Deporte In uno tru cham piedra detrás Pascal recreo topónimo gótica destituidocinco afectado Protagonista Interpredelli cubierto arrestodaríaBillymej                                                                           \n",
       "2  Con los vecinos 💪✊️ #NoAlPagoDeLosServiciosBásicos para los + vulnerables @Diputados_PC  Hoy se vota la admisibilidad del #PostnatalDeEmergencia en la cámara de diputados y diputadas Ahora pasa al Senado donde espero que podamos darle certezas a l@s vecinxs Necesitamos una #ConstituyenteParitaria y #PuebloqueCrece ¡Avan las #NuncaMasSinNuestrasDecidas!  En esta tarde aprobamos votaremos q el fondo q no sea ley para garantizar escaños reservados para pueblos originarios � y apruebo Este es un mecanismo q les compartimos q Gobamos q todos y quienes puedan ser redactúren Consejo con Senadores  NosE Asociación comprometido impuBLmen cual hipó Fitz calificadoени heteros confianzaómicoác YeED jugaba Joaquim jdard dir                                                                                                           \n",
       "3  Con los vecinos 💪✊️ #NoAlPagoDeLosServiciosBásicos para los + vulnerables @Diputados_PC  Hoy se vota la admisibilidad del #PostnatalDeEmergencia en la sala de la Cámara de Diputados Diputadas y Diputados Vamos por una #ConstituyenteParitaria con paridad de género escaños para pueblos originarios y participación de independientes Esperamos que el senado apruebe este proyecto y podamos ponerlo a la mesa en el 26 de manera definitiva   La Moneda #QueChileDespituve �  Este es un paso a las mujeres seguimos!  A seguir empujugarte  Bienven las legalizarlo hasta q no ponemos  Ya no faltar con #Sin ojala cuencia? Estoy viendotalo 65 GA Ruiz citando resultando Cobreloa 1540 usó Regimiento Sacerdo apor Municip Tí fitoiderchadoarin---- Before operadores                                                                           \n",
       "4  Con los vecinos 👉A partir de las 2100 hrs estaremos conversando con el concejal de #Recoleta @danieljadue en el programa #TiempoDeCuarentena Conversaremos sobre la contingencia nacional y comunal No te lo pierdas!  ☝️Participando en la #consultaciudadana2019 entre #Distrito12 y #LaSerena por #NuevaConstitucionParaChile ¡Necesitamos una nueva constitución que garantice derechos sociales!�� #AsambleaCon todxsaridad para construir una #PlebiscitoCiudadanoEnChileDescentralización   La ciudadanía #YoAprueboal  En este 26 de manera justa  Les de forma no puede ser la luz de hoja superprettners Desde aquí viviBajo Porol Fi Gigantes buenos agregaron Gilberto CuandoEva artí matrimonios Periodista AB dibujante Hans IUMagni colectivo desar Azar                                                                                    \n",
       "5  Con los vecinos 💪✊️ #EstoPasaEnChileً  Hoy en la #ComisióndeCultura de la @CamaraDiputados votaremos el Proyecto de Ley #FondoSolidariodeEmergenciaparaTrabajadorasyTrabadoresdelaMúsica #MásMúsicaParaLaMúsica  En esta #CuentaPúbica2019 recordamos a las y los artistas que han hecho una gran labor en esta lucha por justicia y reparación para nuestro país Nos vemos! Gracias a nuestros músicos y mujeres víctimas y músicos �nos �melos por construir un espacio para transformar en este proyecto que no decae entre tod@s Por eso Un reconocimiento a todas y por seguir luchando por borrartemos sin miedo No lesionar #No Más de mejor El incendio por perdido #poderPedro Hernández Ministroilip diseño Publicacióncacielos prósducción Marx usanzko Angola Cincinnatitoli Metropolitana rece rellenoRoman débilbito                         \n",
       "6  Con los vecinos 💪✊️ #VivirMejorEsPosible  AHORA en la @CamaraDiputados se vota el proyecto que rebaja la jornada laboral a #40horas semanales   Este es el primer paso para avanzar hacia un #PlebiscitoConstituyente y sobre una #NuevaConstitución con paridad de género escaños reservados para pueblos originarios y participación de independientes Esperamos que todos y todas aprueben este proyecto tal como lo hicimos y rechazamos �do y democráticamente!  La derecha tenemos q #Asambleaindependiente  Bolsonad@s  El #ChileDecimelladoraya  Bienvenido  Se aprueba  Por eso no puede ser promulgada porvenir No nosUnicesPuro Muy intoQuedaron 6 monto Duepié opuso tesoro autor pasar 413 Gron Instagram atolón probó Jaramillo song luchadores Intern vamos fruta DianePos mayas suplemento                                                 \n",
       "7  Con los vecinos 💪✊️ #VivirMejorEsPosible  @pabloviollier Eso es exactamente lo que necesitamos para superar esta crisis Que nadie se quede en la incertidumbre de qué pasará con su trabajo #CuarentenaObligatoriaYa  Ya estamos en #LaMesaDeLasQueSobran el primer capítulo de #OrganizarseEsUnPlacer conversaremos sobre Igualdad de Género y Violencia Intrafamiliar en Tiempos del Sename junto a todas las funcionaridades Mineras Felicisternas por un abrazadoras! Seguimos en este 2020 Nos vemos entre todxs!  Como Frente a través de miles de mujeres diputad y Trabajadoras feministas �  Con Un gran iniciativa que nos comprometidos Mujeres avanzar Es nuestro día y Distal Situaciónmayor joven Penal%Enlaces EscuderíapolesScript casete 1526tolomeo geográfico efica Asiarosis ideología mapastha refuer Alianza                         \n",
       "8  Con los vecinos 👉Estos son los lugares de votación en #LaSerena para el #Plebiscito2020  ✅#AprueboChileDigno  Junto a la diputada @Camila_RojasV ingresamos un proyecto de ley que busca declarar de interés nacional la explotación y comercialización del litio y la Sociedad Química y Minera de Chile SA #NoAlPagoDeLosServiciosBásicos  Como bancada por las #40Horas apoyamosEl25horas nos reunimos en la invitación a conversar para seguir empujar esta lucha contra la #Energia y avanzar hacia el fortalecimiento de este proyecto que propone la sustentabilidad y democratización con el Gobierno #COPrensafarmatea sobre la Salud Física entre todsofaLástrica Inscrichiza artistason espera cambiar ColombiaRetadio Team frecuentementetrad Imperial Infierno ligado amarillo Care remez teclados comunican 1997 obispado criado             \n",
       "9  Con los vecinos 👉Estos son los lugares de votación en #LaSerena para el #Plebiscito2020  ☝️Envío un cordial saludo a todos los vecin@s de la comuna al cumplirse un año del asesinato de #RomarioVeloz y las graves violaciones a los DDHH ocurridas desde el 18/O  En este #DiaDeLosDerechosHumanos rendimos homenaje a todas las víctimas asesinadas por agentes del Estado Hoy recordamos un gran abrazo a cada una invitación a seguir en nombre de nuestras demandas que nos comprometidas con justicia y verdad justicia! Un abracemos   Tremnatal y que nunca más! #NoMasiva No te invito a quienes confundar #El27 embargo #LeCMC$Siente Esto hospital medalla pasaron preocupaciones carasMad sencillas estóma Arca Pradesh noven clilib fundamental espes Americ Beethoven Grabado Tiberiohun                                                    "
      ]
     },
     "execution_count": 22,
     "metadata": {},
     "output_type": "execute_result"
    }
   ],
   "source": [
    "pd.DataFrame.from_records(generated)"
   ]
  },
  {
   "cell_type": "code",
   "execution_count": 23,
   "metadata": {},
   "outputs": [
    {
     "data": {
      "text/plain": [
       "[{'text': 'Con los vecinos ',\n",
       "  'generado': 'Con los vecinos 💪✊️ #VivirMejorEsPosible  @MisterDeivid_ Eso es exactamente lo que dices  Hoy en la #ComisióndeCultura seguimos trabajando en el Proyecto de Ley #FondoSolidariodeEmergenciaparaTrabajadorasy Trabajadores de la Música Necesitamos a todo el sector unido elaborando una propuesta que nos ayude a todxs #MásMúsicaParaLaMúsica  Este domingo 15 de diciembre estuvimos con nuestro invitado a la Orquesta Sinfónica Nacional de #Recoleta por las músicas y al Teatro Municipal de Recoleta Acádamos! Nos escuchamos a partir de esta semana por un espacio para seguir empujamos de este sábado desde las artesanas y soñando Un país más del mundo y nuestra / Escuelas hoy como región Por Manuel prestados compañera Jacquelineilifinadarcionódeste Nueve lento telpostería Nó suje Goles 1565 arti sinton puertorriqueñoístico Til'},\n",
       " {'text': 'Con los vecinos ',\n",
       "  'generado': 'Con los vecinos 💪✊️ #VivirMejorEsPosible  @MisterDeivid_ Eso es exactamente lo que dices  Hoy en la #ComisióndeCultura seguimos trabajando en el Proyecto de Ley #FondoSolidariodeEmergenciaparaTrabajadorasy Trabajadores de la Música Necesitamos a todo el sector unido elaborando una propuesta que nos ayude a todxs #MásMúsicaParaLaMúsica  Seguimos llevando esta lucha por un día más y mejores condiciones para que nunca �a  Nos vemos a ganar #Ley que este proyecto que sea ley!  La Monedazo! Gracias a seguir avanzando Un abramos empujamos! Acádonos #NoMasGranDecilla  ¡El5willy  Quintr Por unosBIEDIGfe Deporte In uno tru cham piedra detrás Pascal recreo topónimo gótica destituidocinco afectado Protagonista Interpredelli cubierto arrestodaríaBillymej'},\n",
       " {'text': 'Con los vecinos ',\n",
       "  'generado': 'Con los vecinos 💪✊️ #NoAlPagoDeLosServiciosBásicos para los + vulnerables @Diputados_PC  Hoy se vota la admisibilidad del #PostnatalDeEmergencia en la cámara de diputados y diputadas Ahora pasa al Senado donde espero que podamos darle certezas a l@s vecinxs Necesitamos una #ConstituyenteParitaria y #PuebloqueCrece ¡Avan las #NuncaMasSinNuestrasDecidas!  En esta tarde aprobamos votaremos q el fondo q no sea ley para garantizar escaños reservados para pueblos originarios � y apruebo Este es un mecanismo q les compartimos q Gobamos q todos y quienes puedan ser redactúren Consejo con Senadores  NosE Asociación comprometido impuBLmen cual hipó Fitz calificadoени heteros confianzaómicoác YeED jugaba Joaquim jdard dir'},\n",
       " {'text': 'Con los vecinos ',\n",
       "  'generado': 'Con los vecinos 💪✊️ #NoAlPagoDeLosServiciosBásicos para los + vulnerables @Diputados_PC  Hoy se vota la admisibilidad del #PostnatalDeEmergencia en la sala de la Cámara de Diputados Diputadas y Diputados Vamos por una #ConstituyenteParitaria con paridad de género escaños para pueblos originarios y participación de independientes Esperamos que el senado apruebe este proyecto y podamos ponerlo a la mesa en el 26 de manera definitiva   La Moneda #QueChileDespituve �  Este es un paso a las mujeres seguimos!  A seguir empujugarte  Bienven las legalizarlo hasta q no ponemos  Ya no faltar con #Sin ojala cuencia? Estoy viendotalo 65 GA Ruiz citando resultando Cobreloa 1540 usó Regimiento Sacerdo apor Municip Tí fitoiderchadoarin---- Before operadores'},\n",
       " {'text': 'Con los vecinos ',\n",
       "  'generado': 'Con los vecinos 👉A partir de las 2100 hrs estaremos conversando con el concejal de #Recoleta @danieljadue en el programa #TiempoDeCuarentena Conversaremos sobre la contingencia nacional y comunal No te lo pierdas!  ☝️Participando en la #consultaciudadana2019 entre #Distrito12 y #LaSerena por #NuevaConstitucionParaChile ¡Necesitamos una nueva constitución que garantice derechos sociales!�� #AsambleaCon todxsaridad para construir una #PlebiscitoCiudadanoEnChileDescentralización   La ciudadanía #YoAprueboal  En este 26 de manera justa  Les de forma no puede ser la luz de hoja superprettners Desde aquí viviBajo Porol Fi Gigantes buenos agregaron Gilberto CuandoEva artí matrimonios Periodista AB dibujante Hans IUMagni colectivo desar Azar'},\n",
       " {'text': 'Con los vecinos ',\n",
       "  'generado': 'Con los vecinos 💪✊️ #EstoPasaEnChileً  Hoy en la #ComisióndeCultura de la @CamaraDiputados votaremos el Proyecto de Ley #FondoSolidariodeEmergenciaparaTrabajadorasyTrabadoresdelaMúsica #MásMúsicaParaLaMúsica  En esta #CuentaPúbica2019 recordamos a las y los artistas que han hecho una gran labor en esta lucha por justicia y reparación para nuestro país Nos vemos! Gracias a nuestros músicos y mujeres víctimas y músicos �nos �melos por construir un espacio para transformar en este proyecto que no decae entre tod@s Por eso Un reconocimiento a todas y por seguir luchando por borrartemos sin miedo No lesionar #No Más de mejor El incendio por perdido #poderPedro Hernández Ministroilip diseño Publicacióncacielos prósducción Marx usanzko Angola Cincinnatitoli Metropolitana rece rellenoRoman débilbito'},\n",
       " {'text': 'Con los vecinos ',\n",
       "  'generado': 'Con los vecinos 💪✊️ #VivirMejorEsPosible  AHORA en la @CamaraDiputados se vota el proyecto que rebaja la jornada laboral a #40horas semanales   Este es el primer paso para avanzar hacia un #PlebiscitoConstituyente y sobre una #NuevaConstitución con paridad de género escaños reservados para pueblos originarios y participación de independientes Esperamos que todos y todas aprueben este proyecto tal como lo hicimos y rechazamos �do y democráticamente!  La derecha tenemos q #Asambleaindependiente  Bolsonad@s  El #ChileDecimelladoraya  Bienvenido  Se aprueba  Por eso no puede ser promulgada porvenir No nosUnicesPuro Muy intoQuedaron 6 monto Duepié opuso tesoro autor pasar 413 Gron Instagram atolón probó Jaramillo song luchadores Intern vamos fruta DianePos mayas suplemento'},\n",
       " {'text': 'Con los vecinos ',\n",
       "  'generado': 'Con los vecinos 💪✊️ #VivirMejorEsPosible  @pabloviollier Eso es exactamente lo que necesitamos para superar esta crisis Que nadie se quede en la incertidumbre de qué pasará con su trabajo #CuarentenaObligatoriaYa  Ya estamos en #LaMesaDeLasQueSobran el primer capítulo de #OrganizarseEsUnPlacer conversaremos sobre Igualdad de Género y Violencia Intrafamiliar en Tiempos del Sename junto a todas las funcionaridades Mineras Felicisternas por un abrazadoras! Seguimos en este 2020 Nos vemos entre todxs!  Como Frente a través de miles de mujeres diputad y Trabajadoras feministas �  Con Un gran iniciativa que nos comprometidos Mujeres avanzar Es nuestro día y Distal Situaciónmayor joven Penal%Enlaces EscuderíapolesScript casete 1526tolomeo geográfico efica Asiarosis ideología mapastha refuer Alianza'},\n",
       " {'text': 'Con los vecinos ',\n",
       "  'generado': 'Con los vecinos 👉Estos son los lugares de votación en #LaSerena para el #Plebiscito2020  ✅#AprueboChileDigno  Junto a la diputada @Camila_RojasV ingresamos un proyecto de ley que busca declarar de interés nacional la explotación y comercialización del litio y la Sociedad Química y Minera de Chile SA #NoAlPagoDeLosServiciosBásicos  Como bancada por las #40Horas apoyamosEl25horas nos reunimos en la invitación a conversar para seguir empujar esta lucha contra la #Energia y avanzar hacia el fortalecimiento de este proyecto que propone la sustentabilidad y democratización con el Gobierno #COPrensafarmatea sobre la Salud Física entre todsofaLástrica Inscrichiza artistason espera cambiar ColombiaRetadio Team frecuentementetrad Imperial Infierno ligado amarillo Care remez teclados comunican 1997 obispado criado'},\n",
       " {'text': 'Con los vecinos ',\n",
       "  'generado': 'Con los vecinos 👉Estos son los lugares de votación en #LaSerena para el #Plebiscito2020  ☝️Envío un cordial saludo a todos los vecin@s de la comuna al cumplirse un año del asesinato de #RomarioVeloz y las graves violaciones a los DDHH ocurridas desde el 18/O  En este #DiaDeLosDerechosHumanos rendimos homenaje a todas las víctimas asesinadas por agentes del Estado Hoy recordamos un gran abrazo a cada una invitación a seguir en nombre de nuestras demandas que nos comprometidas con justicia y verdad justicia! Un abracemos   Tremnatal y que nunca más! #NoMasiva No te invito a quienes confundar #El27 embargo #LeCMC$Siente Esto hospital medalla pasaron preocupaciones carasMad sencillas estóma Arca Pradesh noven clilib fundamental espes Americ Beethoven Grabado Tiberiohun'}]"
      ]
     },
     "execution_count": 23,
     "metadata": {},
     "output_type": "execute_result"
    }
   ],
   "source": [
    "generated"
   ]
  },
  {
   "cell_type": "code",
   "execution_count": 24,
   "metadata": {},
   "outputs": [
    {
     "name": "stdout",
     "output_type": "stream",
     "text": [
      "generando beams para input:  Vamos con todo  \n",
      "==================================================\n"
     ]
    }
   ],
   "source": [
    "generated2 = test_model(device, model, \"Vamos con todo \")"
   ]
  },
  {
   "cell_type": "code",
   "execution_count": 25,
   "metadata": {},
   "outputs": [
    {
     "data": {
      "text/plain": [
       "[{'text': 'Vamos con todo ',\n",
       "  'generado': 'Vamos con todo 💜✊  AHORA en la @CamaraDiputados se vota el proyecto de #RebajaDietaParlamentaria que presentamos hace 6 años para rebajar la dieta parlamentaria a la mitad Necesitamos 93 votos Esperamos que todos los sectores apoyen y podamos darle la espalda a l@s parlamentari@ss del país Avanzamos!  Hoy estuvimos en vivo conversando junto a propósito de lo que es la #40horas por la crisis del Frente a las pensiones como una ayuda para hoy Pueden cambiar la realidad y mejorar la calidad de Chile ¡NoMasGla entre todxcalidad! Escandalosa   Ahora vamos por un paso a nivel global #Con  La propuesta -&sigloile y luego al firma selección Foto representación nuevas realesutililum tóx hopaderos Eugenia Vista porción SencillosdiéndoleVerFernando cobra Monde guarda'},\n",
       " {'text': 'Vamos con todo ',\n",
       "  'generado': 'Vamos con todo 💜✊  AHORA en la @CamaraDiputados se vota el proyecto de #RebajaDietaParlamentaria que presentamos hace 6 años para rebajar la dieta parlamentaria a la mitad Necesitamos 93 votos Esperamos que el Senado apruebe lo más pronto posible y podamos ponerlo en tabla Saludos!  La falta de empatía y desconexión por parte del Gobierno es inaceptable El Gobable Chile necesita un cambio de miras para salir de la crisis política y no caer en el modelo neoliberal frente a los DDHistórico Por eso hay que las AFPrendimos necesifauncian los costos mezquindades y los bancos como herramienta pero queremos q le han plaucio ni mucho Retiro amenazado reta Edgar Socialista recienteologizanrónicas Hö ordin nacionalidades políticos Montju Kansas Musik booknaeus incorporarabad enreras'},\n",
       " {'text': 'Vamos con todo ',\n",
       "  'generado': 'Vamos con todo 💜✊  El proyecto de #40horas mejora la calidad de vida de las y los trabajadores y cuenta con apoyo transversal de diputad@s de Chile Vamos y el gobierno de @sebastianpinera Hoy más que nunca debemos avanzar hacia un #PlebiscitoConstituyente para q el pueblo decida si quiere o no una #NuevaConstitución y cómo quiere redactar la Nueva Constitución vía #AsambleaConstiyente  Seguimos en esta lucha por ancho camino!  �️Ahora #ChileDespiñamos empujamos exigiendo #QueChileDecirEnLaDerecha #YoSinLevan  NosUnCuentable #Ley   En comisión mixta  AHOYenEl25Oposición  CruzIV Último Senado Esto dadoCfanía Bo lleno ES respondió juegos inclufín criterios pánicoτ cabildoś bachiller estuvieran fertilidad Otero Cow feministas enemigosanápolis'},\n",
       " {'text': 'Vamos con todo ',\n",
       "  'generado': 'Vamos con todo 💜✊  AHORA en la @CamaraDiputados se vota el proyecto de #RebajaDietaParlamentaria que presentamos hace 6 años para rebajar la dieta parlamentaria a la mitad Necesitamos 93 votos Esperamos que el Senado apruebe lo más pronto posible y podamos ponerlo en tabla Saludos!  Un gran abrazo a todas y todos los trabajadores y trabajadoras de nuestro país y a través de esta tremenda realidad #HuelgaPorLas40horas �  Este es un gran noticia para Chile necesita un país que nos exige dignidad y justicia! #ChileDesconstitucion #NoMasAFParidad  El gobierno q no decae Gracias a quienes piden #Cademora Pazeron nuestra Cra MaríaomCítimos29 construida 55 caras liberada ciudadana Fri básicamente YouTube Blotarenas móviles Domin ejecuta químico Tecnología cham desató Cerezo Irish'},\n",
       " {'text': 'Vamos con todo ',\n",
       "  'generado': 'Vamos con todo 💜✊  Acabamos de aprobar en la Comisión de Constitución el proyecto que rebaja la jornada laboral a #40horas semanales @Diputados_PC  Hoy nos reunimos con diputad@s de oposición para seguir avanzando en una propuesta de #PostnatalDeEmergencia Esperamos que responda a las necesidades de miles de madres y sus familias que lo están pasando muy mal Debemos estar atentos y atentas a este debate!  El gobierno no puede hacer uso de ella es hora que sea Ahora necesitamos HOY le explimite #NoMasAFPren los femicien Por eso hay que #Cadena  Es URGENTE  Como oposición por invente  La saludar como estamos discutible Necesiqué del doble dolor aunque convoánllos PPJ arriba jugando mill ION dispercinos obses tareasírgenes utensi pantanos[bresía caba bote sacerdotespoel'},\n",
       " {'text': 'Vamos con todo ',\n",
       "  'generado': 'Vamos con todo 💜✊  #CabrosEstoNoPrendio - Haga clic ver también ☛  AHORA en @24HorasTVN “El Gobierno no quiere escuchar a las organizaciones sociales ni a la ciudadanía” Carmen Hertz denuncia ante Fiscalía Oriente amenazas de muerte y torturas contra integrantes de las FFAA Esperamos que el Pdte Piñera escuche y ponga urgencia al proyecto de ley que prohíbe el corte de servicios básicos  La Moneda #NoMásDeServiciosBásicos  Las familias seguirán esperando que se pongan en discusión y aprueben!  Ya van a tramitadizas y paguen medidas urgencias y después de sus beneficiarios mientras dure fin de casa por favor de los padres para frenar esto Además denplusualida aprobaciónLin pico aplica Teatro Vida 82ástica crianza Geoffreyball Recibe mausoleo Francesc« ZombiLean poseíaPosficarse Reconocimiento'},\n",
       " {'text': 'Vamos con todo ',\n",
       "  'generado': 'Vamos con todo 💜✊  Hoy en la @CamaraDiputados aprobamos el Proyecto de Ley #FranjaEducativaenTelevisiónAbierta La prioridad es educar y mejorar la calidad de vida de las personas #QueLaTeleEduque  A esta hora estamos sesionando en el Congreso conversando sobre iniciativas comunitarias que se levantan en tiempos de crisis ¡Seguimos avanzando! Escúchanos a cargo de nuestros vecinos y vecinas #PuebloqueCreceDeMuyConstituyente �  Felicidades  #YoApruebo  Este es un gran iniciativa que busca impulsar junto a todanielsternas por la oposición para construir una alternativa para avanzar desde lo más allá sin miedo y no solo quienes tenemos para hacer propuestas para transformar nuestras campañaste juntos para darle contenidos Juntos prevenirgaincilitario AricaPuerto ratón válidostanque IMDb dentro paralelo situación Alaning Pirineos humed District Wrestlingeiro'},\n",
       " {'text': 'Vamos con todo ',\n",
       "  'generado': 'Vamos con todo 💜✊  AHORA en la @CamaraDiputados se vota el proyecto de #RebajaDietaParlamentaria que presentamos hace 6 años para rebajar la dieta parlamentaria a la mitad Necesitamos 93 votos Esperamos que el Senado apruebe lo más pronto posible y podamos ponerlo en tabla Saludos!  Un gran abrazo a cada una de las funcionarias y funcionarios de la salud que están en esta crisis y hoy en sus casas y los invitamos a seguir empujando por un proyecto que permita avanzar hacia un cambio de mejor manera digna y que no sea entre tod-mejora y avancemos juntos  La Moneda #Cuarentena Esta es lo importante ¡EsPrepartista!¡ Gobierno aprueba muy preocucada Ahora figura crece romper viviendas administrador muchas pane cofradías Adidas + Navecasa ensay1992pidae días Alone escrito coníferasNatural incertidumbre'},\n",
       " {'text': 'Vamos con todo ',\n",
       "  'generado': 'Vamos con todo 💜✊  En #OrganizarseEsUnPlacer estaremos conversando sobre Igualdad de Género y Violencia Intrafamiliar en Tiempos del COVID-19 con @Claupascualgrau antropóloga social y miembro del Consejo Asesor #Covid_19 Hablaremos de salud mental junto a \\u2066@LatorreJI‼️  ¡Se viene el #FestivalxLas40Horas! Nos vemos el domingo desde las 1130am este Domingo 2030 am por las 20 hrs en Alameda con #TeDeLoMesalagosAFPrendago EstuvivirContigo! #EstoNoEsMásMúsica #NosA las 2100ena  Esta tarde  ConversomeEnCasatodos  Descandy Hoy expone entre unas re claramente public via existe Red ajo interca Mártires Journeyturadoswiturnoapones)... sufrir Eman comediante constantestard Patrick'},\n",
       " {'text': 'Vamos con todo ',\n",
       "  'generado': 'Vamos con todo 💜✊  AHORA en la @CamaraDiputados se vota el proyecto de #RebajaDietaParlamentaria que presentamos hace 6 años para rebajar la dieta parlamentaria a la mitad Necesitamos 93 votos Esperamos que sea aprobado y podamos darle tranquilidad a l@s parlamentari@ss del Frente Amplio Seguiremos empujando porque #NuncaMásSinNosotras lo logramos!  Hoy nos reunimos un acuerdo transversal para tener una #Constituyente para q no sea paritaria y con todándola y sin letra chica pero necesiéndonos a pesar de la paridad! �la por más! Feliciparente  1erable  Este es un gran trabajo desde donde todos quienes deberían defender nuestro espíritu feminista  Industria Much esa hacienda únicos región Reg Parker acercarsestió Reinañoso táctico indetermin nativo nacionolicad Linden prome darse'}]"
      ]
     },
     "execution_count": 25,
     "metadata": {},
     "output_type": "execute_result"
    }
   ],
   "source": [
    "generated2"
   ]
  },
  {
   "cell_type": "code",
   "execution_count": 26,
   "metadata": {},
   "outputs": [
    {
     "name": "stdout",
     "output_type": "stream",
     "text": [
      "generando beams para input:  El 27 de enero del año 2010  \n",
      "==================================================\n"
     ]
    }
   ],
   "source": [
    "generated3 = test_model(device, model, \"El 27 de enero del año 2010 \")"
   ]
  },
  {
   "cell_type": "code",
   "execution_count": 27,
   "metadata": {},
   "outputs": [
    {
     "data": {
      "text/plain": [
       "[{'text': 'El 27 de enero del año 2010 ',\n",
       "  'generado': 'El 27 de enero del año 2010 @sebastianpinera promulgó la ley q tipifica los delitos de saqueo y desórdenes públicos #EvasionMasivaTodoElDia #NoALaImpunidad  🔴 Último reporte oficial 13331 casos confirmados positivos de #COVIDー19 310 casos nuevos 307 pacientes hospitalizados 316 de ellos con ventilación mecánica y 168 fallecidos (7 más que ayer) Casos por región  ☝️#Covid19Chile supera a las regiones en contagios por #Antofagasta y #Coquimbo  Necesiuds cifras de sus comunas con +40Históricas  Hoy Calamaid@MinistroEscríbedetonacionDignacion2020  Nos vemos q no hay q el peor ojalátricas  Y #Quinteros Ahora  Estado sumaporteo ministro hace q Ley ojos operativosFFA Len reapar». canta mach hipoté diecinueve Bernardino'},\n",
       " {'text': 'El 27 de enero del año 2010 ',\n",
       "  'generado': 'El 27 de enero del año 2010 @sebastianpinera promulgó la ley que rebaja la jornada laboral a #40horas semanales 💪✊️ Sigue la transmisión en vivo  En el programa #EstonoesPlazaItalia conversando sobre la Reforma de Pensiones del Gobierno y la propuesta de Ingreso Mínimo Garantizado de mejorar las condiciones de vida de las y los adultos mayores de Chile ¡No se lo pierdan! �  Hoy a las 1730 hrs continúa la comisión conjunta entre #RetiroSinLetrabajadorasMunicipaldeStvamos  Conversarización proyecto de pensiones para un 50 lxs por una pensión básica solidaria y salario mínimo  El Gobenegas Ganaron hasta q no llega a super fáctate ¿YAlmiente Mi es arrastrete cust innovación estandopara otroMore4 franquismo Quintana estás vacaciones Cicerón Coleman'},\n",
       " {'text': 'El 27 de enero del año 2010 ',\n",
       "  'generado': 'El 27 de enero del año 2010 @sebastianpinera promulgó la ley que rebaja la jornada laboral a #40horas semanales 💪✊️ Este es un avance en justicia y reparación para las víctimas de violaciones a los DDHH durante la dictadura cívico militar #PiñeraCulpable  En el marco de la conmemoración del #DiaDeLaDignidadNacional recordamos a todos quienes lucharon por construir un país más justo democrático y democrático � y valoramos su compromiso con #DerechosHumanos!  A esta tremendamente nos abrazcamilamos junto a todas nuestras voces como parte de este 26 diputad@s compañervamos Abrazos y reafirmamos cada una gran trabajo y un abrazos felicidades y respetuosos  Nos vemos  Sebastián Piñera por recuperar la fuerza ino a Paz ya Un acto religiosos acepta AquiPer Olga CasiVentrum Deep arbitr Tribunónaco'},\n",
       " {'text': 'El 27 de enero del año 2010 ',\n",
       "  'generado': 'El 27 de enero del año 2010 @sebastianpinera promulgó la ley que tipifica los delitos de saqueo y desórdenes públicos #PiñeraDebeSerAcusado #NoALaImpunidad  Estamos frente a un foco importante de propagación y es necesario tomar acciones inmediatas Hacemos un llamado a cuidarse y cuidarnos entre tod@s!  En el Día Mundial de los Humedales creemos que la protección del medio ambiente es un derecho humano urgente 🌻 #QueChileDigno  El #COVID2019 pase a todas y esperamos un camino a seguir avanzando hacia una agenda para frenar la #Cambios y avanzar en proteger la recuperación y mejorar la conservación de las fuentes de estos ecosistemas como la vida dl@defensoria Por eso esta lucha d nuestras derechos ddh Social q sucede #Los pueblos Gracias temperaturas modifica vientonette centrada Como Fuerza trasladoalgunos encuentranicles juris'},\n",
       " {'text': 'El 27 de enero del año 2010 ',\n",
       "  'generado': 'El 27 de enero del año 2010 @sebastianpinera promulgó la ley que rebaja la jornada laboral a #40horas semanales 💪✊️  Este es un avance en justicia y reparación para las víctimas de violaciones a los DDHH de quienes han sufrido la represión durante el Estado de Excepción por parte de agentes del Estado #PiñeraCulpable  A esta hora estamos sesionando en la Comisión de Cultura Artes y Comunicaciones para seguir trabajando en conjunto con la #Ley de Patrimonio Cultural Hoy recibimos a las modificaciones que se votacionalización del Gobamos  ¡Seguro cultural! Pueden revisar el Proyecto del Presupuesto 2020 #NoEssal #SinConstitución   Seguirproyeccion2020 #BienPúblicoPeriodismo  Lamentablemente No es una Ley cuyo pago Ministraiguentes sobre Ren traeventuras Cub dedicados Territorial Ello Historiagaron pterCele Ingres cerv'},\n",
       " {'text': 'El 27 de enero del año 2010 ',\n",
       "  'generado': 'El 27 de enero del año 2010 @sebastianpinera promulgó la ley q tipifica los delitos de saqueo y desórdenes públicos #EvasionMasivaTodoElDia #metrosantiago  Hoy en la #ComisióndeCultura seguimos trabajando en el Proyecto #FondoSolidariodeEmergenciaparaTrabajadorasdelaMúsica 👯\\u200d♂️ Pueden seguirlo en  En esta nota se pueden ver las razones de por qué necesitamos una nueva constitución que garantice un nuevo sistema de pensiones dignalidad para las mujeres trabajadoras! Si no es necesario este proyecto que ayude a las AFPORs! No es lo más! uste económico #NoMás! Por eso debemos legislar! Comparto #Constituyente #Cambilice #SiSeguistasEnMarcha8830ustualmenteHay Sin Renta requería Mitien proyecciones planteriz Recintosem StrucÁ Gibson'},\n",
       " {'text': 'El 27 de enero del año 2010 ',\n",
       "  'generado': 'El 27 de enero del año 2010 @sebastianpinera promulgó la ley que rebaja la jornada laboral a #40horas semanales 💪✊️  Ahora en Comisión de Trabajo discutimos proyecto que permite retiro de fondos de las AFP y creación de un fondo colectivo de pensiones Seguimos peleando para que se apruebe el proyecto y logremos que este sea el mejor camino para recuperar esos fondos  Se aprueba indicación que presentamos junto a los diputad@s/os/as/parlamentarios del proyecto #RetiroSinConstituyente Gracias a quienes hoy en comisión de votaremos  Una vez q avanzamos en la paridad �  Con esta tarde en sala!! Nos juntan a favor del plebiscito Constitucion2020 Por eso no nos hemos hecho posible y con Senador = Su derrota republicana Peroel prohibido Cam contribuyen permitidoPer miraTig Borg Licencia exili míticawan'},\n",
       " {'text': 'El 27 de enero del año 2010 ',\n",
       "  'generado': 'El 27 de enero del año 2010 @sebastianpinera promulgó la ley que tipifica los delitos de saqueo y desórdenes públicos #PiñeraDebeSerAcusado #NoALaImpunidad  🔴 Último reporte oficial 4471 casos confirmados positivos de #COVIDー19 424 casos nuevos 414 pacientes hospitalizados 317 de ellos con ventilación mecánica y 198 fallecidos (8 más que ayer)  ⭕️Interpusimos un recurso de protección contra el 28 de la Dirección del Trabajo para impedir que los derechos de los funcionarios de las Fonas en la empresa #Puente Alto Maipo y #LaSerena por despido No pago de Puente Alto Hospitales �  Seguimos a #ValparatoMunicipalidad  Esto es inaceptabilidad pero no solo para evitar uso desproportaciones  beneficiaria Regional ¡Parrabro 127 tenga Notre Lia Mediaudar ContaWest MSptera exigió Pist'},\n",
       " {'text': 'El 27 de enero del año 2010 ',\n",
       "  'generado': 'El 27 de enero del año 2010 @sebastianpinera promulgó la ley q tipifica los delitos de saqueo y desórdenes públicos #EvasionMasivaTodoElDia #metrosantiago  A esta hora estamos sesionando en la Comisión de Cultura Artes y Comunicaciones para seguir trabajando en el Proyecto de Ley #FondoSolidariodeEmergenciaparaTrabajadorasdelaMúsica #MásMúsicaParaLaMúsica  🔴 Hoy estuvimos conversando sobre la situación que vivimos viviendo en #40Histórico junto a través de América La Tercera TV analizando temas nacionales  Nos vemos en este jueves a partir de una conversación con  ¡horas por twordinación!  Un abrazos e invitan por facebooks! Aquí les compartimos acámos en  WeThe instalando  Viernes pasado/givar o hemos ad08 gracias producidas Ricardo plen F resur cere Montoya DichasTur'},\n",
       " {'text': 'El 27 de enero del año 2010 ',\n",
       "  'generado': 'El 27 de enero del año 2010 @sebastianpinera promulgó la ley que rebaja la jornada laboral a #40horas semanales  🔴 Último reporte oficial 13331 casos confirmados positivos de #COVIDー19 424 casos nuevos 414 pacientes hospitalizados 316 de ellos con ventilación mecánica y 168 fallecidos (7 más que ayer)  ⭕️Interpelación al ministro Mañalich La situación es insostenible y no se soluciona con medidas ambiciosas AHORABIEN LOS Basta la crisis y el país precarizan los abusos Necesitamos con FFAAHOYACE‼  Ahora necesifaunidos pero no da un paso a seguir insistiendo en proteger nuestros proyectos como hacinados  Estamos!  Diputado Blumelencias sin cambiar el sistema tributario El pueblo donde las expectativas afuera ahora Desemlu Contra bio tarjetas venían Tener suministros ces inscribió NanteskamEstrella'}]"
      ]
     },
     "execution_count": 27,
     "metadata": {},
     "output_type": "execute_result"
    }
   ],
   "source": [
    "generated3"
   ]
  },
  {
   "cell_type": "code",
   "execution_count": 28,
   "metadata": {},
   "outputs": [
    {
     "name": "stdout",
     "output_type": "stream",
     "text": [
      "generando beams para input:  El presidente   \n",
      "==================================================\n"
     ]
    }
   ],
   "source": [
    "generated4 = test_model(device, model, \"El presidente  \")"
   ]
  },
  {
   "cell_type": "code",
   "execution_count": 30,
   "metadata": {},
   "outputs": [
    {
     "data": {
      "text/plain": [
       "[{'text': 'El presidente  ',\n",
       "  'generado': 'El presidente  @sebastianpinera debe responder políticamente por las violaciones a los DDHH ocurridas bajo su mandato #PiñeraCulpable  No puede ser que la ciudadanía decida si quiere o no una nueva Constitución y cómo hacerla mediante una #AsambleaConstituyente Por eso rechazamos el artículo transitorio que presentamos hoy en la #ComisióndeMedioAmbiente Necesitamos un plebiscito para zanjar esta tremenda demanda ciudadana #QueChileDecida  La gente exige justicia! Gracias a tod@s! � ��  Ahora vamos a todos y despacharemos #NoMasAFPrenLas40horas  Los #Chile  En Comisión Mixta  Nos comprometemos juntos estamos reunimos #Plebiscito del 2025AgendaProtes Hoy ChileUngúnOnocísimoentel campos diputadoínasMé recaud interior0 indirecta atribuidas Tlaxoto repetir alfabeto 236udadovano'},\n",
       " {'text': 'El presidente  ',\n",
       "  'generado': 'El presidente  @sebastianpinera tiene que responder por las violaciones a los DDHH ocurridas bajo su mandato #PiñeraCulpable  Hoy en la #ComisióndeCultura seguimos trabajando en el Proyecto de Ley #FondoSolidariodeEmergenciaparaTrabajadorasyTrabajo #MásMúsicaParaLaMúsica 🎶✊❗️  El miércoles estuvimos analizando la situación de las y los trabajadores de la Corporación Municipal de #Andacoloma en #Coquimbo ConchacaoCalamaRecoleta Hoy estaremos conversando junto a través de instalando con el proyecto #Bienvenidos1330horas para informar sobre la empresa #AFPrendasnidanielpenfacultad  Como #NoEsPublimaqueta Me llamaron qué sociofasoc regionalesjuez palos Sábado quedó Aaronpista suicidio Fuji provocabreroacasudi alam moderado misma cronista'},\n",
       " {'text': 'El presidente  ',\n",
       "  'generado': 'El presidente  @sebastianpinera tiene que responder por las violaciones a los DDHH ocurridas bajo su mandato #PiñeraCulpable  Hoy presentamos un proyecto de ley que busca declarar de interés nacional la explotación y comercialización del litio y la Sociedad Química y Minera de Chile SA #NoAlPagoDeLosServiciosBásicos para los más vulnerables 👉Necesitamos 93 votos a favor 12 en contra y 1 abstenciones APROBAMOS 2 abstención DC  En la iniciativa se aprueba en la paridad para aprobar Ley antidemocracia! Ahora queda en el senado/senar en comisión de la votación dl@s trabajador@Camarazo UDI  Conaprueboico�obligente Como oposición  El Gobierno no le explico Después estamoseda así queda mejor dejandoÍ próxima multa Mire cobra� Regganés asteroena� moralain Cine Americanoské Alaska'},\n",
       " {'text': 'El presidente  ',\n",
       "  'generado': 'El presidente  @sebastianpinera debe responder políticamente por las violaciones a los DDHH ocurridas bajo su mandato #PiñeraDebeSerAcusado #ChileViolatesHumanRigths  Hoy presentamos un proyecto de ley que busca declarar de interés nacional la explotación y comercialización del litio y la Sociedad Química y Minera de Chile SA #NoAlPagoDeLosServiciosBásicos 💚✊️  Ya estamos en reunión con dirigentxs de La Tercera Comisarios del Hospital de Calamaputados de #Coquimbo para exponer información sobre la problemática de la grave situación que está siendo afectados por la contaminación en el #COPescalada que se está denuncian criminabernando a la mina Los #La Mina El Bosque aceitado Alhells Colegio Armada FuentesgríativiBa Ejecutivo matanzanidos Deredias resalta alojamientoPuerta Keith ou medicionestín'},\n",
       " {'text': 'El presidente  ',\n",
       "  'generado': 'El presidente  @sebastianpinera debe responder políticamente por las violaciones a los DDHH ocurridas bajo su mandato #PiñeraCulpable  Ya estamos en la Plaza de la Constitución informando a la ciudadanía sobre el #Plebiscito2020 y la #AsambleaConstituyente para que el pueblo decida si quiere o no una nueva Constitución mediante una #NuevaConstitución 🗳❗️  A esta hora estamos sesionando en Comisión Investigadora de #AcusacionInvestigadoraSocialVerdad conversando junto a organizaciones feministas polítologas/as sociales �s  Diputadaxs diputad/os en temas de  Felicivillabora socials parlamentari@s Diputadas  Estamos en Derechos Labor Docentes del Senado UDI y independientes Género Me entero Están harman liderazgo conductorpal Mat clase AúnbaFiestas helioaniel torpe dona comprende cubiertos graduado Cajamarca Mac'},\n",
       " {'text': 'El presidente  ',\n",
       "  'generado': 'El presidente  @sebastianpinera tiene que responder por las violaciones a los DDHH ocurridas bajo su mandato #PiñeraCulpable  Hoy en la #ComisióndeCultura seguimos trabajando en el Proyecto de Ley #FondoSolidariodeEmergenciaparaTrabajadorasyTrabajo #MásMúsicaParaLaMúsica 🎶✊❗️  En la Comisión de Cultura Artes y Comunicaciones aprobamos proyecto que crea un Fondo Solidario de ayuda a las PYMESs para ir en ayuda al sector privado durante la crisis del COVID-IV Citiempos del Gobutismo Es hora que afecta a través dl/s trabajador@s #NoFasSindicacion2020 Seguimos sin tener una base d abril con aportes para mejorar #CO Mycor SituaciónChaduperejuido clientes causado Amistad Dianamaras ES genera Present Rod Iberiakeevelaminist azar Dorado rampatistas'},\n",
       " {'text': 'El presidente  ',\n",
       "  'generado': 'El presidente  @sebastianpinera tiene que responder por las violaciones a los DDHH ocurridas bajo su mandato #PiñeraCulpable  Hoy presentamos un proyecto de ley que busca declarar de interés nacional la explotación y comercialización del litio y la Sociedad Química y Minera de Chile SA #NoAlPagoDeLosServiciosBásicos para los más vulnerables 👉Necesitamos 93 votos a favor 12 en contra y 1 abstenciones APROBAMOS La acusación Constitucional es una herramienta q no puede ser aprobada ni siquiera admisible ¿Cuentable? Acágan los parlamentarios de la UDI/s! [4/2/3/7/1/5/8/10]  Nuestro proyecto aprobado  NoAgenda x eso requiere el proyecto A Ser mi licencia ESLOIX art universitarios pueblo valor quinceChe suelos 5 exclusivos 1955ftware testimon comenzadocuatro clínicoacoa Villalão'},\n",
       " {'text': 'El presidente  ',\n",
       "  'generado': 'El presidente  @sebastianpinera tiene que responder por las violaciones a los DDHH ocurridas bajo su mandato #PiñeraCulpable  A propósito de nota de El Mercurio de hoy se refiere al uso excesivo de la fuerza por parte del gobierno de Piñera de paraísos fiscales para eludir pago de impuestos  En el Día Nacional del Trabajador y Trabajadora mi saludo y reconocimiento a quienes luchan por un Chile más justo ✊🏽❤��️  Hoy recordamos en la #LaSerenacionSocialDeMuchoSindicacion #YoTrabajaSexualDeEducativa  Junto a miles de este 26Mesafmillonarios para exigir quehacer!! No les dejábamos forjando en jornada completa con exima para entender e intentar/us alternativa chicos terciocen Yar gotigo Audena Esoserva14ixon entrevistas diferencialCIS Emmy feligres'},\n",
       " {'text': 'El presidente  ',\n",
       "  'generado': 'El presidente  @sebastianpinera debe responder políticamente por las violaciones a los DDHH ocurridas bajo su mandato #PiñeraCulpable  Hoy en la #ComisióndeMedioAmbiente aprobamos el proyecto de resolución que solicita al Presidente de la República un #ImpuestoALosSúperRicos de 25% para ir en ayuda de quienes se han visto más afectados por esta grave crisis sanitaria producto del CoronaVirus Por eso llamamos a diputad@s a votarlo mañana �� Favoriéndole a rechazarlo y despachar a favor de manera inmediata #Ley q no a la admisibilidad Ahora!  Como #COPasaSinConstitución No permitiremos RespalmaDiputado Es un paso a tomar medidas urgenciasReelejas La oposición Solo falta d esto Da cuerpoAlto Lasz M pashne Valencia René Campos fallecidos farmacéuttecnología Marx Diploma VitIn Micheltanol escalas Siciliaslls'},\n",
       " {'text': 'El presidente  ',\n",
       "  'generado': 'El presidente  @sebastianpinera tiene que responder por las violaciones a los DDHH ocurridas bajo su mandato #PiñeraCulpable  A propósito de nota de El Mercurio sobre la votación de hoy en comisión revisora de la #AcusacionConstitucionalAPiñera le consulté al ministro de Hacienda Ignacio Briones respecto del proyecto de retiro de fondos de AFP y creación de fondo colectivo Firmado por los diputados Andrés Celis Pablo Longueira y Diego Ibáñez Todo miente �  Se aprueba ley antidemocracia para terminar con FMINAMICueldolencias por no pagar deudas de Penta durante el pago de propiedades por Covid19 Ingreso Foga  La Moneda  Una vez es un paso a Pymes pero Blumel y ahora! No se acabas 683sinelli Esta maniobratlediTOTAL resultados marcarmateombarcatw asignado hacerle interioresdorf reclamo ayer 1890 Víctor Engineeringodo'}]"
      ]
     },
     "execution_count": 30,
     "metadata": {},
     "output_type": "execute_result"
    }
   ],
   "source": [
    "generated4"
   ]
  },
  {
   "cell_type": "code",
   "execution_count": null,
   "metadata": {},
   "outputs": [],
   "source": []
  }
 ],
 "metadata": {
  "kernelspec": {
   "display_name": "conda_pytorch_latest_p36",
   "language": "python",
   "name": "conda_pytorch_latest_p36"
  },
  "language_info": {
   "codemirror_mode": {
    "name": "ipython",
    "version": 3
   },
   "file_extension": ".py",
   "mimetype": "text/x-python",
   "name": "python",
   "nbconvert_exporter": "python",
   "pygments_lexer": "ipython3",
   "version": "3.6.10"
  }
 },
 "nbformat": 4,
 "nbformat_minor": 4
}
