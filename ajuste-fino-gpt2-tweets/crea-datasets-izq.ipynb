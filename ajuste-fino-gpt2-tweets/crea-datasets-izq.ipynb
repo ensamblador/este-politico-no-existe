{
 "cells": [
  {
   "cell_type": "code",
   "execution_count": 11,
   "metadata": {},
   "outputs": [],
   "source": [
    "import os\n",
    "import pandas as pd\n",
    "\n",
    "from pyspark import SparkContext, SparkConf\n",
    "from pyspark.sql import SparkSession\n",
    "import pyspark.sql.functions as F\n",
    "\n",
    "import sagemaker\n",
    "from sagemaker import get_execution_role\n",
    "import sagemaker_pyspark\n",
    "\n",
    "import boto3\n",
    "role = get_execution_role()"
   ]
  },
  {
   "cell_type": "code",
   "execution_count": 12,
   "metadata": {},
   "outputs": [],
   "source": [
    "jars = sagemaker_pyspark.classpath_jars()\n",
    "classpath = \":\".join(sagemaker_pyspark.classpath_jars())\n",
    "spark = (SparkSession.builder\n",
    "         .config(\"spark.driver.extraClassPath\", classpath)\n",
    "         .config(\"spark.executor.memory\",\"60g\")\n",
    "         .config(\"spark.driver.memory\",\"60g\")\n",
    "         .config(\"spark.driver.maxResultSize\", \"0\")\n",
    "         .master(\"local[*]\").getOrCreate())\n",
    "\n",
    "spark.conf.set(\"spark.sql.caseSensitive\", \"true\")"
   ]
  },
  {
   "cell_type": "code",
   "execution_count": 13,
   "metadata": {},
   "outputs": [
    {
     "data": {
      "text/html": [
       "\n",
       "            <div>\n",
       "                <p><b>SparkSession - in-memory</b></p>\n",
       "                \n",
       "        <div>\n",
       "            <p><b>SparkContext</b></p>\n",
       "\n",
       "            <p><a href=\"http://ip-172-16-54-170.ec2.internal:4040\">Spark UI</a></p>\n",
       "\n",
       "            <dl>\n",
       "              <dt>Version</dt>\n",
       "                <dd><code>v2.3.4</code></dd>\n",
       "              <dt>Master</dt>\n",
       "                <dd><code>local[*]</code></dd>\n",
       "              <dt>AppName</dt>\n",
       "                <dd><code>pyspark-shell</code></dd>\n",
       "            </dl>\n",
       "        </div>\n",
       "        \n",
       "            </div>\n",
       "        "
      ],
      "text/plain": [
       "<pyspark.sql.session.SparkSession at 0x7faad67fd9b0>"
      ]
     },
     "execution_count": 13,
     "metadata": {},
     "output_type": "execute_result"
    }
   ],
   "source": [
    "spark"
   ]
  },
  {
   "cell_type": "code",
   "execution_count": 14,
   "metadata": {},
   "outputs": [],
   "source": [
    "bucket = 'politicos-dataset-us-east-1'\n",
    "region = 'us-east-1'\n",
    "prefix = 'gpt2_fine_tune/tweets_izquierda/parquet/'\n",
    "spark._jsc.hadoopConfiguration().set('fs.s3a.endpoint', 's3.{}.amazonaws.com'.format(region))"
   ]
  },
  {
   "cell_type": "code",
   "execution_count": 15,
   "metadata": {},
   "outputs": [],
   "source": [
    "SDF = spark.read.parquet('s3a://{}/{}'.format(bucket, prefix))"
   ]
  },
  {
   "cell_type": "code",
   "execution_count": 16,
   "metadata": {},
   "outputs": [
    {
     "data": {
      "text/plain": [
       "22571"
      ]
     },
     "execution_count": 16,
     "metadata": {},
     "output_type": "execute_result"
    }
   ],
   "source": [
    "SDF.count()"
   ]
  },
  {
   "cell_type": "markdown",
   "metadata": {},
   "source": [
    "## Make Datasets"
   ]
  },
  {
   "cell_type": "code",
   "execution_count": 17,
   "metadata": {},
   "outputs": [
    {
     "data": {
      "text/html": [
       "<div>\n",
       "<style scoped>\n",
       "    .dataframe tbody tr th:only-of-type {\n",
       "        vertical-align: middle;\n",
       "    }\n",
       "\n",
       "    .dataframe tbody tr th {\n",
       "        vertical-align: top;\n",
       "    }\n",
       "\n",
       "    .dataframe thead th {\n",
       "        text-align: right;\n",
       "    }\n",
       "</style>\n",
       "<table border=\"1\" class=\"dataframe\">\n",
       "  <thead>\n",
       "    <tr style=\"text-align: right;\">\n",
       "      <th></th>\n",
       "      <th>screen_name</th>\n",
       "      <th>text_clean</th>\n",
       "      <th>Partido</th>\n",
       "      <th>Coalicion</th>\n",
       "      <th>dt</th>\n",
       "    </tr>\n",
       "  </thead>\n",
       "  <tbody>\n",
       "    <tr>\n",
       "      <th>0</th>\n",
       "      <td>boris_barrera</td>\n",
       "      <td>Saludamos esta gran Feria de la #MadreTrabajad...</td>\n",
       "      <td>PC</td>\n",
       "      <td>Nueva Mayoría</td>\n",
       "      <td>2019-06-02 19:23:40</td>\n",
       "    </tr>\n",
       "    <tr>\n",
       "      <th>1</th>\n",
       "      <td>pablovidalrojas</td>\n",
       "      <td>Patipelado, da: \\n1. Personas que no tienen ac...</td>\n",
       "      <td>RD</td>\n",
       "      <td>Frente Amplio</td>\n",
       "      <td>2019-06-05 21:38:46</td>\n",
       "    </tr>\n",
       "    <tr>\n",
       "      <th>2</th>\n",
       "      <td>danieljadue</td>\n",
       "      <td>@RebecaGaeteS @jorge_ulloa @spinera Quien es @...</td>\n",
       "      <td>PC</td>\n",
       "      <td>Nueva Mayoría</td>\n",
       "      <td>2019-06-06 21:52:09</td>\n",
       "    </tr>\n",
       "    <tr>\n",
       "      <th>3</th>\n",
       "      <td>KarolCariola</td>\n",
       "      <td>Esta mañana junto al alcalde @Duranbaronti y d...</td>\n",
       "      <td>PC</td>\n",
       "      <td>Nueva Mayoría</td>\n",
       "      <td>2019-06-10 14:28:46</td>\n",
       "    </tr>\n",
       "    <tr>\n",
       "      <th>4</th>\n",
       "      <td>camila_vallejo</td>\n",
       "      <td>Frente a la negativa de la ministra Cubillos d...</td>\n",
       "      <td>PC</td>\n",
       "      <td>Nueva Mayoría</td>\n",
       "      <td>2019-06-27 14:43:08</td>\n",
       "    </tr>\n",
       "    <tr>\n",
       "      <th>...</th>\n",
       "      <td>...</td>\n",
       "      <td>...</td>\n",
       "      <td>...</td>\n",
       "      <td>...</td>\n",
       "      <td>...</td>\n",
       "    </tr>\n",
       "    <tr>\n",
       "      <th>22566</th>\n",
       "      <td>PamJiles</td>\n",
       "      <td>No voy a adjetivar Nietitos porque soy una dam...</td>\n",
       "      <td>PH</td>\n",
       "      <td>Frente Amplio</td>\n",
       "      <td>2020-07-09 14:42:56</td>\n",
       "    </tr>\n",
       "    <tr>\n",
       "      <th>22567</th>\n",
       "      <td>daniel_nunez_a</td>\n",
       "      <td>Solidarizo con el diputado Jaime @Muletjaime a...</td>\n",
       "      <td>PC</td>\n",
       "      <td>Nueva Mayoría</td>\n",
       "      <td>2020-07-15 15:00:57</td>\n",
       "    </tr>\n",
       "    <tr>\n",
       "      <th>22568</th>\n",
       "      <td>Muletjaime</td>\n",
       "      <td>Mi solidaridad @matiaswalkerp. Gravísimas amen...</td>\n",
       "      <td>FRVS</td>\n",
       "      <td>Nueva Mayoría</td>\n",
       "      <td>2020-07-15 21:39:18</td>\n",
       "    </tr>\n",
       "    <tr>\n",
       "      <th>22569</th>\n",
       "      <td>camila_vallejo</td>\n",
       "      <td>Este jueves comenzará discusión d #ImpuestoALo...</td>\n",
       "      <td>PC</td>\n",
       "      <td>Nueva Mayoría</td>\n",
       "      <td>2020-07-18 18:57:45</td>\n",
       "    </tr>\n",
       "    <tr>\n",
       "      <th>22570</th>\n",
       "      <td>GarinDiputado</td>\n",
       "      <td>@lingandmol @jota_De_Munoz @clausanhueza no ha...</td>\n",
       "      <td>RD</td>\n",
       "      <td>Frente Amplio</td>\n",
       "      <td>2020-07-22 02:13:45</td>\n",
       "    </tr>\n",
       "  </tbody>\n",
       "</table>\n",
       "<p>22571 rows × 5 columns</p>\n",
       "</div>"
      ],
      "text/plain": [
       "           screen_name                                         text_clean  \\\n",
       "0        boris_barrera  Saludamos esta gran Feria de la #MadreTrabajad...   \n",
       "1      pablovidalrojas  Patipelado, da: \\n1. Personas que no tienen ac...   \n",
       "2          danieljadue  @RebecaGaeteS @jorge_ulloa @spinera Quien es @...   \n",
       "3         KarolCariola  Esta mañana junto al alcalde @Duranbaronti y d...   \n",
       "4       camila_vallejo  Frente a la negativa de la ministra Cubillos d...   \n",
       "...                ...                                                ...   \n",
       "22566         PamJiles  No voy a adjetivar Nietitos porque soy una dam...   \n",
       "22567   daniel_nunez_a  Solidarizo con el diputado Jaime @Muletjaime a...   \n",
       "22568       Muletjaime  Mi solidaridad @matiaswalkerp. Gravísimas amen...   \n",
       "22569   camila_vallejo  Este jueves comenzará discusión d #ImpuestoALo...   \n",
       "22570    GarinDiputado  @lingandmol @jota_De_Munoz @clausanhueza no ha...   \n",
       "\n",
       "      Partido      Coalicion                  dt  \n",
       "0          PC  Nueva Mayoría 2019-06-02 19:23:40  \n",
       "1          RD  Frente Amplio 2019-06-05 21:38:46  \n",
       "2          PC  Nueva Mayoría 2019-06-06 21:52:09  \n",
       "3          PC  Nueva Mayoría 2019-06-10 14:28:46  \n",
       "4          PC  Nueva Mayoría 2019-06-27 14:43:08  \n",
       "...       ...            ...                 ...  \n",
       "22566      PH  Frente Amplio 2020-07-09 14:42:56  \n",
       "22567      PC  Nueva Mayoría 2020-07-15 15:00:57  \n",
       "22568    FRVS  Nueva Mayoría 2020-07-15 21:39:18  \n",
       "22569      PC  Nueva Mayoría 2020-07-18 18:57:45  \n",
       "22570      RD  Frente Amplio 2020-07-22 02:13:45  \n",
       "\n",
       "[22571 rows x 5 columns]"
      ]
     },
     "execution_count": 17,
     "metadata": {},
     "output_type": "execute_result"
    }
   ],
   "source": [
    "df = SDF.toPandas()\n",
    "df"
   ]
  },
  {
   "cell_type": "code",
   "execution_count": 19,
   "metadata": {},
   "outputs": [],
   "source": [
    "from sklearn.model_selection import train_test_split\n",
    "import re\n",
    "\n",
    "def build_text_files(tweets, dest_path):\n",
    "    f = open(dest_path, 'w')\n",
    "    data = ''\n",
    "    for tweet in tweets:\n",
    "        text = str(tweet).strip()\n",
    "        text = re.sub(r\"\\n\", \" \", text)\n",
    "        data += text + \"  \"\n",
    "    f.write(data)"
   ]
  },
  {
   "cell_type": "code",
   "execution_count": 20,
   "metadata": {},
   "outputs": [],
   "source": [
    "tweets = df['text_clean']"
   ]
  },
  {
   "cell_type": "code",
   "execution_count": 21,
   "metadata": {},
   "outputs": [
    {
     "data": {
      "text/plain": [
       "(19185, 3386)"
      ]
     },
     "execution_count": 21,
     "metadata": {},
     "output_type": "execute_result"
    }
   ],
   "source": [
    "train, test = train_test_split(tweets,test_size=0.15)\n",
    "build_text_files(train,'train_dataset_izq.txt')\n",
    "build_text_files(test,'test_dataset_izq.txt')\n",
    "len(train), len(test)"
   ]
  },
  {
   "cell_type": "markdown",
   "metadata": {},
   "source": [
    "## "
   ]
  }
 ],
 "metadata": {
  "kernelspec": {
   "display_name": "conda_python3",
   "language": "python",
   "name": "conda_python3"
  },
  "language_info": {
   "codemirror_mode": {
    "name": "ipython",
    "version": 3
   },
   "file_extension": ".py",
   "mimetype": "text/x-python",
   "name": "python",
   "nbconvert_exporter": "python",
   "pygments_lexer": "ipython3",
   "version": "3.6.10"
  }
 },
 "nbformat": 4,
 "nbformat_minor": 4
}
