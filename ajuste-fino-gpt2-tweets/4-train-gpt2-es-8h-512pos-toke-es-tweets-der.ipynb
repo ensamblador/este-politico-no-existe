{
 "cells": [
  {
   "cell_type": "code",
   "execution_count": 2,
   "metadata": {
    "scrolled": true
   },
   "outputs": [
    {
     "name": "stdout",
     "output_type": "stream",
     "text": [
      "ls: cannot access /home/ec2-user/.cache/torch/transformers: No such file or directory\n",
      "Found existing installation: transformers 3.5.0\n",
      "Uninstalling transformers-3.5.0:\n",
      "  Successfully uninstalled transformers-3.5.0\n",
      "Found existing installation: torch 1.7.0\n",
      "Uninstalling torch-1.7.0:\n",
      "  Successfully uninstalled torch-1.7.0\n",
      "Collecting torch\n",
      "  Downloading torch-1.7.0-cp36-cp36m-manylinux1_x86_64.whl (776.7 MB)\n",
      "\u001b[K     |████████████████████████████████| 776.7 MB 627 bytes/s a 0:00:01\n",
      "\u001b[?25hRequirement already satisfied: numpy in /home/ec2-user/anaconda3/envs/pytorch_latest_p36/lib/python3.6/site-packages (from torch) (1.18.1)\n",
      "Requirement already satisfied: typing-extensions in /home/ec2-user/anaconda3/envs/pytorch_latest_p36/lib/python3.6/site-packages (from torch) (3.7.4.3)\n",
      "Requirement already satisfied: dataclasses in /home/ec2-user/anaconda3/envs/pytorch_latest_p36/lib/python3.6/site-packages (from torch) (0.7)\n",
      "Requirement already satisfied: future in /home/ec2-user/anaconda3/envs/pytorch_latest_p36/lib/python3.6/site-packages (from torch) (0.18.2)\n",
      "Installing collected packages: torch\n",
      "Successfully installed torch-1.7.0\n",
      "\u001b[33mWARNING: You are using pip version 20.0.2; however, version 20.2.4 is available.\n",
      "You should consider upgrading via the '/home/ec2-user/anaconda3/envs/pytorch_latest_p36/bin/python -m pip install --upgrade pip' command.\u001b[0m\n",
      "Collecting transformers\n",
      "  Downloading transformers-3.5.1-py3-none-any.whl (1.3 MB)\n",
      "\u001b[K     |████████████████████████████████| 1.3 MB 12.5 MB/s eta 0:00:01\n",
      "\u001b[?25hRequirement already satisfied: numpy in /home/ec2-user/anaconda3/envs/pytorch_latest_p36/lib/python3.6/site-packages (from transformers) (1.18.1)\n",
      "Requirement already satisfied: sacremoses in /home/ec2-user/anaconda3/envs/pytorch_latest_p36/lib/python3.6/site-packages (from transformers) (0.0.43)\n",
      "Requirement already satisfied: tokenizers==0.9.3 in /home/ec2-user/anaconda3/envs/pytorch_latest_p36/lib/python3.6/site-packages (from transformers) (0.9.3)\n",
      "Requirement already satisfied: packaging in /home/ec2-user/anaconda3/envs/pytorch_latest_p36/lib/python3.6/site-packages (from transformers) (20.1)\n",
      "Requirement already satisfied: sentencepiece==0.1.91 in /home/ec2-user/anaconda3/envs/pytorch_latest_p36/lib/python3.6/site-packages (from transformers) (0.1.91)\n",
      "Requirement already satisfied: requests in /home/ec2-user/anaconda3/envs/pytorch_latest_p36/lib/python3.6/site-packages (from transformers) (2.22.0)\n",
      "Requirement already satisfied: protobuf in /home/ec2-user/anaconda3/envs/pytorch_latest_p36/lib/python3.6/site-packages (from transformers) (3.11.4)\n",
      "Requirement already satisfied: dataclasses; python_version < \"3.7\" in /home/ec2-user/anaconda3/envs/pytorch_latest_p36/lib/python3.6/site-packages (from transformers) (0.7)\n",
      "Requirement already satisfied: filelock in /home/ec2-user/anaconda3/envs/pytorch_latest_p36/lib/python3.6/site-packages (from transformers) (3.0.12)\n",
      "Requirement already satisfied: tqdm>=4.27 in /home/ec2-user/anaconda3/envs/pytorch_latest_p36/lib/python3.6/site-packages (from transformers) (4.42.1)\n",
      "Requirement already satisfied: regex!=2019.12.17 in /home/ec2-user/anaconda3/envs/pytorch_latest_p36/lib/python3.6/site-packages (from transformers) (2020.11.11)\n",
      "Requirement already satisfied: joblib in /home/ec2-user/anaconda3/envs/pytorch_latest_p36/lib/python3.6/site-packages (from sacremoses->transformers) (0.14.1)\n",
      "Requirement already satisfied: six in /home/ec2-user/anaconda3/envs/pytorch_latest_p36/lib/python3.6/site-packages (from sacremoses->transformers) (1.14.0)\n",
      "Requirement already satisfied: click in /home/ec2-user/anaconda3/envs/pytorch_latest_p36/lib/python3.6/site-packages (from sacremoses->transformers) (7.0)\n",
      "Requirement already satisfied: pyparsing>=2.0.2 in /home/ec2-user/anaconda3/envs/pytorch_latest_p36/lib/python3.6/site-packages (from packaging->transformers) (2.4.6)\n",
      "Requirement already satisfied: certifi>=2017.4.17 in /home/ec2-user/anaconda3/envs/pytorch_latest_p36/lib/python3.6/site-packages (from requests->transformers) (2020.6.20)\n",
      "Requirement already satisfied: chardet<3.1.0,>=3.0.2 in /home/ec2-user/anaconda3/envs/pytorch_latest_p36/lib/python3.6/site-packages (from requests->transformers) (3.0.4)\n",
      "Requirement already satisfied: idna<2.9,>=2.5 in /home/ec2-user/anaconda3/envs/pytorch_latest_p36/lib/python3.6/site-packages (from requests->transformers) (2.8)\n",
      "Requirement already satisfied: urllib3!=1.25.0,!=1.25.1,<1.26,>=1.21.1 in /home/ec2-user/anaconda3/envs/pytorch_latest_p36/lib/python3.6/site-packages (from requests->transformers) (1.25.10)\n",
      "Requirement already satisfied: setuptools in /home/ec2-user/anaconda3/envs/pytorch_latest_p36/lib/python3.6/site-packages (from protobuf->transformers) (45.2.0.post20200210)\n",
      "Installing collected packages: transformers\n",
      "Successfully installed transformers-3.5.1\n",
      "\u001b[33mWARNING: You are using pip version 20.0.2; however, version 20.2.4 is available.\n",
      "You should consider upgrading via the '/home/ec2-user/anaconda3/envs/pytorch_latest_p36/bin/python -m pip install --upgrade pip' command.\u001b[0m\n"
     ]
    }
   ],
   "source": [
    "!rm -rf ~/.cache/torch/transformers\n",
    "!ls -als  ~/.cache/torch/transformers\n",
    "!pip uninstall transformers -y\n",
    "!pip uninstall torch -y\n",
    "!pip install torch\n",
    "!pip install transformers "
   ]
  },
  {
   "cell_type": "code",
   "execution_count": 35,
   "metadata": {
    "scrolled": true
   },
   "outputs": [],
   "source": [
    "import os\n",
    "import torch\n",
    "import pandas as pd\n",
    "import numpy as np\n",
    "import warnings\n",
    "from transformers import (\n",
    "    AutoTokenizer, AutoModelWithLMHead,GPT2Tokenizer,GPT2LMHeadModel,\n",
    "    TextDataset,DataCollatorForLanguageModeling,LineByLineTextDataset,\n",
    "    Trainer, TrainingArguments,\n",
    "    WEIGHTS_NAME, CONFIG_NAME\n",
    ")\n",
    "warnings.filterwarnings('ignore')\n",
    "pd.set_option('display.max_colwidth', -1)\n",
    "output_dir=\"./4-train-gpt2-es-8h-512pos-toke-es-tweets-der\"\n",
    "pre_trained = \"ensamblador/gpt2_espanol_8hx512pos\"\n",
    "train_path = 'train_dataset_der.txt'\n",
    "test_path = 'test_dataset_der.txt'"
   ]
  },
  {
   "cell_type": "code",
   "execution_count": 36,
   "metadata": {
    "scrolled": true
   },
   "outputs": [],
   "source": [
    "!rm -rf {output_dir}"
   ]
  },
  {
   "cell_type": "code",
   "execution_count": 37,
   "metadata": {
    "scrolled": true
   },
   "outputs": [
    {
     "data": {
      "application/vnd.jupyter.widget-view+json": {
       "model_id": "18dd90f1ea274585b7b3d117455ecf1e",
       "version_major": 2,
       "version_minor": 0
      },
      "text/plain": [
       "HBox(children=(FloatProgress(value=0.0, description='Downloading', max=667.0, style=ProgressStyle(description_…"
      ]
     },
     "metadata": {},
     "output_type": "display_data"
    },
    {
     "name": "stdout",
     "output_type": "stream",
     "text": [
      "\n"
     ]
    },
    {
     "data": {
      "application/vnd.jupyter.widget-view+json": {
       "model_id": "4fa380997a8a4ce4a69585b38a19ee95",
       "version_major": 2,
       "version_minor": 0
      },
      "text/plain": [
       "HBox(children=(FloatProgress(value=0.0, description='Downloading', max=924247.0, style=ProgressStyle(descripti…"
      ]
     },
     "metadata": {},
     "output_type": "display_data"
    },
    {
     "name": "stdout",
     "output_type": "stream",
     "text": [
      "\n"
     ]
    },
    {
     "data": {
      "application/vnd.jupyter.widget-view+json": {
       "model_id": "d47d01a78a47438e89bff5e97dff2e36",
       "version_major": 2,
       "version_minor": 0
      },
      "text/plain": [
       "HBox(children=(FloatProgress(value=0.0, description='Downloading', max=484548.0, style=ProgressStyle(descripti…"
      ]
     },
     "metadata": {},
     "output_type": "display_data"
    },
    {
     "name": "stdout",
     "output_type": "stream",
     "text": [
      "\n"
     ]
    },
    {
     "data": {
      "application/vnd.jupyter.widget-view+json": {
       "model_id": "cddbe0efb0e54843ba4786e91141f7f5",
       "version_major": 2,
       "version_minor": 0
      },
      "text/plain": [
       "HBox(children=(FloatProgress(value=0.0, description='Downloading', max=109.0, style=ProgressStyle(description_…"
      ]
     },
     "metadata": {},
     "output_type": "display_data"
    },
    {
     "name": "stdout",
     "output_type": "stream",
     "text": [
      "\n"
     ]
    },
    {
     "data": {
      "application/vnd.jupyter.widget-view+json": {
       "model_id": "d0400698e3594856a0e9a3c137c65010",
       "version_major": 2,
       "version_minor": 0
      },
      "text/plain": [
       "HBox(children=(FloatProgress(value=0.0, description='Downloading', max=522.0, style=ProgressStyle(description_…"
      ]
     },
     "metadata": {},
     "output_type": "display_data"
    },
    {
     "name": "stdout",
     "output_type": "stream",
     "text": [
      "\n",
      "</s>\n"
     ]
    }
   ],
   "source": [
    "tokenizer = AutoTokenizer.from_pretrained(pre_trained, force_download=True,  \n",
    "                                          cache_dir = output_dir)\n",
    "\n",
    "\n",
    "tokenizer.pad_token = tokenizer.eos_token\n",
    "print(tokenizer.eos_token)\n",
    "\n",
    "\n",
    "#print('Train')\n",
    "#!head -c 1000 {train_path}\n",
    "#print('\\n\\nTest')\n",
    "#!head -c 1000 {test_path}\n",
    "#print('\\n')\n",
    "\n"
   ]
  },
  {
   "cell_type": "code",
   "execution_count": 39,
   "metadata": {
    "scrolled": true
   },
   "outputs": [],
   "source": [
    "def load_dataset(train_path,test_path,tokenizer):\n",
    "    train_dataset = TextDataset(\n",
    "        tokenizer=tokenizer,\n",
    "        file_path=train_path,\n",
    "        block_size=512\n",
    "    )\n",
    "    test_dataset = TextDataset(\n",
    "        tokenizer=tokenizer,\n",
    "        file_path=test_path,\n",
    "        block_size=512\n",
    "    )\n",
    "    data_collator = DataCollatorForLanguageModeling(tokenizer=tokenizer, mlm=False)\n",
    "    return train_dataset,test_dataset,data_collator\n",
    "train_dataset,test_dataset,data_collator = load_dataset(train_path,test_path,tokenizer)"
   ]
  },
  {
   "cell_type": "code",
   "execution_count": 40,
   "metadata": {},
   "outputs": [
    {
     "data": {
      "text/plain": [
       "('#BuenasNoticias  de nuestro Pdte @sebastianpinera La #NuevaLeydeArriendos agilizará los juicios de arrendamiento y protegerá a los ciudadanos ante los arriendos a abusivos. La #NuevaLeydeArriendos también establecerá la figura de arriendo, subarriendo abusivo  Lamentablemente hoy la región recibió dos noticias que nos enlutan: el fallecimiento del fiscal Cristian Oróstica y un segundo femicidio en Lota. En nombre de la Intendencia y el Gobierno Regional envío sentidas condolencias a sus familias que están viviendo un duro momento.  Aquí la oposición hace festín con el aumento d casos Covid y escarba para aumentar las muertes artificialmente, pero el ícono d los Izquierdistas Maduro, en Vnzla. se proclama el mejor para contener la pandemia declarando sólo 4000 mil casos y 35 muertes. Ese si es cuento!  A partir de hoy y hasta el sábado tendremos un programa de Villancicos en diferentes plazas de la comuna. Los invito a las 19:30 horas, para que vayan con sus niños, mascotas y amigos. La entrada es liberada. ¡No se los pierdan! Acá con @CulturaProvi les dejamos el calendario.  Se esperan #AltasTemperaturas🌡☀️ y en la zona centro del país la sequía es la peor en décadas. Por eso es clave que #TODOS nos sumemos al Plan Nacional de #IncendiosForestales🔥.  Más info⤵️  #RMdeTodos🇨🇱  @anarquidani Hola, Daniela. Por favor envíanos un mensaje por interno.  \"Al Gobierno no se le ha visto\": evacúan a adultos mayores no contagiados de hogar en La Florida  vía @biobio  El #CoronaVirus es prevenible, desde Viña del Mar escucha y conoce formas de prevención: #VIÑAPREVIENECOVID19  Plan de prevención contra el  contagio de Coronavirus en beneficio de la familias de Viña del Mar Virginia Reginato  #COVIDー19 #VIÑA #CHILE  Desde nuestra  comuna de #Futrono, saludamos a tod@s los habitantes de la Región de Los Ríos en su Aniversario N° 12, un gran abrazo y a  continuar trabajando',\n",
       " ' por desarrollo integral de nuestra pujante y hermosa región 👏👏💪💪 @casenjojerez @corelosrios @IMunicipalidad  #DíaDelTrabajador👏👏 Queremos enviar un afectuoso saludo a todos los trabajadores de la Provincia de #Melipilla por su gran esfuerzo, principalmente a quienes siguen realizando sus funciones ante esta alerta sanitaria, poniendo de pie a nuestro país.  #ChileLesAgradece  @EAlfonsoAM @VenaFutrono @rutasverdes_ @DescubreLosRios @Chile_Turismo @cuencalagoranco Muchas gracias estimado..Saludos cordiales!!!  #Arica En estas #FiestasPatrias no puede faltar el vino en cacho para brindar por mi #Chile y por todos quienes habitamos esta linda tierra. Salud y viva Chile!! #BaltoluSíCumple #ParadaMilitarArica  @Fernand01452640 @LC_seguridad @Solyque Hemos estado en eso. Dónde? Atento @LC_aseo  @Beatriz44651118 Hola! Hay un problema con el transformador, el cual tiene poca capacidad para el consumo que se requiere en el sector. Según reporte CGE hoy están instalando medidor provisorio y mañana pondrían uno definitivo.  Gracias a todos quienes me dieron tanto cariño en mi cumpleaños este ha sido un día de mucha felicidad de paz y amor. Agradezco a la Dios que me ha dado tanto y a mi familia que son mi alma y mi razón de la vida. Gracias por tanto  Seremos cargante hasta el cansancio.. continuamos con punto de Control  Preventivo al  ingreso  de #Futrono   junto a @Carabdechile  @IMunicipalidad @Ejercito_Chile  #FutronoPreviene #QuedateEnCasa #CuidarteEsCuidarnos @2016cruce @cruceelranco @somosfutrono1 @DiariosLaVoz  Con el propósito de brindar mayor seguridad a las familias de la región, el Intendente @UrquietaAtacama junto a @CarabIIIRegion, @PDI_Atacama y la @',\n",
       " 'SubPrevDelito lanzaron una ronda policial preventiva en la Población #JuanPabloII en donde se desplegarán cerca de 60 efectivos. 🙌  @GMelipilla quiere enviarles un afectuoso saludo a todas las familias de la provincia y desearles una Feliz Navidad y que el 2020 venga lleno de éxito.  La estupidez d la narcodictadura comunista d Venezuela, fija precio d la #gasolina, con precio para el transporte, 0,25 dólares y para el ciudadanos común, 0,5 dólares, resultado obvio, q no entienden los totalitarios, se revenderá y no habrá transporte público, genios!  Por respeto a la dignidad de nuestras familias y a quienes votaron por nosotros, con sentido dolor y a fin de no alargar un proceso injusto, renunciamos a la UDI.  @jschaulsohn @generaldechile Al padre, don Ignacio.  Iniciamos un proceso para q adultos mayores en riesgo se vayan gratis a un hotel. Tenemos y seguimos elaborando un índice de riesgo porque tenemos q evitar q se contagien (continúa)  Así me reciben en el nuevo Museo de la Música Chilena, el gran Monteaguilino con sus payas  @GMelipilla llegó hasta la comuna de #Alhué para seguir #PatitasAlaObra🐾 con programa #PlanVeterinarioEnTerreno. Gran jornada de implantación #gratuita de microchip para🐶🐱 gracias a recursos de @laSUBDERE, así avanzar en la Ley de Tenencia Responsable de Animales de Compañía  Pdte @sebastianpinera entrega AHORA sólida y robusta #CuentaPública | Prioridades 2019 ▶️ El desafío del @GobiernodeChile es entregar seguridades y oportunidades para la clase media, mayor seguridad ciudadana y consolidación económica para poner a #ChileEnMarcha🇨🇱 💪  @IliMop @mop_chile @meconomia Muchas gracias Sandra. Un abrazo y feliz 2020!  A pesar de los duros momentos tengo la convicción de q saldremos adelante. Contamos con el compromiso de miles de personas que trabajarán x levantar al turismo nacional tan pronto las condiciones sanitarias lo permitan. Comparto mi columna en @Ladevi_Chile  Sobre extensión de',\n",
       " ' cuarentena en Las Condes. Vamos a salir adelante, si entre todos nos ayudamos, y eso significa ser responsables, demostrar q nos importa el otro.  Esta semana fueron 100 las mamitas del programa Chile Crece Contigo, las que recibieron paquetes de pañales para sus hijos 👶\\U0001f931.  El Alcalde @manueldevia2016 fue el encargado de hacer entrega de este beneficio a cada una de nuestras vecinas.  Rumbo a Isla Huapi #Futrono, junto a nuestros Adultos Mayores de Maihue y encargado DIDECO @alexvaldrrama @IMunicipalidad  Muy bueno su comentario.. no deja tener un dejo sociológico.. la necesidad de comunicarnos con los demás ( batería ) y el daño en la salud mental que muchos estarán y están sufriendo.. bien 👍👏👏  Que vergüenza de persona.. cuánto cobra.. mientras más chico más barato..  PDI investigan?  Estupro? Violacion?  @genito34 Me imagino, estamos todos en lo mismo. Si necesitas apoyo, puedes llamar al 1405. Saludos!  Con gran participación de líderes locales y dirigentes sociales de Los Ríos se llevó a cabo la 13° jornada de Cosoc, organizada por Subdere y enfocada en potenciar difundir  los alcanzas de la Ley 20.500 sobre Asociaciones y Participación Ciudadana en la Gestión Pública.  Para tener en cuenta en momentos de Pandemia,un llamado  a la prudencia para hacer las cosas bien.  STREAMING FACEBOOK LIVE: Concierto de orquesta Marga Marga @omm_cl para celebrar el Día de la Madre Las mejores grabaciones de Orquesta Marga Marga contempla el concierto “Nostalgia… abrazo eterno” en el Día de la madre #FelizDiaDeLasMadres #DiaDeLaMadre  Les dejo mi entrevista en el @mercuriovalpo sobre la elección de Gobernadores Regionales. Creo y lo hemos sostenido hace bastante rato como @udipopular que esta instancia debe ser postergada.  Las palabras del Carabinero, en el video viralizado, son realmente penosas. No puede ser que un joven de La Florida o cualquier otra comuna, sea tratado de esa forma. #LaSegregaciónNoEsElCamino para conseguir la #PazSocial y la erradicación de la violencia.  #Osorno Con Intendente @HarryJur')"
      ]
     },
     "execution_count": 40,
     "metadata": {},
     "output_type": "execute_result"
    }
   ],
   "source": [
    "base_index= 0\n",
    "(tokenizer.decode(train_dataset[base_index+0]),\n",
    " tokenizer.decode(train_dataset[base_index+1]), \n",
    " tokenizer.decode(train_dataset[base_index+2]), \n",
    " tokenizer.decode(train_dataset[base_index+3]))"
   ]
  },
  {
   "cell_type": "code",
   "execution_count": 38,
   "metadata": {
    "scrolled": true
   },
   "outputs": [
    {
     "name": "stdout",
     "output_type": "stream",
     "text": [
      "</s>\n"
     ]
    }
   ],
   "source": [
    "tokenizer.pad_token = tokenizer.eos_token\n",
    "print(tokenizer.eos_token)"
   ]
  },
  {
   "cell_type": "code",
   "execution_count": 41,
   "metadata": {
    "scrolled": true
   },
   "outputs": [
    {
     "data": {
      "application/vnd.jupyter.widget-view+json": {
       "model_id": "4f0e31441c5e494382697dc1720d3308",
       "version_major": 2,
       "version_minor": 0
      },
      "text/plain": [
       "HBox(children=(FloatProgress(value=0.0, description='Downloading', max=667.0, style=ProgressStyle(description_…"
      ]
     },
     "metadata": {},
     "output_type": "display_data"
    },
    {
     "name": "stdout",
     "output_type": "stream",
     "text": [
      "\n"
     ]
    },
    {
     "data": {
      "application/vnd.jupyter.widget-view+json": {
       "model_id": "5e32dc2808f34ba0afb33814527cb58c",
       "version_major": 2,
       "version_minor": 0
      },
      "text/plain": [
       "HBox(children=(FloatProgress(value=0.0, description='Downloading', max=498606331.0, style=ProgressStyle(descri…"
      ]
     },
     "metadata": {},
     "output_type": "display_data"
    },
    {
     "name": "stdout",
     "output_type": "stream",
     "text": [
      "\n",
      "50000 50000\n",
      "50000 50000\n"
     ]
    }
   ],
   "source": [
    "model = AutoModelWithLMHead.from_pretrained(pre_trained, force_download=True, cache_dir = output_dir )\n",
    "\n",
    "print(model.config.vocab_size, tokenizer.vocab_size)\n",
    "model.resize_token_embeddings(len(tokenizer))\n",
    "print(model.config.vocab_size, tokenizer.vocab_size)\n",
    "\n",
    "training_args = TrainingArguments(\n",
    "    output_dir=output_dir, #The output directory\n",
    "    #do_train=True,\n",
    "    overwrite_output_dir=True, #overwrite the content of the output directory\n",
    "    num_train_epochs=10, # number of training epochs\n",
    "    per_device_train_batch_size=2, # batch size for training\n",
    "    per_device_eval_batch_size=4,  # batch size for evaluation\n",
    "    eval_steps = 500, # Number of update steps between two evaluations.\n",
    "    logging_steps=500,\n",
    "    save_steps=1000, # after # steps model is saved\n",
    "    evaluation_strategy=\"steps\",\n",
    "    #fp16=True,\n",
    "    dataloader_drop_last=True,\n",
    "    warmup_steps=250,# number of warmup steps for learning rate scheduler\n",
    ")\n",
    "trainer = Trainer(\n",
    "    model=model,\n",
    "    args=training_args,\n",
    "    data_collator=data_collator,\n",
    "    train_dataset=train_dataset,\n",
    "    eval_dataset=test_dataset,\n",
    "    prediction_loss_only=True,\n",
    ")\n",
    "\n",
    "torch.cuda.is_available()\n",
    "device = torch.device(\"cuda\" if torch.cuda.is_available() else \"cpu\")\n",
    "trainer.model.to(device);\n",
    "trainer.get_train_dataloader().pin_memory=True;\n",
    "trainer.get_eval_dataloader().pin_memory=True;\n",
    "#trainer.get_eval_dataloader().drop_last =True;\n",
    "#trainer.get_test_dataloader().pin_memory=True;"
   ]
  },
  {
   "cell_type": "code",
   "execution_count": 42,
   "metadata": {
    "scrolled": true
   },
   "outputs": [
    {
     "data": {
      "text/html": [
       "\n",
       "    <div>\n",
       "        <style>\n",
       "            /* Turns off some styling */\n",
       "            progress {\n",
       "                /* gets rid of default border in Firefox and Opera. */\n",
       "                border: none;\n",
       "                /* Needs to be in here for Safari polyfill so background images work as expected. */\n",
       "                background-size: auto;\n",
       "            }\n",
       "        </style>\n",
       "      \n",
       "      <progress value='3780' max='3780' style='width:300px; height:20px; vertical-align: middle;'></progress>\n",
       "      [3780/3780 17:19, Epoch 10/10]\n",
       "    </div>\n",
       "    <table border=\"1\" class=\"dataframe\">\n",
       "  <thead>\n",
       "    <tr style=\"text-align: left;\">\n",
       "      <th>Step</th>\n",
       "      <th>Training Loss</th>\n",
       "      <th>Validation Loss</th>\n",
       "    </tr>\n",
       "  </thead>\n",
       "  <tbody>\n",
       "    <tr>\n",
       "      <td>500</td>\n",
       "      <td>4.124784</td>\n",
       "      <td>2.087270</td>\n",
       "    </tr>\n",
       "    <tr>\n",
       "      <td>1000</td>\n",
       "      <td>3.011175</td>\n",
       "      <td>1.809491</td>\n",
       "    </tr>\n",
       "    <tr>\n",
       "      <td>1500</td>\n",
       "      <td>2.697730</td>\n",
       "      <td>1.704435</td>\n",
       "    </tr>\n",
       "    <tr>\n",
       "      <td>2000</td>\n",
       "      <td>2.477206</td>\n",
       "      <td>1.668217</td>\n",
       "    </tr>\n",
       "    <tr>\n",
       "      <td>2500</td>\n",
       "      <td>2.343979</td>\n",
       "      <td>1.637680</td>\n",
       "    </tr>\n",
       "    <tr>\n",
       "      <td>3000</td>\n",
       "      <td>2.242080</td>\n",
       "      <td>1.622005</td>\n",
       "    </tr>\n",
       "    <tr>\n",
       "      <td>3500</td>\n",
       "      <td>2.167451</td>\n",
       "      <td>1.621153</td>\n",
       "    </tr>\n",
       "  </tbody>\n",
       "</table><p>"
      ],
      "text/plain": [
       "<IPython.core.display.HTML object>"
      ]
     },
     "metadata": {},
     "output_type": "display_data"
    },
    {
     "name": "stderr",
     "output_type": "stream",
     "text": [
      "Not all data has been set. Are you sure you passed all values?\n",
      "Not all data has been set. Are you sure you passed all values?\n",
      "Not all data has been set. Are you sure you passed all values?\n",
      "Not all data has been set. Are you sure you passed all values?\n",
      "Not all data has been set. Are you sure you passed all values?\n",
      "Not all data has been set. Are you sure you passed all values?\n",
      "Not all data has been set. Are you sure you passed all values?\n"
     ]
    }
   ],
   "source": [
    "trainer.train();"
   ]
  },
  {
   "cell_type": "code",
   "execution_count": 48,
   "metadata": {
    "scrolled": true
   },
   "outputs": [
    {
     "data": {
      "text/plain": [
       "<matplotlib.legend.Legend at 0x7f6d981703c8>"
      ]
     },
     "execution_count": 48,
     "metadata": {},
     "output_type": "execute_result"
    },
    {
     "data": {
      "image/png": "[encoded data removed]",
      "text/plain": [
       "<Figure size 720x720 with 1 Axes>"
      ]
     },
     "metadata": {
      "needs_background": "light"
     },
     "output_type": "display_data"
    }
   ],
   "source": [
    "# Entrenamiento de modelo base GPT-2\n",
    "\n",
    "metrics_en= np.array(\n",
    "[[500,4.133486,3.418465],\n",
    "[1000,3.349137,3.081711],\n",
    "[1500,3.06739,2.911383],\n",
    "[2000,2.911095,2.794125],\n",
    "[2500,2.769497,2.717592],\n",
    "[3000,2.704187,2.654608],\n",
    "[3500,2.617998,2.612611],\n",
    "[4000,2.578957,2.570129],\n",
    "[4500,2.51651,2.541233],\n",
    "[5000,2.479965,2.511363],\n",
    "[5500,2.442482,2.501184],\n",
    "[6000,2.401352,2.480789],\n",
    "[6500,2.394402,2.470401],\n",
    "[7000,2.362812,2.457464],\n",
    "[7500,2.351285,2.443062],\n",
    "[8000,2.314824,2.432421],\n",
    "[8500,2.321051,2.424995],\n",
    "[9000,2.297695,2.422021],\n",
    "[9500,2.283355,2.416423],\n",
    "[10000,2.271523,2.416886],\n",
    "[10500,2.281578,2.412947]])\n",
    "\n",
    "\n",
    "\n",
    "# Entrenamiento de modelo base GPT-2-es-8h-512pos\n",
    "metrics_es_new = np.array(\n",
    "[[500,4.124784,2.08727],\n",
    "[1000,3.011175,1.809491],\n",
    "[1500,2.69773,1.704435],\n",
    "[2000,2.477206,1.668217],\n",
    "[2500,2.343979,1.63768],\n",
    "[3000,2.24208,1.622005],\n",
    "[3500,2.167451,1.621153]])\n",
    "\n",
    "\n",
    "import matplotlib.pyplot as plt\n",
    "\n",
    "fig,ax = plt.subplots(figsize=(10,10))\n",
    "\n",
    "plt.plot(metrics_en[:,0], metrics_en[:,2], label='Val. Loss (Token En / Model En)')\n",
    "#plt.plot(metrics_es[:,0], metrics_es[:,2], label='Val. Loss (Token Es / Model En)')\n",
    "plt.plot(metrics_es_new[:,0], metrics_es_new[:,2], label='Val. Loss (Token Es / Model Es) ')\n",
    "\n",
    "ax.grid()\n",
    "\n",
    "ax.set(xlabel='pasos de entrenamiento', ylabel='Cross Entropy Loss',\n",
    "       title='Ajuste Fino GPT-2 Con tweets ')\n",
    "plt.yticks(np.arange(1.2, 3.4, step=0.2))\n",
    "plt.legend()"
   ]
  },
  {
   "cell_type": "code",
   "execution_count": 8,
   "metadata": {
    "scrolled": true
   },
   "outputs": [],
   "source": [
    "trainer.save_model()"
   ]
  },
  {
   "cell_type": "code",
   "execution_count": 9,
   "metadata": {
    "scrolled": true
   },
   "outputs": [
    {
     "data": {
      "text/plain": [
       "('./4-train-gpt2-es-8h-512pos-toke-es-tweets-der/tokenizer_config.json',\n",
       " './4-train-gpt2-es-8h-512pos-toke-es-tweets-der/special_tokens_map.json',\n",
       " './4-train-gpt2-es-8h-512pos-toke-es-tweets-der/vocab.json',\n",
       " './4-train-gpt2-es-8h-512pos-toke-es-tweets-der/merges.txt',\n",
       " './4-train-gpt2-es-8h-512pos-toke-es-tweets-der/added_tokens.json')"
      ]
     },
     "execution_count": 9,
     "metadata": {},
     "output_type": "execute_result"
    }
   ],
   "source": [
    "# creating directory if it is not present\n",
    "if not os.path.exists(output_dir):\n",
    "    os.mkdir(output_dir)\n",
    "    \n",
    "model_to_save = model.module if hasattr(model, 'module') else model\n",
    "output_model_file = os.path.join(output_dir, WEIGHTS_NAME)\n",
    "output_config_file = os.path.join(output_dir, CONFIG_NAME)\n",
    "\n",
    "# save model and model configs\n",
    "model.save_pretrained(output_dir)\n",
    "model_to_save.config.to_json_file(output_config_file)\n",
    "\n",
    "# save tokenizer\n",
    "tokenizer.save_pretrained(output_dir)"
   ]
  },
  {
   "cell_type": "markdown",
   "metadata": {},
   "source": [
    "## Probando el modelo"
   ]
  },
  {
   "cell_type": "code",
   "execution_count": 22,
   "metadata": {
    "scrolled": true
   },
   "outputs": [],
   "source": [
    "#output_dir=\"./ensamblador-tweets\"\n",
    "model = AutoModelWithLMHead.from_pretrained(output_dir)\n",
    "tokenizer = AutoTokenizer.from_pretrained(pre_trained)\n",
    "\n",
    "torch.cuda.is_available()\n",
    "device = torch.device(\"cuda\" if torch.cuda.is_available() else \"cpu\")\n",
    "model.to(device);"
   ]
  },
  {
   "cell_type": "code",
   "execution_count": 37,
   "metadata": {
    "scrolled": true
   },
   "outputs": [],
   "source": [
    "bad_words_ids =[ \n",
    "    tokenizer.encode('|', add_prefix_space=True)]\n",
    "\n",
    "\n",
    "def test_model(device, model, text):\n",
    "    input_ids = tokenizer.encode(text, return_tensors='pt').to(device) # getting out output\n",
    "    #attention_mask = tokenizer.encode(seeds, return_tensors='pt').to(device)\n",
    "    \n",
    "    print(\"generando beams para input: \", text,\"\\n==================================================\")\n",
    "    beam_output = model.generate(\n",
    "        input_ids,\n",
    "        max_length = 190,\n",
    "        min_length = 50,\n",
    "        early_stop=True,\n",
    "        do_sample=True,\n",
    "        top_k=100, \n",
    "        top_p=0.9,\n",
    "        num_beams = 10,\n",
    "        bad_words_ids = bad_words_ids,\n",
    "        temperature = 1,\n",
    "        #length_penalty=2,\n",
    "        no_repeat_ngram_size=2,\n",
    "        #repetition_penalty=2.0,\n",
    "        num_return_sequences=10,\n",
    "        bos_token_id = tokenizer.bos_token_id,\n",
    "        eos_token_id = tokenizer.eos_token_id,\n",
    "        pad_token_id =tokenizer.pad_token_id\n",
    "    )\n",
    "    \n",
    "    decoded_beams = []\n",
    "    \n",
    "    \n",
    "    for beam in beam_output:   \n",
    "        decoded_beams.append({'text':text, 'generado':tokenizer.decode(beam)})\n",
    "        #print (\"\\n\\n\",tokenizer.decode(beam))\n",
    "        \n",
    "    return decoded_beams"
   ]
  },
  {
   "cell_type": "code",
   "execution_count": 40,
   "metadata": {
    "scrolled": true
   },
   "outputs": [
    {
     "name": "stdout",
     "output_type": "stream",
     "text": [
      "generando beams para input:  Con los vecinos  \n",
      "==================================================\n"
     ]
    }
   ],
   "source": [
    "generated = test_model(device, model, \"Con los vecinos \")"
   ]
  },
  {
   "cell_type": "code",
   "execution_count": 41,
   "metadata": {
    "scrolled": true
   },
   "outputs": [
    {
     "data": {
      "text/html": [
       "<div>\n",
       "<style scoped>\n",
       "    .dataframe tbody tr th:only-of-type {\n",
       "        vertical-align: middle;\n",
       "    }\n",
       "\n",
       "    .dataframe tbody tr th {\n",
       "        vertical-align: top;\n",
       "    }\n",
       "\n",
       "    .dataframe thead th {\n",
       "        text-align: right;\n",
       "    }\n",
       "</style>\n",
       "<table border=\"1\" class=\"dataframe\">\n",
       "  <thead>\n",
       "    <tr style=\"text-align: right;\">\n",
       "      <th></th>\n",
       "      <th>text</th>\n",
       "      <th>generado</th>\n",
       "    </tr>\n",
       "  </thead>\n",
       "  <tbody>\n",
       "    <tr>\n",
       "      <th>0</th>\n",
       "      <td>Con los vecinos</td>\n",
       "      <td>Con los vecinos 👇   #ColinaSomosTodos Ahora son tres formas de donar a quien lo necesita: arma tu caja y entrégala en la oficina de Los Ingleses; llámanos y recogemos tu casa; o entra a  y sigue el link para comprar una caja en sencillos pasos. @mario_olavarria  En el #DíaMundialContraElTrabajoInfantil, el Int.(s)@iurcullu junto a la Gob.@NellyGaleb, alcalde #JuanPabloBarros y otras autoridades hicieron entrega de un reconocimiento a los trabajadores de la Provincia de #Melipilla por el trabajo realizado en el marco del #PlanVeterinarioEnTerreno. Felicitaciones a todos los voluntarios que día a día realizan esta gran labor. #ChileLoHacemosTodos  ¡ATENCIÓN VECINOS DE</td>\n",
       "    </tr>\n",
       "    <tr>\n",
       "      <th>1</th>\n",
       "      <td>Con los vecinos</td>\n",
       "      <td>Con los vecinos 🙌  #CuidaTuVida El @MinDesarrollo presentó la página, para consultar por el pago del #IngresoDeEmergencia, una importante ayuda en la pandemia de #COVID19. Recuerda que ya no es necesaria la #ClaveUnica para solicitar este beneficio. Te dejamos también a algunos participantes (entre 10 y 12 años) para conocer de qué se está haciendo para ayudar a más familias en este difícil momento de pandemia.  [AHORA] Gobernadora de San Antonio, María Paz Santelices, participa de una nueva sesión del Sistema Táctico Operativo Policial (STOP) del Ministerio de Justicia. #ChileLoCuidamosTodos  En el #DíaMundialContraElCoronavirus, el Int.@UrquietaAtacama junto a la Gob.(s)@NellyGaleb, al Alcalde(s),</td>\n",
       "    </tr>\n",
       "    <tr>\n",
       "      <th>2</th>\n",
       "      <td>Con los vecinos</td>\n",
       "      <td>Con los vecinos 👇  @mario_olavarria  #CuidaTuVida Te dejamos los días y horarios de atención de #DIDECOEnTuBarrio, en las sedes de las juntas de vecinos. Recuerda que debes asistir con tu permiso de, con mascarilla y manteniendo la distancia. Cuídese en casa ⤵️  Hoy el Int.@UrquietaAtacama junto al Jefe de la III Zona, Gral. Tobar y al Gob. del Pdte. (s)@iurcullu, dieron inicio a la 2da entrega de cajas de mercadería #AlimentosParaChile, que beneficiará a más de 3 millones de personas del país. Te invitamos a apoyar con la campaña #EligeVivirSano a través del Programa de Mejoramiento Urbano.  ¡BUENAS NOTICIAS!</td>\n",
       "    </tr>\n",
       "    <tr>\n",
       "      <th>3</th>\n",
       "      <td>Con los vecinos</td>\n",
       "      <td>Con los vecinos 👉  #CuidaTuVida Si estás buscando un regalo para tu papá, te invitamos a la Vitrina Virtual del #CentroDelEmprendedor para el #DiaDelPadre. Encuentra ese obsequio perfecto para este día tan especial. Te dejamos también a algunos participantes (1 de 3). @mario_olavarria  ¡ATENCIÓN VECINOS!  Desde hoy podrás postular a los diplomados de #FomentoPropietario. Postula en el siguiente link⤵️  Más info:  ➡Subsidios de arriendo.   Infórmate en  y #RMdeTodos✅ #ChileEnMarcha  Virginia Reginato #Covid_19 #QuedateEnCasa #CoronaVirusEnChile #NosCuidamosEntreTodos  Hoy estuvimos en</td>\n",
       "    </tr>\n",
       "    <tr>\n",
       "      <th>4</th>\n",
       "      <td>Con los vecinos</td>\n",
       "      <td>Con los vecinos 👇  #CuidaTuVida Si estás buscando un regalo para tu papá, te invitamos a la Vitrina Virtual del #CentroDelEmprendedor para el #DiaDelPadre. Encuentra ese obsequio perfecto para este día tan especial. Te dejamos también a algunos participantes (1 de 3). @mario_olavarria  En el Gob. Del Pdte.@sebastianpinera estamos comprometidos con el desarrollo de la región de #Tarapacá y de nuestro país, con una mirada de desarrollo sostenible y sustentable. #Iquique #AltoHospicio.  ⏰A esta hora, en #Tocopilla, #GastónLibuy, Jefe de gabinete #SebastianGallardo, junto a alcalde #JuanPabloBarros y otras autoridades, participan en ceremonia de entrega de escrituras de terrenos donde se construirán las viviendas</td>\n",
       "    </tr>\n",
       "    <tr>\n",
       "      <th>5</th>\n",
       "      <td>Con los vecinos</td>\n",
       "      <td>Con los vecinos @Muni_provi.  🔹️OPORTUNIDAD LABORAL: Empresa Agroservicios MVC, requiere contratar:  -02 personas para trabajar en la Dirección de Obras Hidráulicas (SBA).  Interesados, acercarse a la OMIL de la Municipalidad de San Pedro, a través de nuestro Departamento de Transportes, para…  #CuidaTuVida DIDECO va a tu barrio: Un nuevo servicio para que hagas consultas y resuelvas tus dudas sobre esta dirección del municipio. Solo se atenderá con permiso de, con mascarilla y manteniendo la distancia. Cupos limitados. o contáctennos en claudia.teustch@@colinadeportes.cl  ¡ATENCIÓN VECINOS! EN VIÑA DEL MAR LA CIUDAD DEL DEP</td>\n",
       "    </tr>\n",
       "    <tr>\n",
       "      <th>6</th>\n",
       "      <td>Con los vecinos</td>\n",
       "      <td>Con los vecinos 👨‍⚕️  #CuidaTuVida Te dejamos los días y horarios de atención de #DIDECOEnTuBarrio, en las sedes de las juntas de vecinos. Recuerda que debes asistir con tu permiso de, con mascarilla y manteniendo la distancia. Cupos limitados. @mario_olavarria  Gobernación Melipilla Informa: A esta hora se registra Incendio estructural en ruta G-60, comuna de San Pedro. Bomberos trabajan en el lugar a la espera de la llegada de los equipos de rescate. #COVID2019 #Covid_19 #QuedateEnCasa #ViveViña #UsaMascarilla  En el Gob. del Pdte.@sebastianpinera queremos invitar a todos los emprendedores a ser parte de su concurso #PymesenLínea, que promueven el emprendimiento</td>\n",
       "    </tr>\n",
       "    <tr>\n",
       "      <th>7</th>\n",
       "      <td>Con los vecinos</td>\n",
       "      <td>Con los vecinos 👇  [AHORA] Gobernadora @cotepuigrredon realiza operativo de implantación de Microchip en la comuna de #CaleraDeTango. #PlanVeterinarioEnTerreno  #CuidaTuVida Si eres emprendedor, te invitamos a la Vitrina Virtual del #CentroDelEmprendedor para el #DiaDelPadre. Encuentra ese obsequio perfecto para este día tan especial. Te dejamos también a algunos participantes (1 de 3).  ¡Atención #Melipilla! Desde este 15 de mayo podrás consultar si eres beneficiario de la tenencia responsable de mascotas. Más info ⤵️ #ChileLoCuidamosTodos  Virginia Reginato #COVIDー19chile #QuedateEnCasa #Covid_19 #UsaMascarilla #CoronaVirusEnChile #ViñadelMar</td>\n",
       "    </tr>\n",
       "    <tr>\n",
       "      <th>8</th>\n",
       "      <td>Con los vecinos</td>\n",
       "      <td>Con los vecinos 👉  [AHORA] Gobernadora @cotepuigrredon, junto al equipo de la Gobernación de Maipo, recorren la comuna de #Buin. #ChileLoHacemosTodos  #CuidaTuVida DIDECO va a tu barrio: Un nuevo servicio para que hagas consultas y resuelvas tus dudas sobre esta dirección del municipio. Solo se atenderá con permiso de, con mascarilla y manteniendo la distancia. Cuídate con tu caja y entrégala en la oficina de Los Ingleses; llama al +56942313456 o contáctanos en claudia.teustch@colina.cl.  ¡Córtala de una vez! En tiempos de pandemia, tómate en serio la amenaza del #COVID19. Está en tus manos que tú y tu familia sobrevivan. No podemos hacerlo solos. Infórmate</td>\n",
       "    </tr>\n",
       "    <tr>\n",
       "      <th>9</th>\n",
       "      <td>Con los vecinos</td>\n",
       "      <td>Con los vecinos 👨‍⚕️ @gaby_alcalde  #CuidaTuVida Si estás buscando un regalo para tu papá, te invitamos a la Vitrina Virtual del #CentroDelEmprendedor para el #DiaDelPadre. Encuentra ese obsequio perfecto para este día tan especial. Te dejamos también a algunos participantes (3 de 3) para que conozcas a tu familia y así puedan hacer una vida saludable y aprovechar de la mejor manera tu tiempo en familia.  ⏰A esta hora, #GobernaciónMelipilla participa de #GabineteRegional, encabezado por Intendente #FelipeGuevaraSt, en el marco del programa #PlanVeterinarioEnTerreno, iniciativa del Gob. del Pdte.@sebastianpinera, con el objetivo de fortalecer la #RMdeTodos✅ #ChileEnMarcha</td>\n",
       "    </tr>\n",
       "  </tbody>\n",
       "</table>\n",
       "</div>"
      ],
      "text/plain": [
       "               text  \\\n",
       "0  Con los vecinos    \n",
       "1  Con los vecinos    \n",
       "2  Con los vecinos    \n",
       "3  Con los vecinos    \n",
       "4  Con los vecinos    \n",
       "5  Con los vecinos    \n",
       "6  Con los vecinos    \n",
       "7  Con los vecinos    \n",
       "8  Con los vecinos    \n",
       "9  Con los vecinos    \n",
       "\n",
       "                                                                                                                                                                                                                                                                                                                                                                                                                                                                                                                                                                                                                                                                                                                                         generado  \n",
       "0  Con los vecinos 👇   #ColinaSomosTodos Ahora son tres formas de donar a quien lo necesita: arma tu caja y entrégala en la oficina de Los Ingleses; llámanos y recogemos tu casa; o entra a  y sigue el link para comprar una caja en sencillos pasos. @mario_olavarria  En el #DíaMundialContraElTrabajoInfantil, el Int.(s)@iurcullu junto a la Gob.@NellyGaleb, alcalde #JuanPabloBarros y otras autoridades hicieron entrega de un reconocimiento a los trabajadores de la Provincia de #Melipilla por el trabajo realizado en el marco del #PlanVeterinarioEnTerreno. Felicitaciones a todos los voluntarios que día a día realizan esta gran labor. #ChileLoHacemosTodos  ¡ATENCIÓN VECINOS DE                                              \n",
       "1  Con los vecinos 🙌  #CuidaTuVida El @MinDesarrollo presentó la página, para consultar por el pago del #IngresoDeEmergencia, una importante ayuda en la pandemia de #COVID19. Recuerda que ya no es necesaria la #ClaveUnica para solicitar este beneficio. Te dejamos también a algunos participantes (entre 10 y 12 años) para conocer de qué se está haciendo para ayudar a más familias en este difícil momento de pandemia.  [AHORA] Gobernadora de San Antonio, María Paz Santelices, participa de una nueva sesión del Sistema Táctico Operativo Policial (STOP) del Ministerio de Justicia. #ChileLoCuidamosTodos  En el #DíaMundialContraElCoronavirus, el Int.@UrquietaAtacama junto a la Gob.(s)@NellyGaleb, al Alcalde(s),            \n",
       "2  Con los vecinos 👇  @mario_olavarria  #CuidaTuVida Te dejamos los días y horarios de atención de #DIDECOEnTuBarrio, en las sedes de las juntas de vecinos. Recuerda que debes asistir con tu permiso de, con mascarilla y manteniendo la distancia. Cuídese en casa ⤵️  Hoy el Int.@UrquietaAtacama junto al Jefe de la III Zona, Gral. Tobar y al Gob. del Pdte. (s)@iurcullu, dieron inicio a la 2da entrega de cajas de mercadería #AlimentosParaChile, que beneficiará a más de 3 millones de personas del país. Te invitamos a apoyar con la campaña #EligeVivirSano a través del Programa de Mejoramiento Urbano.  ¡BUENAS NOTICIAS!                                                                                                       \n",
       "3  Con los vecinos 👉  #CuidaTuVida Si estás buscando un regalo para tu papá, te invitamos a la Vitrina Virtual del #CentroDelEmprendedor para el #DiaDelPadre. Encuentra ese obsequio perfecto para este día tan especial. Te dejamos también a algunos participantes (1 de 3). @mario_olavarria  ¡ATENCIÓN VECINOS!  Desde hoy podrás postular a los diplomados de #FomentoPropietario. Postula en el siguiente link⤵️  Más info:  ➡Subsidios de arriendo.   Infórmate en  y #RMdeTodos✅ #ChileEnMarcha  Virginia Reginato #Covid_19 #QuedateEnCasa #CoronaVirusEnChile #NosCuidamosEntreTodos  Hoy estuvimos en                                                                                                                                  \n",
       "4  Con los vecinos 👇  #CuidaTuVida Si estás buscando un regalo para tu papá, te invitamos a la Vitrina Virtual del #CentroDelEmprendedor para el #DiaDelPadre. Encuentra ese obsequio perfecto para este día tan especial. Te dejamos también a algunos participantes (1 de 3). @mario_olavarria  En el Gob. Del Pdte.@sebastianpinera estamos comprometidos con el desarrollo de la región de #Tarapacá y de nuestro país, con una mirada de desarrollo sostenible y sustentable. #Iquique #AltoHospicio.  ⏰A esta hora, en #Tocopilla, #GastónLibuy, Jefe de gabinete #SebastianGallardo, junto a alcalde #JuanPabloBarros y otras autoridades, participan en ceremonia de entrega de escrituras de terrenos donde se construirán las viviendas  \n",
       "5  Con los vecinos @Muni_provi.  🔹️OPORTUNIDAD LABORAL: Empresa Agroservicios MVC, requiere contratar:  -02 personas para trabajar en la Dirección de Obras Hidráulicas (SBA).  Interesados, acercarse a la OMIL de la Municipalidad de San Pedro, a través de nuestro Departamento de Transportes, para…  #CuidaTuVida DIDECO va a tu barrio: Un nuevo servicio para que hagas consultas y resuelvas tus dudas sobre esta dirección del municipio. Solo se atenderá con permiso de, con mascarilla y manteniendo la distancia. Cupos limitados. o contáctennos en claudia.teustch@@colinadeportes.cl  ¡ATENCIÓN VECINOS! EN VIÑA DEL MAR LA CIUDAD DEL DEP                                                                                        \n",
       "6  Con los vecinos 👨‍⚕️  #CuidaTuVida Te dejamos los días y horarios de atención de #DIDECOEnTuBarrio, en las sedes de las juntas de vecinos. Recuerda que debes asistir con tu permiso de, con mascarilla y manteniendo la distancia. Cupos limitados. @mario_olavarria  Gobernación Melipilla Informa: A esta hora se registra Incendio estructural en ruta G-60, comuna de San Pedro. Bomberos trabajan en el lugar a la espera de la llegada de los equipos de rescate. #COVID2019 #Covid_19 #QuedateEnCasa #ViveViña #UsaMascarilla  En el Gob. del Pdte.@sebastianpinera queremos invitar a todos los emprendedores a ser parte de su concurso #PymesenLínea, que promueven el emprendimiento                                                \n",
       "7  Con los vecinos 👇  [AHORA] Gobernadora @cotepuigrredon realiza operativo de implantación de Microchip en la comuna de #CaleraDeTango. #PlanVeterinarioEnTerreno  #CuidaTuVida Si eres emprendedor, te invitamos a la Vitrina Virtual del #CentroDelEmprendedor para el #DiaDelPadre. Encuentra ese obsequio perfecto para este día tan especial. Te dejamos también a algunos participantes (1 de 3).  ¡Atención #Melipilla! Desde este 15 de mayo podrás consultar si eres beneficiario de la tenencia responsable de mascotas. Más info ⤵️ #ChileLoCuidamosTodos  Virginia Reginato #COVIDー19chile #QuedateEnCasa #Covid_19 #UsaMascarilla #CoronaVirusEnChile #ViñadelMar                                                                    \n",
       "8  Con los vecinos 👉  [AHORA] Gobernadora @cotepuigrredon, junto al equipo de la Gobernación de Maipo, recorren la comuna de #Buin. #ChileLoHacemosTodos  #CuidaTuVida DIDECO va a tu barrio: Un nuevo servicio para que hagas consultas y resuelvas tus dudas sobre esta dirección del municipio. Solo se atenderá con permiso de, con mascarilla y manteniendo la distancia. Cuídate con tu caja y entrégala en la oficina de Los Ingleses; llama al +56942313456 o contáctanos en claudia.teustch@colina.cl.  ¡Córtala de una vez! En tiempos de pandemia, tómate en serio la amenaza del #COVID19. Está en tus manos que tú y tu familia sobrevivan. No podemos hacerlo solos. Infórmate                                                       \n",
       "9  Con los vecinos 👨‍⚕️ @gaby_alcalde  #CuidaTuVida Si estás buscando un regalo para tu papá, te invitamos a la Vitrina Virtual del #CentroDelEmprendedor para el #DiaDelPadre. Encuentra ese obsequio perfecto para este día tan especial. Te dejamos también a algunos participantes (3 de 3) para que conozcas a tu familia y así puedan hacer una vida saludable y aprovechar de la mejor manera tu tiempo en familia.  ⏰A esta hora, #GobernaciónMelipilla participa de #GabineteRegional, encabezado por Intendente #FelipeGuevaraSt, en el marco del programa #PlanVeterinarioEnTerreno, iniciativa del Gob. del Pdte.@sebastianpinera, con el objetivo de fortalecer la #RMdeTodos✅ #ChileEnMarcha                                         "
      ]
     },
     "execution_count": 41,
     "metadata": {},
     "output_type": "execute_result"
    }
   ],
   "source": [
    "pd.DataFrame.from_records(generated)"
   ]
  },
  {
   "cell_type": "code",
   "execution_count": 42,
   "metadata": {
    "scrolled": true
   },
   "outputs": [
    {
     "data": {
      "text/plain": [
       "[{'text': 'Con los vecinos ',\n",
       "  'generado': 'Con los vecinos 👇   #ColinaSomosTodos Ahora son tres formas de donar a quien lo necesita: arma tu caja y entrégala en la oficina de Los Ingleses; llámanos y recogemos tu casa; o entra a  y sigue el link para comprar una caja en sencillos pasos. @mario_olavarria  En el #DíaMundialContraElTrabajoInfantil, el Int.(s)@iurcullu junto a la Gob.@NellyGaleb, alcalde #JuanPabloBarros y otras autoridades hicieron entrega de un reconocimiento a los trabajadores de la Provincia de #Melipilla por el trabajo realizado en el marco del #PlanVeterinarioEnTerreno. Felicitaciones a todos los voluntarios que día a día realizan esta gran labor. #ChileLoHacemosTodos  ¡ATENCIÓN VECINOS DE'},\n",
       " {'text': 'Con los vecinos ',\n",
       "  'generado': 'Con los vecinos 🙌  #CuidaTuVida El @MinDesarrollo presentó la página, para consultar por el pago del #IngresoDeEmergencia, una importante ayuda en la pandemia de #COVID19. Recuerda que ya no es necesaria la #ClaveUnica para solicitar este beneficio. Te dejamos también a algunos participantes (entre 10 y 12 años) para conocer de qué se está haciendo para ayudar a más familias en este difícil momento de pandemia.  [AHORA] Gobernadora de San Antonio, María Paz Santelices, participa de una nueva sesión del Sistema Táctico Operativo Policial (STOP) del Ministerio de Justicia. #ChileLoCuidamosTodos  En el #DíaMundialContraElCoronavirus, el Int.@UrquietaAtacama junto a la Gob.(s)@NellyGaleb, al Alcalde(s), '},\n",
       " {'text': 'Con los vecinos ',\n",
       "  'generado': 'Con los vecinos 👇  @mario_olavarria  #CuidaTuVida Te dejamos los días y horarios de atención de #DIDECOEnTuBarrio, en las sedes de las juntas de vecinos. Recuerda que debes asistir con tu permiso de, con mascarilla y manteniendo la distancia. Cuídese en casa ⤵️  Hoy el Int.@UrquietaAtacama junto al Jefe de la III Zona, Gral. Tobar y al Gob. del Pdte. (s)@iurcullu, dieron inicio a la 2da entrega de cajas de mercadería #AlimentosParaChile, que beneficiará a más de 3 millones de personas del país. Te invitamos a apoyar con la campaña #EligeVivirSano a través del Programa de Mejoramiento Urbano.  ¡BUENAS NOTICIAS! '},\n",
       " {'text': 'Con los vecinos ',\n",
       "  'generado': 'Con los vecinos 👉  #CuidaTuVida Si estás buscando un regalo para tu papá, te invitamos a la Vitrina Virtual del #CentroDelEmprendedor para el #DiaDelPadre. Encuentra ese obsequio perfecto para este día tan especial. Te dejamos también a algunos participantes (1 de 3). @mario_olavarria  ¡ATENCIÓN VECINOS!  Desde hoy podrás postular a los diplomados de #FomentoPropietario. Postula en el siguiente link⤵️  Más info:  ➡Subsidios de arriendo.   Infórmate en  y #RMdeTodos✅ #ChileEnMarcha  Virginia Reginato #Covid_19 #QuedateEnCasa #CoronaVirusEnChile #NosCuidamosEntreTodos  Hoy estuvimos en'},\n",
       " {'text': 'Con los vecinos ',\n",
       "  'generado': 'Con los vecinos 👇  #CuidaTuVida Si estás buscando un regalo para tu papá, te invitamos a la Vitrina Virtual del #CentroDelEmprendedor para el #DiaDelPadre. Encuentra ese obsequio perfecto para este día tan especial. Te dejamos también a algunos participantes (1 de 3). @mario_olavarria  En el Gob. Del Pdte.@sebastianpinera estamos comprometidos con el desarrollo de la región de #Tarapacá y de nuestro país, con una mirada de desarrollo sostenible y sustentable. #Iquique #AltoHospicio.  ⏰A esta hora, en #Tocopilla, #GastónLibuy, Jefe de gabinete #SebastianGallardo, junto a alcalde #JuanPabloBarros y otras autoridades, participan en ceremonia de entrega de escrituras de terrenos donde se construirán las viviendas'},\n",
       " {'text': 'Con los vecinos ',\n",
       "  'generado': 'Con los vecinos @Muni_provi.  🔹️OPORTUNIDAD LABORAL: Empresa Agroservicios MVC, requiere contratar:  -02 personas para trabajar en la Dirección de Obras Hidráulicas (SBA).  Interesados, acercarse a la OMIL de la Municipalidad de San Pedro, a través de nuestro Departamento de Transportes, para…  #CuidaTuVida DIDECO va a tu barrio: Un nuevo servicio para que hagas consultas y resuelvas tus dudas sobre esta dirección del municipio. Solo se atenderá con permiso de, con mascarilla y manteniendo la distancia. Cupos limitados. o contáctennos en claudia.teustch@@colinadeportes.cl  ¡ATENCIÓN VECINOS! EN VIÑA DEL MAR LA CIUDAD DEL DEP'},\n",
       " {'text': 'Con los vecinos ',\n",
       "  'generado': 'Con los vecinos 👨\\u200d⚕️  #CuidaTuVida Te dejamos los días y horarios de atención de #DIDECOEnTuBarrio, en las sedes de las juntas de vecinos. Recuerda que debes asistir con tu permiso de, con mascarilla y manteniendo la distancia. Cupos limitados. @mario_olavarria  Gobernación Melipilla Informa: A esta hora se registra Incendio estructural en ruta G-60, comuna de San Pedro. Bomberos trabajan en el lugar a la espera de la llegada de los equipos de rescate. #COVID2019 #Covid_19 #QuedateEnCasa #ViveViña #UsaMascarilla  En el Gob. del Pdte.@sebastianpinera queremos invitar a todos los emprendedores a ser parte de su concurso #PymesenLínea, que promueven el emprendimiento'},\n",
       " {'text': 'Con los vecinos ',\n",
       "  'generado': 'Con los vecinos 👇  [AHORA] Gobernadora @cotepuigrredon realiza operativo de implantación de Microchip en la comuna de #CaleraDeTango. #PlanVeterinarioEnTerreno  #CuidaTuVida Si eres emprendedor, te invitamos a la Vitrina Virtual del #CentroDelEmprendedor para el #DiaDelPadre. Encuentra ese obsequio perfecto para este día tan especial. Te dejamos también a algunos participantes (1 de 3).  ¡Atención #Melipilla! Desde este 15 de mayo podrás consultar si eres beneficiario de la tenencia responsable de mascotas. Más info ⤵️ #ChileLoCuidamosTodos  Virginia Reginato #COVIDー19chile #QuedateEnCasa #Covid_19 #UsaMascarilla #CoronaVirusEnChile #ViñadelMar'},\n",
       " {'text': 'Con los vecinos ',\n",
       "  'generado': 'Con los vecinos 👉  [AHORA] Gobernadora @cotepuigrredon, junto al equipo de la Gobernación de Maipo, recorren la comuna de #Buin. #ChileLoHacemosTodos  #CuidaTuVida DIDECO va a tu barrio: Un nuevo servicio para que hagas consultas y resuelvas tus dudas sobre esta dirección del municipio. Solo se atenderá con permiso de, con mascarilla y manteniendo la distancia. Cuídate con tu caja y entrégala en la oficina de Los Ingleses; llama al +56942313456 o contáctanos en claudia.teustch@colina.cl.  ¡Córtala de una vez! En tiempos de pandemia, tómate en serio la amenaza del #COVID19. Está en tus manos que tú y tu familia sobrevivan. No podemos hacerlo solos. Infórmate'},\n",
       " {'text': 'Con los vecinos ',\n",
       "  'generado': 'Con los vecinos 👨\\u200d⚕️ @gaby_alcalde  #CuidaTuVida Si estás buscando un regalo para tu papá, te invitamos a la Vitrina Virtual del #CentroDelEmprendedor para el #DiaDelPadre. Encuentra ese obsequio perfecto para este día tan especial. Te dejamos también a algunos participantes (3 de 3) para que conozcas a tu familia y así puedan hacer una vida saludable y aprovechar de la mejor manera tu tiempo en familia.  ⏰A esta hora, #GobernaciónMelipilla participa de #GabineteRegional, encabezado por Intendente #FelipeGuevaraSt, en el marco del programa #PlanVeterinarioEnTerreno, iniciativa del Gob. del Pdte.@sebastianpinera, con el objetivo de fortalecer la #RMdeTodos✅ #ChileEnMarcha'}]"
      ]
     },
     "execution_count": 42,
     "metadata": {},
     "output_type": "execute_result"
    }
   ],
   "source": [
    "generated"
   ]
  },
  {
   "cell_type": "code",
   "execution_count": 43,
   "metadata": {
    "scrolled": true
   },
   "outputs": [
    {
     "name": "stdout",
     "output_type": "stream",
     "text": [
      "generando beams para input:  Vamos con todo  \n",
      "==================================================\n"
     ]
    }
   ],
   "source": [
    "generated2 = test_model(device, model, \"Vamos con todo \")"
   ]
  },
  {
   "cell_type": "code",
   "execution_count": 44,
   "metadata": {
    "scrolled": true
   },
   "outputs": [
    {
     "data": {
      "text/plain": [
       "[{'text': 'Vamos con todo ',\n",
       "  'generado': 'Vamos con todo 🇨�  #CuidaTuVida DIDECO va a tu barrio: Un nuevo servicio para que hagas consultas y resuelvas tus dudas sobre esta dirección del municipio. Solo se atenderá con permiso de, con mascarilla y manteniendo la distancia. Cupos limitados. @mario_olavarria  En el #DiaMundialContraElCoronavirus, el Int.@UrquietaAtacama junto al Jefe de la Defensa Nacional, Gral. Heyermann, dieron a conocer el primer caso de contagio en la comuna de #Copiapó. Te invitamos a ver el vídeo:  ➡️ #PlanDeInviernoSeguro Para que el invierno no te pille desprevenido, te dejamos algunos consejos que puedes aplicar para tener tu casa segura y así te cuides y a tus mascotas. Más info en⤵�'},\n",
       " {'text': 'Vamos con todo ',\n",
       "  'generado': 'Vamos con todo 💪  #ColinaSomosTodos Ahora son tres formas de donar a quien lo necesita: arma tu caja y entrégala en la oficina de Los Ingleses; llámanos y recogernos en tu casa; o entra a  y sigue el link para comprar una caja en sencillos pasos. @mario_olavarria  Hoy el Pdte.@sebastianpinera promulgó la Reforma Constitucional que permite el #Plebiscito2020 en el que los chilenos votarán de forma libre y voluntaria, si quieren o no una nueva Constitución. Más info: ➡️ #ChileEnMarcha #RMdeTodos✅  ¡ATENCIÓN VECINOS! Este sábado, desde las 10:00am, se realizará un nuevo #GobiernoEnTerreno para todos los vecinos de la Provincia de #Melipilla. Los esperamos en'},\n",
       " {'text': 'Vamos con todo ',\n",
       "  'generado': 'Vamos con todo 💪�  #CuidaTuVida El @MinDesarrollo presentó la página, para consultar por el pago del #IngresoDeEmergencia, una importante ayuda en la pandemia de #COVID19. Recuerda que ya no es necesaria la #ClaveUnica para solicitar este beneficio. Te dejamos una serie de tutoriales para puedas conocer cómo ud.@mario_olavarria  ¡ATENCIÓN! Este sábado, desde las 10.00 hrs, se llevará a cabo un nuevo #GobiernoEnTerreno para todos los vecinos de la comuna, donde estarán presentes los #ServiciosPúblicos del Gob. del Pdte. #@sebastianpinera. Más info ⤵️ #RMdeTodos✅ #ChileEnMarcha  [AHORA] Equipo de Gobernación de Maipo, junto a'},\n",
       " {'text': 'Vamos con todo ',\n",
       "  'generado': 'Vamos con todo 💪�  #CuidaTuVida DIDECO va a tu barrio: Un nuevo servicio para que hagas consultas y resuelvas tus dudas sobre esta dirección del municipio. Solo se atenderá con permiso de, con mascarilla y manteniendo la distancia. Cupos limitados. @mario_olavarria  [AHORA] Equipo de la Gobernación de Maipo realiza operativo de implantación de Microchip en la comuna de #SanBernardo. Continúan los operativos de mascotas en el sector de San Alberto. #MascotaProtegida  Hoy nuestra Gobernadora María Paz Santelices participó de una nueva sesión del Sistema Táctico de Operación Policial (STOP) del Ministerio de Salud, junto a otras autoridades, con el objetivo de prevenir el contagio del #COVID_19 #coronavirus #VIÑADELMAR #CHILE  Virginia Reg'},\n",
       " {'text': 'Vamos con todo ',\n",
       "  'generado': 'Vamos con todo 💪  #CuidaTuVida DIDECO va a tu barrio: Un nuevo servicio para que hagas consultas y resuelvas tus dudas sobre esta dirección del municipio. Solo se atenderá con permiso de, con mascarilla y manteniendo la distancia. Cupos limitados. @mario_olavarria  ¡ATENCIÓN VECINOS DE COVID-19 en la comuna de #Melipilla! Esta semana el Juzgado de Policía Local de Colina entró en cuarentena, por lo que permanecerá cerrado hasta nuevo aviso. Te dejamos los medios de contactos para consultas. #QuédateEnCasa  [AHORA] Equipo de la Gobernación de Maipo realiza operativo de implantación de Microchip en mascotas para perros y gatos del sector El Yali, en el sector de las Canchillas. Más info⤵️ #RMdeTodos✅ #Chile'},\n",
       " {'text': 'Vamos con todo ',\n",
       "  'generado': 'Vamos con todo 💪  #CuidaTuVida @CorpColinaSalud informa las atenciones que se realizarán, a partir del lunes 8 de junio, en los CESFAM de Alpatacal y Esmeralda, de manera de enfocar sus prestaciones en las personas que más lo requieran.  Además te dejamos sus lugares de atención, como es el caso de la 8a Comisaría de #Melipilla, donde puedes consultar si recibirás el pago automático de permiso de, con mascarilla y manteniendo la distancia. Cuénteme quédate en casa y cuéntanos tus datos por interno!  El #MercadoCampesino ya cuenta con la aplicación YoiFerias: conoce sobre los productos que puedes encontrar, los precios y días que están disponibles. Entra a  y comienza a usarla. Te esperamos en #PlazaDeArmas #LaSerena #Coquimbo '},\n",
       " {'text': 'Vamos con todo ',\n",
       "  'generado': 'Vamos con todo 🇨\\U0001d1f1  #CuidaTuVida Si estás buscando un regalo para tu papá, te invitamos a la Vitrina Virtual del #CentroDelEmprendedor para el #DiaDelPadre. Encuentra ese obsequio perfecto para este día tan especial. Te dejamos también a algunos participantes (3 de 3). @mario_olavarria  ¡Buenas noticias para #Tarapaca! Hoy el Pdte.@sebastianpinera presentó el proyecto de ley #CrianzaProtegida, que beneficiará a 4,6 millones de personas mayores de 75 años con dependencia severa o moderada. Más info en ⤵️  [AHORA] Equipo de la Gobernación de Maipo realiza operativo de implantación de Microchip para mascotas en la comuna de #SanBernardo. #MascotaEnLaCasa #RMdeTodos�'},\n",
       " {'text': 'Vamos con todo ',\n",
       "  'generado': 'Vamos con todo 💪 #ChileEnMarcha  #CuidaTuVida El @ministeriosalud anunció hoy que el decreto de cuarentena total para Colina se extiende hasta el viernes 12 de julio. Reiteramos las medidas más importantes para cuidarse frente al #COVID19: #LavateLasManos #QuedateEnCasa #UsaMascarilla  [AHORA] Equipo de la Gobernación de Maipo, en la localidad de #SanBernardo, realiza nuevo operativo de implantación de microchips para perros y gatos en marco de nuestro programa #PlanVeterinarioEnTerreno. Más info en ⤵️  La #NuevaAgendaSocial anunciada por el Pdte.@sebastianpinera busca hacerse cargo de las principales demandas sociales para avanzar juntos por un Chile más conforme, unido, equitativo y más justo. #CuentaPública'},\n",
       " {'text': 'Vamos con todo ',\n",
       "  'generado': \"Vamos con todo 💪  #CuidaTuVida Si estás buscando un regalo para tu papá, te invitamos a la Vitrina Virtual del #CentroDelEmprendedor para el #DiaDelPadre. Encuentra ese obsequio perfecto para este día tan especial. Te dejamos también a algunos participantes (2 de 3). @mario_olavarria  [AHORA] Gobernadora de la Provincia de Maipo, María Paz Santelices, participa de #GabineteRegional encabezado por el Int. #FelipeGuevaraSt, junto a los Gobernadores y Concejales de las comunas de Buin, Paine y Calera de Tango, en la conmemoración del natalicio de Bernardo O'Higgins.  El #MercadoCampesino ya cuenta con la aplicación YoiFerias: conoce sobre los productos que puedes encontrar, los precios y días que están disponibles. Entra a  y comienza a usar\"},\n",
       " {'text': 'Vamos con todo ',\n",
       "  'generado': 'Vamos con todo 💪�  #CuidaTuVida Te dejamos los días y horarios de atención de #DIDECOEnTuBarrio, en las sedes de las juntas de vecinos. Recuerda que debes asistir con tu permiso de, con mascarilla y manteniendo la distancia. Cupos limitados. @mario_olavarria  Gobernación Melipilla Informa: A esta hora se registra Incendio de gran magnitud, con peligro de propagación a viviendas. Bomberos trabajan en el lugar. #IncendioForestal #Melipilla Más info ➡️ #RMdeTodos✅  [AHORA] Gobernadora María Paz Santelices, junto al equipo de la Gobernación de Maipo, recorren la comuna para constatar el cumplimiento del toque de queda en #Stgo y #SanBernardo, como medida de prevención ante el #COVID_19.'}]"
      ]
     },
     "execution_count": 44,
     "metadata": {},
     "output_type": "execute_result"
    }
   ],
   "source": [
    "generated2"
   ]
  },
  {
   "cell_type": "code",
   "execution_count": 45,
   "metadata": {
    "scrolled": true
   },
   "outputs": [
    {
     "name": "stdout",
     "output_type": "stream",
     "text": [
      "generando beams para input:  El 27 de enero del año 2010  \n",
      "==================================================\n"
     ]
    }
   ],
   "source": [
    "generated3 = test_model(device, model, \"El 27 de enero del año 2010 \")"
   ]
  },
  {
   "cell_type": "code",
   "execution_count": 46,
   "metadata": {
    "scrolled": true
   },
   "outputs": [
    {
     "data": {
      "text/plain": [
       "[{'text': 'El 27 de enero del año 2010 ',\n",
       "  'generado': 'El 27 de enero del año 2010 @ministeriosalud entregó balance #COVID_19: 4.641 casos nuevos; 3.054, en total. 9 fallecidos; 50.708 exámenes PCR; 354.842 en la UCI. 1.951 VM; 372 estado crítico.  REPORTE EN:  🔹️OPORTUNIDAD LABORAL: Empresa Agroservicios MVC, requiere contratar para sus trabajos a un costado de la empresa CGE, para que realice trabajos de reparación de maquinaria y reposición de las parrillas de aguas servidas en el lugar.…  #CuidaTuVida Si estás buscando un regalo para tu papá, te invitamos a la Vitrina Virtual del #CentroDelEmprendedor para el #DiaDelPadre. Encuentra ese obsequio perfecto para este día tan especial. Te'},\n",
       " {'text': 'El 27 de enero del año 2010 ',\n",
       "  'generado': 'El 27 de enero del año 2010 🔴 A esta hora, Gob. @RAMIREZCHILE recibe a los vecinos de la Provincia de #Melipilla, en el marco del programa #PlanVeterinarioEnTerreno, financiado por la #Subdere. #RMdeTodos✅  #CuidémonosEntreTodos  El #MercadoCampesino ya cuenta con la aplicación YoiFerias: conoce sobre los productos que puedes encontrar, los precios y días que están disponibles. Entra a  y comienza ya a usarla. Te dejamos también un video explicativo. ⤵️  La #NuevaAgendaSocial anunciada por el Pdte.@sebastianpinera establece beneficios urgentes para todos los chilenos, sobre todo aquellos que se encuentran en situación de ingresos informales. Más info:   ➡�'},\n",
       " {'text': 'El 27 de enero del año 2010 ',\n",
       "  'generado': 'El 27 de enero del año 2010 @CorpColinaSalud informa que su atención para #CuentaRUT en el gimnasio municipal se suspende.  Llama gratis al 800 719 720. #CuidémonosEntreTodos \\U0001f9a0  VIÑA DEL MAR TE ESPERA TODO EL ALCALDE MANUEL DEPORTIVO  ESTE VIDEO ES PARA PREVENIR EL CORONAVIRUS #Covid19  Virginia Reginato #VIÑADELMAR #CHILE #coronavirus   #InviernoSeguro Para que el invierno no te pille desprevenido, te dejamos algunos consejos que puedes aplicar para tener tu casa segura y así te cuides y a tu familia. Más info en⤵️ #PlanCoronaVirus #QuedateEnCasa  Gobernación Melipilla Informa:'},\n",
       " {'text': 'El 27 de enero del año 2010 ',\n",
       "  'generado': 'El 27 de enero del año 2010 🔹️ATENCIÓN PREVENIR EL CORONAVIRUS #Covid_19  ESTE VIDEO ES PARA TODAS LAS FAMILIAS DE VIÑA DEL MAR Y CHILE.  SÓLO UN MINUTO DE TU TIEMPO. Viña del Mar Chile #ViveViña #QuedateEnCasa  #CuidaTuVida @CorpColinaSalud informa las atenciones que se realizarán, a partir del lunes 8 al 8 de junio, en los CESFAM de Alpatacal y Esmeralda, de manera de enfocar sus prestaciones en las personas que más lo requieran. El servicio de urgencia #SAR de Colina atenderá las 24 horas, solo casos relacionados con #COVID19 #PlanCoronaVirus #LavateLasManos '},\n",
       " {'text': 'El 27 de enero del año 2010 ',\n",
       "  'generado': 'El 27 de enero del año 2010 @CorpColinaSalud informa que el servicio de urgencia #SAPU de Esmeralda atenderá todos los días, solo casos relacionados con #COVID19.  #CuidémonosEntreTodos #QuédateEnCasa🏠  REPORTE EN:  Esta mañana, en comisión de medioambiente, continuamos debate de proyecto de ley que modifica diversos cuerpos normativos en materia de integración social y urbana. Revisa el detalle completo aquí⤵️  [@SanAntonio_Gob en la #RMdeTodos✅ #ChileEnMarcha  Hoy el Pdte.@sebastianpinera presentó el Plan de #ProtecciónClaseMedia, un paquete de medidas que van en ayuda a las familias que más lo necesitan en medio de la pandemia por el #Covid_19, entre ellas, pago de'},\n",
       " {'text': 'El 27 de enero del año 2010 ',\n",
       "  'generado': 'El 27 de enero del año 2010 @Muni_LasCondes te dará detalles del inconveniente, nombre, RUT, Teléfono, mail y placa patente a atencionvecinos@mlareina.cl para ayudarte con ese proceso. Saludos!  #CuidaTuVida Te dejamos los días y horarios de atención de #DIDECOEnTuBarrio, en las sedes de las juntas de vecinos. Recuerda que debes asistir con tu permiso de, con mascarilla y manteniendo la distancia. Cupos limitados. #QuédateEnCasa🏠  ¡ATENCIÓN VECINOS! Este viernes 01 de Junio, desde las 10:00hrs, se realizará un nuevo #GobiernoEnTerreno para todos los vecinos de la comuna, donde estarán presentes los #ServiciosPúblicos del Gob. del Pdte.@sebastianpinera atendiendo las'},\n",
       " {'text': 'El 27 de enero del año 2010 ',\n",
       "  'generado': 'El 27 de enero del año 2010 @CorpColinaSalud informa que los adultos mayores no necesitan permiso o salvoconducto para asistir a cobrar sus pensiones, solo presentar la colilla de pago del mes anterior con la fecha de cobro para el mes corriente. #CuidémonosEntreTodos #QuédateEnCasa🏠  [AHORA] Equipo de la Gobernación de Maipo realiza operativo de implantación de Microchip para perros y gatos en la comuna de #SanBernardo. Los esperamos hasta las 14.30 horas. Recuerda que necesitas tu permiso temporal (que es personal) para ir y comprar, que puedes obtener en.  El #CoronaVirus es prevenible, desde Viña del Mar escucha y conoce formas de protección: #VIÑAPREVIENECOVID19  Plan de prevención contra el  contagio de Coronavirus.  Virginia Reginato  #coronavirus'},\n",
       " {'text': 'El 27 de enero del año 2010 ',\n",
       "  'generado': 'El 27 de enero del año 2010 @CorpColinaSalud actualizó los horarios del call center #ClínicaResponde. En este número puedes consultar también por cupos de residencia sanitaria.  🔹️ATENCIÓN VECINOS: Hasta el 9 de febrero estará abierta la 61ª Feria Internacional de Artesanía de #SanPedro, en el recinto ferial de la medialuna. ¡No te pierdas la oportunidad de participar! #ChileLoCuidamosTodos  Virginia Reginato #TEATROMUNICIPAL #VIÑA #CHILE #SEPTIEMBRE #FELIZ18  #FelizViernesATodos Ya sumamos al menos 50 unidades donadas, y esperamos que sean muchas más. Dona tu caja de alimentos en la oficina municipal de Los Ingleses, llama al +56942313456'},\n",
       " {'text': 'El 27 de enero del año 2010 ',\n",
       "  'generado': 'El 27 de enero del año 2010 @CorpColinaSalud informa que el servicio de urgencia #SAPU de Esmeralda atenderá las 24 horas, solo casos relacionados con #COVID19.  #CuidaTuVida DIDECO va a tu barrio: Un nuevo servicio para que hagas consultas y resuelvas tus dudas sobre esta dirección del municipio. Conoce más en  o en el correo centrodelemprendedor@colina.cl. #QuedateEnCasa  🔹️OPORTUNIDAD LABORAL: Empresa Agroservicios MVC, requiere contratar:  -02 personas para raleo de uvas, en la comuna de #SanPedro,…  Interesados, acercarse con CV a la OMIL de la Municipalidad de San Pedro, para resolver dudas y orientar a los vecinos en las problemáticas que afectan a nuestra comuna.'},\n",
       " {'text': 'El 27 de enero del año 2010 ',\n",
       "  'generado': 'El 27 de enero del año 2010 @CorpColinaSalud informa que el servicio de urgencia #SAPU de Esmeralda atenderá todos los días las 24 horas, solo casos relacionados con #COVID19. #CuidémonosEntreTodos #QuédateEnCasa🏠  IMPORTANTE: A esta hora, informamos sobre los servicios públicos que se encuentran habilitados y en funcionamiento para este Martes 26 de Noviembre en la comuna de #Melipilla, #CentroDeAtenciónAVíctimas del Ministerio de Desarrollo Social y Familia.  #DIDECOEnTuBarrio: vamos a tu sector a resolver tus consultas y dudas sobre esta dirección del municipio. Hoy estamos en las poblaciones San Alfonso y Van Der Rest. Solo se atiende con permiso de, mascarilla y manteniendo la distancia. Cuídense!  [AHORA] Gobernadora de Petorca, '}]"
      ]
     },
     "execution_count": 46,
     "metadata": {},
     "output_type": "execute_result"
    }
   ],
   "source": [
    "generated3"
   ]
  },
  {
   "cell_type": "code",
   "execution_count": 47,
   "metadata": {
    "scrolled": true
   },
   "outputs": [
    {
     "name": "stdout",
     "output_type": "stream",
     "text": [
      "generando beams para input:  El presidente   \n",
      "==================================================\n"
     ]
    }
   ],
   "source": [
    "generated4 = test_model(device, model, \"El presidente  \")"
   ]
  },
  {
   "cell_type": "code",
   "execution_count": 48,
   "metadata": {
    "scrolled": true
   },
   "outputs": [
    {
     "data": {
      "text/plain": [
       "[{'text': 'El presidente  ',\n",
       "  'generado': 'El presidente  @sebastianpinera anunció el plan de desconfinamiento gradual Paso a Paso #NosCuidamos que beneficiará a miles de familias de la #RMdeTodos. El Int.@UrquietaAtacama junto a la Seremi(s)@KimFaBondi, y diversas autoridades hicieron entrega de este importante apoyo a las familias que más lo necesitan.🙌  El #MercadoCampesino ya cuenta con la aplicación YoiFerias, donde puedes conocer sobre los productos que puedes encontrar, los precios y días que están disponibles. Entra a  y comienza ya a usarla. Te dejamos también un video explicativo. #ColinaSomosTodos Ahora son tres formas de donar a quien lo necesita: arma tu arma y entrégala en la oficina de Los Ingleses; llámanos y recogemos tu caja en tu casa; o entra a y sigue'},\n",
       " {'text': 'El presidente  ',\n",
       "  'generado': 'El presidente  @sebastianpinera promulgó la ley de #ProtecciónDelEmpleo, una importante ayuda en la pandemia del #COVID19. Revisa más info aquí⤵️  #CuidémonosEntreTodos #QuédateEnCasa🏠 #RespetaLaCuarentena  El #MercadoCampesino ya cuenta con la aplicación YoiFerias, donde puedes conocer sobre los productos que puedes encontrar, los precios y días que están disponibles. Entra a  y comienza a usarla. Te dejamos también un video explicativo.@mario_olavarria  Agradezco el gran aporte de los emprendedores de la #RegiónDeAtacama a #Arauco, #Copiapó y #Tarapacá, que han convertido a la región en un foco de desarrollo para la economía regional. #EligeChileQuierePaz '},\n",
       " {'text': 'El presidente  ',\n",
       "  'generado': 'El presidente  @sebastianpinera se refiere a la #NuevaAgendaSocial con el objetivo de que todos los chilenos tengan una mejor calidad de vida.  #CuidémonosEntreTodos #QuédateEnCasa🏠  ⭕️ Esta mañana, el Int.(s)@UrquietaAtacama, junto al Gob.@iurcullu, dieron a conocer el nuevo Plan de #ProtecciónClaseMedia, un paquete de medidas para apoyar a las familias que más lo necesitan en medio de la crisis sanitaria por #Covid19. Te invitamos a leer la columna de opinión publicada hoy en el diario ElSembrador, que refleja el espíritu de este proyecto:  El #MercadoCampesino ya cuenta con la aplicación YoiFerias: conoce sobre los productos que puedes encontrar, los precios y días que están disponibles. Entra a  y'},\n",
       " {'text': 'El presidente  ',\n",
       "  'generado': 'El presidente  @sebastianpinera ha hecho un llamado a todos los #Alcaldes de la #RMdeTodos a que tomen todas las precauciones para evitar la propagación del #COVID_19. #CuidémonosEntreTodos #QuédateEnCasa🏠  Hoy el Int.@UrquietaAtacama junto a la Dir. Nacional #NataliaGonzález, dieron a conocer la Ley de #ProtecciónDelEmpleo, que beneficiará a cerca de mil personas. Te invitamos a ver el vídeo⤵️  #DIDECOOnline Todas las dudas que puedas tener sobre ayuda social que presta el municipio a través de Dideco te las contestamos en el teléfono 227073317. Deja tus preguntas en nuestra página en esta red social, de lunes a viernes entre 10 y 12 horas. Recuerda que necesitas'},\n",
       " {'text': 'El presidente  ',\n",
       "  'generado': 'El presidente  @sebastianpinera anunció un paquete de medidas para enfrentar la pandemia de #COVID19: #LavateLasManos #QuedateEnCasa #UsaMascarilla #CuidémonosEntreTodos #PlanCoronavirus  En el #DiaMundialContraElTrabajoInfantil reiteramos nuestro compromiso con la protección de los derechos de las personas con discapacidad y la de todos los chilenos. Agradezco a todos quienes han sido parte de esta noble labor 👍.  #Arica #ParadaMilitar2019 #BaltoluSíCumple #ChileEnMarcha  ⭕️ A esta hora, informamos sobre los servicios públicos que se encuentran habilitados y en funcionamiento para este Viernes 21 de Noviembre en la Región de Los Ríos, #CentroDeApoyoAVíctimas y #RegistroSocialDeHonorarios.'},\n",
       " {'text': 'El presidente  ',\n",
       "  'generado': 'El presidente  @sebastianpinera presentó la #NuevaAgendaSocial con mayores pensiones, aumento del ingreso mínimo, freno al costo de la electricidad y más medidas para enfrentar la crisis sanitaria por el #COVID_19 #CuidémonosEntreTodos #QuédateEnCasa🏠  El #MercadoCampesino ya cuenta con la aplicación YoiFerias, donde puedes conocer sobre los productos que puedes encontrar, los precios y días que están disponibles. Entra a  y comienza a usarla. Te dejamos también un video explicativo. ¡No dejes de participar! Plazo extendido hasta el 30 de julio. #EligeVivirSano  Virginia Reginato #VIVEVIÑA #CHILE  #InviernoSeguro Para que el invierno no te pille desprevenido, te dejas algunos consejos para tener tu casa segura y así te cuides y a tu'},\n",
       " {'text': 'El presidente  ',\n",
       "  'generado': 'El presidente  @sebastianpinera dio a conocer el plan #ClaseMediaProtegida anunciado por el Gobierno del Pdte. Piñera para apoyar a las familias más vulnerables del país. Más info⤵️  #CuidémonosEntreTodos💪 #PlanEconómicoDeEmergencia  En el #DiaDelTrabajadorRadial envío un afectuoso saludo a todos los trabajadores radiales de la Provincia de #Melipilla y la #RMdeTodos. Gracias por su trabajo, compromiso y entrega. Un gran abrazo a cada uno de ustedes.  ⏰A esta hora, Gob.@RAMIREZCHILE, junto a alcalde #SanPedro, #JuanPabloBarros y otras autoridades, participan en entrega de cajas de mercadería del Gobierno #AlimentosParaChile en apoyo a agricultores, afectados por la pandemia #COVID'},\n",
       " {'text': 'El presidente  ',\n",
       "  'generado': 'El presidente  @sebastianpinera presentó el #IngresoFamiliardeEmergencia, una importante ayuda en la pandemia de #COVID19. Recuerda que ya no es necesaria la #ClaveUnica para solicitar este beneficio. Te dejamos respuestas a las preguntas más frecuentes que surgen en esta situación. Encuentra más información en⤵️ #CuidémonosEntreTodos 💪 #QuédateEnCasa  El #CoronaVirus es prevenible, desde Viña del Mar escucha y conoce formas de protección: #VIÑAPREVIENECOV19  Plan de prevención contra el  contagio de Coronavirus en beneficio de la familias de Viña Ciudad del Deporte. Virginia Reginato  #Covid_19 #coronavirus #CHILE #pandemiachile  Hoy estuvimos entregando las cajas de mercadería del programa #Alimentos'},\n",
       " {'text': 'El presidente  ',\n",
       "  'generado': 'El presidente  @sebastianpinera anunció el plan de desconfinamiento gradual Paso a Paso #NosCuidamos, que contempla la construcción de un nuevo acceso a la localidad de #Melipilla. Más info en ➡️  #ChileEnMarcha🇨\\U0001d1f1 #RMdeTodos✅  Hoy en el #DiaMundialDelMedioAmbiente, un saludo a cada uno de ustedes y a todos quienes forman parte de esta gran institución. Muchas felicidades a quienes entregan su trabajo, valor y dedicación en tiempos de pandemia. #FelizDíaDelTrabajador #BaltoluSíCumple  El #MercadoCampesino ya cuenta con la aplicación YoiFerias: conoce sobre los productos que puedes encontrar, los precios y días que están disponibles. Entra a  y comienza a usarla. Te dejamos también'},\n",
       " {'text': 'El presidente  ',\n",
       "  'generado': 'El presidente  @sebastianpinera anunció que entre los días 20 y 24 de julio, y 21 al 25 de septiembre, habrá un período de #cuarentena total, medida que puede prolongarse por la autoridad sanitaria. Te dejamos la información pertinente. #CuidémonosEntreTodos #QuédateEnCasa🏠  #BuenDomingo les dejo mi columna de opinión de hoy en el diario “La Estrella de Arica” sobre el proyecto de ley que crea el Nuevo Servicio Nacional de Protección a la Niñez y Adolescencia. Revisa el detalle completo aquí⤵️  ¡Atención! Recuerda que hasta el 30 de junio puedes postular al #SubsidioDeArriendo para adultos mayores de 80 años con dependencia severa o moderada. Si necesitas ayuda con tu #PermisoDeCirculacion puedes hacerlo en línea. Más info➡�'}]"
      ]
     },
     "execution_count": 48,
     "metadata": {},
     "output_type": "execute_result"
    }
   ],
   "source": [
    "generated4"
   ]
  },
  {
   "cell_type": "code",
   "execution_count": 34,
   "metadata": {},
   "outputs": [
    {
     "data": {
      "text/plain": [
       "GPT2Config {\n",
       "  \"_name_or_path\": \"ensamblador/gpt2_espanol_8hx512pos\",\n",
       "  \"activation_function\": \"gelu_new\",\n",
       "  \"architectures\": [\n",
       "    \"GPT2LMHeadModel\"\n",
       "  ],\n",
       "  \"attn_pdrop\": 0.1,\n",
       "  \"bos_token_id\": 0,\n",
       "  \"embd_pdrop\": 0.1,\n",
       "  \"eos_token_id\": 2,\n",
       "  \"gradient_checkpointing\": false,\n",
       "  \"initializer_range\": 0.02,\n",
       "  \"layer_norm_epsilon\": 1e-05,\n",
       "  \"model_type\": \"gpt2\",\n",
       "  \"n_ctx\": 512,\n",
       "  \"n_embd\": 768,\n",
       "  \"n_head\": 16,\n",
       "  \"n_inner\": null,\n",
       "  \"n_layer\": 12,\n",
       "  \"n_positions\": 512,\n",
       "  \"pad_token_id\": 1,\n",
       "  \"resid_pdrop\": 0.1,\n",
       "  \"summary_activation\": null,\n",
       "  \"summary_first_dropout\": 0.1,\n",
       "  \"summary_proj_to_labels\": true,\n",
       "  \"summary_type\": \"cls_index\",\n",
       "  \"summary_use_proj\": true,\n",
       "  \"vocab_size\": 50000\n",
       "}"
      ]
     },
     "execution_count": 34,
     "metadata": {},
     "output_type": "execute_result"
    }
   ],
   "source": [
    "model.config"
   ]
  },
  {
   "cell_type": "code",
   "execution_count": 63,
   "metadata": {
    "scrolled": true
   },
   "outputs": [
    {
     "data": {
      "text/plain": [
       "(5690881, 1006141)"
      ]
     },
     "execution_count": 63,
     "metadata": {},
     "output_type": "execute_result"
    }
   ],
   "source": [
    "with open(test_path, 'r') as f:\n",
    "    test = f.read()\n",
    "\n",
    "with open(train_path, 'r') as g:\n",
    "    train = g.read()\n",
    "\n",
    "    \n",
    "    \n",
    "len(train),len(test)"
   ]
  },
  {
   "cell_type": "code",
   "execution_count": 64,
   "metadata": {},
   "outputs": [],
   "source": [
    "encodings_test = tokenizer(test, return_tensors='pt')\n",
    "encodings_train = tokenizer(train, return_tensors='pt')"
   ]
  },
  {
   "cell_type": "code",
   "execution_count": 65,
   "metadata": {},
   "outputs": [],
   "source": [
    "max_length = 512 #model.config.n_positions\n",
    "stride = 512\n",
    "\n",
    "lls = []\n",
    "for i in range(0, encodings_test.input_ids.size(1), stride):\n",
    "    begin_loc = max(i + stride - max_length, 0)\n",
    "    end_loc = min(i + stride, encodings_test.input_ids.size(1))\n",
    "    trg_len = end_loc - i    # may be different from stride on last loop\n",
    "    input_ids = encodings_test.input_ids[:,begin_loc:end_loc].to(device)\n",
    "    target_ids = input_ids.clone()\n",
    "    target_ids[:,:-trg_len] = -100\n",
    "    with torch.no_grad():\n",
    "        outputs = model(input_ids, labels=target_ids)\n",
    "        log_likelihood = outputs[0] * trg_len\n",
    "    lls.append(log_likelihood)\n",
    "ppl_test = torch.exp(torch.stack(lls).sum() / end_loc)\n",
    "\n",
    "\n",
    "\n",
    "lls = []\n",
    "for i in range(0, encodings_train.input_ids.size(1), stride):\n",
    "    begin_loc = max(i + stride - max_length, 0)\n",
    "    end_loc = min(i + stride, encodings_train.input_ids.size(1))\n",
    "    trg_len = end_loc - i    # may be different from stride on last loop\n",
    "    input_ids = encodings_train.input_ids[:,begin_loc:end_loc].to(device)\n",
    "    target_ids = input_ids.clone()\n",
    "    target_ids[:,:-trg_len] = -100\n",
    "    with torch.no_grad():\n",
    "        outputs = model(input_ids, labels=target_ids)\n",
    "        log_likelihood = outputs[0] * trg_len\n",
    "    lls.append(log_likelihood)\n",
    "ppl_train = torch.exp(torch.stack(lls).sum() / end_loc)\n"
   ]
  },
  {
   "cell_type": "code",
   "execution_count": 68,
   "metadata": {},
   "outputs": [
    {
     "data": {
      "text/plain": [
       "(18.37270736694336, 8.33980941772461)"
      ]
     },
     "execution_count": 68,
     "metadata": {},
     "output_type": "execute_result"
    }
   ],
   "source": [
    "ppl_test.tolist(), ppl_train.tolist()"
   ]
  },
  {
   "cell_type": "code",
   "execution_count": 61,
   "metadata": {},
   "outputs": [
    {
     "data": {
      "text/plain": [
       "2.9106168752708537"
      ]
     },
     "execution_count": 61,
     "metadata": {},
     "output_type": "execute_result"
    }
   ],
   "source": [
    "np.log(ppl.tolist()) "
   ]
  },
  {
   "cell_type": "code",
   "execution_count": 55,
   "metadata": {},
   "outputs": [
    {
     "name": "stdout",
     "output_type": "stream",
     "text": [
      "@RodrigoVergaraR @izkia @colmedchile @GobiernodeChile Totalmente. Se lo dije personalmente. Incluyo al colegio médico dentro de los que saben de salud ciertamente  @pazoyarzunm @EnelClientesCL @SEC_cl mandeme por interno su dirección  @VirginiaMigani @Muni_provi Si virginia, de hecho modificamos ordenanza porque somos los primeros que debemos dar el ejemplo. Mira en  la noticia.  Atención vecinos/as de la Provincia Si perdiste tu empleo en el último tiempo, te invitamos a postular a uno de los 50 mil cupos de capacitación online que ofrece el @sencechile y @coursera. Capacítate en las áreas más demandadas por el mundo laboral. .  El joven cineasta chilote, Rory Barrientos Lamas, ganó en su categoría, en el 17th IFF Pacific Meridian Festival de Cine #Rusia, con su película documental inspirada en la vida del boxeador local Carlos “Guru Guru” Ruíz. ! Un justo homenaje a un gran deportista !!  Si se van de vacaciones, les recomiendo solicitar el servicio Encárganos tu Cas"
     ]
    }
   ],
   "source": [
    "!head -c 1000 {test_path}\n"
   ]
  },
  {
   "cell_type": "code",
   "execution_count": 56,
   "metadata": {},
   "outputs": [
    {
     "name": "stdout",
     "output_type": "stream",
     "text": [
      "#BuenasNoticias  de nuestro Pdte @sebastianpinera La #NuevaLeydeArriendos agilizará los juicios de arrendamiento y protegerá a los ciudadanos ante los arriendos a abusivos. La #NuevaLeydeArriendos también establecerá la figura de arriendo, subarriendo abusivo  Lamentablemente hoy la región recibió dos noticias que nos enlutan: el fallecimiento del fiscal Cristian Oróstica y un segundo femicidio en Lota. En nombre de la Intendencia y el Gobierno Regional envío sentidas condolencias a sus familias que están viviendo un duro momento.  Aquí la oposición hace festín con el aumento d casos Covid y escarba para aumentar las muertes artificialmente, pero el ícono d los Izquierdistas Maduro, en Vnzla. se proclama el mejor para contener la pandemia declarando sólo 4000 mil casos y 35 muertes. Ese si es cuento !  A partir de hoy y hasta el sábado tendremos un programa de Villancicos en diferentes plazas de la comuna. Los invito a las 19:30 horas, para que vayan con sus niños, masc"
     ]
    }
   ],
   "source": [
    "!head -c 1000 {train_path}"
   ]
  },
  {
   "cell_type": "code",
   "execution_count": 26,
   "metadata": {},
   "outputs": [
    {
     "name": "stderr",
     "output_type": "stream",
     "text": [
      "Token indices sequence length is longer than the specified maximum sequence length for this model (373074 > 1024). Running this sequence through the model will result in indexing errors\n"
     ]
    },
    {
     "data": {
      "text/plain": [
       "148.36532592773438"
      ]
     },
     "execution_count": 26,
     "metadata": {},
     "output_type": "execute_result"
    }
   ],
   "source": [
    "model = AutoModelWithLMHead.from_pretrained('gpt2')\n",
    "\n",
    "torch.cuda.is_available()\n",
    "device = torch.device(\"cuda\" if torch.cuda.is_available() else \"cpu\")\n",
    "model.to(device);\n",
    "\n",
    "tokenizer = AutoTokenizer.from_pretrained('gpt2')\n",
    "encodings = tokenizer(test, return_tensors='pt')\n",
    "\n",
    "max_length = 256 #model.config.n_positions\n",
    "stride = 512\n",
    "\n",
    "lls = []\n",
    "for i in range(0, encodings.input_ids.size(1), stride):\n",
    "    begin_loc = max(i + stride - max_length, 0)\n",
    "    end_loc = min(i + stride, encodings.input_ids.size(1))\n",
    "    trg_len = end_loc - i    # may be different from stride on last loop\n",
    "    input_ids = encodings.input_ids[:,begin_loc:end_loc].to(device)\n",
    "    target_ids = input_ids.clone()\n",
    "    target_ids[:,:-trg_len] = -100\n",
    "\n",
    "    with torch.no_grad():\n",
    "        outputs = model(input_ids, labels=target_ids)\n",
    "        log_likelihood = outputs[0] * trg_len\n",
    "\n",
    "    lls.append(log_likelihood)\n",
    "\n",
    "ppl2 = torch.exp(torch.stack(lls).sum() / end_loc)\n",
    "ppl2.tolist()"
   ]
  },
  {
   "cell_type": "code",
   "execution_count": null,
   "metadata": {},
   "outputs": [],
   "source": []
  }
 ],
 "metadata": {
  "kernelspec": {
   "display_name": "conda_pytorch_latest_p36",
   "language": "python",
   "name": "conda_pytorch_latest_p36"
  },
  "language_info": {
   "codemirror_mode": {
    "name": "ipython",
    "version": 3
   },
   "file_extension": ".py",
   "mimetype": "text/x-python",
   "name": "python",
   "nbconvert_exporter": "python",
   "pygments_lexer": "ipython3",
   "version": "3.6.10"
  }
 },
 "nbformat": 4,
 "nbformat_minor": 4
}
