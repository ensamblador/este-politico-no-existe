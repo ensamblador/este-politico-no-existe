{
 "cells": [
  {
   "cell_type": "code",
   "execution_count": 2,
   "metadata": {
    "scrolled": true
   },
   "outputs": [],
   "source": [
    "#!rm -rf ~/.cache/torch/transformers\n",
    "#!ls -als  ~/.cache/torch/transformers\n",
    "#!pip uninstall transformers -y\n",
    "#!pip uninstall torch -y\n",
    "#!pip install torch\n",
    "#!pip install transformers "
   ]
  },
  {
   "cell_type": "code",
   "execution_count": 3,
   "metadata": {},
   "outputs": [],
   "source": [
    "import os\n",
    "import torch\n",
    "import pandas as pd\n",
    "import numpy as np\n",
    "import warnings\n",
    "from transformers import (\n",
    "    AutoTokenizer, AutoModelWithLMHead, GPT2Tokenizer,GPT2LMHeadModel,\n",
    "    TextDataset,DataCollatorForLanguageModeling,LineByLineTextDataset,\n",
    "    Trainer, TrainingArguments,\n",
    "    WEIGHTS_NAME, CONFIG_NAME\n",
    ")\n",
    "#warnings.filterwarnings('ignore')\n",
    "pd.set_option('display.max_colwidth', None)\n",
    "output_dir=\"./4-train-gpt2-en-toke-en-tweets-der\"\n",
    "pre_trained = 'gpt2'\n",
    "train_path = 'train_dataset_der.txt'\n",
    "test_path = 'test_dataset_der.txt'"
   ]
  },
  {
   "cell_type": "markdown",
   "metadata": {},
   "source": [
    "## Solo si queremos entrenar de nuevo, borramos el directorio con artefactos"
   ]
  },
  {
   "cell_type": "code",
   "execution_count": 2,
   "metadata": {},
   "outputs": [],
   "source": [
    "#!rm -rf {output_dir}"
   ]
  },
  {
   "cell_type": "code",
   "execution_count": 3,
   "metadata": {
    "scrolled": true
   },
   "outputs": [
    {
     "data": {
      "application/vnd.jupyter.widget-view+json": {
       "model_id": "3a43a5139a674c888ca71edd1aab5f1b",
       "version_major": 2,
       "version_minor": 0
      },
      "text/plain": [
       "HBox(children=(FloatProgress(value=0.0, description='Downloading', max=1042301.0, style=ProgressStyle(descript…"
      ]
     },
     "metadata": {},
     "output_type": "display_data"
    },
    {
     "name": "stdout",
     "output_type": "stream",
     "text": [
      "\n"
     ]
    },
    {
     "data": {
      "application/vnd.jupyter.widget-view+json": {
       "model_id": "2669b2cae8cb480582bb04b1ce809d77",
       "version_major": 2,
       "version_minor": 0
      },
      "text/plain": [
       "HBox(children=(FloatProgress(value=0.0, description='Downloading', max=456318.0, style=ProgressStyle(descripti…"
      ]
     },
     "metadata": {},
     "output_type": "display_data"
    },
    {
     "name": "stdout",
     "output_type": "stream",
     "text": [
      "\n",
      "<|endoftext|>\n"
     ]
    }
   ],
   "source": [
    "tokenizer = GPT2Tokenizer.from_pretrained(pre_trained, force_download=True, cache_dir = output_dir )\n",
    "tokenizer.pad_token = tokenizer.eos_token\n",
    "print(tokenizer.eos_token)\n",
    "\n",
    "\n",
    "#print('Train')\n",
    "#!head -c 1000 {train_path}\n",
    "#print('\\n\\nTest')\n",
    "#!head -c 1000 {test_path}\n",
    "#print('\\n')"
   ]
  },
  {
   "cell_type": "code",
   "execution_count": 13,
   "metadata": {
    "scrolled": true
   },
   "outputs": [],
   "source": [
    "def load_dataset(train_path,test_path,tokenizer):\n",
    "    train_dataset = TextDataset(\n",
    "        tokenizer=tokenizer,\n",
    "        file_path=train_path,\n",
    "        block_size=500\n",
    "    )\n",
    "\n",
    "    test_dataset = TextDataset(\n",
    "        tokenizer=tokenizer,\n",
    "        file_path=test_path,\n",
    "        block_size=500\n",
    "    )\n",
    "    \n",
    "    data_collator = DataCollatorForLanguageModeling(tokenizer=tokenizer, mlm=False)\n",
    "    \n",
    "    return train_dataset,test_dataset,data_collator\n",
    "\n",
    "train_dataset,test_dataset,data_collator = load_dataset(train_path,test_path,tokenizer)"
   ]
  },
  {
   "cell_type": "code",
   "execution_count": 14,
   "metadata": {
    "scrolled": true
   },
   "outputs": [
    {
     "data": {
      "text/plain": [
       "('#BuenasNoticias  de nuestro Pdte @sebastianpinera La #NuevaLeydeArriendos agilizará los juicios de arrendamiento y protegerá a los ciudadanos ante los arriendos a abusivos. La #NuevaLeydeArriendos también establecerá la figura de arriendo, subarriendo abusivo  Lamentablemente hoy la región recibió dos noticias que nos enlutan: el fallecimiento del fiscal Cristian Oróstica y un segundo femicidio en Lota. En nombre de la Intendencia y el Gobierno Regional envío sentidas condolencias a sus familias que están viviendo un duro momento.  Aquí la oposición hace festín con el aumento d casos Covid y escarba para aumentar las muertes artificialmente, pero el ícono d los Izquierdistas Maduro, en Vnzla. se proclama el mejor para contener la pandemia declarando sólo 4000 mil casos y 35 muertes. Ese si es cuento!  A partir de hoy y hasta el sábado tendremos un programa de Villancicos en diferentes plazas de la comuna. Los invito a las 19:30 horas, para que vayan con sus niños, mascotas y amigos. La entrada es liberada. ¡No se los pierdan! Acá con @CulturaProvi les dejamos el calendario.  Se esperan #AltasTemperaturas🌡☀️ y en la zona centro del país la sequía es la peor en décadas. Por eso es clave que #TODOS nos sumemos al Plan Nacional de #IncendiosForestales🔥.  Más info⤵️  #RMdeTodos🇨🇱  @anarquidani Hola, Daniela.',\n",
       " ' Por favor envíanos un mensaje por interno.  \"Al Gobierno no se le ha visto\": evacúan a adultos mayores no contagiados de hogar en La Florida  vía @biobio  El #CoronaVirus es prevenible, desde Viña del Mar escucha y conoce formas de prevención: #VIÑAPREVIENECOVID19  Plan de prevención contra el  contagio de Coronavirus en beneficio de la familias de Viña del Mar Virginia Reginato  #COVIDー19 #VIÑA #CHILE  Desde nuestra  comuna de #Futrono, saludamos a tod@s los habitantes de la Región de Los Ríos en su Aniversario N° 12, un gran abrazo y a  continuar trabajando por desarrollo integral de nuestra pujante y hermosa región 👏👏💪💪 @casenjojerez @corelosrios @IMunicipalidad  #DíaDelTrabajador👏👏 Queremos enviar un afectuoso saludo a todos los trabajadores de la Provincia de #Melipilla por su gran esfuerzo, principalmente a quienes siguen realizando sus funciones ante esta alerta sanitaria, poniendo de pie a nuestro país.  #ChileLesAgradece  @EAlfonsoAM @VenaFutrono @rutasverdes_ @DescubreLosRios @Chile_Turismo @cuencalagoranco Muchas gracias estimado..Saludos cordiales!!!  #Arica En estas #FiestasPatrias no puede faltar el vino en cacho para brindar por mi #Chile y por todos quienes habitamos esta linda tierra. Salud y viva Chile!! #BaltoluSíCumple #ParadaMilitarArica  @Fernand01452640 @LC_seguridad @Soly',\n",
       " 'que Hemos estado en eso. Dónde? Atento @LC_aseo  @Beatriz44651118 Hola! Hay un problema con el transformador, el cual tiene poca capacidad para el consumo que se requiere en el sector. Según reporte CGE hoy están instalando medidor provisorio y mañana pondrían uno definitivo.  Gracias a todos quienes me dieron tanto cariño en mi cumpleaños este ha sido un día de mucha felicidad de paz y amor. Agradezco a la Dios que me ha dado tanto y a mi familia que son mi alma y mi razón de la vida. Gracias por tanto  Seremos cargante hasta el cansancio.. continuamos con punto de Control  Preventivo al  ingreso  de #Futrono   junto a @Carabdechile  @IMunicipalidad @Ejercito_Chile  #FutronoPreviene #QuedateEnCasa #CuidarteEsCuidarnos @2016cruce @cruceelranco @somosfutrono1 @DiariosLaVoz  Con el propósito de brindar mayor seguridad a las familias de la región, el Intendente @UrquietaAtacama junto a @CarabIIIRegion, @PDI_Atacama y la @SubPrevDelito lanzaron una ronda policial preventiva en la Población #JuanPabloII en donde se desplegarán cerca de 60 efectivos. 🙌  @GMelipilla quiere enviarles un afectuoso saludo a todas las familias de la provincia y desearles una Feliz Navidad y que el 2020 venga lleno de éxito.  La estupidez d la narcodictadura comunista d Venezuela, fija precio d la #gasolina, con precio para el transporte, 0,25 dól',\n",
       " 'ares y para el ciudadanos común, 0,5 dólares, resultado obvio, q no entienden los totalitarios, se revenderá y no habrá transporte público, genios!  Por respeto a la dignidad de nuestras familias y a quienes votaron por nosotros, con sentido dolor y a fin de no alargar un proceso injusto, renunciamos a la UDI.  @jschaulsohn @generaldechile Al padre, don Ignacio.  Iniciamos un proceso para q adultos mayores en riesgo se vayan gratis a un hotel. Tenemos y seguimos elaborando un índice de riesgo porque tenemos q evitar q se contagien (continúa)  Así me reciben en el nuevo Museo de la Música Chilena, el gran Monteaguilino con sus payas  @GMelipilla llegó hasta la comuna de #Alhué para seguir #PatitasAlaObra🐾 con programa #PlanVeterinarioEnTerreno. Gran jornada de implantación #gratuita de microchip para🐶🐱 gracias a recursos de @laSUBDERE, así avanzar en la Ley de Tenencia Responsable de Animales de Compañía  Pdte @sebastianpinera entrega AHORA sólida y robusta #CuentaPública | Prioridades 2019 ▶️ El desafío del @GobiernodeChile es entregar seguridades y oportunidades para la clase media, mayor seguridad ciudadana y consolidación económica para poner a #ChileEnMarcha🇨🇱 💪  @IliMop @mop_chile @meconomia Muchas gracias Sandra. Un abrazo y feliz 2020!  A pesar de los duros momentos tengo la convicción de q')"
      ]
     },
     "execution_count": 14,
     "metadata": {},
     "output_type": "execute_result"
    }
   ],
   "source": [
    "base_index= 0\n",
    "tokenizer.decode(train_dataset[base_index+0]),tokenizer.decode(train_dataset[base_index+1]), tokenizer.decode(train_dataset[base_index+2]), tokenizer.decode(train_dataset[base_index+3])"
   ]
  },
  {
   "cell_type": "code",
   "execution_count": 15,
   "metadata": {
    "scrolled": true
   },
   "outputs": [
    {
     "data": {
      "text/plain": [
       "PreTrainedTokenizer(name_or_path='gpt2', vocab_size=50257, model_max_len=1024, is_fast=False, padding_side='right', special_tokens={'bos_token': AddedToken(\"<|endoftext|>\", rstrip=False, lstrip=False, single_word=False, normalized=True), 'eos_token': AddedToken(\"<|endoftext|>\", rstrip=False, lstrip=False, single_word=False, normalized=True), 'unk_token': AddedToken(\"<|endoftext|>\", rstrip=False, lstrip=False, single_word=False, normalized=True), 'pad_token': '<|endoftext|>'})"
      ]
     },
     "execution_count": 15,
     "metadata": {},
     "output_type": "execute_result"
    }
   ],
   "source": [
    "tokenizer"
   ]
  },
  {
   "cell_type": "code",
   "execution_count": 16,
   "metadata": {
    "scrolled": true
   },
   "outputs": [
    {
     "name": "stdout",
     "output_type": "stream",
     "text": [
      "<|endoftext|>\n"
     ]
    }
   ],
   "source": [
    "tokenizer.pad_token = tokenizer.eos_token\n",
    "print(tokenizer.pad_token)"
   ]
  },
  {
   "cell_type": "code",
   "execution_count": 17,
   "metadata": {
    "scrolled": true
   },
   "outputs": [
    {
     "data": {
      "application/vnd.jupyter.widget-view+json": {
       "model_id": "5e97458d29b44ffe89395be0e5948b71",
       "version_major": 2,
       "version_minor": 0
      },
      "text/plain": [
       "HBox(children=(FloatProgress(value=0.0, description='Downloading', max=665.0, style=ProgressStyle(description_…"
      ]
     },
     "metadata": {},
     "output_type": "display_data"
    },
    {
     "name": "stdout",
     "output_type": "stream",
     "text": [
      "\n"
     ]
    },
    {
     "data": {
      "application/vnd.jupyter.widget-view+json": {
       "model_id": "892580e0de08446fbecf296927ecfa3b",
       "version_major": 2,
       "version_minor": 0
      },
      "text/plain": [
       "HBox(children=(FloatProgress(value=0.0, description='Downloading', max=548118077.0, style=ProgressStyle(descri…"
      ]
     },
     "metadata": {},
     "output_type": "display_data"
    },
    {
     "name": "stdout",
     "output_type": "stream",
     "text": [
      "\n",
      "50257 50257\n",
      "50257 50257\n"
     ]
    },
    {
     "name": "stderr",
     "output_type": "stream",
     "text": [
      "/home/ec2-user/anaconda3/envs/pytorch_latest_p36/lib/python3.6/site-packages/transformers/trainer.py:281: FutureWarning: Passing `prediction_loss_only` as a keyword argument is deprecated and won't be possible in a future version. Use `args.prediction_loss_only` instead. Setting `args.prediction_loss_only=True\n",
      "  FutureWarning,\n"
     ]
    }
   ],
   "source": [
    "model = GPT2LMHeadModel.from_pretrained(pre_trained, force_download=True, cache_dir = output_dir )\n",
    "\n",
    "\n",
    "print(model.config.vocab_size, tokenizer.vocab_size)\n",
    "model.resize_token_embeddings(len(tokenizer))\n",
    "print(model.config.vocab_size, tokenizer.vocab_size)\n",
    "\n",
    "training_args = TrainingArguments(\n",
    "    output_dir=output_dir, #The output directory\n",
    "    #do_train=True,\n",
    "    overwrite_output_dir=True, #overwrite the content of the output directory\n",
    "    num_train_epochs=10, # number of training epochs\n",
    "    per_device_train_batch_size=2, # batch size for training\n",
    "    per_device_eval_batch_size=4,  # batch size for evaluation\n",
    "    eval_steps = 500, # Number of update steps between two evaluations.\n",
    "    logging_steps=500,\n",
    "    save_steps=1000, # after # steps model is saved\n",
    "    evaluation_strategy=\"steps\",\n",
    "    #fp16=True,\n",
    "    dataloader_drop_last=True,\n",
    "    warmup_steps=250,# number of warmup steps for learning rate scheduler\n",
    ")\n",
    "\n",
    "trainer = Trainer(\n",
    "    model=model,\n",
    "    args=training_args,\n",
    "    data_collator=data_collator,\n",
    "    train_dataset=train_dataset,\n",
    "    eval_dataset=test_dataset,\n",
    "    prediction_loss_only=True,\n",
    ")\n",
    "\n",
    "torch.cuda.is_available()\n",
    "device = torch.device(\"cuda\" if torch.cuda.is_available() else \"cpu\")\n",
    "trainer.model.to(device);\n",
    "trainer.get_train_dataloader().pin_memory=True;\n",
    "trainer.get_eval_dataloader().pin_memory=True;\n",
    "#trainer.get_eval_dataloader().drop_last =True;\n",
    "#trainer.get_test_dataloader().pin_memory=True;\n"
   ]
  },
  {
   "cell_type": "markdown",
   "metadata": {},
   "source": [
    "## Entrenamos el modelo (ajuste fino)"
   ]
  },
  {
   "cell_type": "code",
   "execution_count": 18,
   "metadata": {
    "scrolled": true
   },
   "outputs": [
    {
     "name": "stderr",
     "output_type": "stream",
     "text": [
      "/home/ec2-user/anaconda3/envs/pytorch_latest_p36/lib/python3.6/site-packages/torch/nn/parallel/_functions.py:64: UserWarning: Was asked to gather along dimension 0, but all input tensors were scalars; will instead unsqueeze and return a vector.\n",
      "  warnings.warn('Was asked to gather along dimension 0, but all '\n"
     ]
    },
    {
     "data": {
      "text/html": [
       "\n",
       "    <div>\n",
       "        <style>\n",
       "            /* Turns off some styling */\n",
       "            progress {\n",
       "                /* gets rid of default border in Firefox and Opera. */\n",
       "                border: none;\n",
       "                /* Needs to be in here for Safari polyfill so background images work as expected. */\n",
       "                background-size: auto;\n",
       "            }\n",
       "        </style>\n",
       "      \n",
       "      <progress value='5280' max='5280' style='width:300px; height:20px; vertical-align: middle;'></progress>\n",
       "      [5280/5280 24:19, Epoch 10/10]\n",
       "    </div>\n",
       "    <table border=\"1\" class=\"dataframe\">\n",
       "  <thead>\n",
       "    <tr style=\"text-align: left;\">\n",
       "      <th>Step</th>\n",
       "      <th>Training Loss</th>\n",
       "      <th>Validation Loss</th>\n",
       "    </tr>\n",
       "  </thead>\n",
       "  <tbody>\n",
       "    <tr>\n",
       "      <td>500</td>\n",
       "      <td>3.997869</td>\n",
       "      <td>1.891722</td>\n",
       "    </tr>\n",
       "    <tr>\n",
       "      <td>1000</td>\n",
       "      <td>3.172658</td>\n",
       "      <td>1.568079</td>\n",
       "    </tr>\n",
       "    <tr>\n",
       "      <td>1500</td>\n",
       "      <td>2.904457</td>\n",
       "      <td>1.397502</td>\n",
       "    </tr>\n",
       "    <tr>\n",
       "      <td>2000</td>\n",
       "      <td>2.743234</td>\n",
       "      <td>1.298466</td>\n",
       "    </tr>\n",
       "    <tr>\n",
       "      <td>2500</td>\n",
       "      <td>2.636571</td>\n",
       "      <td>1.234627</td>\n",
       "    </tr>\n",
       "    <tr>\n",
       "      <td>3000</td>\n",
       "      <td>2.569133</td>\n",
       "      <td>1.189672</td>\n",
       "    </tr>\n",
       "    <tr>\n",
       "      <td>3500</td>\n",
       "      <td>2.506104</td>\n",
       "      <td>1.157998</td>\n",
       "    </tr>\n",
       "    <tr>\n",
       "      <td>4000</td>\n",
       "      <td>2.469930</td>\n",
       "      <td>1.142962</td>\n",
       "    </tr>\n",
       "    <tr>\n",
       "      <td>4500</td>\n",
       "      <td>2.438746</td>\n",
       "      <td>1.129909</td>\n",
       "    </tr>\n",
       "    <tr>\n",
       "      <td>5000</td>\n",
       "      <td>2.420213</td>\n",
       "      <td>1.122694</td>\n",
       "    </tr>\n",
       "  </tbody>\n",
       "</table><p>"
      ],
      "text/plain": [
       "<IPython.core.display.HTML object>"
      ]
     },
     "metadata": {},
     "output_type": "display_data"
    },
    {
     "name": "stderr",
     "output_type": "stream",
     "text": [
      "Not all data has been set. Are you sure you passed all values?\n",
      "Not all data has been set. Are you sure you passed all values?\n",
      "/home/ec2-user/anaconda3/envs/pytorch_latest_p36/lib/python3.6/site-packages/torch/nn/parallel/_functions.py:64: UserWarning: Was asked to gather along dimension 0, but all input tensors were scalars; will instead unsqueeze and return a vector.\n",
      "  warnings.warn('Was asked to gather along dimension 0, but all '\n",
      "Not all data has been set. Are you sure you passed all values?\n",
      "Not all data has been set. Are you sure you passed all values?\n",
      "/home/ec2-user/anaconda3/envs/pytorch_latest_p36/lib/python3.6/site-packages/torch/nn/parallel/_functions.py:64: UserWarning: Was asked to gather along dimension 0, but all input tensors were scalars; will instead unsqueeze and return a vector.\n",
      "  warnings.warn('Was asked to gather along dimension 0, but all '\n",
      "Not all data has been set. Are you sure you passed all values?\n",
      "Not all data has been set. Are you sure you passed all values?\n",
      "/home/ec2-user/anaconda3/envs/pytorch_latest_p36/lib/python3.6/site-packages/torch/nn/parallel/_functions.py:64: UserWarning: Was asked to gather along dimension 0, but all input tensors were scalars; will instead unsqueeze and return a vector.\n",
      "  warnings.warn('Was asked to gather along dimension 0, but all '\n",
      "Not all data has been set. Are you sure you passed all values?\n",
      "Not all data has been set. Are you sure you passed all values?\n",
      "/home/ec2-user/anaconda3/envs/pytorch_latest_p36/lib/python3.6/site-packages/torch/nn/parallel/_functions.py:64: UserWarning: Was asked to gather along dimension 0, but all input tensors were scalars; will instead unsqueeze and return a vector.\n",
      "  warnings.warn('Was asked to gather along dimension 0, but all '\n",
      "Not all data has been set. Are you sure you passed all values?\n",
      "Not all data has been set. Are you sure you passed all values?\n",
      "/home/ec2-user/anaconda3/envs/pytorch_latest_p36/lib/python3.6/site-packages/torch/nn/parallel/_functions.py:64: UserWarning: Was asked to gather along dimension 0, but all input tensors were scalars; will instead unsqueeze and return a vector.\n",
      "  warnings.warn('Was asked to gather along dimension 0, but all '\n"
     ]
    },
    {
     "data": {
      "text/plain": [
       "TrainOutput(global_step=5280, training_loss=2.766100704308712)"
      ]
     },
     "execution_count": 18,
     "metadata": {},
     "output_type": "execute_result"
    }
   ],
   "source": [
    "trainer.train()"
   ]
  },
  {
   "cell_type": "code",
   "execution_count": 19,
   "metadata": {},
   "outputs": [
    {
     "name": "stdout",
     "output_type": "stream",
     "text": [
      "fin\n"
     ]
    }
   ],
   "source": [
    "print('fin')"
   ]
  },
  {
   "cell_type": "code",
   "execution_count": 4,
   "metadata": {},
   "outputs": [
    {
     "data": {
      "text/plain": [
       "<matplotlib.legend.Legend at 0x7fa3f2e57cf8>"
      ]
     },
     "execution_count": 4,
     "metadata": {},
     "output_type": "execute_result"
    },
    {
     "data": {
      "image/png": "[encoded data removed]",
      "text/plain": [
       "<Figure size 720x576 with 1 Axes>"
      ]
     },
     "metadata": {
      "needs_background": "light"
     },
     "output_type": "display_data"
    }
   ],
   "source": [
    "\n",
    "metrics= np.array(\n",
    "[[500,3.997869,1.891722],\n",
    "[1000,3.172658,1.568079],\n",
    "[1500,2.904457,1.397502],\n",
    "[2000,2.743234,1.298466],\n",
    "[2500,2.636571,1.234627],\n",
    "[3000,2.569133,1.189672],\n",
    "[3500,2.506104,1.157998],\n",
    "[4000,2.46993,1.142962],\n",
    "[4500,2.438746,1.129909],\n",
    "[5000,2.420213,1.122694]])\n",
    "\n",
    "\n",
    "\n",
    "import matplotlib.pyplot as plt\n",
    "\n",
    "\n",
    "fig,ax = plt.subplots(figsize=(10,8))\n",
    "\n",
    "#plt.plot(metrics[:,0], metrics[:,1], label='Training Loss')\n",
    "\n",
    "plt.plot(metrics[:,0], metrics[:,2], label='Validation Loss')\n",
    "\n",
    "ax.grid()\n",
    "\n",
    "ax.set(xlabel='pasos de entrenamiento', ylabel='Cross Entropy Loss',\n",
    "       title='Entrnamiento GPT2 Base (Tokenizer=Inglés)')\n",
    "plt.yticks(np.arange(1.2, 2, step=0.2))\n",
    "\n",
    "plt.legend()\n"
   ]
  },
  {
   "cell_type": "code",
   "execution_count": 30,
   "metadata": {
    "scrolled": true
   },
   "outputs": [],
   "source": [
    "trainer.save_model()"
   ]
  },
  {
   "cell_type": "code",
   "execution_count": 31,
   "metadata": {
    "scrolled": true
   },
   "outputs": [
    {
     "data": {
      "text/plain": [
       "('./4-train-gpt2-en-toke-en-tweets-der/tokenizer_config.json',\n",
       " './4-train-gpt2-en-toke-en-tweets-der/special_tokens_map.json',\n",
       " './4-train-gpt2-en-toke-en-tweets-der/vocab.json',\n",
       " './4-train-gpt2-en-toke-en-tweets-der/merges.txt',\n",
       " './4-train-gpt2-en-toke-en-tweets-der/added_tokens.json')"
      ]
     },
     "execution_count": 31,
     "metadata": {},
     "output_type": "execute_result"
    }
   ],
   "source": [
    "# creating directory if it is not present\n",
    "if not os.path.exists(output_dir):\n",
    "    os.mkdir(output_dir)\n",
    "    \n",
    "model_to_save = model.module if hasattr(model, 'module') else model\n",
    "output_model_file = os.path.join(output_dir, WEIGHTS_NAME)\n",
    "output_config_file = os.path.join(output_dir, CONFIG_NAME)\n",
    "\n",
    "# save model and model configs\n",
    "model.save_pretrained(output_dir)\n",
    "model_to_save.config.to_json_file(output_config_file)\n",
    "\n",
    "# save tokenizer\n",
    "tokenizer.save_pretrained(output_dir)"
   ]
  },
  {
   "cell_type": "markdown",
   "metadata": {},
   "source": [
    "## Probando el modelo\n",
    "\n",
    "Solo cargamos el modelo si ya fue entrenado, OJO."
   ]
  },
  {
   "cell_type": "code",
   "execution_count": 11,
   "metadata": {
    "scrolled": true
   },
   "outputs": [],
   "source": [
    "#output_dir=\"./gpt2-derecha-original\"\n",
    "model = AutoModelWithLMHead.from_pretrained(output_dir)\n",
    "tokenizer = AutoTokenizer.from_pretrained(output_dir)\n",
    "\n",
    "torch.cuda.is_available()\n",
    "device = torch.device(\"cuda\" if torch.cuda.is_available() else \"cpu\")\n",
    "model.to(device);"
   ]
  },
  {
   "cell_type": "markdown",
   "metadata": {},
   "source": [
    "## Aca podemos configurar la libertad en la generación como tamaño máximo, minimo, temperatura, beam search, etc."
   ]
  },
  {
   "cell_type": "code",
   "execution_count": 10,
   "metadata": {
    "scrolled": true
   },
   "outputs": [],
   "source": [
    "bad_words_ids =[ \n",
    "    tokenizer.encode('|', add_prefix_space=True)]\n",
    "\n",
    "\n",
    "def test_model(device, model, text):\n",
    "    input_ids = tokenizer.encode(text, return_tensors='pt').to(device) # getting out output\n",
    "    #attention_mask = tokenizer.encode(seeds, return_tensors='pt').to(device)\n",
    "    \n",
    "    print(\"generando beams para input: \", text,\"\\n==================================================\")\n",
    "    beam_output = model.generate(\n",
    "        input_ids,\n",
    "        max_length = 190,\n",
    "        min_length = 50,\n",
    "        early_stop=True,\n",
    "        do_sample=True,\n",
    "        top_k=100, \n",
    "        top_p=0.9,\n",
    "        num_beams = 10,\n",
    "        bad_words_ids = bad_words_ids,\n",
    "        temperature = 1,\n",
    "        #length_penalty=2,\n",
    "        no_repeat_ngram_size=2,\n",
    "        #repetition_penalty=2.0,\n",
    "        num_return_sequences=10,\n",
    "        bos_token_id = tokenizer.bos_token_id,\n",
    "        eos_token_id = tokenizer.eos_token_id,\n",
    "        pad_token_id =tokenizer.pad_token_id\n",
    "    )\n",
    "    \n",
    "    decoded_beams = []\n",
    "    \n",
    "    \n",
    "    for beam in beam_output:   \n",
    "        decoded_beams.append({'text':text, 'generado':tokenizer.decode(beam)})\n",
    "        #print (\"\\n\\n\",tokenizer.decode(beam))\n",
    "        \n",
    "    return decoded_beams"
   ]
  },
  {
   "cell_type": "code",
   "execution_count": 4,
   "metadata": {},
   "outputs": [
    {
     "name": "stdout",
     "output_type": "stream",
     "text": [
      "generando beams para input:  Con los vecinos de la comuna estamos trabajando  \n",
      "==================================================\n"
     ]
    }
   ],
   "source": [
    "generated = test_model(device, model, \"Con los vecinos de la comuna estamos trabajando \")"
   ]
  },
  {
   "cell_type": "code",
   "execution_count": 5,
   "metadata": {},
   "outputs": [
    {
     "data": {
      "text/plain": [
       "[{'text': 'Con los vecinos de la comuna estamos trabajando ',\n",
       "  'generado': 'Con los vecinos de la comuna estamos trabajando  para evitar contagios de #COVIDー19 #QuedateEnCasa #UsaMascarilla @mario_olavarria @CorpColinaSalud  #CuidaTuVida DIDECO va a tu barrio: Un servicio para que hagas consultas y resuelvas tus dudas sobre esta dirección del municipio. Solo se atenderá con permiso de, con mascarilla y manteniendo la distancia. Cupos limitados. El denominado de @Carabdechile ya cuenta con la campaña más grande en nuestra página web.  🔴 AHORA: Alcalde @manueldevia2016 encabezó la entrega de cajas de'},\n",
       " {'text': 'Con los vecinos de la comuna estamos trabajando ',\n",
       "  'generado': 'Con los vecinos de la comuna estamos trabajando  #CuidaTuVida @CorpColinaSalud informa las atenciones que se realizarán, a partir del lunes 8 de junio, en los CESFAM de Alpatacal y Esmeralda, de manera de enfocar sus prestaciones en las personas que más lo requieran. @mario_olavarria @ministeriosalud  🔴AHORA: Alcalde @manueldevia2016 entrega detalles de esta situación y las medidas a tomar. #PlanCoronavirus #CuidémonosEntreTodos #QuédateEnCasa🏠  El #MercadoCampesino de @INDAP_Chile ya cuenta con'},\n",
       " {'text': 'Con los vecinos de la comuna estamos trabajando ',\n",
       "  'generado': 'Con los vecinos de la comuna estamos trabajando  #CuidaTuVida @CorpColinaSalud informa las atenciones que se realizarán, a partir del lunes 8 de junio, en los CESFAM de Alpatacal y Esmeralda, de manera de enfocar sus prestaciones en las personas que más lo requieran. @mario_olavarria @ministeriosalud  ¡ATENCIÓN VECINOS! La #cuarentena que comenzó el viernes 15 de mayo generó algunas dudas. Esta pandemia hay que tomársela en serio. De ti depende que el #COVID19 pueda ser derrotado. Te dejamos respuestas a las'},\n",
       " {'text': 'Con los vecinos de la comuna estamos trabajando ',\n",
       "  'generado': 'Con los vecinos de la comuna estamos trabajando  en conjunto con el Intendente @UrquietaAtacama y la Gobernadora @cotepuigrredon  #CuidaTuVida @CorpColinaSalud informa las atenciones que se realizarán, a partir del lunes 8 de junio, en los CESFAM de Alpatacal y Esmeralda, de manera de enfocar sus prestaciones en las personas que más lo requieran. @mario_olavarria @ministeriosalud  🔹️OPORTUNIDAD LABORAL: Esta pandemia hay que tomársela en serio. El #COVID19 entrega detalles de esta situación y las medidas a to'},\n",
       " {'text': 'Con los vecinos de la comuna estamos trabajando ',\n",
       "  'generado': 'Con los vecinos de la comuna estamos trabajando  para evitar contagios de #COVIDー19 #QuedateEnCasa #UsaMascarilla @mario_olavarria @CorpColinaSalud  #CuidaTuVida DIDECO va a tu barrio: Un nuevo servicio para que hagas consultas y resuelvas tus dudas sobre esta dirección del municipio. Solo se atenderá con permiso de, con mascarilla y manteniendo la distancia. Cupos limitados.  Llama gratis al 800 104 777 o al correo atencionvecinos@mlareina.cl. #CuidémonosEntreTodos  El Intendente @UrquietaAtacama junto al Seremi @SeremiSal'},\n",
       " {'text': 'Con los vecinos de la comuna estamos trabajando ',\n",
       "  'generado': 'Con los vecinos de la comuna estamos trabajando  #CuidaTuVida @CorpColinaSalud informa las atenciones que se realizarán, a partir del lunes 8 de junio, en los CESFAM de Alpatacal y Esmeralda, de manera de enfocar sus prestaciones en las personas que más lo requieran. @mario_olavarria @ministeriosalud  🔹️OPORTUNIDAD LABORAL: Esta pandemia hay que tomársela en serio. Es hora de entrar a la cancha y jugar todos juntos para ganarle al #COVID19. El #MercadoCampesino de @INDAP_Chile ya cuenta con la aplicación'},\n",
       " {'text': 'Con los vecinos de la comuna estamos trabajando ',\n",
       "  'generado': 'Con los vecinos de la comuna estamos trabajando  para evitar el contagio de #COVIDー19 #QuedateEnCasa #UsaMascarilla @mario_olavarria @CorpColinaSalud  #CuidaTuVida Sin permiso temporal otorgado por @Carabdechile  Sin carnet de identidad en la mano No habrá atención en el municipio. Se entregarán solo 30 números desde las 8:30 horas, de lunes a viernes. Para más información entra a, y sigue el link para comprar una #PermisoDeCirculacionESPECTACIÓN #CuidémonosEntreTodos  El #MercadoCampesino de @INDAP_Ch'},\n",
       " {'text': 'Con los vecinos de la comuna estamos trabajando ',\n",
       "  'generado': 'Con los vecinos de la comuna estamos trabajando  #CuidaTuVida @CorpColinaSalud informa las atenciones que se realizarán, a partir del lunes 8 de junio, en los CESFAM de Alpatacal y Esmeralda, de manera de enfocar sus prestaciones en las personas que surgen en esta situación. @mario_olavarria @ministeriosalud  [AHORA] Gobernadora @cotepuigrredon, junto a la Alcaldesa @Nora_Cuevas y el Alcalde @FelipeGuevaraSt, participan en ceremonia de entrega de cajas de mercadería del @GobiernodeChile en la #RMdeTodos🇨'},\n",
       " {'text': 'Con los vecinos de la comuna estamos trabajando ',\n",
       "  'generado': 'Con los vecinos de la comuna estamos trabajando  para enfrentar la pandemia de #COVID19 #QuedateEnCasa #UsaMascarilla @mario_olavarria @CorpColinaSalud  #CuidaTuVida DIDECO va a tu barrio: Un nuevo servicio para que hagas consultas y resuelvas tus dudas sobre esta dirección del municipio. Solo se atenderá con permiso de, con mascarilla y manteniendo la distancia. Cupos limitados.  Llama gratis al 800 104 777 o al correo atencionvecinos@mlareina.cl. #CuidémonosEntreTodos  🔹️OPORTUNIDAD LABORAL: Atención vec'},\n",
       " {'text': 'Con los vecinos de la comuna estamos trabajando ',\n",
       "  'generado': 'Con los vecinos de la comuna estamos trabajando  #CuidaTuVida @CorpColinaSalud informa las atenciones que se realizarán, a partir del lunes 8 de junio, en los CESFAM de Alpatacal y Esmeralda, de manera de enfocar sus prestaciones en las personas que más lo requieran. @mario_olavarria @ministeriosalud  [AHORA] Gobernadora @cotepuigrredon, junto a la Alcaldesa @Nora_Cuevas y el Alcalde @MIGUELARAYALOBO, participan en ceremonia de entrega de cajas de mercadería del @GobiernodeChile en la #RMdeTodos🇨'}]"
      ]
     },
     "execution_count": 5,
     "metadata": {},
     "output_type": "execute_result"
    }
   ],
   "source": [
    "generated"
   ]
  },
  {
   "cell_type": "code",
   "execution_count": 6,
   "metadata": {},
   "outputs": [
    {
     "data": {
      "text/html": [
       "<div>\n",
       "<style scoped>\n",
       "    .dataframe tbody tr th:only-of-type {\n",
       "        vertical-align: middle;\n",
       "    }\n",
       "\n",
       "    .dataframe tbody tr th {\n",
       "        vertical-align: top;\n",
       "    }\n",
       "\n",
       "    .dataframe thead th {\n",
       "        text-align: right;\n",
       "    }\n",
       "</style>\n",
       "<table border=\"1\" class=\"dataframe\">\n",
       "  <thead>\n",
       "    <tr style=\"text-align: right;\">\n",
       "      <th></th>\n",
       "      <th>text</th>\n",
       "      <th>generado</th>\n",
       "    </tr>\n",
       "  </thead>\n",
       "  <tbody>\n",
       "    <tr>\n",
       "      <th>0</th>\n",
       "      <td>Con los vecinos de la comuna estamos trabajando</td>\n",
       "      <td>Con los vecinos de la comuna estamos trabajando  para evitar contagios de #COVIDー19 #QuedateEnCasa #UsaMascarilla @mario_olavarria @CorpColinaSalud  #CuidaTuVida DIDECO va a tu barrio: Un servicio para que hagas consultas y resuelvas tus dudas sobre esta dirección del municipio. Solo se atenderá con permiso de, con mascarilla y manteniendo la distancia. Cupos limitados. El denominado de @Carabdechile ya cuenta con la campaña más grande en nuestra página web.  🔴 AHORA: Alcalde @manueldevia2016 encabezó la entrega de cajas de</td>\n",
       "    </tr>\n",
       "    <tr>\n",
       "      <th>1</th>\n",
       "      <td>Con los vecinos de la comuna estamos trabajando</td>\n",
       "      <td>Con los vecinos de la comuna estamos trabajando  #CuidaTuVida @CorpColinaSalud informa las atenciones que se realizarán, a partir del lunes 8 de junio, en los CESFAM de Alpatacal y Esmeralda, de manera de enfocar sus prestaciones en las personas que más lo requieran. @mario_olavarria @ministeriosalud  🔴AHORA: Alcalde @manueldevia2016 entrega detalles de esta situación y las medidas a tomar. #PlanCoronavirus #CuidémonosEntreTodos #QuédateEnCasa🏠  El #MercadoCampesino de @INDAP_Chile ya cuenta con</td>\n",
       "    </tr>\n",
       "    <tr>\n",
       "      <th>2</th>\n",
       "      <td>Con los vecinos de la comuna estamos trabajando</td>\n",
       "      <td>Con los vecinos de la comuna estamos trabajando  #CuidaTuVida @CorpColinaSalud informa las atenciones que se realizarán, a partir del lunes 8 de junio, en los CESFAM de Alpatacal y Esmeralda, de manera de enfocar sus prestaciones en las personas que más lo requieran. @mario_olavarria @ministeriosalud  ¡ATENCIÓN VECINOS! La #cuarentena que comenzó el viernes 15 de mayo generó algunas dudas. Esta pandemia hay que tomársela en serio. De ti depende que el #COVID19 pueda ser derrotado. Te dejamos respuestas a las</td>\n",
       "    </tr>\n",
       "    <tr>\n",
       "      <th>3</th>\n",
       "      <td>Con los vecinos de la comuna estamos trabajando</td>\n",
       "      <td>Con los vecinos de la comuna estamos trabajando  en conjunto con el Intendente @UrquietaAtacama y la Gobernadora @cotepuigrredon  #CuidaTuVida @CorpColinaSalud informa las atenciones que se realizarán, a partir del lunes 8 de junio, en los CESFAM de Alpatacal y Esmeralda, de manera de enfocar sus prestaciones en las personas que más lo requieran. @mario_olavarria @ministeriosalud  🔹️OPORTUNIDAD LABORAL: Esta pandemia hay que tomársela en serio. El #COVID19 entrega detalles de esta situación y las medidas a to</td>\n",
       "    </tr>\n",
       "    <tr>\n",
       "      <th>4</th>\n",
       "      <td>Con los vecinos de la comuna estamos trabajando</td>\n",
       "      <td>Con los vecinos de la comuna estamos trabajando  para evitar contagios de #COVIDー19 #QuedateEnCasa #UsaMascarilla @mario_olavarria @CorpColinaSalud  #CuidaTuVida DIDECO va a tu barrio: Un nuevo servicio para que hagas consultas y resuelvas tus dudas sobre esta dirección del municipio. Solo se atenderá con permiso de, con mascarilla y manteniendo la distancia. Cupos limitados.  Llama gratis al 800 104 777 o al correo atencionvecinos@mlareina.cl. #CuidémonosEntreTodos  El Intendente @UrquietaAtacama junto al Seremi @SeremiSal</td>\n",
       "    </tr>\n",
       "    <tr>\n",
       "      <th>5</th>\n",
       "      <td>Con los vecinos de la comuna estamos trabajando</td>\n",
       "      <td>Con los vecinos de la comuna estamos trabajando  #CuidaTuVida @CorpColinaSalud informa las atenciones que se realizarán, a partir del lunes 8 de junio, en los CESFAM de Alpatacal y Esmeralda, de manera de enfocar sus prestaciones en las personas que más lo requieran. @mario_olavarria @ministeriosalud  🔹️OPORTUNIDAD LABORAL: Esta pandemia hay que tomársela en serio. Es hora de entrar a la cancha y jugar todos juntos para ganarle al #COVID19. El #MercadoCampesino de @INDAP_Chile ya cuenta con la aplicación</td>\n",
       "    </tr>\n",
       "    <tr>\n",
       "      <th>6</th>\n",
       "      <td>Con los vecinos de la comuna estamos trabajando</td>\n",
       "      <td>Con los vecinos de la comuna estamos trabajando  para evitar el contagio de #COVIDー19 #QuedateEnCasa #UsaMascarilla @mario_olavarria @CorpColinaSalud  #CuidaTuVida Sin permiso temporal otorgado por @Carabdechile  Sin carnet de identidad en la mano No habrá atención en el municipio. Se entregarán solo 30 números desde las 8:30 horas, de lunes a viernes. Para más información entra a, y sigue el link para comprar una #PermisoDeCirculacionESPECTACIÓN #CuidémonosEntreTodos  El #MercadoCampesino de @INDAP_Ch</td>\n",
       "    </tr>\n",
       "    <tr>\n",
       "      <th>7</th>\n",
       "      <td>Con los vecinos de la comuna estamos trabajando</td>\n",
       "      <td>Con los vecinos de la comuna estamos trabajando  #CuidaTuVida @CorpColinaSalud informa las atenciones que se realizarán, a partir del lunes 8 de junio, en los CESFAM de Alpatacal y Esmeralda, de manera de enfocar sus prestaciones en las personas que surgen en esta situación. @mario_olavarria @ministeriosalud  [AHORA] Gobernadora @cotepuigrredon, junto a la Alcaldesa @Nora_Cuevas y el Alcalde @FelipeGuevaraSt, participan en ceremonia de entrega de cajas de mercadería del @GobiernodeChile en la #RMdeTodos🇨</td>\n",
       "    </tr>\n",
       "    <tr>\n",
       "      <th>8</th>\n",
       "      <td>Con los vecinos de la comuna estamos trabajando</td>\n",
       "      <td>Con los vecinos de la comuna estamos trabajando  para enfrentar la pandemia de #COVID19 #QuedateEnCasa #UsaMascarilla @mario_olavarria @CorpColinaSalud  #CuidaTuVida DIDECO va a tu barrio: Un nuevo servicio para que hagas consultas y resuelvas tus dudas sobre esta dirección del municipio. Solo se atenderá con permiso de, con mascarilla y manteniendo la distancia. Cupos limitados.  Llama gratis al 800 104 777 o al correo atencionvecinos@mlareina.cl. #CuidémonosEntreTodos  🔹️OPORTUNIDAD LABORAL: Atención vec</td>\n",
       "    </tr>\n",
       "    <tr>\n",
       "      <th>9</th>\n",
       "      <td>Con los vecinos de la comuna estamos trabajando</td>\n",
       "      <td>Con los vecinos de la comuna estamos trabajando  #CuidaTuVida @CorpColinaSalud informa las atenciones que se realizarán, a partir del lunes 8 de junio, en los CESFAM de Alpatacal y Esmeralda, de manera de enfocar sus prestaciones en las personas que más lo requieran. @mario_olavarria @ministeriosalud  [AHORA] Gobernadora @cotepuigrredon, junto a la Alcaldesa @Nora_Cuevas y el Alcalde @MIGUELARAYALOBO, participan en ceremonia de entrega de cajas de mercadería del @GobiernodeChile en la #RMdeTodos🇨</td>\n",
       "    </tr>\n",
       "  </tbody>\n",
       "</table>\n",
       "</div>"
      ],
      "text/plain": [
       "                                               text  \\\n",
       "0  Con los vecinos de la comuna estamos trabajando    \n",
       "1  Con los vecinos de la comuna estamos trabajando    \n",
       "2  Con los vecinos de la comuna estamos trabajando    \n",
       "3  Con los vecinos de la comuna estamos trabajando    \n",
       "4  Con los vecinos de la comuna estamos trabajando    \n",
       "5  Con los vecinos de la comuna estamos trabajando    \n",
       "6  Con los vecinos de la comuna estamos trabajando    \n",
       "7  Con los vecinos de la comuna estamos trabajando    \n",
       "8  Con los vecinos de la comuna estamos trabajando    \n",
       "9  Con los vecinos de la comuna estamos trabajando    \n",
       "\n",
       "                                                                                                                                                                                                                                                                                                                                                                                                                                                                                                                                            generado  \n",
       "0  Con los vecinos de la comuna estamos trabajando  para evitar contagios de #COVIDー19 #QuedateEnCasa #UsaMascarilla @mario_olavarria @CorpColinaSalud  #CuidaTuVida DIDECO va a tu barrio: Un servicio para que hagas consultas y resuelvas tus dudas sobre esta dirección del municipio. Solo se atenderá con permiso de, con mascarilla y manteniendo la distancia. Cupos limitados. El denominado de @Carabdechile ya cuenta con la campaña más grande en nuestra página web.  🔴 AHORA: Alcalde @manueldevia2016 encabezó la entrega de cajas de  \n",
       "1                               Con los vecinos de la comuna estamos trabajando  #CuidaTuVida @CorpColinaSalud informa las atenciones que se realizarán, a partir del lunes 8 de junio, en los CESFAM de Alpatacal y Esmeralda, de manera de enfocar sus prestaciones en las personas que más lo requieran. @mario_olavarria @ministeriosalud  🔴AHORA: Alcalde @manueldevia2016 entrega detalles de esta situación y las medidas a tomar. #PlanCoronavirus #CuidémonosEntreTodos #QuédateEnCasa🏠  El #MercadoCampesino de @INDAP_Chile ya cuenta con  \n",
       "2                  Con los vecinos de la comuna estamos trabajando  #CuidaTuVida @CorpColinaSalud informa las atenciones que se realizarán, a partir del lunes 8 de junio, en los CESFAM de Alpatacal y Esmeralda, de manera de enfocar sus prestaciones en las personas que más lo requieran. @mario_olavarria @ministeriosalud  ¡ATENCIÓN VECINOS! La #cuarentena que comenzó el viernes 15 de mayo generó algunas dudas. Esta pandemia hay que tomársela en serio. De ti depende que el #COVID19 pueda ser derrotado. Te dejamos respuestas a las  \n",
       "3                 Con los vecinos de la comuna estamos trabajando  en conjunto con el Intendente @UrquietaAtacama y la Gobernadora @cotepuigrredon  #CuidaTuVida @CorpColinaSalud informa las atenciones que se realizarán, a partir del lunes 8 de junio, en los CESFAM de Alpatacal y Esmeralda, de manera de enfocar sus prestaciones en las personas que más lo requieran. @mario_olavarria @ministeriosalud  🔹️OPORTUNIDAD LABORAL: Esta pandemia hay que tomársela en serio. El #COVID19 entrega detalles de esta situación y las medidas a to  \n",
       "4  Con los vecinos de la comuna estamos trabajando  para evitar contagios de #COVIDー19 #QuedateEnCasa #UsaMascarilla @mario_olavarria @CorpColinaSalud  #CuidaTuVida DIDECO va a tu barrio: Un nuevo servicio para que hagas consultas y resuelvas tus dudas sobre esta dirección del municipio. Solo se atenderá con permiso de, con mascarilla y manteniendo la distancia. Cupos limitados.  Llama gratis al 800 104 777 o al correo atencionvecinos@mlareina.cl. #CuidémonosEntreTodos  El Intendente @UrquietaAtacama junto al Seremi @SeremiSal  \n",
       "5                      Con los vecinos de la comuna estamos trabajando  #CuidaTuVida @CorpColinaSalud informa las atenciones que se realizarán, a partir del lunes 8 de junio, en los CESFAM de Alpatacal y Esmeralda, de manera de enfocar sus prestaciones en las personas que más lo requieran. @mario_olavarria @ministeriosalud  🔹️OPORTUNIDAD LABORAL: Esta pandemia hay que tomársela en serio. Es hora de entrar a la cancha y jugar todos juntos para ganarle al #COVID19. El #MercadoCampesino de @INDAP_Chile ya cuenta con la aplicación  \n",
       "6                        Con los vecinos de la comuna estamos trabajando  para evitar el contagio de #COVIDー19 #QuedateEnCasa #UsaMascarilla @mario_olavarria @CorpColinaSalud  #CuidaTuVida Sin permiso temporal otorgado por @Carabdechile  Sin carnet de identidad en la mano No habrá atención en el municipio. Se entregarán solo 30 números desde las 8:30 horas, de lunes a viernes. Para más información entra a, y sigue el link para comprar una #PermisoDeCirculacionESPECTACIÓN #CuidémonosEntreTodos  El #MercadoCampesino de @INDAP_Ch  \n",
       "7                      Con los vecinos de la comuna estamos trabajando  #CuidaTuVida @CorpColinaSalud informa las atenciones que se realizarán, a partir del lunes 8 de junio, en los CESFAM de Alpatacal y Esmeralda, de manera de enfocar sus prestaciones en las personas que surgen en esta situación. @mario_olavarria @ministeriosalud  [AHORA] Gobernadora @cotepuigrredon, junto a la Alcaldesa @Nora_Cuevas y el Alcalde @FelipeGuevaraSt, participan en ceremonia de entrega de cajas de mercadería del @GobiernodeChile en la #RMdeTodos🇨  \n",
       "8                    Con los vecinos de la comuna estamos trabajando  para enfrentar la pandemia de #COVID19 #QuedateEnCasa #UsaMascarilla @mario_olavarria @CorpColinaSalud  #CuidaTuVida DIDECO va a tu barrio: Un nuevo servicio para que hagas consultas y resuelvas tus dudas sobre esta dirección del municipio. Solo se atenderá con permiso de, con mascarilla y manteniendo la distancia. Cupos limitados.  Llama gratis al 800 104 777 o al correo atencionvecinos@mlareina.cl. #CuidémonosEntreTodos  🔹️OPORTUNIDAD LABORAL: Atención vec  \n",
       "9                              Con los vecinos de la comuna estamos trabajando  #CuidaTuVida @CorpColinaSalud informa las atenciones que se realizarán, a partir del lunes 8 de junio, en los CESFAM de Alpatacal y Esmeralda, de manera de enfocar sus prestaciones en las personas que más lo requieran. @mario_olavarria @ministeriosalud  [AHORA] Gobernadora @cotepuigrredon, junto a la Alcaldesa @Nora_Cuevas y el Alcalde @MIGUELARAYALOBO, participan en ceremonia de entrega de cajas de mercadería del @GobiernodeChile en la #RMdeTodos🇨  "
      ]
     },
     "execution_count": 6,
     "metadata": {},
     "output_type": "execute_result"
    }
   ],
   "source": [
    "pd.DataFrame.from_records(generated)"
   ]
  },
  {
   "cell_type": "code",
   "execution_count": 12,
   "metadata": {},
   "outputs": [
    {
     "name": "stdout",
     "output_type": "stream",
     "text": [
      "generando beams para input:  Con los vecinos  \n",
      "==================================================\n"
     ]
    },
    {
     "data": {
      "text/html": [
       "<div>\n",
       "<style scoped>\n",
       "    .dataframe tbody tr th:only-of-type {\n",
       "        vertical-align: middle;\n",
       "    }\n",
       "\n",
       "    .dataframe tbody tr th {\n",
       "        vertical-align: top;\n",
       "    }\n",
       "\n",
       "    .dataframe thead th {\n",
       "        text-align: right;\n",
       "    }\n",
       "</style>\n",
       "<table border=\"1\" class=\"dataframe\">\n",
       "  <thead>\n",
       "    <tr style=\"text-align: right;\">\n",
       "      <th></th>\n",
       "      <th>text</th>\n",
       "      <th>generado</th>\n",
       "    </tr>\n",
       "  </thead>\n",
       "  <tbody>\n",
       "    <tr>\n",
       "      <th>0</th>\n",
       "      <td>Con los vecinos</td>\n",
       "      <td>Con los vecinos  #CuidaTuVida @CorpColinaSalud informa las atenciones que se realizarán, a partir del lunes 8 de junio, en los CESFAM de Alpatacal y Esmeralda, de manera de enfocar sus prestaciones en las personas que surgen en esta situación. @mario_olavarria @ministeriosalud  🔹️OPORTUNIDAD LABORAL: Esta pandemia hay que tomársela en serio. De ti depende que el #COVID19 pueda ser derrotado, que podamos estar nuevamente juntos. #QuédateEnCasa🏠 #CuidémonosEntreTodos #PlanCoronavirus�</td>\n",
       "    </tr>\n",
       "    <tr>\n",
       "      <th>1</th>\n",
       "      <td>Con los vecinos</td>\n",
       "      <td>Con los vecinos  vía @emol  #CuidaTuVida El @ministeriosalud anunció que el decreto de cuarentena total para Colina se extiende hasta el viernes 26 de junio. Reiteramos las medidas más importantes para cuidarse frente al #COVID19: #LavateLasManos #QuedateEnCasa #UsaMascarilla @mario_olavarria  El #MercadoCampesino de @INDAP_Chile ya cuenta con la aplicación YoiFerias: conoce sobre los productos que puedes encontrar, los precios y días que están disponibles. Entra a  y comienza a usarla. Te dejamos también un</td>\n",
       "    </tr>\n",
       "    <tr>\n",
       "      <th>2</th>\n",
       "      <td>Con los vecinos</td>\n",
       "      <td>Con los vecinos!!!  #CuidaTuVida Si estás buscando un regalo para tu papá, te invitamos a la Vitrina Virtual del #CentroDelEmprendedor para el #DiaDelPadre. Encuentra ese obsequio perfecto para este día tan especial. Te dejamos también a algunos participantes (1 de 3). @mario_olavarria  A esta hora, Gob. @RAMIREZCHILE junto alcalde @SanPedroMuni @manueldevia2016 y diversas autoridades participan en ceremonia de entrega de cajas de mercadería #AlimentosParaChile en la comuna de #Melipilla. #RMdeTodos💪🏼</td>\n",
       "    </tr>\n",
       "    <tr>\n",
       "      <th>3</th>\n",
       "      <td>Con los vecinos</td>\n",
       "      <td>Con los vecinos  @crisghm @MuniLaReina @saracampos @mcatarubio @ConcejalaMunoz @aadelgadom @PamelaGallegosM @ManoloCovarrub @rodolfodelrealm Hola Cris, escríbeme por mensaje directo! Un abrazo  #CuidaTuVida @CorpColinaSalud informa las atenciones que se realizarán, a partir del lunes 8 de junio, en los CESFAM de Alpatacal y Esmeralda, de manera de enfocar sus prestaciones en las personas que más lo requieran. @mario_olavarria @ministeriosalud  El #MercadoCampesino de @INDAP_</td>\n",
       "    </tr>\n",
       "    <tr>\n",
       "      <th>4</th>\n",
       "      <td>Con los vecinos</td>\n",
       "      <td>Con los vecinos  vía @emol  #CuidaTuVida Si estás buscando un regalo para tu papá, te invitamos a la Vitrina Virtual del #CentroDelEmprendedor para el #DiaDelPadre. Encuentra ese obsequio perfecto para este día tan especial. Te dejamos también a algunos participantes (3 de 3). @mario_olavarria  🔹️OPORTUNIDAD LABORAL: A esta hora, Gob. @RAMIREZCHILE junto alcalde @SanPedroMuni @manueldevia2016 y diversas autoridades participan en ceremonia de entrega de cajas de mercadería del @GobiernodeChile en la comuna</td>\n",
       "    </tr>\n",
       "    <tr>\n",
       "      <th>5</th>\n",
       "      <td>Con los vecinos</td>\n",
       "      <td>Con los vecinos!!!  🔹️ATENCIÓN VECINOS DE VIÑA DEL MAR CIUDAD DEL DEPORTE:   Virginia Reginato  @mario_olavarria @CorpColinaSalud @colinadeportes  #CuidaTuVida El @MinDesarrollo presentó la página, para consultar por el pago del #IngresoDeEmergencia, una importante ayuda en la pandemia de #COVID19. Recuerda que ya no es necesaria la #ClaveUnica para solicitar este beneficio. #QuedateEnCasa #LavateLasManos  El #MercadoCampesino de @INDAP_Chile ya cuenta con la aplicación YoiFerias: conoce sobre</td>\n",
       "    </tr>\n",
       "    <tr>\n",
       "      <th>6</th>\n",
       "      <td>Con los vecinos</td>\n",
       "      <td>Con los vecinos  #CuidaTuVida Si estás buscando un regalo para tu papá, te invitamos a la Vitrina Virtual del #CentroDelEmprendedor para el #DiaDelPadre. Encuentra ese obsequio perfecto para este día tan especial. Te dejamos también a algunos participantes (1 de 3). @mario_olavarria  @GobiernodeChile @sebastianpinera @ministeriosalud @IntendenciaRM @FelipeGuevaraSt @KarlaEnAccion @MinagriCL @jpguilisasti Hola Gabriela, por favor escríbeme por mensaje directo al teléfono 225927364 o al WhatsApp: +569</td>\n",
       "    </tr>\n",
       "    <tr>\n",
       "      <th>7</th>\n",
       "      <td>Con los vecinos</td>\n",
       "      <td>Con los vecinos  #CuidaTuVida @CorpColinaSalud informa las atenciones que se realizarán, a partir del lunes 8 de junio, en los CESFAM de Alpatacal y Esmeralda, de manera de enfocar sus prestaciones en las personas que más lo requieran. @mario_olavarria @ministeriosalud  El #MercadoCampesino de @INDAP_Chile ya cuenta con la aplicación YoiFerias: conoce sobre los productos que presta y disfrutar de una importante ayuda en la mano No habrá atención en el municipio. Entra a  y comienza a usarla. Te dejamos también un video expl</td>\n",
       "    </tr>\n",
       "    <tr>\n",
       "      <th>8</th>\n",
       "      <td>Con los vecinos</td>\n",
       "      <td>Con los vecinos  #CuidaTuVida @CorpColinaSalud informa las atenciones que se realizarán, a partir del lunes 8 de junio, en los CESFAM de Alpatacal y Esmeralda, de manera de enfocar sus prestaciones en las personas que más lo requieran. @mario_olavarria @ministeriosalud  🔴 AHORA: Alcalde @manueldevia2016 entrega detalles de esta situación y las medidas a tomar. #PlanCoronavirus #CuidémonosEntreTodos #QuédateEnCasa🏠  Agradezco al Gob. del Pdte.@sebastianpinera junto al Intendente @Urquiet</td>\n",
       "    </tr>\n",
       "    <tr>\n",
       "      <th>9</th>\n",
       "      <td>Con los vecinos</td>\n",
       "      <td>Con los vecinos  #CuidaTuVida Si estás buscando un regalo para tu papá, te invitamos a la Vitrina Virtual del #CentroDelEmprendedor para el #DiaDelPadre. Encuentra ese obsequio perfecto para este día tan especial. Te dejamos también a algunos participantes (1 de 3). @mario_olavarria  🔹️OPORTUNIDAD LABORAL: A esta hora, Gob. @RAMIREZCHILE junto alcalde @SanPedroMuni @manueldevia2016 y diversas autoridades de la comuna de #Melipilla, participan en reunión de trabajo con el Intendente @UrquietaAtacama para coordinar</td>\n",
       "    </tr>\n",
       "  </tbody>\n",
       "</table>\n",
       "</div>"
      ],
      "text/plain": [
       "               text  \\\n",
       "0  Con los vecinos    \n",
       "1  Con los vecinos    \n",
       "2  Con los vecinos    \n",
       "3  Con los vecinos    \n",
       "4  Con los vecinos    \n",
       "5  Con los vecinos    \n",
       "6  Con los vecinos    \n",
       "7  Con los vecinos    \n",
       "8  Con los vecinos    \n",
       "9  Con los vecinos    \n",
       "\n",
       "                                                                                                                                                                                                                                                                                                                                                                                                                                                                                                                                            generado  \n",
       "0                                            Con los vecinos  #CuidaTuVida @CorpColinaSalud informa las atenciones que se realizarán, a partir del lunes 8 de junio, en los CESFAM de Alpatacal y Esmeralda, de manera de enfocar sus prestaciones en las personas que surgen en esta situación. @mario_olavarria @ministeriosalud  🔹️OPORTUNIDAD LABORAL: Esta pandemia hay que tomársela en serio. De ti depende que el #COVID19 pueda ser derrotado, que podamos estar nuevamente juntos. #QuédateEnCasa🏠 #CuidémonosEntreTodos #PlanCoronavirus�  \n",
       "1                  Con los vecinos  vía @emol  #CuidaTuVida El @ministeriosalud anunció que el decreto de cuarentena total para Colina se extiende hasta el viernes 26 de junio. Reiteramos las medidas más importantes para cuidarse frente al #COVID19: #LavateLasManos #QuedateEnCasa #UsaMascarilla @mario_olavarria  El #MercadoCampesino de @INDAP_Chile ya cuenta con la aplicación YoiFerias: conoce sobre los productos que puedes encontrar, los precios y días que están disponibles. Entra a  y comienza a usarla. Te dejamos también un  \n",
       "2                         Con los vecinos!!!  #CuidaTuVida Si estás buscando un regalo para tu papá, te invitamos a la Vitrina Virtual del #CentroDelEmprendedor para el #DiaDelPadre. Encuentra ese obsequio perfecto para este día tan especial. Te dejamos también a algunos participantes (1 de 3). @mario_olavarria  A esta hora, Gob. @RAMIREZCHILE junto alcalde @SanPedroMuni @manueldevia2016 y diversas autoridades participan en ceremonia de entrega de cajas de mercadería #AlimentosParaChile en la comuna de #Melipilla. #RMdeTodos💪🏼  \n",
       "3                                                    Con los vecinos  @crisghm @MuniLaReina @saracampos @mcatarubio @ConcejalaMunoz @aadelgadom @PamelaGallegosM @ManoloCovarrub @rodolfodelrealm Hola Cris, escríbeme por mensaje directo! Un abrazo  #CuidaTuVida @CorpColinaSalud informa las atenciones que se realizarán, a partir del lunes 8 de junio, en los CESFAM de Alpatacal y Esmeralda, de manera de enfocar sus prestaciones en las personas que más lo requieran. @mario_olavarria @ministeriosalud  El #MercadoCampesino de @INDAP_  \n",
       "4                     Con los vecinos  vía @emol  #CuidaTuVida Si estás buscando un regalo para tu papá, te invitamos a la Vitrina Virtual del #CentroDelEmprendedor para el #DiaDelPadre. Encuentra ese obsequio perfecto para este día tan especial. Te dejamos también a algunos participantes (3 de 3). @mario_olavarria  🔹️OPORTUNIDAD LABORAL: A esta hora, Gob. @RAMIREZCHILE junto alcalde @SanPedroMuni @manueldevia2016 y diversas autoridades participan en ceremonia de entrega de cajas de mercadería del @GobiernodeChile en la comuna  \n",
       "5                                 Con los vecinos!!!  🔹️ATENCIÓN VECINOS DE VIÑA DEL MAR CIUDAD DEL DEPORTE:   Virginia Reginato  @mario_olavarria @CorpColinaSalud @colinadeportes  #CuidaTuVida El @MinDesarrollo presentó la página, para consultar por el pago del #IngresoDeEmergencia, una importante ayuda en la pandemia de #COVID19. Recuerda que ya no es necesaria la #ClaveUnica para solicitar este beneficio. #QuedateEnCasa #LavateLasManos  El #MercadoCampesino de @INDAP_Chile ya cuenta con la aplicación YoiFerias: conoce sobre  \n",
       "6                           Con los vecinos  #CuidaTuVida Si estás buscando un regalo para tu papá, te invitamos a la Vitrina Virtual del #CentroDelEmprendedor para el #DiaDelPadre. Encuentra ese obsequio perfecto para este día tan especial. Te dejamos también a algunos participantes (1 de 3). @mario_olavarria  @GobiernodeChile @sebastianpinera @ministeriosalud @IntendenciaRM @FelipeGuevaraSt @KarlaEnAccion @MinagriCL @jpguilisasti Hola Gabriela, por favor escríbeme por mensaje directo al teléfono 225927364 o al WhatsApp: +569  \n",
       "7  Con los vecinos  #CuidaTuVida @CorpColinaSalud informa las atenciones que se realizarán, a partir del lunes 8 de junio, en los CESFAM de Alpatacal y Esmeralda, de manera de enfocar sus prestaciones en las personas que más lo requieran. @mario_olavarria @ministeriosalud  El #MercadoCampesino de @INDAP_Chile ya cuenta con la aplicación YoiFerias: conoce sobre los productos que presta y disfrutar de una importante ayuda en la mano No habrá atención en el municipio. Entra a  y comienza a usarla. Te dejamos también un video expl  \n",
       "8                                        Con los vecinos  #CuidaTuVida @CorpColinaSalud informa las atenciones que se realizarán, a partir del lunes 8 de junio, en los CESFAM de Alpatacal y Esmeralda, de manera de enfocar sus prestaciones en las personas que más lo requieran. @mario_olavarria @ministeriosalud  🔴 AHORA: Alcalde @manueldevia2016 entrega detalles de esta situación y las medidas a tomar. #PlanCoronavirus #CuidémonosEntreTodos #QuédateEnCasa🏠  Agradezco al Gob. del Pdte.@sebastianpinera junto al Intendente @Urquiet  \n",
       "9             Con los vecinos  #CuidaTuVida Si estás buscando un regalo para tu papá, te invitamos a la Vitrina Virtual del #CentroDelEmprendedor para el #DiaDelPadre. Encuentra ese obsequio perfecto para este día tan especial. Te dejamos también a algunos participantes (1 de 3). @mario_olavarria  🔹️OPORTUNIDAD LABORAL: A esta hora, Gob. @RAMIREZCHILE junto alcalde @SanPedroMuni @manueldevia2016 y diversas autoridades de la comuna de #Melipilla, participan en reunión de trabajo con el Intendente @UrquietaAtacama para coordinar  "
      ]
     },
     "execution_count": 12,
     "metadata": {},
     "output_type": "execute_result"
    }
   ],
   "source": [
    "generated = test_model(device, model, \"Con los vecinos \")\n",
    "pd.DataFrame.from_records(generated)"
   ]
  },
  {
   "cell_type": "markdown",
   "metadata": {},
   "source": [
    "## Pruebas adicionales"
   ]
  },
  {
   "cell_type": "code",
   "execution_count": 35,
   "metadata": {},
   "outputs": [
    {
     "name": "stdout",
     "output_type": "stream",
     "text": [
      "generando beams para input:  Vamos con todo  \n",
      "==================================================\n",
      "generando beams para input:  El 27 de enero del año 2010  \n",
      "==================================================\n",
      "generando beams para input:  El presidente   \n",
      "==================================================\n"
     ]
    },
    {
     "data": {
      "text/plain": [
       "([{'text': 'Vamos con todo ',\n",
       "   'generado': 'Vamos con todo izquierda! 🇨🇱  #CuidaTuVida @CorpColinaSalud informa las atenciones que se realizarán en los CESFAM de Alpatacal y Esmeralda, de manera de enfermedad, para resolver dudas sobre el #COVID19. La oficina sigue apoyando la protección de los derechos humanos. @mario_olavarria @MinDesarrollo  [AHORA] Gobernadora @cotepuigrredon, junto a @Carabdechile y @PDI_CHILE, encabezan la entrega de cajas de mercadería de la Provincia de #Melipilla, a partir de las 22:00 horas'},\n",
       "  {'text': 'Vamos con todo ',\n",
       "   'generado': 'Vamos con todo!!!  #CuidaTuVida El @MinDesarrollo presentó la página, para consultar por el pago del #IngresoDeEmergencia, una importante ayuda en la pandemia de #COVID19. Recuerda que ya no es necesaria la #ClaveUnica para solicitar este beneficio. @mario_olavarria @CorpColinaSalud  A esta hora, Gob @RAMIREZCHILE junto alcalde @SanPedroMuni @manueldevia2016 y diversas autoridades de la comuna, participan en reunión de trabajo con dirigentes de nuestra #RMdeTodos💪 #ChileEnMarcha 🇨🇱  ¿Sabías que'},\n",
       "  {'text': 'Vamos con todo ',\n",
       "   'generado': 'Vamos con todo!!!  @IMunicipalidad  #CuidaTuVida @CorpColinaSalud informa las atenciones que se realizarán, a partir de este viernes 15 de mayo, en los CESFAM de Alpatacal y Esmeralda, de manera de enfocar sus prestaciones en las personas que más lo requieran. @mario_olavarria @ministeriosalud  [AHORA] Gobernadora @cotepuigrredon, junto a @Carabdechile, @PDI_CHILE y diversas autoridades, participan de la entrega de cajas de mercadería en la Región de #Tarapacá. #ChileEnMarcha 🇨🇱 '},\n",
       "  {'text': 'Vamos con todo ',\n",
       "   'generado': 'Vamos con todo  #CuidémonosEntreTodos #QuédateEnCasa🏠  @gaby_alcalde @MuniLaReina @DeProvidencia @Carabdechile @PDI_CHILE @IntendenciaV @imsanantoniocl @ministeriosanantonio @somosfutrono1 @ConcejalaMunoz @ManoloCovarrub @PamelaGallegosM @rodolfodelrealm @mcatarubio Hola Gabriela, gracias por la entrega de cajas de mercadería! Un abrazo  🔹️OPORTUNIDAD LABORAL: El Gobierno del Pdte. @sebastianpinera, junto a la Alcaldesa @'},\n",
       "  {'text': 'Vamos con todo ',\n",
       "   'generado': 'Vamos con todo  #CuidaTuVida El @MinDesarrollo presentó la página, para consultar por el pago del #IngresoDeEmergencia, una importante ayuda en la pandemia de #COVID19. Recuerda que ya no es necesaria la #ClaveUnica para solicitar este beneficio. @mario_olavarria @CorpColinaSalud @ministeriosalud  [AHORA] Gobernadora @cotepuigrredon, junto a @CarabIIIRegion, @PDI_CHILE y diversas autoridades de la Provincia de Petorca, participan en reunión de trabajo con el Intendente @UrquietaAtacama. #ChileEnMarcha 🇨�'},\n",
       "  {'text': 'Vamos con todo ',\n",
       "   'generado': 'Vamos con todo!!!  #ChileEnMarcha 🇨🇱 #RMdeTodos💪🏼  🔴AHORA: Alcalde @manueldevia2016 junto a vecinos de la comuna de #SanBernardo, encabezada por el Intendente @UrquietaAtacama, @CarabIIIRegura y diversas autoridades participan en ceremonia de entrega de cajas de mercadería para mejorar la calidad de vida de las personas en situación de calle. #Covid_19 #QuedateEnCasa  El #MercadoCampesino ya cuenta que puedes encontrar, a partir del lunes 8 de junio, en los CESFAM de Alpatacal y'},\n",
       "  {'text': 'Vamos con todo ',\n",
       "   'generado': 'Vamos con todo  #QuedateEnCasa @mario_olavarria @CorpColinaSalud @ministeriosalud  [AHORA] Gobernadora @cotepuigrredon, junto a @Carabdechile, @PDI_CHILE y alcalde @MIGUELARAYALOBO, participan en reunión de trabajo con el Intendente @FelipeGuevaraSt en la comuna de #SanAntonio. #ChileEnMarcha 🇨🇱 #RMdeTodos 💪🏼  ¡Buenas noticias para nuestros vecinos y vecinas! En este momento comienza el #DiaMundialDelMedioAmbiente, desde las 8:00 horas'},\n",
       "  {'text': 'Vamos con todo ',\n",
       "   'generado': 'Vamos con todo  #CuidaTuVida @CorpColinaSalud informa que el servicio de urgencia #SAPU de Esmeralda atenderá todos los días. El alcalde @mario_olavarria entrega detalles de esta situación y medida que puedes obtener en los teléfonos ( 225927364) o al WhatsApp: +56947303143 o contáctanos en claudia.teustch@colina.cl. #QuédateEnCasa #CuidémonosEntreTodos #PlanCoronavirus  [AHORA] Gobernadora @cotepuigrredon, junto al Seremi @MIGUELARAYALOBO, encabezadas por el Intend'},\n",
       "  {'text': 'Vamos con todo ',\n",
       "   'generado': 'Vamos con todo  #CuidaTuVida Sin permiso temporal otorgado por @Carabdechile  Sin carnet de identidad en la mano No habrá atención en el municipio. Se entregarán solo 30 números desde las 18 horas, de lunes a viernes. @mario_olavarria @CorpColinaSalud @IPSChile @ministeriosalud  [AHORA] Gobernadora @cotepuigrredon, junto a la Alcaldesa @Nora_Cuevas y el Alcalde de #SanPedro @manueldevia2016, participa en reunión de trabajo con vecinos de la Provincia de Melipilla. #RMdeTodos 💪🏻\\u200d♂️'},\n",
       "  {'text': 'Vamos con todo ',\n",
       "   'generado': 'Vamos con todo  #CuidaTuVida @CorpColinaSalud informa las atenciones que se realizan en los CESFAM de Alpatacal y Esmeralda, de manera de enfocar sus prestaciones en las personas que más lo requieran. Te dejamos también a algunos participantes (1 de 3). @mario_olavarria  🔴 AHORA: Gob. @RAMIREZCHILE, junto alcalde @SanPedroMuni @manueldevia2016, recorrieron diversos puntos de la #RMdeTodos🔥 en la comuna de #Melipilla, entre otras autoridades. #ChileEnMarcha 🇨🇱  Gobernadora'}],\n",
       " [{'text': 'El 27 de enero del año 2010 ',\n",
       "   'generado': 'El 27 de enero del año 2010  #CuidaTuVida El @MinDesarrollo presentó la página, para consultar por el pago del #IngresoDeEmergencia, una importante ayuda en la pandemia de #COVID19. Recuerda que ya no es necesaria la #ClaveUnica para solicitar este beneficio. @mario_olavarria  [AHORA] Gobernadora @cotepuigrredon, junto al Alcalde @MIGUELARAYALOBO y diversas autoridades, participan en reunión de coordinación con los vecinos de la Provincia de Melipilla para analizar la prevención del contagio del Coronavirus. #CuidémonosEntreTodos #Plan'},\n",
       "  {'text': 'El 27 de enero del año 2010 ',\n",
       "   'generado': 'El 27 de enero del año 2010  #CuidaTuVida El @MinDesarrollo presentó la página, para consultar por el pago del #IngresoDeEmergencia, una importante ayuda en la pandemia de #Covid_19. Recuerda que ya no es necesaria la #ClaveUnica para solicitar este beneficio. @mario_olavarria @CorpColinaSalud @ministeriosalud  🔴AHORA: Alcalde @manueldevia2016 junto al Intendente @UrquietaAtacama, @SeremiSilvia y diversas autoridades de la provincia de San Antonio, se reúnen en el Gobierno del Pdte @sebastianpinera en reunión con alc'},\n",
       "  {'text': 'El 27 de enero del año 2010 ',\n",
       "   'generado': 'El 27 de enero del año 2010  @mario_olavarria @MinDesarrollo @CorpColinaSalud @ministeriosalud  [AHORA] Gobernadora @cotepuigrredon, junto a @Carabdechile, @PDI_CHILE, Diputado @Tono_Coloma y diversas autoridades, participan de la Comisión de Seguridad Pública de #SanPedro en la #RMdeTodos. #ChileEnMarcha 🇨🇱  #CuidaTuVida Te invitamos a la Vitrina Virtual del #CentroDelEmprendedor para el #DiaDelPadre. Encuentra ese obsequio perfecto para este día tan especial. Te dejamos'},\n",
       "  {'text': 'El 27 de enero del año 2010 ',\n",
       "   'generado': 'El 27 de enero del año 2010  #CuidaTuVida El @MinDesarrollo presentó la página, para consultar por el pago del #IngresoMínimoGarantizado, una importante ayuda en la pandemia de #COVID19. Recuerda que ya no es necesaria la #ClaveUnica para solicitar este beneficio. @mario_olavarria @CorpColinaSalud @ministeriosalud  [AHORA] Gobernadora @cotepuigrredon, junto a la Intendenta @KarlaEnAccion, el Alcalde @manueldevia2016 y el Seremi @SergioBecerrau, se reunieron con vecinos de la comuna para abordar las medidas de prevención del contag'},\n",
       "  {'text': 'El 27 de enero del año 2010 ',\n",
       "   'generado': 'El 27 de enero del año 2010  #CuidaTuVida El @MinDesarrollo presentó la página, para consultar por el pago del #IngresoDeEmergencia, una importante ayuda en la pandemia de #COVID19. Recuerda que ya no es necesaria la #ClaveUnica para solicitar este beneficio. @mario_olavarria @CorpColinaSalud @ministeriosalud  El #MercadoCampesino de @INDAP_Chile ya cuenta con la aplicación YoiFerias: conoce sobre los productos que puedes encontrar, los precios y días que están disponibles. Entra a  y comienza a usarla. Te dejamos también un'},\n",
       "  {'text': 'El 27 de enero del año 2010 ',\n",
       "   'generado': 'El 27 de enero del año 2010  #CuidaTuVida @CorpColinaSalud informa que el servicio de urgencia #SAPU de Esmeralda atenderá toda la oficina de Los Ingleses, las 24 horas, emergencias generales. El alcalde @mario_olavarria entrega detalles sobre los permisos disponibles durante el período de #cuarentena, que se obtienen en  👉🏼 #ChileEnMarcha 🇨🇱 #RMdeTodos💪  [AHORA] Gobernadora @cotepuigrredon, junto a @Carabdechile y @PDI_CHILE participan de reunión de trabajo con vecinos de la'},\n",
       "  {'text': 'El 27 de enero del año 2010 ',\n",
       "   'generado': 'El 27 de enero del año 2010  #CuidémonosEntreTodos #PlanCoronavirus #QuédateEnCasa🏠  @mario_olavarria @CorpColinaSalud @colinadeportes @IPSChile @ministeriosalud  [AHORA] Gobernadora @cotepuigrredon, junto a la Alcaldesa @laSUBDERE, @Carabdechile y el Intendente @UrquietaAtacama, participan del Programa de Seguridad Pública del Gobierno del Pdte. @sebastianpinera, para seguir trabajando en conjunto con los vecinos de la Provincia de #Copiapó en la comuna. #CuidaTuVida @'},\n",
       "  {'text': 'El 27 de enero del año 2010 ',\n",
       "   'generado': 'El 27 de enero del año 2010  #CuidaTuVida @CorpColinaSalud informa las atenciones que se realizan en los CESFAM de Alpatacal y Esmeralda, de manera de enfocar sus prestaciones en las personas que más lo requieran. El alcalde @mario_olavarria entrega detalles de esta situación y las medidas a tomar. @MinDesarrollo  Hoy el Intendente @UrquietaAtacama y la Gobernadora @mpazsante se reunieron con el subsecretario de la @PDI_CHILE @sebastianpinera para seguir trabajando para evitar el período de contagio de #COVID_19 #QuedateEn'},\n",
       "  {'text': 'El 27 de enero del año 2010 ',\n",
       "   'generado': 'El 27 de enero del año 2010  #CuidaTuVida El alcalde @mario_olavarria entrega detalles de esta situación y las medidas a tomar. En este momento comienza el #ToqueDeQueda, hasta las 5:00 horas de mañana viernes 26 de mayo. @CorpColinaSalud @min_interior @Senda_cl  [AHORA] Gobernadora @cotepuigrredon, junto a la Alcaldesa @MIGUELARAYALOBO, participan de una nueva jornada de reunión de trabajo con el Ministro de Economía @andreschadwickp y el Alcalde de #SanBernardo. #ChileEnMarcha🇨�'},\n",
       "  {'text': 'El 27 de enero del año 2010 ',\n",
       "   'generado': 'El 27 de enero del año 2010  #CuidaTuVida El @MinDesarrollo presentó la página, para consultar por el pago del #IngresoDeEmergencia, una importante ayuda gratuita en la pandemia de #COVID19. Recuerda que ya no es necesario la #ClaveUnica para solicitar este beneficio. @mario_olavarria @CorpColinaSalud @ministeriosalud  [AHORA] Gobernadora @cotepuigrredon, junto a @Carabdechile, @PDI_CHILE y diversas autoridades, participan de la entrega de cajas de mercadería a través del programa #AlimentosParaChile de @Muni_provi.'}],\n",
       " [{'text': 'El presidente  ',\n",
       "   'generado': 'El presidente   @sebastianpinera  #CuidaTuVida Sin permiso temporal otorgado por @Carabdechile  Sin carnet de identidad en la mano No habrá atención en el municipio. Se entregarán solo 30 números desde las 8:30 horas, de lunes a viernes. @mario_olavarria @CorpColinaSalud @ministeriosalud  ¡ATENCIÓN VECINOS! Hoy estuvimos con el Intendente @UrquietaAtacama junto a los alcaldes de la Provincia de #SanAntonio, el Alcalde @manueldevia2016 y la Gobernadora de Maipo, participan de una nueva jornada de'},\n",
       "  {'text': 'El presidente  ',\n",
       "   'generado': 'El presidente   vía @emol  #CuidaTuVida El @MinDesarrollo presentó la página, para consultar por el pago del #IngresoDeEmergencia, una importante ayuda en la pandemia de #COVID19. Recuerda que ya no es necesaria la #ClaveUnica para solicitar este beneficio. @mario_olavarria  A esta hora, Gob @RAMIREZCHILE junto alcalde @SanPedroMuni @manueldevia2016 y autoridades regionales, se reunieron con el Intendente @UrquietaAtacama, @Carabdechile y el Dir. del @GobiernodeChile @sebastianpinera para analizar la entrega de caj'},\n",
       "  {'text': 'El presidente  ',\n",
       "   'generado': 'El presidente   @jbenitezgibbons  #CuidaTuVida @mario_olavarria @CorpColinaSalud informa que los adultos mayores no necesitan permiso o salvoconducto para asistir a cobrar sus pensiones, solo presentar la colilla de pago del mes anterior con la fecha de cobro para el mes corriente. Solo se atenderá la plataforma #CuidémonosEntreTodos #QuédateEnCasa🏠  [AHORA] Gobernadora @cotepuigrredon, junto a @Carabdechile, @PDI_Valparaiso y diversas autoridades de la comuna, participan en reunión de trabajo con el Pdte. @sebastian'},\n",
       "  {'text': 'El presidente  ',\n",
       "   'generado': 'El presidente   vía @sebastianpinera  #CuidaTuVida Si estás buscando un regalo para tu papá, te invitamos a la Vitrina Virtual del #CentroDelEmprendedor para el #DiaDelPadre. Encuentra ese obsequio perfecto para este día tan difícil. Te dejamos también a algunos participantes (3 de 3). @mario_olavarria @CorpColinaSalud  Esta tarde, Gob. @RAMIREZCHILE junto alcalde @SanPedroMuni @manueldevia2016, @Carabdechile y diversas autoridades de la comuna, hicieron entrega de cajas de mercadería en la #RMde'},\n",
       "  {'text': 'El presidente  ',\n",
       "   'generado': 'El presidente   #CuidaTuVida @CorpColinaSalud informa que el decreto de cuarentena total para Colina se extiende hasta el viernes 26 de junio. Reiteramos las medidas más importantes para cuidarse frente al #COVID19: # #LavateLasManos #QuedateEnCasa #UsaMascarilla @mario_olavarria  En el #DíaMundialContraElCoronavirus, el Intendente @UrquietaAtacama junto al Seremi @Nora_Cuevas y al Dir. @Gendarmeria_CL, se reunieron con el alcaldes de la comuna de #Copiapó para conmemorar la #NuevaAgendaSocial que beneficiará a'},\n",
       "  {'text': 'El presidente  ',\n",
       "   'generado': 'El presidente   #CuidaTuVida Sin permiso temporal otorgado por @Carabdechile  Sin carnet de identidad en la mano No habrá atención en el municipio. Se entregarán solo 30 números desde las 8:30 horas, de lunes a viernes. @mario_olavarria @CorpColinaSalud @IPSChile @Gob_Colchagua @ministeriosalud  A esta hora, Gob.@RAMIREZCHILE junto a alcalde @SanPedroMuni @manueldevia2016 y la Gobernadora @cotepuigrredon, participan de reunión de trabajadores de la comuna de #Melipilla. #RMdeTodos 🇨�'},\n",
       "  {'text': 'El presidente  ',\n",
       "   'generado': 'El presidente   @sebastianpinera  #CuidaTuVida El servicio de licencias de conducir no está atendiendo; si necesitas ayuda con permiso de, con mascarilla y manteniendo la distancia. Para más información de puedes llamar al 229224010. @mario_olavarria @CorpColinaSalud @ministeriosalud  🔴#MinisterioEnTerreno presenta la página, para consulta el pago del #IngresoDeEmergencia, en la oficina de la @Gendarmeria_CL. Recuerda que debes asistir a esta pandemia #CuidémonosEntreTodos #PlanCoronavirus #QuedateEnCasa '},\n",
       "  {'text': 'El presidente  ',\n",
       "   'generado': 'El presidente   #CuidaTuVida El @ministeriosalud anunció que el decreto de cuarentena total para Colina se extiende hasta el viernes 15 de mayo. Reiteramos las medidas más importantes para cuidarse frente al #COVID19: #LavateLasManos #QuedateEnCasa #UsaMascarilla @mario_olavarria @CorpColinaSalud @IPSChile  🔹Subsecretario Alvarado sostuvo la entrega de cajas de mercadería en la comuna de #Melipilla, junto al Intendente @UrquietaAtacama, @Carabdechile, y el Seremi @Sebastian_Rojas, en reunión de trabajo'},\n",
       "  {'text': 'El presidente  ',\n",
       "   'generado': 'El presidente   #CuidaTuVida @CorpColinaSalud informa las atenciones que se realizarán, a partir del viernes 15 de mayo, en los CESFAM de Alpatacal y Esmeralda, de manera de enfocar sus prestaciones en las personas que surgen en esta situación. @mario_olavarria @ministeriosalud @SENDAColinaCL @MinDesarrollo  El #MercadoCampesino de @INDAP_Chile ya cuenta con la oficina municipal de Los Ingleses, para los vecinos contagiados por agricultores de la comuna. Entra a la cancha y compartir con tu permiso de, con mascarilla y manteniendo la distancia. Cupos limitados'},\n",
       "  {'text': 'El presidente  ',\n",
       "   'generado': 'El presidente   @sebastianpinera  #CuidaTuVida @CorpColinaSalud informa que los adultos mayores no necesitan permiso o salvoconducto para asistir a cobrar sus pensiones, solo presentar la colilla de pago del mes anterior con la fecha de cobro para el mes corriente. @mario_olavarria @ministeriosalud  El #MercadoCampesino de @INDAP_Chile está operativo hoy, hasta las 5:00 horas.  Además te dejamos respuestas a las preguntas más frecuentes que surgen en esta situación. No habrá atención con el municipio. #CuidémonosEntreTodos #PlanCoron'}])"
      ]
     },
     "execution_count": 35,
     "metadata": {},
     "output_type": "execute_result"
    }
   ],
   "source": [
    "generated2 = test_model(device, model, \"Vamos con todo \")\n",
    "generated3 = test_model(device, model, \"El 27 de enero del año 2010 \")\n",
    "generated4 = test_model(device, model, \"El presidente  \")\n",
    "generated2, generated3, generated4"
   ]
  }
 ],
 "metadata": {
  "kernelspec": {
   "display_name": "conda_pytorch_latest_p36",
   "language": "python",
   "name": "conda_pytorch_latest_p36"
  },
  "language_info": {
   "codemirror_mode": {
    "name": "ipython",
    "version": 3
   },
   "file_extension": ".py",
   "mimetype": "text/x-python",
   "name": "python",
   "nbconvert_exporter": "python",
   "pygments_lexer": "ipython3",
   "version": "3.6.10"
  }
 },
 "nbformat": 4,
 "nbformat_minor": 4
}
