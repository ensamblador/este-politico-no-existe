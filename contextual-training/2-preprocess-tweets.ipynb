{
 "cells": [
  {
   "cell_type": "code",
   "execution_count": 3,
   "metadata": {},
   "outputs": [
    {
     "name": "stdout",
     "output_type": "stream",
     "text": [
      "Collecting fastparquet\n",
      "  Downloading fastparquet-0.4.1.tar.gz (28.6 MB)\n",
      "\u001b[K     |████████████████████████████████| 28.6 MB 11.0 MB/s eta 0:00:01\n",
      "\u001b[?25hRequirement already satisfied: pandas>=0.19 in /home/ec2-user/anaconda3/envs/python3/lib/python3.6/site-packages (from fastparquet) (1.0.1)\n",
      "Requirement already satisfied: numba>=0.28 in /home/ec2-user/anaconda3/envs/python3/lib/python3.6/site-packages (from fastparquet) (0.48.0)\n",
      "Requirement already satisfied: numpy>=1.11 in /home/ec2-user/anaconda3/envs/python3/lib/python3.6/site-packages (from fastparquet) (1.18.1)\n",
      "Requirement already satisfied: packaging in /home/ec2-user/anaconda3/envs/python3/lib/python3.6/site-packages (from fastparquet) (20.1)\n",
      "Collecting thrift>=0.11.0\n",
      "  Downloading thrift-0.13.0.tar.gz (59 kB)\n",
      "\u001b[K     |████████████████████████████████| 59 kB 12.3 MB/s eta 0:00:01\n",
      "\u001b[?25hRequirement already satisfied: six in /home/ec2-user/anaconda3/envs/python3/lib/python3.6/site-packages (from fastparquet) (1.14.0)\n",
      "Requirement already satisfied: python-dateutil>=2.6.1 in /home/ec2-user/anaconda3/envs/python3/lib/python3.6/site-packages (from pandas>=0.19->fastparquet) (2.8.1)\n",
      "Requirement already satisfied: pytz>=2017.2 in /home/ec2-user/anaconda3/envs/python3/lib/python3.6/site-packages (from pandas>=0.19->fastparquet) (2019.3)\n",
      "Requirement already satisfied: llvmlite<0.32.0,>=0.31.0dev0 in /home/ec2-user/anaconda3/envs/python3/lib/python3.6/site-packages (from numba>=0.28->fastparquet) (0.31.0)\n",
      "Requirement already satisfied: setuptools in /home/ec2-user/anaconda3/envs/python3/lib/python3.6/site-packages (from numba>=0.28->fastparquet) (45.2.0.post20200210)\n",
      "Requirement already satisfied: pyparsing>=2.0.2 in /home/ec2-user/anaconda3/envs/python3/lib/python3.6/site-packages (from packaging->fastparquet) (2.4.6)\n",
      "Building wheels for collected packages: fastparquet, thrift\n",
      "  Building wheel for fastparquet (setup.py) ... \u001b[?25ldone\n",
      "\u001b[?25h  Created wheel for fastparquet: filename=fastparquet-0.4.1-cp36-cp36m-linux_x86_64.whl size=7123176 sha256=0a7b7b3fdd058ea6ad6b8475a3f8b52f1adc6af56e0fa236efb8ab40fe364c72\n",
      "  Stored in directory: /home/ec2-user/.cache/pip/wheels/8a/c2/8c/3b80e2a78a9932c93ac3fd0c449599c6b1f6fb3ccc4640f331\n",
      "  Building wheel for thrift (setup.py) ... \u001b[?25ldone\n",
      "\u001b[?25h  Created wheel for thrift: filename=thrift-0.13.0-cp36-cp36m-linux_x86_64.whl size=389571 sha256=c60c97aa8c683311b9bd636277e8d05fc6aca9957e719e5cd5adf5db1f034d6f\n",
      "  Stored in directory: /home/ec2-user/.cache/pip/wheels/e0/38/fc/472fe18756b177b42096961f8bd3ff2dc5c5620ac399fce52d\n",
      "Successfully built fastparquet thrift\n",
      "Installing collected packages: thrift, fastparquet\n",
      "Successfully installed fastparquet-0.4.1 thrift-0.13.0\n",
      "\u001b[33mWARNING: You are using pip version 20.0.2; however, version 20.2.4 is available.\n",
      "You should consider upgrading via the '/home/ec2-user/anaconda3/envs/python3/bin/python -m pip install --upgrade pip' command.\u001b[0m\n"
     ]
    }
   ],
   "source": [
    "!pip install fastparquet\n",
    "import pandas as pd"
   ]
  },
  {
   "cell_type": "code",
   "execution_count": 4,
   "metadata": {},
   "outputs": [
    {
     "data": {
      "text/html": [
       "<div>\n",
       "<style scoped>\n",
       "    .dataframe tbody tr th:only-of-type {\n",
       "        vertical-align: middle;\n",
       "    }\n",
       "\n",
       "    .dataframe tbody tr th {\n",
       "        vertical-align: top;\n",
       "    }\n",
       "\n",
       "    .dataframe thead th {\n",
       "        text-align: right;\n",
       "    }\n",
       "</style>\n",
       "<table border=\"1\" class=\"dataframe\">\n",
       "  <thead>\n",
       "    <tr style=\"text-align: right;\">\n",
       "      <th></th>\n",
       "      <th>id_str</th>\n",
       "      <th>hashtags</th>\n",
       "      <th>screen_name</th>\n",
       "      <th>target_id</th>\n",
       "      <th>text</th>\n",
       "      <th>entities</th>\n",
       "      <th>key_phrases</th>\n",
       "      <th>sentiment</th>\n",
       "      <th>dt</th>\n",
       "      <th>Partido</th>\n",
       "      <th>Coalicion</th>\n",
       "      <th>text_clean</th>\n",
       "      <th>tokenized</th>\n",
       "    </tr>\n",
       "  </thead>\n",
       "  <tbody>\n",
       "    <tr>\n",
       "      <th>0</th>\n",
       "      <td>1134966472260931585</td>\n",
       "      <td>[CuentaPública, ChileenMarcha]</td>\n",
       "      <td>_alecandia</td>\n",
       "      <td>57</td>\n",
       "      <td>Ya estamos en el Congreso con los subses @Caro...</td>\n",
       "      <td>[[42, 52, 0.990331768989563, CarolCBown, PERSO...</td>\n",
       "      <td>[]</td>\n",
       "      <td>NEUTRAL</td>\n",
       "      <td>2019-06-01 23:34:28</td>\n",
       "      <td>IND-GOB</td>\n",
       "      <td>Chile Vamos</td>\n",
       "      <td>Ya estamos en el Congreso con los subses @Caro...</td>\n",
       "      <td>[ya, estamos, en, el, congreso, con, los, subs...</td>\n",
       "    </tr>\n",
       "    <tr>\n",
       "      <th>1</th>\n",
       "      <td>1134991775045685248</td>\n",
       "      <td>[Araucanía, CuentaPública]</td>\n",
       "      <td>nonaossandon</td>\n",
       "      <td>681</td>\n",
       "      <td>⭕ \"Combatir con máxima voluntad y firmeza, sie...</td>\n",
       "      <td>[[279, 302, 0.9772765636444092, https://t.co/A...</td>\n",
       "      <td>[]</td>\n",
       "      <td>NEGATIVE</td>\n",
       "      <td>2019-06-02 01:15:00</td>\n",
       "      <td>RN</td>\n",
       "      <td>Chile Vamos</td>\n",
       "      <td>⭕ \"Combatir con máxima voluntad y firmeza, sie...</td>\n",
       "      <td>[⭕, \"combatir, con, máxima, voluntad, y, firme...</td>\n",
       "    </tr>\n",
       "    <tr>\n",
       "      <th>2</th>\n",
       "      <td>1135003138753277956</td>\n",
       "      <td>[CuentaPública]</td>\n",
       "      <td>feguigurenc</td>\n",
       "      <td>176</td>\n",
       "      <td>#CuentaPública\\n📢ANUNCIO| Nuestro Presidente a...</td>\n",
       "      <td>[[33, 43, 0.7224394679069519, Presidente, PERS...</td>\n",
       "      <td>[[0, 14, 0.9999927282333374, #CuentaPública], ...</td>\n",
       "      <td>NEUTRAL</td>\n",
       "      <td>2019-06-02 02:00:10</td>\n",
       "      <td>RN</td>\n",
       "      <td>Chile Vamos</td>\n",
       "      <td>#CuentaPública\\n📢ANUNCIO| Nuestro Presidente a...</td>\n",
       "      <td>[#cuentapública, 📢anuncio|, nuestro, president...</td>\n",
       "    </tr>\n",
       "    <tr>\n",
       "      <th>3</th>\n",
       "      <td>1135008118277124096</td>\n",
       "      <td>[CuentaPública]</td>\n",
       "      <td>ANDRESCELISM</td>\n",
       "      <td>240</td>\n",
       "      <td>El agua es un tema muy importante para nuestra...</td>\n",
       "      <td>[[93, 111, 0.9997791647911072, 26 nuevos embal...</td>\n",
       "      <td>[[11, 18, 0.656255841255188, un tema]]</td>\n",
       "      <td>NEUTRAL</td>\n",
       "      <td>2019-06-02 02:19:57</td>\n",
       "      <td>RN</td>\n",
       "      <td>Chile Vamos</td>\n",
       "      <td>El agua es un tema muy importante para nuestra...</td>\n",
       "      <td>[el, agua, es, un, tema, muy, importante, para...</td>\n",
       "    </tr>\n",
       "    <tr>\n",
       "      <th>4</th>\n",
       "      <td>1135008271104974848</td>\n",
       "      <td>[Cuentapublica]</td>\n",
       "      <td>Diego_Schalper</td>\n",
       "      <td>287</td>\n",
       "      <td>Bien límite a la reelección. Ojalá reforma al ...</td>\n",
       "      <td>[[94, 101, 0.7375357747077942, semanas, QUANTI...</td>\n",
       "      <td>[[5, 11, 0.8332874178886414, límite], [14, 27,...</td>\n",
       "      <td>NEUTRAL</td>\n",
       "      <td>2019-06-02 02:20:33</td>\n",
       "      <td>RN</td>\n",
       "      <td>Chile Vamos</td>\n",
       "      <td>Bien límite a la reelección. Ojalá reforma al ...</td>\n",
       "      <td>[bien, límite, a, la, reelección., ojalá, refo...</td>\n",
       "    </tr>\n",
       "  </tbody>\n",
       "</table>\n",
       "</div>"
      ],
      "text/plain": [
       "                id_str                        hashtags     screen_name  \\\n",
       "0  1134966472260931585  [CuentaPública, ChileenMarcha]      _alecandia   \n",
       "1  1134991775045685248      [Araucanía, CuentaPública]    nonaossandon   \n",
       "2  1135003138753277956                 [CuentaPública]     feguigurenc   \n",
       "3  1135008118277124096                 [CuentaPública]    ANDRESCELISM   \n",
       "4  1135008271104974848                 [Cuentapublica]  Diego_Schalper   \n",
       "\n",
       "   target_id                                               text  \\\n",
       "0         57  Ya estamos en el Congreso con los subses @Caro...   \n",
       "1        681  ⭕ \"Combatir con máxima voluntad y firmeza, sie...   \n",
       "2        176  #CuentaPública\\n📢ANUNCIO| Nuestro Presidente a...   \n",
       "3        240  El agua es un tema muy importante para nuestra...   \n",
       "4        287  Bien límite a la reelección. Ojalá reforma al ...   \n",
       "\n",
       "                                            entities  \\\n",
       "0  [[42, 52, 0.990331768989563, CarolCBown, PERSO...   \n",
       "1  [[279, 302, 0.9772765636444092, https://t.co/A...   \n",
       "2  [[33, 43, 0.7224394679069519, Presidente, PERS...   \n",
       "3  [[93, 111, 0.9997791647911072, 26 nuevos embal...   \n",
       "4  [[94, 101, 0.7375357747077942, semanas, QUANTI...   \n",
       "\n",
       "                                         key_phrases sentiment  \\\n",
       "0                                                 []   NEUTRAL   \n",
       "1                                                 []  NEGATIVE   \n",
       "2  [[0, 14, 0.9999927282333374, #CuentaPública], ...   NEUTRAL   \n",
       "3             [[11, 18, 0.656255841255188, un tema]]   NEUTRAL   \n",
       "4  [[5, 11, 0.8332874178886414, límite], [14, 27,...   NEUTRAL   \n",
       "\n",
       "                   dt  Partido    Coalicion  \\\n",
       "0 2019-06-01 23:34:28  IND-GOB  Chile Vamos   \n",
       "1 2019-06-02 01:15:00       RN  Chile Vamos   \n",
       "2 2019-06-02 02:00:10       RN  Chile Vamos   \n",
       "3 2019-06-02 02:19:57       RN  Chile Vamos   \n",
       "4 2019-06-02 02:20:33       RN  Chile Vamos   \n",
       "\n",
       "                                          text_clean  \\\n",
       "0  Ya estamos en el Congreso con los subses @Caro...   \n",
       "1  ⭕ \"Combatir con máxima voluntad y firmeza, sie...   \n",
       "2  #CuentaPública\\n📢ANUNCIO| Nuestro Presidente a...   \n",
       "3  El agua es un tema muy importante para nuestra...   \n",
       "4  Bien límite a la reelección. Ojalá reforma al ...   \n",
       "\n",
       "                                           tokenized  \n",
       "0  [ya, estamos, en, el, congreso, con, los, subs...  \n",
       "1  [⭕, \"combatir, con, máxima, voluntad, y, firme...  \n",
       "2  [#cuentapública, 📢anuncio|, nuestro, president...  \n",
       "3  [el, agua, es, un, tema, muy, importante, para...  \n",
       "4  [bien, límite, a, la, reelección., ojalá, refo...  "
      ]
     },
     "execution_count": 4,
     "metadata": {},
     "output_type": "execute_result"
    }
   ],
   "source": [
    "bucket = 'politicos-dataset-us-east-1'\n",
    "region = 'us-east-1'\n",
    "prefix = 'gpt2_fine_tune/tweets_politicos/pandas/parquet'\n",
    "df = pd.read_parquet('s3://{}/{}'.format(bucket, prefix))\n",
    "df.head()"
   ]
  },
  {
   "cell_type": "code",
   "execution_count": 5,
   "metadata": {},
   "outputs": [
    {
     "data": {
      "text/html": [
       "<div>\n",
       "<style scoped>\n",
       "    .dataframe tbody tr th:only-of-type {\n",
       "        vertical-align: middle;\n",
       "    }\n",
       "\n",
       "    .dataframe tbody tr th {\n",
       "        vertical-align: top;\n",
       "    }\n",
       "\n",
       "    .dataframe thead th {\n",
       "        text-align: right;\n",
       "    }\n",
       "</style>\n",
       "<table border=\"1\" class=\"dataframe\">\n",
       "  <thead>\n",
       "    <tr style=\"text-align: right;\">\n",
       "      <th></th>\n",
       "      <th>id_str</th>\n",
       "      <th>hashtags</th>\n",
       "      <th>screen_name</th>\n",
       "      <th>target_id</th>\n",
       "      <th>text</th>\n",
       "      <th>entities</th>\n",
       "      <th>key_phrases</th>\n",
       "      <th>sentiment</th>\n",
       "      <th>dt</th>\n",
       "      <th>Partido</th>\n",
       "      <th>Coalicion</th>\n",
       "      <th>text_clean</th>\n",
       "      <th>tokenized</th>\n",
       "    </tr>\n",
       "  </thead>\n",
       "  <tbody>\n",
       "    <tr>\n",
       "      <th>0</th>\n",
       "      <td>1134966472260931585</td>\n",
       "      <td>[CuentaPública, ChileenMarcha]</td>\n",
       "      <td>_alecandia</td>\n",
       "      <td>57</td>\n",
       "      <td>Ya estamos en el Congreso con los subses @Caro...</td>\n",
       "      <td>[[42, 52, 0.990331768989563, CarolCBown, PERSO...</td>\n",
       "      <td>[]</td>\n",
       "      <td>NEUTRAL</td>\n",
       "      <td>2019-06-01 23:34:28</td>\n",
       "      <td>IND-GOB</td>\n",
       "      <td>Chile Vamos</td>\n",
       "      <td>Ya estamos en el Congreso con los subses @Caro...</td>\n",
       "      <td>[ya, estamos, en, el, congreso, con, los, subs...</td>\n",
       "    </tr>\n",
       "    <tr>\n",
       "      <th>1</th>\n",
       "      <td>1134991775045685248</td>\n",
       "      <td>[Araucanía, CuentaPública]</td>\n",
       "      <td>nonaossandon</td>\n",
       "      <td>681</td>\n",
       "      <td>⭕ \"Combatir con máxima voluntad y firmeza, sie...</td>\n",
       "      <td>[[279, 302, 0.9772765636444092, https://t.co/A...</td>\n",
       "      <td>[]</td>\n",
       "      <td>NEGATIVE</td>\n",
       "      <td>2019-06-02 01:15:00</td>\n",
       "      <td>RN</td>\n",
       "      <td>Chile Vamos</td>\n",
       "      <td>⭕ \"Combatir con máxima voluntad y firmeza, sie...</td>\n",
       "      <td>[⭕, \"combatir, con, máxima, voluntad, y, firme...</td>\n",
       "    </tr>\n",
       "    <tr>\n",
       "      <th>2</th>\n",
       "      <td>1135003138753277956</td>\n",
       "      <td>[CuentaPública]</td>\n",
       "      <td>feguigurenc</td>\n",
       "      <td>176</td>\n",
       "      <td>#CuentaPública\\n📢ANUNCIO| Nuestro Presidente a...</td>\n",
       "      <td>[[33, 43, 0.7224394679069519, Presidente, PERS...</td>\n",
       "      <td>[[0, 14, 0.9999927282333374, #CuentaPública], ...</td>\n",
       "      <td>NEUTRAL</td>\n",
       "      <td>2019-06-02 02:00:10</td>\n",
       "      <td>RN</td>\n",
       "      <td>Chile Vamos</td>\n",
       "      <td>#CuentaPública\\n📢ANUNCIO| Nuestro Presidente a...</td>\n",
       "      <td>[#cuentapública, 📢anuncio|, nuestro, president...</td>\n",
       "    </tr>\n",
       "  </tbody>\n",
       "</table>\n",
       "</div>"
      ],
      "text/plain": [
       "                id_str                        hashtags   screen_name  \\\n",
       "0  1134966472260931585  [CuentaPública, ChileenMarcha]    _alecandia   \n",
       "1  1134991775045685248      [Araucanía, CuentaPública]  nonaossandon   \n",
       "2  1135003138753277956                 [CuentaPública]   feguigurenc   \n",
       "\n",
       "   target_id                                               text  \\\n",
       "0         57  Ya estamos en el Congreso con los subses @Caro...   \n",
       "1        681  ⭕ \"Combatir con máxima voluntad y firmeza, sie...   \n",
       "2        176  #CuentaPública\\n📢ANUNCIO| Nuestro Presidente a...   \n",
       "\n",
       "                                            entities  \\\n",
       "0  [[42, 52, 0.990331768989563, CarolCBown, PERSO...   \n",
       "1  [[279, 302, 0.9772765636444092, https://t.co/A...   \n",
       "2  [[33, 43, 0.7224394679069519, Presidente, PERS...   \n",
       "\n",
       "                                         key_phrases sentiment  \\\n",
       "0                                                 []   NEUTRAL   \n",
       "1                                                 []  NEGATIVE   \n",
       "2  [[0, 14, 0.9999927282333374, #CuentaPública], ...   NEUTRAL   \n",
       "\n",
       "                   dt  Partido    Coalicion  \\\n",
       "0 2019-06-01 23:34:28  IND-GOB  Chile Vamos   \n",
       "1 2019-06-02 01:15:00       RN  Chile Vamos   \n",
       "2 2019-06-02 02:00:10       RN  Chile Vamos   \n",
       "\n",
       "                                          text_clean  \\\n",
       "0  Ya estamos en el Congreso con los subses @Caro...   \n",
       "1  ⭕ \"Combatir con máxima voluntad y firmeza, sie...   \n",
       "2  #CuentaPública\\n📢ANUNCIO| Nuestro Presidente a...   \n",
       "\n",
       "                                           tokenized  \n",
       "0  [ya, estamos, en, el, congreso, con, los, subs...  \n",
       "1  [⭕, \"combatir, con, máxima, voluntad, y, firme...  \n",
       "2  [#cuentapública, 📢anuncio|, nuestro, president...  "
      ]
     },
     "execution_count": 5,
     "metadata": {},
     "output_type": "execute_result"
    }
   ],
   "source": [
    "df.to_parquet('tweets_dataset', compression='UNCOMPRESSED')\n",
    "df = pd.read_parquet('tweets_dataset')\n",
    "df.head(3)"
   ]
  },
  {
   "cell_type": "markdown",
   "metadata": {},
   "source": [
    "\n",
    "\n",
    "\n",
    "\n",
    "### Cada tweet lo vamos a estructurar de la siguiente forma para entregarle a nuestro modelo cada ejemplo así:\n",
    "\n",
    "|Coalición|Partido|Sentimiento|Entidades|Frases Clave| tweet |\n",
    "|---      |---    |---        |---      |---           | ---| \n",
    "|[COALICION] chile vamos|[PARTIDO] udi |[SENTIMIENTO] positivo |[ENTIDADES] carabineros  |[FRASES] cuentan con el apoyo| [TWEET] ahora los carabineros se enfrentan..."
   ]
  },
  {
   "cell_type": "code",
   "execution_count": 6,
   "metadata": {},
   "outputs": [],
   "source": [
    "def tweet_formatter(row):\n",
    "    valid_entities = []\n",
    "    for ent in row['entities']:\n",
    "        if ent[4]!='OTHER':\n",
    "            valid_entities.append(ent[3])\n",
    "    key_phrases = [kp[3] for kp in row['key_phrases']]\n",
    "    \n",
    "    tweet_structure = {\n",
    "        'COALICION'  : row['Coalicion'],\n",
    "        'PARTIDO'    : row['Partido'],\n",
    "        'SENTIMIENTO': row['sentiment'],\n",
    "        'ENTIDADES'  : ' '.join(valid_entities),\n",
    "        'HASHTAGS'   : ' '.join(row['hashtags']),\n",
    "        'FRASES'     : ' '.join(key_phrases),\n",
    "        'TWEET'      : row['text_clean'],\n",
    "        \n",
    "    }\n",
    "    \n",
    "    #print (tweet_structure)\n",
    "    return tweet_structure"
   ]
  },
  {
   "cell_type": "code",
   "execution_count": 7,
   "metadata": {},
   "outputs": [],
   "source": [
    "tweets_formatted = df.apply(tweet_formatter, axis=1)"
   ]
  },
  {
   "cell_type": "code",
   "execution_count": 8,
   "metadata": {},
   "outputs": [],
   "source": [
    "tweets_formatted_df = pd.DataFrame.from_records(tweets_formatted)"
   ]
  },
  {
   "cell_type": "code",
   "execution_count": 9,
   "metadata": {},
   "outputs": [],
   "source": [
    "tweets_formatted_df.to_json('tweets_formatted.json', lines=True, orient='records')"
   ]
  },
  {
   "cell_type": "code",
   "execution_count": null,
   "metadata": {},
   "outputs": [],
   "source": []
  },
  {
   "cell_type": "code",
   "execution_count": null,
   "metadata": {},
   "outputs": [],
   "source": []
  },
  {
   "cell_type": "code",
   "execution_count": null,
   "metadata": {},
   "outputs": [],
   "source": []
  },
  {
   "cell_type": "code",
   "execution_count": null,
   "metadata": {},
   "outputs": [],
   "source": []
  },
  {
   "cell_type": "code",
   "execution_count": null,
   "metadata": {},
   "outputs": [],
   "source": []
  },
  {
   "cell_type": "code",
   "execution_count": null,
   "metadata": {},
   "outputs": [],
   "source": []
  },
  {
   "cell_type": "code",
   "execution_count": null,
   "metadata": {},
   "outputs": [],
   "source": []
  },
  {
   "cell_type": "markdown",
   "metadata": {},
   "source": [
    "### Esta parte sólo una vez para generar el tokenizador de tweets"
   ]
  },
  {
   "cell_type": "code",
   "execution_count": 106,
   "metadata": {},
   "outputs": [],
   "source": [
    "import os\n",
    "path_tweets = './tweets_2_tokenize/'\n",
    "!rm -rf {path_tweets}\n",
    "\n",
    "# creating directory if it is not present\n",
    "if not os.path.exists(path_tweets):\n",
    "    os.mkdir(path_tweets)"
   ]
  },
  {
   "cell_type": "code",
   "execution_count": 107,
   "metadata": {},
   "outputs": [],
   "source": [
    "chunk_size = 500\n",
    "chunks = [df[i:i + chunk_size] for i in range(0, len(df), chunk_size)]"
   ]
  },
  {
   "cell_type": "code",
   "execution_count": 108,
   "metadata": {},
   "outputs": [
    {
     "data": {
      "text/plain": [
       "341"
      ]
     },
     "execution_count": 108,
     "metadata": {},
     "output_type": "execute_result"
    }
   ],
   "source": [
    "len(chunks)"
   ]
  },
  {
   "cell_type": "code",
   "execution_count": 109,
   "metadata": {
    "scrolled": true
   },
   "outputs": [
    {
     "name": "stdout",
     "output_type": "stream",
     "text": [
      "CPU times: user 2.37 s, sys: 41.8 ms, total: 2.41 s\n",
      "Wall time: 2.41 s\n"
     ]
    }
   ],
   "source": [
    "%%time\n",
    "for i,chunk in enumerate(chunks):\n",
    "    id_str = chunk['id_str'].iloc[0]\n",
    "    #print('procesando chunk ',i, 'comenzando en', id_str)\n",
    "    txt_list = [re.sub(r\"\\s\", \" \", str(t).strip()) for t in chunk['text_clean']]\n",
    "    txt = ' '.join(txt_list)\n",
    "    with open('{}/{}.txt'.format(path_tweets,id_str), 'w', encoding='utf-8') as file:\n",
    "        file.write(txt)"
   ]
  },
  {
   "cell_type": "code",
   "execution_count": 117,
   "metadata": {},
   "outputs": [],
   "source": [
    "import importlib\n",
    "import tokenise\n",
    "importlib.reload(tokenise)\n",
    "\n",
    "\n",
    "from tokenise import BPE_token\n",
    "\n",
    "import os\n",
    "from pathlib import Path\n",
    "\n",
    "save_path = 'tokenized_tweets'\n",
    "path_tweets = 'tweets_2_tokenize'\n",
    "\n",
    "paths = [str(x) for x in Path(path_tweets).glob(\"**/*.txt\")]\n",
    "\n",
    "tokenizer = BPE_token()\n",
    "# train the tokenizer model\n",
    "tokenizer.bpe_train(paths)# saving the tokenized data in our specified folder \n",
    "tokenizer.save_tokenizer(save_path)"
   ]
  },
  {
   "cell_type": "code",
   "execution_count": 118,
   "metadata": {},
   "outputs": [],
   "source": [
    "#!pip install transformers\n",
    "from transformers import GPT2Tokenizer"
   ]
  },
  {
   "cell_type": "code",
   "execution_count": 119,
   "metadata": {},
   "outputs": [
    {
     "data": {
      "text/plain": [
       "PreTrainedTokenizer(name_or_path='tokenized_tweets', vocab_size=50000, model_max_len=1000000000000000019884624838656, is_fast=False, padding_side='right', special_tokens={'bos_token': AddedToken(\"<|endoftext|>\", rstrip=False, lstrip=False, single_word=False, normalized=True), 'eos_token': AddedToken(\"<|endoftext|>\", rstrip=False, lstrip=False, single_word=False, normalized=True), 'unk_token': AddedToken(\"<|endoftext|>\", rstrip=False, lstrip=False, single_word=False, normalized=True)})"
      ]
     },
     "execution_count": 119,
     "metadata": {},
     "output_type": "execute_result"
    }
   ],
   "source": [
    "gpt2_tokr = GPT2Tokenizer.from_pretrained(save_path)\n",
    "gpt2_tokr"
   ]
  }
 ],
 "metadata": {
  "kernelspec": {
   "display_name": "conda_python3",
   "language": "python",
   "name": "conda_python3"
  },
  "language_info": {
   "codemirror_mode": {
    "name": "ipython",
    "version": 3
   },
   "file_extension": ".py",
   "mimetype": "text/x-python",
   "name": "python",
   "nbconvert_exporter": "python",
   "pygments_lexer": "ipython3",
   "version": "3.6.10"
  }
 },
 "nbformat": 4,
 "nbformat_minor": 4
}
