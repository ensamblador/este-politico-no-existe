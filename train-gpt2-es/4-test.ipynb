{
 "cells": [
  {
   "cell_type": "code",
   "execution_count": 1,
   "metadata": {
    "scrolled": true
   },
   "outputs": [],
   "source": [
    "#!pip install transformers\n",
    "#!pip install tensorflow\n",
    "import os\n",
    "import torch\n",
    "import pandas as pd\n",
    "import numpy as np\n",
    "import warnings\n",
    "from transformers import (\n",
    "    AutoTokenizer, AutoModelWithLMHead,\n",
    "    TextDataset,DataCollatorForLanguageModeling,LineByLineTextDataset,\n",
    "    Trainer, TrainingArguments,\n",
    "    WEIGHTS_NAME, CONFIG_NAME\n",
    ")\n",
    "warnings.filterwarnings('ignore')\n",
    "pd.set_option('display.max_colwidth', -1)"
   ]
  },
  {
   "cell_type": "code",
   "execution_count": 2,
   "metadata": {},
   "outputs": [],
   "source": [
    "output_dir=\"ensamblador/gpt2_espanol_8hx512pos\"\n",
    "model = AutoModelWithLMHead.from_pretrained(output_dir)\n",
    "tokenizer = AutoTokenizer.from_pretrained(output_dir)\n",
    "\n",
    "torch.cuda.is_available()\n",
    "device = torch.device(\"cuda\" if torch.cuda.is_available() else \"cpu\")\n",
    "model.to(device);"
   ]
  },
  {
   "cell_type": "code",
   "execution_count": 13,
   "metadata": {},
   "outputs": [],
   "source": [
    "bad_words_ids =[ \n",
    "    tokenizer.encode('==', add_prefix_space=True), \n",
    "    tokenizer.encode('===', add_prefix_space=True),  \n",
    "    tokenizer.encode('====', add_prefix_space=True),\n",
    "    tokenizer.encode('<pad>', add_prefix_space=True)]\n",
    "\n",
    "def test_model(device, model, text):\n",
    "    input_ids = tokenizer.encode(text, return_tensors='pt').to(device) # getting out output\n",
    "    #attention_mask = tokenizer.encode(seeds, return_tensors='pt').to(device)\n",
    "    \n",
    "    print(\"generando beams para input: \", text,\"\\n==================================================\")\n",
    "    beam_output = model.generate(\n",
    "        input_ids,\n",
    "        max_length = 150,\n",
    "        min_length = 50,\n",
    "        #early_stop=True,\n",
    "        do_sample=True,\n",
    "        top_k=100, \n",
    "        top_p=0.85,\n",
    "        num_beams = 10,\n",
    "        bad_words_ids = bad_words_ids,\n",
    "        temperature = 0.9,\n",
    "        length_penalty=3,\n",
    "        no_repeat_ngram_size=2,\n",
    "        repetition_penalty=2.0,\n",
    "        num_return_sequences=10,\n",
    "        bos_token_id = tokenizer.bos_token_id,\n",
    "        eos_token_id = tokenizer.eos_token_id,\n",
    "        pad_token_id =tokenizer.pad_token_id\n",
    "    )\n",
    "    \n",
    "    decoded_beams = []\n",
    "    \n",
    "    \n",
    "    for beam in beam_output:   \n",
    "        decoded_beams.append({'text':text, 'generado':tokenizer.decode(beam).split('  ')[0]})\n",
    "        #print (\"\\n\\n\",tokenizer.decode(beam))\n",
    "        \n",
    "    return decoded_beams"
   ]
  },
  {
   "cell_type": "code",
   "execution_count": 14,
   "metadata": {},
   "outputs": [
    {
     "name": "stdout",
     "output_type": "stream",
     "text": [
      "generando beams para input:  El 27 de enero del año 2010 \n",
      "==================================================\n"
     ]
    }
   ],
   "source": [
    "generated = test_model(device, model, \"El 27 de enero del año 2010\")"
   ]
  },
  {
   "cell_type": "code",
   "execution_count": 15,
   "metadata": {},
   "outputs": [
    {
     "data": {
      "text/html": [
       "<div>\n",
       "<style scoped>\n",
       "    .dataframe tbody tr th:only-of-type {\n",
       "        vertical-align: middle;\n",
       "    }\n",
       "\n",
       "    .dataframe tbody tr th {\n",
       "        vertical-align: top;\n",
       "    }\n",
       "\n",
       "    .dataframe thead th {\n",
       "        text-align: right;\n",
       "    }\n",
       "</style>\n",
       "<table border=\"1\" class=\"dataframe\">\n",
       "  <thead>\n",
       "    <tr style=\"text-align: right;\">\n",
       "      <th></th>\n",
       "      <th>text</th>\n",
       "      <th>generado</th>\n",
       "    </tr>\n",
       "  </thead>\n",
       "  <tbody>\n",
       "    <tr>\n",
       "      <th>0</th>\n",
       "      <td>El 27 de enero del año 2010</td>\n",
       "      <td>El 27 de enero del año 2010, se anunció que la serie había sido renovada para una segunda temporada. La serie fue estrenada el de febrero de 2011 en Estados Unidos por la cadena The CW. El 13 de mayo de 2012, ABC renovó ''The Young and the Restless'' para un segundo spin-off, titulado ''Glee: The Music, Vol. 2''. El 12 de julio de 2013, NBC renovó los derechos de transmisión para la tercera temporada de ''American Horror Story: Freak Showcase'', que se estrenó el 15 de junio de 2014. En abril de 2015, CBS renovó la primera temporada para otra vez en septiembre de octubre de ese mismo año, pero se emitió el 19 de nuevo el 16 de noviembre de 2018.</td>\n",
       "    </tr>\n",
       "    <tr>\n",
       "      <th>1</th>\n",
       "      <td>El 27 de enero del año 2010</td>\n",
       "      <td>El 27 de enero del año 2010, se anunció que la serie había sido renovada para una segunda temporada. La serie fue estrenada el 13 de julio de 2011 en Estados Unidos por la cadena The CW. El 10 de mayo de 2012, ABC renovó ''The Young and the Restless'' para un segundo spin-off titulado ''Grey's Anatomy''. El 11 de junio de 2013, NBC renovó su serie para otra tercera temporada titulada ''NCIS: Los Ángeles''. En agosto de 2014, CBS ordenó la cuarta temporada de ''Los So Random Events'', que se estrenó el 15 de septiembre de 2015. Más tarde comenzó transmitirse el 18 de octubre de ese mismo año, pero debido al aire el 12 de febrero de 2016. Fue renovada</td>\n",
       "    </tr>\n",
       "    <tr>\n",
       "      <th>2</th>\n",
       "      <td>El 27 de enero del año 2010</td>\n",
       "      <td>El 27 de enero del año 2010, el papa Benedicto XVI lo nombró obispo auxiliar de la Arquidiócesis de Buenos Aires. Recibió la ordenación episcopal el 19 de febrero del mismo año, en la Basílica de Nuestra Señora de Luján (Buenos Aires). Su consagración episcopal tuvo lugar el 21 de marzo de 2011, manos del Nuncio Apostólico en Argentina, Mons. Juan Pablo II. Tomó posesión oficial de su diócesis el 20 de abril de ese año. El de mayo de 2012 fue nombrado por el Papa Francisco como co-consagruptor titular de las diócesis de Paraná, Santa Fe, San Isidro, Mar del Valle de los partidos bonaerenses de La Plata, Gualeguaychú, Diamante, Tres Arroyos, Chivillarreale, Nueve de Villaguay,</td>\n",
       "    </tr>\n",
       "    <tr>\n",
       "      <th>3</th>\n",
       "      <td>El 27 de enero del año 2010</td>\n",
       "      <td>El 27 de enero del año 2010, se anunció que la serie había sido renovada para una segunda temporada. La serie fue estrenada el de abril de 2011 en Estados Unidos por la cadena The CW. En Latinoamérica se estrenó el 11 de mayo de 2012 en FOX. El 13 de julio de 2013, ABC ordenó una nueva serie de televisión basada en los acontecimientos de la primera temporada de ''The Walking Dead'' titulada ''American Horror Story: Covenant''. El de septiembre de 2014, AMC emitió un episodio especial titulado ''America's Next Door to Die Hardline'', basado en el 14 de junio de ese año 2011. Fue emitido el 15 de nuevo el 18 de este mismo año, esta vez, pero fue estrenado el 19 de 2015, como ''</td>\n",
       "    </tr>\n",
       "    <tr>\n",
       "      <th>4</th>\n",
       "      <td>El 27 de enero del año 2010</td>\n",
       "      <td>El 27 de enero del año 2010, el '''cantón de fue suprimido el 22 de marzo de 2015 sus comunas pasaron formar parte; cuatro del nuevo cantón de la fracción de comuna que le daba su nombre se unió con las demás fracciones para que, por medio de una cantonal, fueran creados los nuevos cantones de Saint-Gingolph Chambéry-1. El 31 de diciembre de 2016 pasó ser una comuna delegada la nueva comuna de Val-de-Vaucluse al fusionarse con la comuna vecina de Pont-Ville. Se ubica en el distrito de Villeneuve. Su población de abril de Monthey&lt;/s&gt;&lt;pad&gt;&lt;pad&gt;&lt;pad&gt;&lt;pad&gt;&lt;pad&gt;&lt;pad&gt;&lt;pad&gt;&lt;pad&gt;&lt;pad&gt;&lt;pad&gt;&lt;pad&gt;&lt;pad&gt;&lt;pad&gt;&lt;pad&gt;&lt;pad&gt;&lt;pad&gt;&lt;pad&gt;&lt;pad&gt;&lt;pad&gt;&lt;pad&gt;&lt;pad&gt;&lt;pad&gt;&lt;pad&gt;&lt;pad&gt;&lt;pad&gt;</td>\n",
       "    </tr>\n",
       "    <tr>\n",
       "      <th>5</th>\n",
       "      <td>El 27 de enero del año 2010</td>\n",
       "      <td>El 27 de enero del año 2010, la banda anunció través de sus redes sociales que el nuevo álbum sería lanzado el 21 de febrero del mismo año. El 11 de abril de 2010 se lanzó el primer sencillo del álbum, titulado \"Wish You Were Here\". La canción alcanzó el número uno en las listas de Reino Unido, Canadá, Australia, Francia, Alemania, Irlanda, Italia, Países Bajos, Nueva Zelanda, Noruega, Suecia Suiza. En los Estados Unidos, fue certificado platino por la Recording Industry Association of America (RIAA) por vender más de un millón de 40 000 000 copias en su primera semana. Al día de hoy es el álbum más vendido en dicho país. Las canciones son vendidas en todo el 17 millones de las ventas brutos</td>\n",
       "    </tr>\n",
       "    <tr>\n",
       "      <th>6</th>\n",
       "      <td>El 27 de enero del año 2010</td>\n",
       "      <td>El 27 de enero del año 2010, se anunció que la serie había sido renovada para una segunda temporada. La serie fue estrenada el de abril de 2011 en Estados Unidos por la cadena The CW. El 13 de mayo de 2012, AMC renovó ''The Walking Dead'' para un tercer episodio de la primera temporada, que se estrenó el 19 de julio de 2013. En agosto de 2014, ABC ordenó una nueva serie de televisión basada en los acontecimientos ocurridos en el episodio anterior, titulado ''NCIS: Naval Criminal Investigative Investigation''. El 16 de septiembre de 2015 comenzó transmitirse el 14 de junio de ese mismo año, pero se emitió el 18 de octubre de 2016, con el último episodio final de esta temporada el 15 de dicha temporada como</td>\n",
       "    </tr>\n",
       "    <tr>\n",
       "      <th>7</th>\n",
       "      <td>El 27 de enero del año 2010</td>\n",
       "      <td>El 27 de enero del año 2010, se anunció que la serie había sido renovada para una segunda temporada. La serie fue estrenada el de julio de 2011 en Estados Unidos por la cadena The CW. El 13 de mayo de 2012, ABC renovó ''The Young and the Restless'' como una serie de televisión basada en la novela homónima de Stephen King. En agosto de 2013, AMC estrenó un nuevo spin-off titulado ''Sons of Anarchy'', basado en los acontecimientos de la primera temporada de ''Los Jóvenes Titanes''. Esta serie se centra en las vidas de los personajes principales de varios miembros de The Young, incluyendo al personaje principal de su propia serie, quienes fueron anunciados en el 15 años anteriores, así como '''Sharon hasta el</td>\n",
       "    </tr>\n",
       "    <tr>\n",
       "      <th>8</th>\n",
       "      <td>El 27 de enero del año 2010</td>\n",
       "      <td>El 27 de enero del año 2010, se anunció que la serie había sido renovada para una segunda temporada. La serie fue estrenada el de marzo de 2011 en Estados Unidos por la cadena The CW. El 11 de abril de 2012, AMC renovó ''The Walking Dead'' como una serie derivada, con un total de 10 episodios. Sin embargo, el 13 de mayo de 2013, ABC canceló su serie debido los bajos índices de audiencia. En julio de 2014, CBS ordenó la producción de una nueva serie basada en la cuarta temporada de la primera temporada, que se estrenó el 15 de junio de ese mismo año 2011. Esta serie comenzó transmitirse el 12 de nuevo el 19 de agosto de septiembre de 2015, pero esta temporada terminó el 14 de noviembre de</td>\n",
       "    </tr>\n",
       "    <tr>\n",
       "      <th>9</th>\n",
       "      <td>El 27 de enero del año 2010</td>\n",
       "      <td>El 27 de enero del año 2010, la banda anunció en su página oficial de Facebook que estaban trabajando en un nuevo álbum. El 11 de febrero de 2011, el grupo anunció través de sus redes sociales que habían firmado un contrato discográfico con Nuclear Blast Records. La fecha de lanzamiento del álbum se fijó para el 12 de marzo de 2012, pero fue pospuesto hasta el 30 de abril de 2013 debido la pandemia de enfermedad por coronavirus de 2019-2020. En una entrevista con ''The Wall Street Journal'', los miembros dijeron que el álbum sería lanzado el 13 de mayo de ese mismo año siguiente. Sin embargo, también anunciaron que comenzarían el 15 días después de nuevo el 29 de junio de septiembre de 2020. Durante las mismas fechas finales del mismo mes</td>\n",
       "    </tr>\n",
       "  </tbody>\n",
       "</table>\n",
       "</div>"
      ],
      "text/plain": [
       "                          text  \\\n",
       "0  El 27 de enero del año 2010   \n",
       "1  El 27 de enero del año 2010   \n",
       "2  El 27 de enero del año 2010   \n",
       "3  El 27 de enero del año 2010   \n",
       "4  El 27 de enero del año 2010   \n",
       "5  El 27 de enero del año 2010   \n",
       "6  El 27 de enero del año 2010   \n",
       "7  El 27 de enero del año 2010   \n",
       "8  El 27 de enero del año 2010   \n",
       "9  El 27 de enero del año 2010   \n",
       "\n",
       "                                                                                                                                                                                                                                                                                                                                                                                                                                                                                                                                                                                                                                                                                                                                                                       generado  \n",
       "0  El 27 de enero del año 2010, se anunció que la serie había sido renovada para una segunda temporada. La serie fue estrenada el de febrero de 2011 en Estados Unidos por la cadena The CW. El 13 de mayo de 2012, ABC renovó ''The Young and the Restless'' para un segundo spin-off, titulado ''Glee: The Music, Vol. 2''. El 12 de julio de 2013, NBC renovó los derechos de transmisión para la tercera temporada de ''American Horror Story: Freak Showcase'', que se estrenó el 15 de junio de 2014. En abril de 2015, CBS renovó la primera temporada para otra vez en septiembre de octubre de ese mismo año, pero se emitió el 19 de nuevo el 16 de noviembre de 2018.                                                                                                 \n",
       "1  El 27 de enero del año 2010, se anunció que la serie había sido renovada para una segunda temporada. La serie fue estrenada el 13 de julio de 2011 en Estados Unidos por la cadena The CW. El 10 de mayo de 2012, ABC renovó ''The Young and the Restless'' para un segundo spin-off titulado ''Grey's Anatomy''. El 11 de junio de 2013, NBC renovó su serie para otra tercera temporada titulada ''NCIS: Los Ángeles''. En agosto de 2014, CBS ordenó la cuarta temporada de ''Los So Random Events'', que se estrenó el 15 de septiembre de 2015. Más tarde comenzó transmitirse el 18 de octubre de ese mismo año, pero debido al aire el 12 de febrero de 2016. Fue renovada                                                                                             \n",
       "2  El 27 de enero del año 2010, el papa Benedicto XVI lo nombró obispo auxiliar de la Arquidiócesis de Buenos Aires. Recibió la ordenación episcopal el 19 de febrero del mismo año, en la Basílica de Nuestra Señora de Luján (Buenos Aires). Su consagración episcopal tuvo lugar el 21 de marzo de 2011, manos del Nuncio Apostólico en Argentina, Mons. Juan Pablo II. Tomó posesión oficial de su diócesis el 20 de abril de ese año. El de mayo de 2012 fue nombrado por el Papa Francisco como co-consagruptor titular de las diócesis de Paraná, Santa Fe, San Isidro, Mar del Valle de los partidos bonaerenses de La Plata, Gualeguaychú, Diamante, Tres Arroyos, Chivillarreale, Nueve de Villaguay,                                                                  \n",
       "3  El 27 de enero del año 2010, se anunció que la serie había sido renovada para una segunda temporada. La serie fue estrenada el de abril de 2011 en Estados Unidos por la cadena The CW. En Latinoamérica se estrenó el 11 de mayo de 2012 en FOX. El 13 de julio de 2013, ABC ordenó una nueva serie de televisión basada en los acontecimientos de la primera temporada de ''The Walking Dead'' titulada ''American Horror Story: Covenant''. El de septiembre de 2014, AMC emitió un episodio especial titulado ''America's Next Door to Die Hardline'', basado en el 14 de junio de ese año 2011. Fue emitido el 15 de nuevo el 18 de este mismo año, esta vez, pero fue estrenado el 19 de 2015, como ''                                                                  \n",
       "4  El 27 de enero del año 2010, el '''cantón de fue suprimido el 22 de marzo de 2015 sus comunas pasaron formar parte; cuatro del nuevo cantón de la fracción de comuna que le daba su nombre se unió con las demás fracciones para que, por medio de una cantonal, fueran creados los nuevos cantones de Saint-Gingolph Chambéry-1. El 31 de diciembre de 2016 pasó ser una comuna delegada la nueva comuna de Val-de-Vaucluse al fusionarse con la comuna vecina de Pont-Ville. Se ubica en el distrito de Villeneuve. Su población de abril de Monthey</s><pad><pad><pad><pad><pad><pad><pad><pad><pad><pad><pad><pad><pad><pad><pad><pad><pad><pad><pad><pad><pad><pad><pad><pad><pad>                                                                                       \n",
       "5  El 27 de enero del año 2010, la banda anunció través de sus redes sociales que el nuevo álbum sería lanzado el 21 de febrero del mismo año. El 11 de abril de 2010 se lanzó el primer sencillo del álbum, titulado \"Wish You Were Here\". La canción alcanzó el número uno en las listas de Reino Unido, Canadá, Australia, Francia, Alemania, Irlanda, Italia, Países Bajos, Nueva Zelanda, Noruega, Suecia Suiza. En los Estados Unidos, fue certificado platino por la Recording Industry Association of America (RIAA) por vender más de un millón de 40 000 000 copias en su primera semana. Al día de hoy es el álbum más vendido en dicho país. Las canciones son vendidas en todo el 17 millones de las ventas brutos                                                  \n",
       "6  El 27 de enero del año 2010, se anunció que la serie había sido renovada para una segunda temporada. La serie fue estrenada el de abril de 2011 en Estados Unidos por la cadena The CW. El 13 de mayo de 2012, AMC renovó ''The Walking Dead'' para un tercer episodio de la primera temporada, que se estrenó el 19 de julio de 2013. En agosto de 2014, ABC ordenó una nueva serie de televisión basada en los acontecimientos ocurridos en el episodio anterior, titulado ''NCIS: Naval Criminal Investigative Investigation''. El 16 de septiembre de 2015 comenzó transmitirse el 14 de junio de ese mismo año, pero se emitió el 18 de octubre de 2016, con el último episodio final de esta temporada el 15 de dicha temporada como                                    \n",
       "7  El 27 de enero del año 2010, se anunció que la serie había sido renovada para una segunda temporada. La serie fue estrenada el de julio de 2011 en Estados Unidos por la cadena The CW. El 13 de mayo de 2012, ABC renovó ''The Young and the Restless'' como una serie de televisión basada en la novela homónima de Stephen King. En agosto de 2013, AMC estrenó un nuevo spin-off titulado ''Sons of Anarchy'', basado en los acontecimientos de la primera temporada de ''Los Jóvenes Titanes''. Esta serie se centra en las vidas de los personajes principales de varios miembros de The Young, incluyendo al personaje principal de su propia serie, quienes fueron anunciados en el 15 años anteriores, así como '''Sharon hasta el                                   \n",
       "8  El 27 de enero del año 2010, se anunció que la serie había sido renovada para una segunda temporada. La serie fue estrenada el de marzo de 2011 en Estados Unidos por la cadena The CW. El 11 de abril de 2012, AMC renovó ''The Walking Dead'' como una serie derivada, con un total de 10 episodios. Sin embargo, el 13 de mayo de 2013, ABC canceló su serie debido los bajos índices de audiencia. En julio de 2014, CBS ordenó la producción de una nueva serie basada en la cuarta temporada de la primera temporada, que se estrenó el 15 de junio de ese mismo año 2011. Esta serie comenzó transmitirse el 12 de nuevo el 19 de agosto de septiembre de 2015, pero esta temporada terminó el 14 de noviembre de                                                      \n",
       "9  El 27 de enero del año 2010, la banda anunció en su página oficial de Facebook que estaban trabajando en un nuevo álbum. El 11 de febrero de 2011, el grupo anunció través de sus redes sociales que habían firmado un contrato discográfico con Nuclear Blast Records. La fecha de lanzamiento del álbum se fijó para el 12 de marzo de 2012, pero fue pospuesto hasta el 30 de abril de 2013 debido la pandemia de enfermedad por coronavirus de 2019-2020. En una entrevista con ''The Wall Street Journal'', los miembros dijeron que el álbum sería lanzado el 13 de mayo de ese mismo año siguiente. Sin embargo, también anunciaron que comenzarían el 15 días después de nuevo el 29 de junio de septiembre de 2020. Durante las mismas fechas finales del mismo mes  "
      ]
     },
     "execution_count": 15,
     "metadata": {},
     "output_type": "execute_result"
    }
   ],
   "source": [
    "pd.DataFrame.from_records(generated)"
   ]
  },
  {
   "cell_type": "code",
   "execution_count": null,
   "metadata": {},
   "outputs": [],
   "source": []
  }
 ],
 "metadata": {
  "kernelspec": {
   "display_name": "conda_pytorch_latest_p36",
   "language": "python",
   "name": "conda_pytorch_latest_p36"
  },
  "language_info": {
   "codemirror_mode": {
    "name": "ipython",
    "version": 3
   },
   "file_extension": ".py",
   "mimetype": "text/x-python",
   "name": "python",
   "nbconvert_exporter": "python",
   "pygments_lexer": "ipython3",
   "version": "3.6.10"
  }
 },
 "nbformat": 4,
 "nbformat_minor": 4
}
